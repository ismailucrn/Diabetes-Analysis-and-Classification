{
 "cells": [
  {
   "cell_type": "code",
   "execution_count": 1,
   "metadata": {},
   "outputs": [],
   "source": [
    "import numpy as np\n",
    "import pandas as pd\n",
    "import matplotlib.pyplot as plt\n",
    "import seaborn as sns\n",
    "import plotly.express as px\n",
    "import plotly.graph_objects as go\n",
    "\n",
    "import warnings\n",
    "warnings.filterwarnings('ignore')"
   ]
  },
  {
   "cell_type": "code",
   "execution_count": 2,
   "metadata": {},
   "outputs": [],
   "source": [
    "# Pregnancies: Number of times pregnant\n",
    "# Glucose: Plasma glucose concentration a 2 hours in an oral glucose tolerance test\n",
    "# BloodPressure: Diastolic blood pressure (mm Hg)\n",
    "# SkinThickness: Triceps skin fold thickness (mm)\n",
    "# Insulin: 2-Hour serum insulin (mu U/ml)\n",
    "# BMI: Body mass index (weight in kg/(height in m)^2)\n",
    "# DiabetesPedigreeFunction: Diabetes pedigree function\n",
    "# Age: Age (years)\n",
    "# Outcome: Class variable (0 or 1)"
   ]
  },
  {
   "cell_type": "code",
   "execution_count": 3,
   "metadata": {},
   "outputs": [
    {
     "data": {
      "text/html": [
       "<div>\n",
       "<style scoped>\n",
       "    .dataframe tbody tr th:only-of-type {\n",
       "        vertical-align: middle;\n",
       "    }\n",
       "\n",
       "    .dataframe tbody tr th {\n",
       "        vertical-align: top;\n",
       "    }\n",
       "\n",
       "    .dataframe thead th {\n",
       "        text-align: right;\n",
       "    }\n",
       "</style>\n",
       "<table border=\"1\" class=\"dataframe\">\n",
       "  <thead>\n",
       "    <tr style=\"text-align: right;\">\n",
       "      <th></th>\n",
       "      <th>Pregnancies</th>\n",
       "      <th>Glucose</th>\n",
       "      <th>BloodPressure</th>\n",
       "      <th>SkinThickness</th>\n",
       "      <th>Insulin</th>\n",
       "      <th>BMI</th>\n",
       "      <th>DiabetesPedigreeFunction</th>\n",
       "      <th>Age</th>\n",
       "      <th>Outcome</th>\n",
       "    </tr>\n",
       "  </thead>\n",
       "  <tbody>\n",
       "    <tr>\n",
       "      <th>0</th>\n",
       "      <td>6</td>\n",
       "      <td>148</td>\n",
       "      <td>72</td>\n",
       "      <td>35</td>\n",
       "      <td>0</td>\n",
       "      <td>33.6</td>\n",
       "      <td>0.627</td>\n",
       "      <td>50</td>\n",
       "      <td>1</td>\n",
       "    </tr>\n",
       "    <tr>\n",
       "      <th>1</th>\n",
       "      <td>1</td>\n",
       "      <td>85</td>\n",
       "      <td>66</td>\n",
       "      <td>29</td>\n",
       "      <td>0</td>\n",
       "      <td>26.6</td>\n",
       "      <td>0.351</td>\n",
       "      <td>31</td>\n",
       "      <td>0</td>\n",
       "    </tr>\n",
       "    <tr>\n",
       "      <th>2</th>\n",
       "      <td>8</td>\n",
       "      <td>183</td>\n",
       "      <td>64</td>\n",
       "      <td>0</td>\n",
       "      <td>0</td>\n",
       "      <td>23.3</td>\n",
       "      <td>0.672</td>\n",
       "      <td>32</td>\n",
       "      <td>1</td>\n",
       "    </tr>\n",
       "    <tr>\n",
       "      <th>3</th>\n",
       "      <td>1</td>\n",
       "      <td>89</td>\n",
       "      <td>66</td>\n",
       "      <td>23</td>\n",
       "      <td>94</td>\n",
       "      <td>28.1</td>\n",
       "      <td>0.167</td>\n",
       "      <td>21</td>\n",
       "      <td>0</td>\n",
       "    </tr>\n",
       "    <tr>\n",
       "      <th>4</th>\n",
       "      <td>0</td>\n",
       "      <td>137</td>\n",
       "      <td>40</td>\n",
       "      <td>35</td>\n",
       "      <td>168</td>\n",
       "      <td>43.1</td>\n",
       "      <td>2.288</td>\n",
       "      <td>33</td>\n",
       "      <td>1</td>\n",
       "    </tr>\n",
       "  </tbody>\n",
       "</table>\n",
       "</div>"
      ],
      "text/plain": [
       "   Pregnancies  Glucose  BloodPressure  SkinThickness  Insulin   BMI  \\\n",
       "0            6      148             72             35        0  33.6   \n",
       "1            1       85             66             29        0  26.6   \n",
       "2            8      183             64              0        0  23.3   \n",
       "3            1       89             66             23       94  28.1   \n",
       "4            0      137             40             35      168  43.1   \n",
       "\n",
       "   DiabetesPedigreeFunction  Age  Outcome  \n",
       "0                     0.627   50        1  \n",
       "1                     0.351   31        0  \n",
       "2                     0.672   32        1  \n",
       "3                     0.167   21        0  \n",
       "4                     2.288   33        1  "
      ]
     },
     "execution_count": 3,
     "metadata": {},
     "output_type": "execute_result"
    }
   ],
   "source": [
    "df = pd.read_csv('diabetes.csv')\n",
    "df.head()"
   ]
  },
  {
   "cell_type": "code",
   "execution_count": 4,
   "metadata": {},
   "outputs": [],
   "source": [
    "#pandas profiling for EDA \n",
    "# from pandas_profiling import ProfileReport\n",
    "# profile = ProfileReport(df, title='Diabetes Report', explorative=True)\n",
    "# profile.to_html()"
   ]
  },
  {
   "cell_type": "code",
   "execution_count": 5,
   "metadata": {},
   "outputs": [],
   "source": [
    "#profile"
   ]
  },
  {
   "cell_type": "code",
   "execution_count": 6,
   "metadata": {},
   "outputs": [
    {
     "name": "stdout",
     "output_type": "stream",
     "text": [
      "<class 'pandas.core.frame.DataFrame'>\n",
      "RangeIndex: 768 entries, 0 to 767\n",
      "Data columns (total 9 columns):\n",
      " #   Column                    Non-Null Count  Dtype  \n",
      "---  ------                    --------------  -----  \n",
      " 0   Pregnancies               768 non-null    int64  \n",
      " 1   Glucose                   768 non-null    int64  \n",
      " 2   BloodPressure             768 non-null    int64  \n",
      " 3   SkinThickness             768 non-null    int64  \n",
      " 4   Insulin                   768 non-null    int64  \n",
      " 5   BMI                       768 non-null    float64\n",
      " 6   DiabetesPedigreeFunction  768 non-null    float64\n",
      " 7   Age                       768 non-null    int64  \n",
      " 8   Outcome                   768 non-null    int64  \n",
      "dtypes: float64(2), int64(7)\n",
      "memory usage: 54.1 KB\n"
     ]
    }
   ],
   "source": [
    "df.info()"
   ]
  },
  {
   "cell_type": "code",
   "execution_count": 7,
   "metadata": {},
   "outputs": [
    {
     "data": {
      "text/html": [
       "<div>\n",
       "<style scoped>\n",
       "    .dataframe tbody tr th:only-of-type {\n",
       "        vertical-align: middle;\n",
       "    }\n",
       "\n",
       "    .dataframe tbody tr th {\n",
       "        vertical-align: top;\n",
       "    }\n",
       "\n",
       "    .dataframe thead th {\n",
       "        text-align: right;\n",
       "    }\n",
       "</style>\n",
       "<table border=\"1\" class=\"dataframe\">\n",
       "  <thead>\n",
       "    <tr style=\"text-align: right;\">\n",
       "      <th></th>\n",
       "      <th>count</th>\n",
       "      <th>mean</th>\n",
       "      <th>std</th>\n",
       "      <th>min</th>\n",
       "      <th>25%</th>\n",
       "      <th>50%</th>\n",
       "      <th>75%</th>\n",
       "      <th>max</th>\n",
       "    </tr>\n",
       "  </thead>\n",
       "  <tbody>\n",
       "    <tr>\n",
       "      <th>Pregnancies</th>\n",
       "      <td>768.0</td>\n",
       "      <td>3.845052</td>\n",
       "      <td>3.369578</td>\n",
       "      <td>0.000</td>\n",
       "      <td>1.00000</td>\n",
       "      <td>3.0000</td>\n",
       "      <td>6.00000</td>\n",
       "      <td>17.00</td>\n",
       "    </tr>\n",
       "    <tr>\n",
       "      <th>Glucose</th>\n",
       "      <td>768.0</td>\n",
       "      <td>120.894531</td>\n",
       "      <td>31.972618</td>\n",
       "      <td>0.000</td>\n",
       "      <td>99.00000</td>\n",
       "      <td>117.0000</td>\n",
       "      <td>140.25000</td>\n",
       "      <td>199.00</td>\n",
       "    </tr>\n",
       "    <tr>\n",
       "      <th>BloodPressure</th>\n",
       "      <td>768.0</td>\n",
       "      <td>69.105469</td>\n",
       "      <td>19.355807</td>\n",
       "      <td>0.000</td>\n",
       "      <td>62.00000</td>\n",
       "      <td>72.0000</td>\n",
       "      <td>80.00000</td>\n",
       "      <td>122.00</td>\n",
       "    </tr>\n",
       "    <tr>\n",
       "      <th>SkinThickness</th>\n",
       "      <td>768.0</td>\n",
       "      <td>20.536458</td>\n",
       "      <td>15.952218</td>\n",
       "      <td>0.000</td>\n",
       "      <td>0.00000</td>\n",
       "      <td>23.0000</td>\n",
       "      <td>32.00000</td>\n",
       "      <td>99.00</td>\n",
       "    </tr>\n",
       "    <tr>\n",
       "      <th>Insulin</th>\n",
       "      <td>768.0</td>\n",
       "      <td>79.799479</td>\n",
       "      <td>115.244002</td>\n",
       "      <td>0.000</td>\n",
       "      <td>0.00000</td>\n",
       "      <td>30.5000</td>\n",
       "      <td>127.25000</td>\n",
       "      <td>846.00</td>\n",
       "    </tr>\n",
       "    <tr>\n",
       "      <th>BMI</th>\n",
       "      <td>768.0</td>\n",
       "      <td>31.992578</td>\n",
       "      <td>7.884160</td>\n",
       "      <td>0.000</td>\n",
       "      <td>27.30000</td>\n",
       "      <td>32.0000</td>\n",
       "      <td>36.60000</td>\n",
       "      <td>67.10</td>\n",
       "    </tr>\n",
       "    <tr>\n",
       "      <th>DiabetesPedigreeFunction</th>\n",
       "      <td>768.0</td>\n",
       "      <td>0.471876</td>\n",
       "      <td>0.331329</td>\n",
       "      <td>0.078</td>\n",
       "      <td>0.24375</td>\n",
       "      <td>0.3725</td>\n",
       "      <td>0.62625</td>\n",
       "      <td>2.42</td>\n",
       "    </tr>\n",
       "    <tr>\n",
       "      <th>Age</th>\n",
       "      <td>768.0</td>\n",
       "      <td>33.240885</td>\n",
       "      <td>11.760232</td>\n",
       "      <td>21.000</td>\n",
       "      <td>24.00000</td>\n",
       "      <td>29.0000</td>\n",
       "      <td>41.00000</td>\n",
       "      <td>81.00</td>\n",
       "    </tr>\n",
       "    <tr>\n",
       "      <th>Outcome</th>\n",
       "      <td>768.0</td>\n",
       "      <td>0.348958</td>\n",
       "      <td>0.476951</td>\n",
       "      <td>0.000</td>\n",
       "      <td>0.00000</td>\n",
       "      <td>0.0000</td>\n",
       "      <td>1.00000</td>\n",
       "      <td>1.00</td>\n",
       "    </tr>\n",
       "  </tbody>\n",
       "</table>\n",
       "</div>"
      ],
      "text/plain": [
       "                          count        mean         std     min       25%  \\\n",
       "Pregnancies               768.0    3.845052    3.369578   0.000   1.00000   \n",
       "Glucose                   768.0  120.894531   31.972618   0.000  99.00000   \n",
       "BloodPressure             768.0   69.105469   19.355807   0.000  62.00000   \n",
       "SkinThickness             768.0   20.536458   15.952218   0.000   0.00000   \n",
       "Insulin                   768.0   79.799479  115.244002   0.000   0.00000   \n",
       "BMI                       768.0   31.992578    7.884160   0.000  27.30000   \n",
       "DiabetesPedigreeFunction  768.0    0.471876    0.331329   0.078   0.24375   \n",
       "Age                       768.0   33.240885   11.760232  21.000  24.00000   \n",
       "Outcome                   768.0    0.348958    0.476951   0.000   0.00000   \n",
       "\n",
       "                               50%        75%     max  \n",
       "Pregnancies                 3.0000    6.00000   17.00  \n",
       "Glucose                   117.0000  140.25000  199.00  \n",
       "BloodPressure              72.0000   80.00000  122.00  \n",
       "SkinThickness              23.0000   32.00000   99.00  \n",
       "Insulin                    30.5000  127.25000  846.00  \n",
       "BMI                        32.0000   36.60000   67.10  \n",
       "DiabetesPedigreeFunction    0.3725    0.62625    2.42  \n",
       "Age                        29.0000   41.00000   81.00  \n",
       "Outcome                     0.0000    1.00000    1.00  "
      ]
     },
     "execution_count": 7,
     "metadata": {},
     "output_type": "execute_result"
    }
   ],
   "source": [
    "df.describe().T"
   ]
  },
  {
   "cell_type": "code",
   "execution_count": 8,
   "metadata": {},
   "outputs": [
    {
     "data": {
      "text/plain": [
       "Pregnancies                 0\n",
       "Glucose                     0\n",
       "BloodPressure               0\n",
       "SkinThickness               0\n",
       "Insulin                     0\n",
       "BMI                         0\n",
       "DiabetesPedigreeFunction    0\n",
       "Age                         0\n",
       "Outcome                     0\n",
       "dtype: int64"
      ]
     },
     "execution_count": 8,
     "metadata": {},
     "output_type": "execute_result"
    },
    {
     "data": {
      "image/png": "[encoded data removed]",
      "text/plain": [
       "<Figure size 432x288 with 1 Axes>"
      ]
     },
     "metadata": {
      "needs_background": "light"
     },
     "output_type": "display_data"
    }
   ],
   "source": [
    "#heatmap for null values\n",
    "sns.heatmap(df.isnull(),yticklabels=False,cbar=False,cmap='viridis')\n",
    "df.isnull().sum()"
   ]
  },
  {
   "cell_type": "code",
   "execution_count": 9,
   "metadata": {},
   "outputs": [],
   "source": [
    "df_copy = df.copy(deep=True)\n",
    "df_copy[['Glucose','BloodPressure','SkinThickness','Insulin','BMI']] = df_copy[['Glucose','BloodPressure','SkinThickness','Insulin','BMI']].replace(0,np.NaN)"
   ]
  },
  {
   "cell_type": "code",
   "execution_count": 10,
   "metadata": {},
   "outputs": [
    {
     "data": {
      "text/plain": [
       "Pregnancies                   0\n",
       "Glucose                       5\n",
       "BloodPressure                35\n",
       "SkinThickness               227\n",
       "Insulin                     374\n",
       "BMI                          11\n",
       "DiabetesPedigreeFunction      0\n",
       "Age                           0\n",
       "Outcome                       0\n",
       "dtype: int64"
      ]
     },
     "execution_count": 10,
     "metadata": {},
     "output_type": "execute_result"
    }
   ],
   "source": [
    "df_copy.isnull().sum()"
   ]
  },
  {
   "cell_type": "code",
   "execution_count": 11,
   "metadata": {},
   "outputs": [
    {
     "data": {
      "text/plain": [
       "array([[<AxesSubplot:title={'center':'Pregnancies'}>,\n",
       "        <AxesSubplot:title={'center':'Glucose'}>,\n",
       "        <AxesSubplot:title={'center':'BloodPressure'}>],\n",
       "       [<AxesSubplot:title={'center':'SkinThickness'}>,\n",
       "        <AxesSubplot:title={'center':'Insulin'}>,\n",
       "        <AxesSubplot:title={'center':'BMI'}>],\n",
       "       [<AxesSubplot:title={'center':'DiabetesPedigreeFunction'}>,\n",
       "        <AxesSubplot:title={'center':'Age'}>,\n",
       "        <AxesSubplot:title={'center':'Outcome'}>]], dtype=object)"
      ]
     },
     "execution_count": 11,
     "metadata": {},
     "output_type": "execute_result"
    },
    {
     "data": {
      "image/png": "[encoded data removed]",
      "text/plain": [
       "<Figure size 1440x1440 with 9 Axes>"
      ]
     },
     "metadata": {
      "needs_background": "light"
     },
     "output_type": "display_data"
    }
   ],
   "source": [
    "#hist all columns with more detailed\n",
    "df_copy.hist(figsize=(20,20), bins=20)"
   ]
  },
  {
   "cell_type": "code",
   "execution_count": 12,
   "metadata": {},
   "outputs": [],
   "source": [
    "df_copy['SkinThickness'].fillna(df_copy['SkinThickness'].median(), inplace = True)\n",
    "df_copy['Insulin'].fillna(df_copy['Insulin'].median(), inplace = True)\n",
    "df_copy['BMI'].fillna(df_copy['BMI'].median(), inplace = True)\n",
    "df_copy['Glucose'].fillna(df_copy['Glucose'].mean(), inplace = True)\n",
    "df_copy['BloodPressure'].fillna(df_copy['BloodPressure'].mean(), inplace = True)"
   ]
  },
  {
   "cell_type": "code",
   "execution_count": 13,
   "metadata": {},
   "outputs": [
    {
     "data": {
      "application/vnd.plotly.v1+json": {
       "config": {
        "plotlyServerURL": "https://plot.ly"
       },
       "data": [
        {
         "hole": 0.5,
         "labels": [
          "Not Diabetic",
          "Diabetic"
         ],
         "type": "pie",
         "values": [
          500,
          268
         ]
        }
       ],
       "layout": {
        "template": {
         "data": {
          "bar": [
           {
            "error_x": {
             "color": "#2a3f5f"
            },
            "error_y": {
             "color": "#2a3f5f"
            },
            "marker": {
             "line": {
              "color": "#E5ECF6",
              "width": 0.5
             },
             "pattern": {
              "fillmode": "overlay",
              "size": 10,
              "solidity": 0.2
             }
            },
            "type": "bar"
           }
          ],
          "barpolar": [
           {
            "marker": {
             "line": {
              "color": "#E5ECF6",
              "width": 0.5
             },
             "pattern": {
              "fillmode": "overlay",
              "size": 10,
              "solidity": 0.2
             }
            },
            "type": "barpolar"
           }
          ],
          "carpet": [
           {
            "aaxis": {
             "endlinecolor": "#2a3f5f",
             "gridcolor": "white",
             "linecolor": "white",
             "minorgridcolor": "white",
             "startlinecolor": "#2a3f5f"
            },
            "baxis": {
             "endlinecolor": "#2a3f5f",
             "gridcolor": "white",
             "linecolor": "white",
             "minorgridcolor": "white",
             "startlinecolor": "#2a3f5f"
            },
            "type": "carpet"
           }
          ],
          "choropleth": [
           {
            "colorbar": {
             "outlinewidth": 0,
             "ticks": ""
            },
            "type": "choropleth"
           }
          ],
          "contour": [
           {
            "colorbar": {
             "outlinewidth": 0,
             "ticks": ""
            },
            "colorscale": [
             [
              0,
              "#0d0887"
             ],
             [
              0.1111111111111111,
              "#46039f"
             ],
             [
              0.2222222222222222,
              "#7201a8"
             ],
             [
              0.3333333333333333,
              "#9c179e"
             ],
             [
              0.4444444444444444,
              "#bd3786"
             ],
             [
              0.5555555555555556,
              "#d8576b"
             ],
             [
              0.6666666666666666,
              "#ed7953"
             ],
             [
              0.7777777777777778,
              "#fb9f3a"
             ],
             [
              0.8888888888888888,
              "#fdca26"
             ],
             [
              1,
              "#f0f921"
             ]
            ],
            "type": "contour"
           }
          ],
          "contourcarpet": [
           {
            "colorbar": {
             "outlinewidth": 0,
             "ticks": ""
            },
            "type": "contourcarpet"
           }
          ],
          "heatmap": [
           {
            "colorbar": {
             "outlinewidth": 0,
             "ticks": ""
            },
            "colorscale": [
             [
              0,
              "#0d0887"
             ],
             [
              0.1111111111111111,
              "#46039f"
             ],
             [
              0.2222222222222222,
              "#7201a8"
             ],
             [
              0.3333333333333333,
              "#9c179e"
             ],
             [
              0.4444444444444444,
              "#bd3786"
             ],
             [
              0.5555555555555556,
              "#d8576b"
             ],
             [
              0.6666666666666666,
              "#ed7953"
             ],
             [
              0.7777777777777778,
              "#fb9f3a"
             ],
             [
              0.8888888888888888,
              "#fdca26"
             ],
             [
              1,
              "#f0f921"
             ]
            ],
            "type": "heatmap"
           }
          ],
          "heatmapgl": [
           {
            "colorbar": {
             "outlinewidth": 0,
             "ticks": ""
            },
            "colorscale": [
             [
              0,
              "#0d0887"
             ],
             [
              0.1111111111111111,
              "#46039f"
             ],
             [
              0.2222222222222222,
              "#7201a8"
             ],
             [
              0.3333333333333333,
              "#9c179e"
             ],
             [
              0.4444444444444444,
              "#bd3786"
             ],
             [
              0.5555555555555556,
              "#d8576b"
             ],
             [
              0.6666666666666666,
              "#ed7953"
             ],
             [
              0.7777777777777778,
              "#fb9f3a"
             ],
             [
              0.8888888888888888,
              "#fdca26"
             ],
             [
              1,
              "#f0f921"
             ]
            ],
            "type": "heatmapgl"
           }
          ],
          "histogram": [
           {
            "marker": {
             "pattern": {
              "fillmode": "overlay",
              "size": 10,
              "solidity": 0.2
             }
            },
            "type": "histogram"
           }
          ],
          "histogram2d": [
           {
            "colorbar": {
             "outlinewidth": 0,
             "ticks": ""
            },
            "colorscale": [
             [
              0,
              "#0d0887"
             ],
             [
              0.1111111111111111,
              "#46039f"
             ],
             [
              0.2222222222222222,
              "#7201a8"
             ],
             [
              0.3333333333333333,
              "#9c179e"
             ],
             [
              0.4444444444444444,
              "#bd3786"
             ],
             [
              0.5555555555555556,
              "#d8576b"
             ],
             [
              0.6666666666666666,
              "#ed7953"
             ],
             [
              0.7777777777777778,
              "#fb9f3a"
             ],
             [
              0.8888888888888888,
              "#fdca26"
             ],
             [
              1,
              "#f0f921"
             ]
            ],
            "type": "histogram2d"
           }
          ],
          "histogram2dcontour": [
           {
            "colorbar": {
             "outlinewidth": 0,
             "ticks": ""
            },
            "colorscale": [
             [
              0,
              "#0d0887"
             ],
             [
              0.1111111111111111,
              "#46039f"
             ],
             [
              0.2222222222222222,
              "#7201a8"
             ],
             [
              0.3333333333333333,
              "#9c179e"
             ],
             [
              0.4444444444444444,
              "#bd3786"
             ],
             [
              0.5555555555555556,
              "#d8576b"
             ],
             [
              0.6666666666666666,
              "#ed7953"
             ],
             [
              0.7777777777777778,
              "#fb9f3a"
             ],
             [
              0.8888888888888888,
              "#fdca26"
             ],
             [
              1,
              "#f0f921"
             ]
            ],
            "type": "histogram2dcontour"
           }
          ],
          "mesh3d": [
           {
            "colorbar": {
             "outlinewidth": 0,
             "ticks": ""
            },
            "type": "mesh3d"
           }
          ],
          "parcoords": [
           {
            "line": {
             "colorbar": {
              "outlinewidth": 0,
              "ticks": ""
             }
            },
            "type": "parcoords"
           }
          ],
          "pie": [
           {
            "automargin": true,
            "type": "pie"
           }
          ],
          "scatter": [
           {
            "marker": {
             "colorbar": {
              "outlinewidth": 0,
              "ticks": ""
             }
            },
            "type": "scatter"
           }
          ],
          "scatter3d": [
           {
            "line": {
             "colorbar": {
              "outlinewidth": 0,
              "ticks": ""
             }
            },
            "marker": {
             "colorbar": {
              "outlinewidth": 0,
              "ticks": ""
             }
            },
            "type": "scatter3d"
           }
          ],
          "scattercarpet": [
           {
            "marker": {
             "colorbar": {
              "outlinewidth": 0,
              "ticks": ""
             }
            },
            "type": "scattercarpet"
           }
          ],
          "scattergeo": [
           {
            "marker": {
             "colorbar": {
              "outlinewidth": 0,
              "ticks": ""
             }
            },
            "type": "scattergeo"
           }
          ],
          "scattergl": [
           {
            "marker": {
             "colorbar": {
              "outlinewidth": 0,
              "ticks": ""
             }
            },
            "type": "scattergl"
           }
          ],
          "scattermapbox": [
           {
            "marker": {
             "colorbar": {
              "outlinewidth": 0,
              "ticks": ""
             }
            },
            "type": "scattermapbox"
           }
          ],
          "scatterpolar": [
           {
            "marker": {
             "colorbar": {
              "outlinewidth": 0,
              "ticks": ""
             }
            },
            "type": "scatterpolar"
           }
          ],
          "scatterpolargl": [
           {
            "marker": {
             "colorbar": {
              "outlinewidth": 0,
              "ticks": ""
             }
            },
            "type": "scatterpolargl"
           }
          ],
          "scatterternary": [
           {
            "marker": {
             "colorbar": {
              "outlinewidth": 0,
              "ticks": ""
             }
            },
            "type": "scatterternary"
           }
          ],
          "surface": [
           {
            "colorbar": {
             "outlinewidth": 0,
             "ticks": ""
            },
            "colorscale": [
             [
              0,
              "#0d0887"
             ],
             [
              0.1111111111111111,
              "#46039f"
             ],
             [
              0.2222222222222222,
              "#7201a8"
             ],
             [
              0.3333333333333333,
              "#9c179e"
             ],
             [
              0.4444444444444444,
              "#bd3786"
             ],
             [
              0.5555555555555556,
              "#d8576b"
             ],
             [
              0.6666666666666666,
              "#ed7953"
             ],
             [
              0.7777777777777778,
              "#fb9f3a"
             ],
             [
              0.8888888888888888,
              "#fdca26"
             ],
             [
              1,
              "#f0f921"
             ]
            ],
            "type": "surface"
           }
          ],
          "table": [
           {
            "cells": {
             "fill": {
              "color": "#EBF0F8"
             },
             "line": {
              "color": "white"
             }
            },
            "header": {
             "fill": {
              "color": "#C8D4E3"
             },
             "line": {
              "color": "white"
             }
            },
            "type": "table"
           }
          ]
         },
         "layout": {
          "annotationdefaults": {
           "arrowcolor": "#2a3f5f",
           "arrowhead": 0,
           "arrowwidth": 1
          },
          "autotypenumbers": "strict",
          "coloraxis": {
           "colorbar": {
            "outlinewidth": 0,
            "ticks": ""
           }
          },
          "colorscale": {
           "diverging": [
            [
             0,
             "#8e0152"
            ],
            [
             0.1,
             "#c51b7d"
            ],
            [
             0.2,
             "#de77ae"
            ],
            [
             0.3,
             "#f1b6da"
            ],
            [
             0.4,
             "#fde0ef"
            ],
            [
             0.5,
             "#f7f7f7"
            ],
            [
             0.6,
             "#e6f5d0"
            ],
            [
             0.7,
             "#b8e186"
            ],
            [
             0.8,
             "#7fbc41"
            ],
            [
             0.9,
             "#4d9221"
            ],
            [
             1,
             "#276419"
            ]
           ],
           "sequential": [
            [
             0,
             "#0d0887"
            ],
            [
             0.1111111111111111,
             "#46039f"
            ],
            [
             0.2222222222222222,
             "#7201a8"
            ],
            [
             0.3333333333333333,
             "#9c179e"
            ],
            [
             0.4444444444444444,
             "#bd3786"
            ],
            [
             0.5555555555555556,
             "#d8576b"
            ],
            [
             0.6666666666666666,
             "#ed7953"
            ],
            [
             0.7777777777777778,
             "#fb9f3a"
            ],
            [
             0.8888888888888888,
             "#fdca26"
            ],
            [
             1,
             "#f0f921"
            ]
           ],
           "sequentialminus": [
            [
             0,
             "#0d0887"
            ],
            [
             0.1111111111111111,
             "#46039f"
            ],
            [
             0.2222222222222222,
             "#7201a8"
            ],
            [
             0.3333333333333333,
             "#9c179e"
            ],
            [
             0.4444444444444444,
             "#bd3786"
            ],
            [
             0.5555555555555556,
             "#d8576b"
            ],
            [
             0.6666666666666666,
             "#ed7953"
            ],
            [
             0.7777777777777778,
             "#fb9f3a"
            ],
            [
             0.8888888888888888,
             "#fdca26"
            ],
            [
             1,
             "#f0f921"
            ]
           ]
          },
          "colorway": [
           "#636efa",
           "#EF553B",
           "#00cc96",
           "#ab63fa",
           "#FFA15A",
           "#19d3f3",
           "#FF6692",
           "#B6E880",
           "#FF97FF",
           "#FECB52"
          ],
          "font": {
           "color": "#2a3f5f"
          },
          "geo": {
           "bgcolor": "white",
           "lakecolor": "white",
           "landcolor": "#E5ECF6",
           "showlakes": true,
           "showland": true,
           "subunitcolor": "white"
          },
          "hoverlabel": {
           "align": "left"
          },
          "hovermode": "closest",
          "mapbox": {
           "style": "light"
          },
          "paper_bgcolor": "white",
          "plot_bgcolor": "#E5ECF6",
          "polar": {
           "angularaxis": {
            "gridcolor": "white",
            "linecolor": "white",
            "ticks": ""
           },
           "bgcolor": "#E5ECF6",
           "radialaxis": {
            "gridcolor": "white",
            "linecolor": "white",
            "ticks": ""
           }
          },
          "scene": {
           "xaxis": {
            "backgroundcolor": "#E5ECF6",
            "gridcolor": "white",
            "gridwidth": 2,
            "linecolor": "white",
            "showbackground": true,
            "ticks": "",
            "zerolinecolor": "white"
           },
           "yaxis": {
            "backgroundcolor": "#E5ECF6",
            "gridcolor": "white",
            "gridwidth": 2,
            "linecolor": "white",
            "showbackground": true,
            "ticks": "",
            "zerolinecolor": "white"
           },
           "zaxis": {
            "backgroundcolor": "#E5ECF6",
            "gridcolor": "white",
            "gridwidth": 2,
            "linecolor": "white",
            "showbackground": true,
            "ticks": "",
            "zerolinecolor": "white"
           }
          },
          "shapedefaults": {
           "line": {
            "color": "#2a3f5f"
           }
          },
          "ternary": {
           "aaxis": {
            "gridcolor": "white",
            "linecolor": "white",
            "ticks": ""
           },
           "baxis": {
            "gridcolor": "white",
            "linecolor": "white",
            "ticks": ""
           },
           "bgcolor": "#E5ECF6",
           "caxis": {
            "gridcolor": "white",
            "linecolor": "white",
            "ticks": ""
           }
          },
          "title": {
           "x": 0.05
          },
          "xaxis": {
           "automargin": true,
           "gridcolor": "white",
           "linecolor": "white",
           "ticks": "",
           "title": {
            "standoff": 15
           },
           "zerolinecolor": "white",
           "zerolinewidth": 2
          },
          "yaxis": {
           "automargin": true,
           "gridcolor": "white",
           "linecolor": "white",
           "ticks": "",
           "title": {
            "standoff": 15
           },
           "zerolinecolor": "white",
           "zerolinewidth": 2
          }
         }
        },
        "title": {
         "text": "Diabetic vs Not Diabetic",
         "x": 0.5
        }
       }
      }
     },
     "metadata": {},
     "output_type": "display_data"
    },
    {
     "data": {
      "application/vnd.plotly.v1+json": {
       "config": {
        "plotlyServerURL": "https://plot.ly"
       },
       "data": [
        {
         "alignmentgroup": "True",
         "bingroup": "x",
         "hovertemplate": "Outcome=%{x}<br>count=%{y}<extra></extra>",
         "legendgroup": "1",
         "marker": {
          "color": "#636efa",
          "pattern": {
           "shape": ""
          }
         },
         "name": "1",
         "offsetgroup": "1",
         "orientation": "v",
         "showlegend": true,
         "type": "histogram",
         "x": [
          1,
          1,
          1,
          1,
          1,
          1,
          1,
          1,
          1,
          1,
          1,
          1,
          1,
          1,
          1,
          1,
          1,
          1,
          1,
          1,
          1,
          1,
          1,
          1,
          1,
          1,
          1,
          1,
          1,
          1,
          1,
          1,
          1,
          1,
          1,
          1,
          1,
          1,
          1,
          1,
          1,
          1,
          1,
          1,
          1,
          1,
          1,
          1,
          1,
          1,
          1,
          1,
          1,
          1,
          1,
          1,
          1,
          1,
          1,
          1,
          1,
          1,
          1,
          1,
          1,
          1,
          1,
          1,
          1,
          1,
          1,
          1,
          1,
          1,
          1,
          1,
          1,
          1,
          1,
          1,
          1,
          1,
          1,
          1,
          1,
          1,
          1,
          1,
          1,
          1,
          1,
          1,
          1,
          1,
          1,
          1,
          1,
          1,
          1,
          1,
          1,
          1,
          1,
          1,
          1,
          1,
          1,
          1,
          1,
          1,
          1,
          1,
          1,
          1,
          1,
          1,
          1,
          1,
          1,
          1,
          1,
          1,
          1,
          1,
          1,
          1,
          1,
          1,
          1,
          1,
          1,
          1,
          1,
          1,
          1,
          1,
          1,
          1,
          1,
          1,
          1,
          1,
          1,
          1,
          1,
          1,
          1,
          1,
          1,
          1,
          1,
          1,
          1,
          1,
          1,
          1,
          1,
          1,
          1,
          1,
          1,
          1,
          1,
          1,
          1,
          1,
          1,
          1,
          1,
          1,
          1,
          1,
          1,
          1,
          1,
          1,
          1,
          1,
          1,
          1,
          1,
          1,
          1,
          1,
          1,
          1,
          1,
          1,
          1,
          1,
          1,
          1,
          1,
          1,
          1,
          1,
          1,
          1,
          1,
          1,
          1,
          1,
          1,
          1,
          1,
          1,
          1,
          1,
          1,
          1,
          1,
          1,
          1,
          1,
          1,
          1,
          1,
          1,
          1,
          1,
          1,
          1,
          1,
          1,
          1,
          1,
          1,
          1,
          1,
          1,
          1,
          1,
          1,
          1,
          1,
          1,
          1,
          1,
          1,
          1,
          1,
          1,
          1,
          1,
          1,
          1,
          1,
          1,
          1,
          1,
          1,
          1,
          1,
          1,
          1,
          1,
          1,
          1,
          1,
          1,
          1,
          1,
          1,
          1,
          1,
          1,
          1,
          1
         ],
         "xaxis": "x",
         "yaxis": "y"
        },
        {
         "alignmentgroup": "True",
         "bingroup": "x",
         "hovertemplate": "Outcome=%{x}<br>count=%{y}<extra></extra>",
         "legendgroup": "0",
         "marker": {
          "color": "#EF553B",
          "pattern": {
           "shape": ""
          }
         },
         "name": "0",
         "offsetgroup": "0",
         "orientation": "v",
         "showlegend": true,
         "type": "histogram",
         "x": [
          0,
          0,
          0,
          0,
          0,
          0,
          0,
          0,
          0,
          0,
          0,
          0,
          0,
          0,
          0,
          0,
          0,
          0,
          0,
          0,
          0,
          0,
          0,
          0,
          0,
          0,
          0,
          0,
          0,
          0,
          0,
          0,
          0,
          0,
          0,
          0,
          0,
          0,
          0,
          0,
          0,
          0,
          0,
          0,
          0,
          0,
          0,
          0,
          0,
          0,
          0,
          0,
          0,
          0,
          0,
          0,
          0,
          0,
          0,
          0,
          0,
          0,
          0,
          0,
          0,
          0,
          0,
          0,
          0,
          0,
          0,
          0,
          0,
          0,
          0,
          0,
          0,
          0,
          0,
          0,
          0,
          0,
          0,
          0,
          0,
          0,
          0,
          0,
          0,
          0,
          0,
          0,
          0,
          0,
          0,
          0,
          0,
          0,
          0,
          0,
          0,
          0,
          0,
          0,
          0,
          0,
          0,
          0,
          0,
          0,
          0,
          0,
          0,
          0,
          0,
          0,
          0,
          0,
          0,
          0,
          0,
          0,
          0,
          0,
          0,
          0,
          0,
          0,
          0,
          0,
          0,
          0,
          0,
          0,
          0,
          0,
          0,
          0,
          0,
          0,
          0,
          0,
          0,
          0,
          0,
          0,
          0,
          0,
          0,
          0,
          0,
          0,
          0,
          0,
          0,
          0,
          0,
          0,
          0,
          0,
          0,
          0,
          0,
          0,
          0,
          0,
          0,
          0,
          0,
          0,
          0,
          0,
          0,
          0,
          0,
          0,
          0,
          0,
          0,
          0,
          0,
          0,
          0,
          0,
          0,
          0,
          0,
          0,
          0,
          0,
          0,
          0,
          0,
          0,
          0,
          0,
          0,
          0,
          0,
          0,
          0,
          0,
          0,
          0,
          0,
          0,
          0,
          0,
          0,
          0,
          0,
          0,
          0,
          0,
          0,
          0,
          0,
          0,
          0,
          0,
          0,
          0,
          0,
          0,
          0,
          0,
          0,
          0,
          0,
          0,
          0,
          0,
          0,
          0,
          0,
          0,
          0,
          0,
          0,
          0,
          0,
          0,
          0,
          0,
          0,
          0,
          0,
          0,
          0,
          0,
          0,
          0,
          0,
          0,
          0,
          0,
          0,
          0,
          0,
          0,
          0,
          0,
          0,
          0,
          0,
          0,
          0,
          0,
          0,
          0,
          0,
          0,
          0,
          0,
          0,
          0,
          0,
          0,
          0,
          0,
          0,
          0,
          0,
          0,
          0,
          0,
          0,
          0,
          0,
          0,
          0,
          0,
          0,
          0,
          0,
          0,
          0,
          0,
          0,
          0,
          0,
          0,
          0,
          0,
          0,
          0,
          0,
          0,
          0,
          0,
          0,
          0,
          0,
          0,
          0,
          0,
          0,
          0,
          0,
          0,
          0,
          0,
          0,
          0,
          0,
          0,
          0,
          0,
          0,
          0,
          0,
          0,
          0,
          0,
          0,
          0,
          0,
          0,
          0,
          0,
          0,
          0,
          0,
          0,
          0,
          0,
          0,
          0,
          0,
          0,
          0,
          0,
          0,
          0,
          0,
          0,
          0,
          0,
          0,
          0,
          0,
          0,
          0,
          0,
          0,
          0,
          0,
          0,
          0,
          0,
          0,
          0,
          0,
          0,
          0,
          0,
          0,
          0,
          0,
          0,
          0,
          0,
          0,
          0,
          0,
          0,
          0,
          0,
          0,
          0,
          0,
          0,
          0,
          0,
          0,
          0,
          0,
          0,
          0,
          0,
          0,
          0,
          0,
          0,
          0,
          0,
          0,
          0,
          0,
          0,
          0,
          0,
          0,
          0,
          0,
          0,
          0,
          0,
          0,
          0,
          0,
          0,
          0,
          0,
          0,
          0,
          0,
          0,
          0,
          0,
          0,
          0,
          0,
          0,
          0,
          0,
          0,
          0,
          0,
          0,
          0,
          0,
          0,
          0,
          0,
          0,
          0,
          0,
          0,
          0,
          0,
          0,
          0,
          0,
          0,
          0,
          0,
          0,
          0,
          0,
          0,
          0,
          0,
          0,
          0,
          0,
          0,
          0,
          0,
          0,
          0,
          0,
          0,
          0,
          0,
          0,
          0,
          0,
          0,
          0,
          0,
          0,
          0,
          0,
          0,
          0,
          0,
          0,
          0,
          0,
          0,
          0,
          0,
          0,
          0,
          0,
          0,
          0,
          0,
          0
         ],
         "xaxis": "x",
         "yaxis": "y"
        }
       ],
       "layout": {
        "barmode": "relative",
        "legend": {
         "title": {
          "text": "Outcome"
         },
         "tracegroupgap": 0
        },
        "template": {
         "data": {
          "bar": [
           {
            "error_x": {
             "color": "#2a3f5f"
            },
            "error_y": {
             "color": "#2a3f5f"
            },
            "marker": {
             "line": {
              "color": "#E5ECF6",
              "width": 0.5
             },
             "pattern": {
              "fillmode": "overlay",
              "size": 10,
              "solidity": 0.2
             }
            },
            "type": "bar"
           }
          ],
          "barpolar": [
           {
            "marker": {
             "line": {
              "color": "#E5ECF6",
              "width": 0.5
             },
             "pattern": {
              "fillmode": "overlay",
              "size": 10,
              "solidity": 0.2
             }
            },
            "type": "barpolar"
           }
          ],
          "carpet": [
           {
            "aaxis": {
             "endlinecolor": "#2a3f5f",
             "gridcolor": "white",
             "linecolor": "white",
             "minorgridcolor": "white",
             "startlinecolor": "#2a3f5f"
            },
            "baxis": {
             "endlinecolor": "#2a3f5f",
             "gridcolor": "white",
             "linecolor": "white",
             "minorgridcolor": "white",
             "startlinecolor": "#2a3f5f"
            },
            "type": "carpet"
           }
          ],
          "choropleth": [
           {
            "colorbar": {
             "outlinewidth": 0,
             "ticks": ""
            },
            "type": "choropleth"
           }
          ],
          "contour": [
           {
            "colorbar": {
             "outlinewidth": 0,
             "ticks": ""
            },
            "colorscale": [
             [
              0,
              "#0d0887"
             ],
             [
              0.1111111111111111,
              "#46039f"
             ],
             [
              0.2222222222222222,
              "#7201a8"
             ],
             [
              0.3333333333333333,
              "#9c179e"
             ],
             [
              0.4444444444444444,
              "#bd3786"
             ],
             [
              0.5555555555555556,
              "#d8576b"
             ],
             [
              0.6666666666666666,
              "#ed7953"
             ],
             [
              0.7777777777777778,
              "#fb9f3a"
             ],
             [
              0.8888888888888888,
              "#fdca26"
             ],
             [
              1,
              "#f0f921"
             ]
            ],
            "type": "contour"
           }
          ],
          "contourcarpet": [
           {
            "colorbar": {
             "outlinewidth": 0,
             "ticks": ""
            },
            "type": "contourcarpet"
           }
          ],
          "heatmap": [
           {
            "colorbar": {
             "outlinewidth": 0,
             "ticks": ""
            },
            "colorscale": [
             [
              0,
              "#0d0887"
             ],
             [
              0.1111111111111111,
              "#46039f"
             ],
             [
              0.2222222222222222,
              "#7201a8"
             ],
             [
              0.3333333333333333,
              "#9c179e"
             ],
             [
              0.4444444444444444,
              "#bd3786"
             ],
             [
              0.5555555555555556,
              "#d8576b"
             ],
             [
              0.6666666666666666,
              "#ed7953"
             ],
             [
              0.7777777777777778,
              "#fb9f3a"
             ],
             [
              0.8888888888888888,
              "#fdca26"
             ],
             [
              1,
              "#f0f921"
             ]
            ],
            "type": "heatmap"
           }
          ],
          "heatmapgl": [
           {
            "colorbar": {
             "outlinewidth": 0,
             "ticks": ""
            },
            "colorscale": [
             [
              0,
              "#0d0887"
             ],
             [
              0.1111111111111111,
              "#46039f"
             ],
             [
              0.2222222222222222,
              "#7201a8"
             ],
             [
              0.3333333333333333,
              "#9c179e"
             ],
             [
              0.4444444444444444,
              "#bd3786"
             ],
             [
              0.5555555555555556,
              "#d8576b"
             ],
             [
              0.6666666666666666,
              "#ed7953"
             ],
             [
              0.7777777777777778,
              "#fb9f3a"
             ],
             [
              0.8888888888888888,
              "#fdca26"
             ],
             [
              1,
              "#f0f921"
             ]
            ],
            "type": "heatmapgl"
           }
          ],
          "histogram": [
           {
            "marker": {
             "pattern": {
              "fillmode": "overlay",
              "size": 10,
              "solidity": 0.2
             }
            },
            "type": "histogram"
           }
          ],
          "histogram2d": [
           {
            "colorbar": {
             "outlinewidth": 0,
             "ticks": ""
            },
            "colorscale": [
             [
              0,
              "#0d0887"
             ],
             [
              0.1111111111111111,
              "#46039f"
             ],
             [
              0.2222222222222222,
              "#7201a8"
             ],
             [
              0.3333333333333333,
              "#9c179e"
             ],
             [
              0.4444444444444444,
              "#bd3786"
             ],
             [
              0.5555555555555556,
              "#d8576b"
             ],
             [
              0.6666666666666666,
              "#ed7953"
             ],
             [
              0.7777777777777778,
              "#fb9f3a"
             ],
             [
              0.8888888888888888,
              "#fdca26"
             ],
             [
              1,
              "#f0f921"
             ]
            ],
            "type": "histogram2d"
           }
          ],
          "histogram2dcontour": [
           {
            "colorbar": {
             "outlinewidth": 0,
             "ticks": ""
            },
            "colorscale": [
             [
              0,
              "#0d0887"
             ],
             [
              0.1111111111111111,
              "#46039f"
             ],
             [
              0.2222222222222222,
              "#7201a8"
             ],
             [
              0.3333333333333333,
              "#9c179e"
             ],
             [
              0.4444444444444444,
              "#bd3786"
             ],
             [
              0.5555555555555556,
              "#d8576b"
             ],
             [
              0.6666666666666666,
              "#ed7953"
             ],
             [
              0.7777777777777778,
              "#fb9f3a"
             ],
             [
              0.8888888888888888,
              "#fdca26"
             ],
             [
              1,
              "#f0f921"
             ]
            ],
            "type": "histogram2dcontour"
           }
          ],
          "mesh3d": [
           {
            "colorbar": {
             "outlinewidth": 0,
             "ticks": ""
            },
            "type": "mesh3d"
           }
          ],
          "parcoords": [
           {
            "line": {
             "colorbar": {
              "outlinewidth": 0,
              "ticks": ""
             }
            },
            "type": "parcoords"
           }
          ],
          "pie": [
           {
            "automargin": true,
            "type": "pie"
           }
          ],
          "scatter": [
           {
            "marker": {
             "colorbar": {
              "outlinewidth": 0,
              "ticks": ""
             }
            },
            "type": "scatter"
           }
          ],
          "scatter3d": [
           {
            "line": {
             "colorbar": {
              "outlinewidth": 0,
              "ticks": ""
             }
            },
            "marker": {
             "colorbar": {
              "outlinewidth": 0,
              "ticks": ""
             }
            },
            "type": "scatter3d"
           }
          ],
          "scattercarpet": [
           {
            "marker": {
             "colorbar": {
              "outlinewidth": 0,
              "ticks": ""
             }
            },
            "type": "scattercarpet"
           }
          ],
          "scattergeo": [
           {
            "marker": {
             "colorbar": {
              "outlinewidth": 0,
              "ticks": ""
             }
            },
            "type": "scattergeo"
           }
          ],
          "scattergl": [
           {
            "marker": {
             "colorbar": {
              "outlinewidth": 0,
              "ticks": ""
             }
            },
            "type": "scattergl"
           }
          ],
          "scattermapbox": [
           {
            "marker": {
             "colorbar": {
              "outlinewidth": 0,
              "ticks": ""
             }
            },
            "type": "scattermapbox"
           }
          ],
          "scatterpolar": [
           {
            "marker": {
             "colorbar": {
              "outlinewidth": 0,
              "ticks": ""
             }
            },
            "type": "scatterpolar"
           }
          ],
          "scatterpolargl": [
           {
            "marker": {
             "colorbar": {
              "outlinewidth": 0,
              "ticks": ""
             }
            },
            "type": "scatterpolargl"
           }
          ],
          "scatterternary": [
           {
            "marker": {
             "colorbar": {
              "outlinewidth": 0,
              "ticks": ""
             }
            },
            "type": "scatterternary"
           }
          ],
          "surface": [
           {
            "colorbar": {
             "outlinewidth": 0,
             "ticks": ""
            },
            "colorscale": [
             [
              0,
              "#0d0887"
             ],
             [
              0.1111111111111111,
              "#46039f"
             ],
             [
              0.2222222222222222,
              "#7201a8"
             ],
             [
              0.3333333333333333,
              "#9c179e"
             ],
             [
              0.4444444444444444,
              "#bd3786"
             ],
             [
              0.5555555555555556,
              "#d8576b"
             ],
             [
              0.6666666666666666,
              "#ed7953"
             ],
             [
              0.7777777777777778,
              "#fb9f3a"
             ],
             [
              0.8888888888888888,
              "#fdca26"
             ],
             [
              1,
              "#f0f921"
             ]
            ],
            "type": "surface"
           }
          ],
          "table": [
           {
            "cells": {
             "fill": {
              "color": "#EBF0F8"
             },
             "line": {
              "color": "white"
             }
            },
            "header": {
             "fill": {
              "color": "#C8D4E3"
             },
             "line": {
              "color": "white"
             }
            },
            "type": "table"
           }
          ]
         },
         "layout": {
          "annotationdefaults": {
           "arrowcolor": "#2a3f5f",
           "arrowhead": 0,
           "arrowwidth": 1
          },
          "autotypenumbers": "strict",
          "coloraxis": {
           "colorbar": {
            "outlinewidth": 0,
            "ticks": ""
           }
          },
          "colorscale": {
           "diverging": [
            [
             0,
             "#8e0152"
            ],
            [
             0.1,
             "#c51b7d"
            ],
            [
             0.2,
             "#de77ae"
            ],
            [
             0.3,
             "#f1b6da"
            ],
            [
             0.4,
             "#fde0ef"
            ],
            [
             0.5,
             "#f7f7f7"
            ],
            [
             0.6,
             "#e6f5d0"
            ],
            [
             0.7,
             "#b8e186"
            ],
            [
             0.8,
             "#7fbc41"
            ],
            [
             0.9,
             "#4d9221"
            ],
            [
             1,
             "#276419"
            ]
           ],
           "sequential": [
            [
             0,
             "#0d0887"
            ],
            [
             0.1111111111111111,
             "#46039f"
            ],
            [
             0.2222222222222222,
             "#7201a8"
            ],
            [
             0.3333333333333333,
             "#9c179e"
            ],
            [
             0.4444444444444444,
             "#bd3786"
            ],
            [
             0.5555555555555556,
             "#d8576b"
            ],
            [
             0.6666666666666666,
             "#ed7953"
            ],
            [
             0.7777777777777778,
             "#fb9f3a"
            ],
            [
             0.8888888888888888,
             "#fdca26"
            ],
            [
             1,
             "#f0f921"
            ]
           ],
           "sequentialminus": [
            [
             0,
             "#0d0887"
            ],
            [
             0.1111111111111111,
             "#46039f"
            ],
            [
             0.2222222222222222,
             "#7201a8"
            ],
            [
             0.3333333333333333,
             "#9c179e"
            ],
            [
             0.4444444444444444,
             "#bd3786"
            ],
            [
             0.5555555555555556,
             "#d8576b"
            ],
            [
             0.6666666666666666,
             "#ed7953"
            ],
            [
             0.7777777777777778,
             "#fb9f3a"
            ],
            [
             0.8888888888888888,
             "#fdca26"
            ],
            [
             1,
             "#f0f921"
            ]
           ]
          },
          "colorway": [
           "#636efa",
           "#EF553B",
           "#00cc96",
           "#ab63fa",
           "#FFA15A",
           "#19d3f3",
           "#FF6692",
           "#B6E880",
           "#FF97FF",
           "#FECB52"
          ],
          "font": {
           "color": "#2a3f5f"
          },
          "geo": {
           "bgcolor": "white",
           "lakecolor": "white",
           "landcolor": "#E5ECF6",
           "showlakes": true,
           "showland": true,
           "subunitcolor": "white"
          },
          "hoverlabel": {
           "align": "left"
          },
          "hovermode": "closest",
          "mapbox": {
           "style": "light"
          },
          "paper_bgcolor": "white",
          "plot_bgcolor": "#E5ECF6",
          "polar": {
           "angularaxis": {
            "gridcolor": "white",
            "linecolor": "white",
            "ticks": ""
           },
           "bgcolor": "#E5ECF6",
           "radialaxis": {
            "gridcolor": "white",
            "linecolor": "white",
            "ticks": ""
           }
          },
          "scene": {
           "xaxis": {
            "backgroundcolor": "#E5ECF6",
            "gridcolor": "white",
            "gridwidth": 2,
            "linecolor": "white",
            "showbackground": true,
            "ticks": "",
            "zerolinecolor": "white"
           },
           "yaxis": {
            "backgroundcolor": "#E5ECF6",
            "gridcolor": "white",
            "gridwidth": 2,
            "linecolor": "white",
            "showbackground": true,
            "ticks": "",
            "zerolinecolor": "white"
           },
           "zaxis": {
            "backgroundcolor": "#E5ECF6",
            "gridcolor": "white",
            "gridwidth": 2,
            "linecolor": "white",
            "showbackground": true,
            "ticks": "",
            "zerolinecolor": "white"
           }
          },
          "shapedefaults": {
           "line": {
            "color": "#2a3f5f"
           }
          },
          "ternary": {
           "aaxis": {
            "gridcolor": "white",
            "linecolor": "white",
            "ticks": ""
           },
           "baxis": {
            "gridcolor": "white",
            "linecolor": "white",
            "ticks": ""
           },
           "bgcolor": "#E5ECF6",
           "caxis": {
            "gridcolor": "white",
            "linecolor": "white",
            "ticks": ""
           }
          },
          "title": {
           "x": 0.05
          },
          "xaxis": {
           "automargin": true,
           "gridcolor": "white",
           "linecolor": "white",
           "ticks": "",
           "title": {
            "standoff": 15
           },
           "zerolinecolor": "white",
           "zerolinewidth": 2
          },
          "yaxis": {
           "automargin": true,
           "gridcolor": "white",
           "linecolor": "white",
           "ticks": "",
           "title": {
            "standoff": 15
           },
           "zerolinecolor": "white",
           "zerolinewidth": 2
          }
         }
        },
        "title": {
         "text": "Diabetic vs Not Diabetic"
        },
        "xaxis": {
         "anchor": "y",
         "categoryarray": [
          1,
          0
         ],
         "categoryorder": "array",
         "domain": [
          0,
          1
         ],
         "title": {
          "text": "Outcome"
         }
        },
        "yaxis": {
         "anchor": "x",
         "domain": [
          0,
          1
         ],
         "title": {
          "text": "count"
         }
        }
       }
      }
     },
     "metadata": {},
     "output_type": "display_data"
    }
   ],
   "source": [
    "labels = ['Not Diabetic', 'Diabetic']\n",
    "values = df_copy['Outcome'].value_counts()\n",
    "fig = go.Figure(data=[go.Pie(labels=labels, values=values, hole=.5)])\n",
    "fig.update_layout(title_text='Diabetic vs Not Diabetic', title_x=0.5)\n",
    "fig.show()\n",
    "\n",
    "fig = px.histogram(df_copy, x=\"Outcome\", color=\"Outcome\", title=\"Diabetic vs Not Diabetic\")\n",
    "fig.show()"
   ]
  },
  {
   "cell_type": "code",
   "execution_count": 14,
   "metadata": {},
   "outputs": [
    {
     "data": {
      "text/plain": [
       "<AxesSubplot:xlabel='Age', ylabel='Density'>"
      ]
     },
     "execution_count": 14,
     "metadata": {},
     "output_type": "execute_result"
    },
    {
     "data": {
      "image/png": "[encoded data removed]",
      "text/plain": [
       "<Figure size 1152x1152 with 8 Axes>"
      ]
     },
     "metadata": {
      "needs_background": "light"
     },
     "output_type": "display_data"
    }
   ],
   "source": [
    "fig, axes = plt.subplots(4, 2, figsize=(16, 16))\n",
    "sns.distplot(df_copy[df_copy['Outcome'] == 0]['Pregnancies'], ax=axes[0, 0])\n",
    "sns.distplot(df_copy[df_copy['Outcome'] == 1]['Pregnancies'], ax=axes[0, 0])\n",
    "axes[0,0].legend(['Not Diabetic', 'Diabetic'])\n",
    "\n",
    "sns.distplot(df_copy[df_copy['Outcome'] == 0]['Glucose'], ax=axes[0, 1])\n",
    "sns.distplot(df_copy[df_copy['Outcome'] == 1]['Glucose'], ax=axes[0, 1])\n",
    "\n",
    "sns.distplot(df_copy[df_copy['Outcome'] == 0]['BloodPressure'], ax=axes[1, 0])\n",
    "sns.distplot(df_copy[df_copy['Outcome'] == 1]['BloodPressure'], ax=axes[1, 0])\n",
    "\n",
    "sns.distplot(df_copy[df_copy['Outcome'] == 0]['SkinThickness'], ax=axes[1, 1])\n",
    "sns.distplot(df_copy[df_copy['Outcome'] == 1]['SkinThickness'], ax=axes[1, 1])\n",
    "\n",
    "sns.distplot(df_copy[df_copy['Outcome'] == 0]['Insulin'], ax=axes[2, 0])\n",
    "sns.distplot(df_copy[df_copy['Outcome'] == 1]['Insulin'], ax=axes[2, 0])\n",
    "\n",
    "sns.distplot(df_copy[df_copy['Outcome'] == 0]['BMI'], ax=axes[2, 1])\n",
    "sns.distplot(df_copy[df_copy['Outcome'] == 1]['BMI'], ax=axes[2, 1])\n",
    "\n",
    "sns.distplot(df_copy[df_copy['Outcome'] == 0]['DiabetesPedigreeFunction'], ax=axes[3, 0])\n",
    "sns.distplot(df_copy[df_copy['Outcome'] == 1]['DiabetesPedigreeFunction'], ax=axes[3, 0])\n",
    "\n",
    "sns.distplot(df_copy[df_copy['Outcome'] == 0]['Age'], ax=axes[3, 1])\n",
    "sns.distplot(df_copy[df_copy['Outcome'] == 1]['Age'], ax=axes[3, 1])\n"
   ]
  },
  {
   "cell_type": "code",
   "execution_count": 15,
   "metadata": {},
   "outputs": [
    {
     "data": {
      "text/plain": [
       "<AxesSubplot:>"
      ]
     },
     "execution_count": 15,
     "metadata": {},
     "output_type": "execute_result"
    },
    {
     "data": {
      "image/png": "[encoded data removed]",
      "text/plain": [
       "<Figure size 1080x720 with 2 Axes>"
      ]
     },
     "metadata": {
      "needs_background": "light"
     },
     "output_type": "display_data"
    }
   ],
   "source": [
    "corr = df_copy.corr()\n",
    "plt.figure(figsize=(15,10))\n",
    "sns.heatmap(corr, annot=True, cmap='coolwarm')\n"
   ]
  },
  {
   "cell_type": "code",
   "execution_count": 16,
   "metadata": {},
   "outputs": [
    {
     "data": {
      "text/plain": [
       "<AxesSubplot:>"
      ]
     },
     "execution_count": 16,
     "metadata": {},
     "output_type": "execute_result"
    },
    {
     "data": {
      "image/png": "[encoded data removed]",
      "text/plain": [
       "<Figure size 360x360 with 2 Axes>"
      ]
     },
     "metadata": {
      "needs_background": "light"
     },
     "output_type": "display_data"
    }
   ],
   "source": [
    "corr = df_copy.corrwith(df_copy['Outcome']).sort_values(ascending = False).to_frame()\n",
    "corr.columns = ['Correlations']\n",
    "plt.subplots(figsize = (5,5))\n",
    "sns.heatmap(corr,annot = True,linewidths = 0.4,linecolor = 'black',cmap=\"flare\")"
   ]
  },
  {
   "cell_type": "code",
   "execution_count": 17,
   "metadata": {},
   "outputs": [],
   "source": [
    "from sklearn.feature_selection import SelectKBest\n",
    "from sklearn.feature_selection import f_classif"
   ]
  },
  {
   "cell_type": "code",
   "execution_count": 18,
   "metadata": {},
   "outputs": [
    {
     "data": {
      "text/html": [
       "<div>\n",
       "<style scoped>\n",
       "    .dataframe tbody tr th:only-of-type {\n",
       "        vertical-align: middle;\n",
       "    }\n",
       "\n",
       "    .dataframe tbody tr th {\n",
       "        vertical-align: top;\n",
       "    }\n",
       "\n",
       "    .dataframe thead th {\n",
       "        text-align: right;\n",
       "    }\n",
       "</style>\n",
       "<table border=\"1\" class=\"dataframe\">\n",
       "  <thead>\n",
       "    <tr style=\"text-align: right;\">\n",
       "      <th></th>\n",
       "      <th>Features</th>\n",
       "      <th>Score</th>\n",
       "    </tr>\n",
       "  </thead>\n",
       "  <tbody>\n",
       "    <tr>\n",
       "      <th>1</th>\n",
       "      <td>Glucose</td>\n",
       "      <td>245.859209</td>\n",
       "    </tr>\n",
       "    <tr>\n",
       "      <th>5</th>\n",
       "      <td>BMI</td>\n",
       "      <td>82.629271</td>\n",
       "    </tr>\n",
       "    <tr>\n",
       "      <th>7</th>\n",
       "      <td>Age</td>\n",
       "      <td>46.140611</td>\n",
       "    </tr>\n",
       "    <tr>\n",
       "      <th>0</th>\n",
       "      <td>Pregnancies</td>\n",
       "      <td>39.670227</td>\n",
       "    </tr>\n",
       "    <tr>\n",
       "      <th>3</th>\n",
       "      <td>SkinThickness</td>\n",
       "      <td>37.078538</td>\n",
       "    </tr>\n",
       "    <tr>\n",
       "      <th>4</th>\n",
       "      <td>Insulin</td>\n",
       "      <td>33.190796</td>\n",
       "    </tr>\n",
       "    <tr>\n",
       "      <th>6</th>\n",
       "      <td>DiabetesPedigreeFunction</td>\n",
       "      <td>23.871300</td>\n",
       "    </tr>\n",
       "    <tr>\n",
       "      <th>2</th>\n",
       "      <td>BloodPressure</td>\n",
       "      <td>21.725844</td>\n",
       "    </tr>\n",
       "  </tbody>\n",
       "</table>\n",
       "</div>"
      ],
      "text/plain": [
       "                   Features       Score\n",
       "1                   Glucose  245.859209\n",
       "5                       BMI   82.629271\n",
       "7                       Age   46.140611\n",
       "0               Pregnancies   39.670227\n",
       "3             SkinThickness   37.078538\n",
       "4                   Insulin   33.190796\n",
       "6  DiabetesPedigreeFunction   23.871300\n",
       "2             BloodPressure   21.725844"
      ]
     },
     "execution_count": 18,
     "metadata": {},
     "output_type": "execute_result"
    }
   ],
   "source": [
    "#ANOVA TEST\n",
    "X = df_copy.iloc[:,0:8]  #independent columns\n",
    "y = df_copy.iloc[:,-1]    #target column i.e price range\n",
    "#apply SelectKBest class to extract top 10 best features\n",
    "bestfeatures = SelectKBest(score_func=f_classif, k=8)\n",
    "fit = bestfeatures.fit(X,y)\n",
    "dfscores = pd.DataFrame(fit.scores_)\n",
    "dfcolumns = pd.DataFrame(X.columns)\n",
    "#concat two dataframes for better visualization\n",
    "featureScores = pd.concat([dfcolumns,dfscores],axis=1)\n",
    "featureScores.columns = ['Features','Score']  #naming the dataframe columns\n",
    "featureScores = featureScores.sort_values(by='Score', ascending=False)\n",
    "featureScores"
   ]
  },
  {
   "cell_type": "code",
   "execution_count": 19,
   "metadata": {},
   "outputs": [
    {
     "data": {
      "image/png": "[encoded data removed]",
      "text/plain": [
       "<Figure size 720x360 with 1 Axes>"
      ]
     },
     "metadata": {
      "needs_background": "light"
     },
     "output_type": "display_data"
    }
   ],
   "source": [
    "plt.figure(figsize=(10,5))\n",
    "sns.barplot(x='Features', y='Score', data=featureScores, palette='flare')\n",
    "plt.xticks(rotation=90)\n",
    "plt.title('Feature Importance (ANOVA)')\n",
    "plt.show()"
   ]
  },
  {
   "cell_type": "code",
   "execution_count": 20,
   "metadata": {},
   "outputs": [],
   "source": [
    "from sklearn.model_selection import train_test_split\n",
    "from sklearn.metrics import confusion_matrix\n",
    "from sklearn.metrics import roc_auc_score\n",
    "from sklearn.metrics import plot_roc_curve\n",
    "from sklearn.model_selection import cross_val_score\n",
    "from sklearn.model_selection import GridSearchCV\n",
    "from sklearn.metrics import classification_report\n",
    "from sklearn.metrics import accuracy_score\n",
    "from sklearn.model_selection import RepeatedStratifiedKFold\n",
    "from sklearn.metrics import precision_recall_curve"
   ]
  },
  {
   "cell_type": "code",
   "execution_count": 21,
   "metadata": {},
   "outputs": [],
   "source": [
    "x_train, x_test, y_train, y_test = train_test_split(X, y, test_size=0.2, random_state=42)"
   ]
  },
  {
   "cell_type": "code",
   "execution_count": 22,
   "metadata": {},
   "outputs": [],
   "source": [
    "def model(classifier,x_train,y_train,x_test,y_test):\n",
    "    \n",
    "    classifier.fit(x_train,y_train)\n",
    "    prediction = classifier.predict(x_test)\n",
    "    cv = RepeatedStratifiedKFold(n_splits = 10,n_repeats = 3,random_state = 1)\n",
    "    print(\"Cross Validation Score : \",'{0:.2%}'.format(cross_val_score(classifier,x_train,y_train,cv = cv,scoring = 'roc_auc').mean()))\n",
    "    print(\"ROC_AUC Score : \",'{0:.2%}'.format(roc_auc_score(y_test,prediction)))\n",
    "    plot_roc_curve(classifier, x_test,y_test)\n",
    "    plt.title('ROC_AUC_Plot')\n",
    "    plt.show()"
   ]
  },
  {
   "cell_type": "code",
   "execution_count": 23,
   "metadata": {},
   "outputs": [],
   "source": [
    "def model_evaluation(classifier,x_test,y_test):\n",
    "    \n",
    "    # Confusion Matrix\n",
    "    cm = confusion_matrix(y_test,classifier.predict(x_test))\n",
    "    names = ['True Neg','False Pos','False Neg','True Pos']\n",
    "    counts = [value for value in cm.flatten()]\n",
    "    percentages = ['{0:.2%}'.format(value) for value in cm.flatten()/np.sum(cm)]\n",
    "    labels = [f'{v1}\\n{v2}\\n{v3}' for v1, v2, v3 in zip(names,counts,percentages)]\n",
    "    labels = np.asarray(labels).reshape(2,2)\n",
    "    sns.heatmap(cm,annot = labels,cmap = 'Blues',fmt ='')\n",
    "    \n",
    "    # Classification Report\n",
    "    print(classification_report(y_test,classifier.predict(x_test)))"
   ]
  },
  {
   "cell_type": "code",
   "execution_count": 24,
   "metadata": {},
   "outputs": [],
   "source": [
    "from xgboost import XGBClassifier\n",
    "from xgboost import plot_importance\n",
    "\n",
    "\n",
    "xgb = XGBClassifier()"
   ]
  },
  {
   "cell_type": "code",
   "execution_count": 25,
   "metadata": {},
   "outputs": [
    {
     "data": {
      "text/plain": [
       "GridSearchCV(cv=5,\n",
       "             estimator=XGBClassifier(base_score=None, booster=None,\n",
       "                                     colsample_bylevel=None,\n",
       "                                     colsample_bynode=None,\n",
       "                                     colsample_bytree=None,\n",
       "                                     enable_categorical=False, gamma=None,\n",
       "                                     gpu_id=None, importance_type=None,\n",
       "                                     interaction_constraints=None,\n",
       "                                     learning_rate=None, max_delta_step=None,\n",
       "                                     max_depth=None, min_child_weight=None,\n",
       "                                     missing=nan, monotone_constraints=None,...\n",
       "                                     num_parallel_tree=None, predictor=None,\n",
       "                                     random_state=None, reg_alpha=None,\n",
       "                                     reg_lambda=None, scale_pos_weight=None,\n",
       "                                     subsample=None, tree_method=None,\n",
       "                                     validate_parameters=None, verbosity=None),\n",
       "             n_jobs=-1,\n",
       "             param_grid={'eval_metric': ['auc'],\n",
       "                         'learning_rate': [0.01, 0.05, 0.1, 0.15, 0.2],\n",
       "                         'max_depth': [1, 2, 3, 4, 5],\n",
       "                         'n_estimators': [50, 100, 200, 300, 400, 500]},\n",
       "             scoring='roc_auc')"
      ]
     },
     "execution_count": 25,
     "metadata": {},
     "output_type": "execute_result"
    }
   ],
   "source": [
    "param_grid = {'n_estimators': [50, 100, 200, 300, 400, 500],\n",
    "                'max_depth': [1, 2, 3, 4, 5],\n",
    "                'learning_rate': [0.01, 0.05, 0.1, 0.15, 0.2],\n",
    "                'eval_metric': [\"auc\"]\n",
    "                }\n",
    "grid = GridSearchCV(xgb, param_grid, cv=5, scoring='roc_auc', n_jobs=-1)\n",
    "grid.fit(x_train, y_train)"
   ]
  },
  {
   "cell_type": "code",
   "execution_count": 26,
   "metadata": {},
   "outputs": [],
   "source": [
    "best_params = grid.best_params_\n",
    "best_score = grid.best_score_"
   ]
  },
  {
   "cell_type": "code",
   "execution_count": 27,
   "metadata": {},
   "outputs": [
    {
     "data": {
      "text/plain": [
       "XGBClassifier(base_score=0.5, booster='gbtree', colsample_bylevel=1,\n",
       "              colsample_bynode=1, colsample_bytree=1, enable_categorical=False,\n",
       "              eval_metric='auc', gamma=0, gpu_id=-1, importance_type=None,\n",
       "              interaction_constraints='', learning_rate=0.2, max_delta_step=0,\n",
       "              max_depth=1, min_child_weight=1, missing=nan,\n",
       "              monotone_constraints='()', n_estimators=100, n_jobs=12,\n",
       "              num_parallel_tree=1, predictor='auto', random_state=0,\n",
       "              reg_alpha=0, reg_lambda=1, scale_pos_weight=1, subsample=1,\n",
       "              tree_method='exact', validate_parameters=1, verbosity=None)"
      ]
     },
     "execution_count": 27,
     "metadata": {},
     "output_type": "execute_result"
    }
   ],
   "source": [
    "xgb_best = XGBClassifier(**best_params)\n",
    "xgb_best.fit(x_train, y_train)"
   ]
  },
  {
   "cell_type": "code",
   "execution_count": 28,
   "metadata": {},
   "outputs": [
    {
     "name": "stdout",
     "output_type": "stream",
     "text": [
      "              precision    recall  f1-score   support\n",
      "\n",
      "           0       0.80      0.83      0.82        99\n",
      "           1       0.67      0.64      0.65        55\n",
      "\n",
      "    accuracy                           0.76       154\n",
      "   macro avg       0.74      0.73      0.74       154\n",
      "weighted avg       0.76      0.76      0.76       154\n",
      "\n"
     ]
    },
    {
     "data": {
      "image/png": "[encoded data removed]",
      "text/plain": [
       "<Figure size 432x288 with 2 Axes>"
      ]
     },
     "metadata": {
      "needs_background": "light"
     },
     "output_type": "display_data"
    }
   ],
   "source": [
    "# Model Evaluation\n",
    "model_evaluation(xgb_best, x_test, y_test)"
   ]
  },
  {
   "cell_type": "code",
   "execution_count": 29,
   "metadata": {},
   "outputs": [
    {
     "name": "stdout",
     "output_type": "stream",
     "text": [
      "Cross Validation Score :  85.15%\n",
      "ROC_AUC Score :  73.23%\n"
     ]
    },
    {
     "data": {
      "image/png": "[encoded data removed]",
      "text/plain": [
       "<Figure size 432x288 with 1 Axes>"
      ]
     },
     "metadata": {
      "needs_background": "light"
     },
     "output_type": "display_data"
    }
   ],
   "source": [
    "#roc_auc_score\n",
    "model(xgb_best,x_train,y_train,x_test,y_test)"
   ]
  },
  {
   "attachments": {},
   "cell_type": "markdown",
   "metadata": {},
   "source": [
    "### xgb optimization with optuna"
   ]
  },
  {
   "cell_type": "code",
   "execution_count": 30,
   "metadata": {},
   "outputs": [],
   "source": [
    "import optuna\n",
    "\n",
    "def objective(trial):\n",
    "    params = {\n",
    "        'n_estimators': trial.suggest_int('n_estimators', 50, 500),\n",
    "        'max_depth': trial.suggest_int('max_depth', 1, 8),\n",
    "        'learning_rate': trial.suggest_uniform('learning_rate', 0.01, 1.0),\n",
    "        'min_child_weight': trial.suggest_int('min_child_weight', 1, 10),\n",
    "        'gamma': trial.suggest_loguniform('gamma', 1e-8, 1.0),\n",
    "        'subsample': trial.suggest_loguniform('subsample', 0.01, 1.0),\n",
    "        'colsample_bytree': trial.suggest_loguniform('colsample_bytree', 0.01, 1.0),\n",
    "        'reg_alpha': trial.suggest_loguniform('reg_alpha', 1e-8, 1.0),\n",
    "        'reg_lambda': trial.suggest_loguniform('reg_lambda', 1e-8, 1.0),\n",
    "        'eval_metric': \"auc\",\n",
    "    }\n",
    "\n",
    "    optuna_model = XGBClassifier(**params)\n",
    "\n",
    "    optuna_model.fit(x_train, y_train)\n",
    "\n",
    "    y_pred = optuna_model.predict(x_test)\n",
    "\n",
    "    return roc_auc_score(y_test, y_pred)"
   ]
  },
  {
   "cell_type": "code",
   "execution_count": 31,
   "metadata": {},
   "outputs": [
    {
     "name": "stderr",
     "output_type": "stream",
     "text": [
      "\u001b[32m[I 2023-06-22 22:03:31,712]\u001b[0m A new study created in memory with name: no-name-92e3645b-56a5-48d4-b451-143510e3522c\u001b[0m\n",
      "\u001b[32m[I 2023-06-22 22:03:32,029]\u001b[0m Trial 0 finished with value: 0.7181818181818181 and parameters: {'n_estimators': 258, 'max_depth': 5, 'learning_rate': 0.0654837273351816, 'min_child_weight': 2, 'gamma': 0.2770848666182436, 'subsample': 0.387576882878542, 'colsample_bytree': 0.21744361072113247, 'reg_alpha': 0.5015961840745733, 'reg_lambda': 3.023178627282505e-06}. Best is trial 0 with value: 0.7181818181818181.\u001b[0m\n",
      "\u001b[32m[I 2023-06-22 22:03:32,424]\u001b[0m Trial 1 finished with value: 0.5 and parameters: {'n_estimators': 321, 'max_depth': 5, 'learning_rate': 0.8094763241051492, 'min_child_weight': 7, 'gamma': 0.019064943889708676, 'subsample': 0.022358754254320965, 'colsample_bytree': 0.095489079592, 'reg_alpha': 1.8568435180620217e-06, 'reg_lambda': 0.015850299479204473}. Best is trial 0 with value: 0.7181818181818181.\u001b[0m\n",
      "\u001b[32m[I 2023-06-22 22:03:32,700]\u001b[0m Trial 2 finished with value: 0.6434343434343435 and parameters: {'n_estimators': 373, 'max_depth': 8, 'learning_rate': 0.2277334174694834, 'min_child_weight': 8, 'gamma': 1.2788612349698182e-05, 'subsample': 0.1163123445065637, 'colsample_bytree': 0.027639301490225015, 'reg_alpha': 1.049524052666297e-06, 'reg_lambda': 0.21232852149788342}. Best is trial 0 with value: 0.7181818181818181.\u001b[0m\n",
      "\u001b[32m[I 2023-06-22 22:03:32,950]\u001b[0m Trial 3 finished with value: 0.6727272727272727 and parameters: {'n_estimators': 292, 'max_depth': 1, 'learning_rate': 0.8843749934099937, 'min_child_weight': 7, 'gamma': 0.04897359601596843, 'subsample': 0.365433635390352, 'colsample_bytree': 0.8465505436824626, 'reg_alpha': 4.088350480910357e-06, 'reg_lambda': 0.27291197727046423}. Best is trial 0 with value: 0.7181818181818181.\u001b[0m\n",
      "\u001b[32m[I 2023-06-22 22:03:33,400]\u001b[0m Trial 4 finished with value: 0.6868686868686869 and parameters: {'n_estimators': 489, 'max_depth': 5, 'learning_rate': 0.4049791182772681, 'min_child_weight': 8, 'gamma': 0.034855909115329584, 'subsample': 0.44924107246944506, 'colsample_bytree': 0.11254942190092848, 'reg_alpha': 6.753185785318825e-08, 'reg_lambda': 9.085372315464102e-05}. Best is trial 0 with value: 0.7181818181818181.\u001b[0m\n",
      "\u001b[32m[I 2023-06-22 22:03:33,724]\u001b[0m Trial 5 finished with value: 0.5 and parameters: {'n_estimators': 457, 'max_depth': 1, 'learning_rate': 0.9141851907537546, 'min_child_weight': 8, 'gamma': 0.00011432535982063886, 'subsample': 0.03827429082521337, 'colsample_bytree': 0.7299124268814688, 'reg_alpha': 2.4188474302255162e-05, 'reg_lambda': 0.30119776779668106}. Best is trial 0 with value: 0.7181818181818181.\u001b[0m\n",
      "\u001b[32m[I 2023-06-22 22:03:34,106]\u001b[0m Trial 6 finished with value: 0.6878787878787879 and parameters: {'n_estimators': 323, 'max_depth': 8, 'learning_rate': 0.11402794657477483, 'min_child_weight': 4, 'gamma': 0.000813884225648767, 'subsample': 0.47348367187115903, 'colsample_bytree': 0.06152595011112795, 'reg_alpha': 1.0764205868295444e-06, 'reg_lambda': 1.7317711031312683e-06}. Best is trial 0 with value: 0.7181818181818181.\u001b[0m\n",
      "\u001b[32m[I 2023-06-22 22:03:34,254]\u001b[0m Trial 7 finished with value: 0.7646464646464647 and parameters: {'n_estimators': 135, 'max_depth': 4, 'learning_rate': 0.07620268012155282, 'min_child_weight': 4, 'gamma': 8.81002207365365e-05, 'subsample': 0.1453497093249204, 'colsample_bytree': 0.01435775444937998, 'reg_alpha': 0.01894941995826559, 'reg_lambda': 0.02331729950769166}. Best is trial 7 with value: 0.7646464646464647.\u001b[0m\n",
      "\u001b[32m[I 2023-06-22 22:03:34,585]\u001b[0m Trial 8 finished with value: 0.5 and parameters: {'n_estimators': 453, 'max_depth': 1, 'learning_rate': 0.8700324427510948, 'min_child_weight': 10, 'gamma': 0.0016104627878205922, 'subsample': 0.020671785319123004, 'colsample_bytree': 0.4490012442198174, 'reg_alpha': 4.13359702097903e-08, 'reg_lambda': 0.058707863316287474}. Best is trial 7 with value: 0.7646464646464647.\u001b[0m\n",
      "\u001b[32m[I 2023-06-22 22:03:34,734]\u001b[0m Trial 9 finished with value: 0.5 and parameters: {'n_estimators': 181, 'max_depth': 7, 'learning_rate': 0.27879542011302766, 'min_child_weight': 7, 'gamma': 3.879020775387291e-06, 'subsample': 0.02100085179879965, 'colsample_bytree': 0.038630262170881044, 'reg_alpha': 1.9602402715962836e-07, 'reg_lambda': 0.3622072722124212}. Best is trial 7 with value: 0.7646464646464647.\u001b[0m\n",
      "\u001b[32m[I 2023-06-22 22:03:34,898]\u001b[0m Trial 10 finished with value: 0.6080808080808081 and parameters: {'n_estimators': 73, 'max_depth': 3, 'learning_rate': 0.5805194124007863, 'min_child_weight': 1, 'gamma': 1.5890780230877933e-07, 'subsample': 0.10507858614522124, 'colsample_bytree': 0.010510815504182792, 'reg_alpha': 0.0018142707191809802, 'reg_lambda': 1.118083012756838e-08}. Best is trial 7 with value: 0.7646464646464647.\u001b[0m\n",
      "\u001b[32m[I 2023-06-22 22:03:35,183]\u001b[0m Trial 11 finished with value: 0.7101010101010101 and parameters: {'n_estimators': 173, 'max_depth': 4, 'learning_rate': 0.01608940839628409, 'min_child_weight': 3, 'gamma': 0.8784506967260578, 'subsample': 0.24332170128295177, 'colsample_bytree': 0.22018312536824391, 'reg_alpha': 0.837592917968251, 'reg_lambda': 0.0018124299650212083}. Best is trial 7 with value: 0.7646464646464647.\u001b[0m\n",
      "\u001b[32m[I 2023-06-22 22:03:35,491]\u001b[0m Trial 12 finished with value: 0.7343434343434344 and parameters: {'n_estimators': 196, 'max_depth': 3, 'learning_rate': 0.02136955459962637, 'min_child_weight': 1, 'gamma': 2.620589756725175e-08, 'subsample': 0.8123085394366153, 'colsample_bytree': 0.010707017062747045, 'reg_alpha': 0.25979227673310074, 'reg_lambda': 0.00032242872357132545}. Best is trial 7 with value: 0.7646464646464647.\u001b[0m\n",
      "\u001b[32m[I 2023-06-22 22:03:35,703]\u001b[0m Trial 13 finished with value: 0.607070707070707 and parameters: {'n_estimators': 84, 'max_depth': 3, 'learning_rate': 0.013756538702528437, 'min_child_weight': 4, 'gamma': 1.9766630881024706e-08, 'subsample': 0.7716112553720827, 'colsample_bytree': 0.011715490565660682, 'reg_alpha': 0.015918202594696413, 'reg_lambda': 0.002314351075934478}. Best is trial 7 with value: 0.7646464646464647.\u001b[0m\n",
      "\u001b[32m[I 2023-06-22 22:03:35,993]\u001b[0m Trial 14 finished with value: 0.6575757575757577 and parameters: {'n_estimators': 170, 'max_depth': 3, 'learning_rate': 0.29007127887287476, 'min_child_weight': 1, 'gamma': 7.046721767949691e-07, 'subsample': 0.936727322118518, 'colsample_bytree': 0.019297632378153996, 'reg_alpha': 0.032979716134315905, 'reg_lambda': 0.0045106897940499525}. Best is trial 7 with value: 0.7646464646464647.\u001b[0m\n",
      "\u001b[32m[I 2023-06-22 22:03:36,280]\u001b[0m Trial 15 finished with value: 0.7676767676767676 and parameters: {'n_estimators': 224, 'max_depth': 6, 'learning_rate': 0.1687805984886783, 'min_child_weight': 5, 'gamma': 1.6155200797189577e-08, 'subsample': 0.1885704820573198, 'colsample_bytree': 0.019432537958466452, 'reg_alpha': 0.001345577709662167, 'reg_lambda': 0.00041557024648680274}. Best is trial 15 with value: 0.7676767676767676.\u001b[0m\n",
      "\u001b[32m[I 2023-06-22 22:03:36,484]\u001b[0m Trial 16 finished with value: 0.7535353535353535 and parameters: {'n_estimators': 111, 'max_depth': 6, 'learning_rate': 0.17279051394958245, 'min_child_weight': 5, 'gamma': 9.382425011488996e-06, 'subsample': 0.17179800635669432, 'colsample_bytree': 0.018934450201157707, 'reg_alpha': 0.0005495363380388852, 'reg_lambda': 0.027244776851364148}. Best is trial 15 with value: 0.7676767676767676.\u001b[0m\n",
      "\u001b[32m[I 2023-06-22 22:03:36,761]\u001b[0m Trial 17 finished with value: 0.6505050505050505 and parameters: {'n_estimators': 233, 'max_depth': 6, 'learning_rate': 0.15606299217363467, 'min_child_weight': 5, 'gamma': 2.1525201860601196e-07, 'subsample': 0.0781990651053234, 'colsample_bytree': 0.03845882676867616, 'reg_alpha': 0.00022458160889887968, 'reg_lambda': 0.00026790344578321796}. Best is trial 15 with value: 0.7676767676767676.\u001b[0m\n",
      "\u001b[32m[I 2023-06-22 22:03:36,962]\u001b[0m Trial 18 finished with value: 0.6323232323232323 and parameters: {'n_estimators': 129, 'max_depth': 6, 'learning_rate': 0.3877113225430311, 'min_child_weight': 4, 'gamma': 7.515515999258768e-05, 'subsample': 0.06418976616039986, 'colsample_bytree': 0.018988935431535438, 'reg_alpha': 0.002767537991480278, 'reg_lambda': 0.01932807397320413}. Best is trial 15 with value: 0.7676767676767676.\u001b[0m\n",
      "\u001b[32m[I 2023-06-22 22:03:37,126]\u001b[0m Trial 19 finished with value: 0.7191919191919192 and parameters: {'n_estimators': 53, 'max_depth': 4, 'learning_rate': 0.16472128620036644, 'min_child_weight': 6, 'gamma': 1.0087447295926607e-08, 'subsample': 0.18983869538838813, 'colsample_bytree': 0.03334546364679108, 'reg_alpha': 5.72033407453863e-05, 'reg_lambda': 4.774391525276593e-05}. Best is trial 15 with value: 0.7676767676767676.\u001b[0m\n",
      "\u001b[32m[I 2023-06-22 22:03:37,393]\u001b[0m Trial 20 finished with value: 0.5 and parameters: {'n_estimators': 226, 'max_depth': 7, 'learning_rate': 0.12735350238650017, 'min_child_weight': 3, 'gamma': 1.3063694677072924e-06, 'subsample': 0.012041684749234251, 'colsample_bytree': 0.05607888447591091, 'reg_alpha': 0.018421218806270435, 'reg_lambda': 0.005227044145508435}. Best is trial 15 with value: 0.7676767676767676.\u001b[0m\n",
      "\u001b[32m[I 2023-06-22 22:03:37,615]\u001b[0m Trial 21 finished with value: 0.7393939393939394 and parameters: {'n_estimators': 123, 'max_depth': 6, 'learning_rate': 0.2151571464942198, 'min_child_weight': 5, 'gamma': 1.0795867532572093e-05, 'subsample': 0.17382050969292467, 'colsample_bytree': 0.019552516386771978, 'reg_alpha': 0.00051224930263931, 'reg_lambda': 0.07646820528120894}. Best is trial 15 with value: 0.7676767676767676.\u001b[0m\n",
      "\u001b[32m[I 2023-06-22 22:03:37,827]\u001b[0m Trial 22 finished with value: 0.7464646464646464 and parameters: {'n_estimators': 114, 'max_depth': 7, 'learning_rate': 0.11681965478833989, 'min_child_weight': 6, 'gamma': 1.7627036349055484e-07, 'subsample': 0.1536510018596522, 'colsample_bytree': 0.017601973369921343, 'reg_alpha': 0.0012896996531498001, 'reg_lambda': 0.9382764400070419}. Best is trial 15 with value: 0.7676767676767676.\u001b[0m\n",
      "\u001b[32m[I 2023-06-22 22:03:38,082]\u001b[0m Trial 23 finished with value: 0.6767676767676767 and parameters: {'n_estimators': 142, 'max_depth': 6, 'learning_rate': 0.29007310377351875, 'min_child_weight': 3, 'gamma': 3.1766994130464656e-05, 'subsample': 0.23055893079554998, 'colsample_bytree': 0.01448712913542656, 'reg_alpha': 0.0001548704224008409, 'reg_lambda': 0.033901357578726844}. Best is trial 15 with value: 0.7676767676767676.\u001b[0m\n",
      "\u001b[32m[I 2023-06-22 22:03:38,360]\u001b[0m Trial 24 finished with value: 0.7424242424242424 and parameters: {'n_estimators': 215, 'max_depth': 4, 'learning_rate': 0.08474078525599704, 'min_child_weight': 5, 'gamma': 2.760483484349554e-06, 'subsample': 0.12097637036120891, 'colsample_bytree': 0.025056087657922662, 'reg_alpha': 0.004956260623100621, 'reg_lambda': 0.009410897232129147}. Best is trial 15 with value: 0.7676767676767676.\u001b[0m\n",
      "\u001b[32m[I 2023-06-22 22:03:38,564]\u001b[0m Trial 25 finished with value: 0.7545454545454545 and parameters: {'n_estimators': 95, 'max_depth': 2, 'learning_rate': 0.20322355443890086, 'min_child_weight': 4, 'gamma': 0.00018702892421990146, 'subsample': 0.26950052295104643, 'colsample_bytree': 0.014316894802127918, 'reg_alpha': 0.0004896094678025144, 'reg_lambda': 0.0010086621838498358}. Best is trial 15 with value: 0.7676767676767676.\u001b[0m\n",
      "\u001b[32m[I 2023-06-22 22:03:38,819]\u001b[0m Trial 26 finished with value: 0.7545454545454545 and parameters: {'n_estimators': 163, 'max_depth': 2, 'learning_rate': 0.22282177901660402, 'min_child_weight': 2, 'gamma': 0.0004282751958614952, 'subsample': 0.07557479844832982, 'colsample_bytree': 0.012543815794750458, 'reg_alpha': 0.08397590500253403, 'reg_lambda': 0.0016714538453850615}. Best is trial 15 with value: 0.7676767676767676.\u001b[0m\n",
      "\u001b[32m[I 2023-06-22 22:03:39,017]\u001b[0m Trial 27 finished with value: 0.706060606060606 and parameters: {'n_estimators': 87, 'max_depth': 2, 'learning_rate': 0.34196113835406294, 'min_child_weight': 4, 'gamma': 0.002572663277816909, 'subsample': 0.27118733711985127, 'colsample_bytree': 0.026982436196020462, 'reg_alpha': 0.00418635960088032, 'reg_lambda': 0.0006732652633820236}. Best is trial 15 with value: 0.7676767676767676.\u001b[0m\n",
      "\u001b[32m[I 2023-06-22 22:03:39,346]\u001b[0m Trial 28 finished with value: 0.7090909090909091 and parameters: {'n_estimators': 251, 'max_depth': 2, 'learning_rate': 0.49006433945836037, 'min_child_weight': 6, 'gamma': 0.00019057262923495572, 'subsample': 0.288087249111796, 'colsample_bytree': 0.013850117862411358, 'reg_alpha': 0.008763562633566379, 'reg_lambda': 0.0008285214352755245}. Best is trial 15 with value: 0.7676767676767676.\u001b[0m\n",
      "\u001b[32m[I 2023-06-22 22:03:39,726]\u001b[0m Trial 29 finished with value: 0.7636363636363634 and parameters: {'n_estimators': 274, 'max_depth': 5, 'learning_rate': 0.05168675240580037, 'min_child_weight': 2, 'gamma': 4.3886027263214337e-05, 'subsample': 0.14572012050085748, 'colsample_bytree': 0.010436427804532845, 'reg_alpha': 0.08917308904092218, 'reg_lambda': 2.8284420459962283e-05}. Best is trial 15 with value: 0.7676767676767676.\u001b[0m\n",
      "\u001b[32m[I 2023-06-22 22:03:40,081]\u001b[0m Trial 30 finished with value: 0.7494949494949495 and parameters: {'n_estimators': 280, 'max_depth': 5, 'learning_rate': 0.09683073596880824, 'min_child_weight': 2, 'gamma': 5.901636717866011e-05, 'subsample': 0.0941744533235834, 'colsample_bytree': 0.010495761632675222, 'reg_alpha': 0.13118511523573115, 'reg_lambda': 2.124762767879275e-05}. Best is trial 15 with value: 0.7676767676767676.\u001b[0m\n",
      "\u001b[32m[I 2023-06-22 22:03:40,518]\u001b[0m Trial 31 finished with value: 0.7373737373737373 and parameters: {'n_estimators': 388, 'max_depth': 4, 'learning_rate': 0.08019526118613292, 'min_child_weight': 3, 'gamma': 0.0001746285327026405, 'subsample': 0.14470364785060932, 'colsample_bytree': 0.015831233807499075, 'reg_alpha': 0.0458268304326763, 'reg_lambda': 1.3727698039709105e-05}. Best is trial 15 with value: 0.7676767676767676.\u001b[0m\n",
      "\u001b[32m[I 2023-06-22 22:03:40,995]\u001b[0m Trial 32 finished with value: 0.6808080808080808 and parameters: {'n_estimators': 315, 'max_depth': 5, 'learning_rate': 0.06800815672750302, 'min_child_weight': 2, 'gamma': 2.9070287193138823e-05, 'subsample': 0.33431590709274106, 'colsample_bytree': 0.0102748829955489, 'reg_alpha': 0.009628734313628666, 'reg_lambda': 0.0002608383451195084}. Best is trial 15 with value: 0.7676767676767676.\u001b[0m\n",
      "\u001b[32m[I 2023-06-22 22:03:41,431]\u001b[0m Trial 33 finished with value: 0.7292929292929293 and parameters: {'n_estimators': 354, 'max_depth': 5, 'learning_rate': 0.1676989074834407, 'min_child_weight': 4, 'gamma': 0.004085907506933213, 'subsample': 0.22365814166220654, 'colsample_bytree': 0.01472104211476037, 'reg_alpha': 0.329069452153216, 'reg_lambda': 0.00724646643517795}. Best is trial 15 with value: 0.7676767676767676.\u001b[0m\n",
      "\u001b[32m[I 2023-06-22 22:03:41,786]\u001b[0m Trial 34 finished with value: 0.6969696969696969 and parameters: {'n_estimators': 261, 'max_depth': 4, 'learning_rate': 0.20958027524168804, 'min_child_weight': 3, 'gamma': 0.00047953387666720756, 'subsample': 0.16060670585986517, 'colsample_bytree': 0.02525037331883858, 'reg_alpha': 0.07963346128430049, 'reg_lambda': 0.00011646022432506213}. Best is trial 15 with value: 0.7676767676767676.\u001b[0m\n",
      "\u001b[32m[I 2023-06-22 22:03:42,121]\u001b[0m Trial 35 finished with value: 0.7494949494949495 and parameters: {'n_estimators': 203, 'max_depth': 7, 'learning_rate': 0.051645706302581744, 'min_child_weight': 2, 'gamma': 1.8413590632084753e-05, 'subsample': 0.12522065006816413, 'colsample_bytree': 0.015644780916365054, 'reg_alpha': 0.027237387741429624, 'reg_lambda': 0.012199729771902772}. Best is trial 15 with value: 0.7676767676767676.\u001b[0m\n",
      "\u001b[32m[I 2023-06-22 22:03:42,368]\u001b[0m Trial 36 finished with value: 0.7373737373737373 and parameters: {'n_estimators': 145, 'max_depth': 5, 'learning_rate': 0.0688101568055319, 'min_child_weight': 10, 'gamma': 0.012474056294993712, 'subsample': 0.3270034943375252, 'colsample_bytree': 0.02265097921969326, 'reg_alpha': 0.000919772108452386, 'reg_lambda': 0.0005466625548033643}. Best is trial 15 with value: 0.7676767676767676.\u001b[0m\n",
      "\u001b[32m[I 2023-06-22 22:03:42,696]\u001b[0m Trial 37 finished with value: 0.7303030303030302 and parameters: {'n_estimators': 290, 'max_depth': 2, 'learning_rate': 0.24539671631974597, 'min_child_weight': 5, 'gamma': 0.00028385298755517947, 'subsample': 0.19666709185988981, 'colsample_bytree': 0.013295235442490953, 'reg_alpha': 0.0037636588834977173, 'reg_lambda': 0.0019233312102366533}. Best is trial 15 with value: 0.7676767676767676.\u001b[0m\n",
      "\u001b[32m[I 2023-06-22 22:03:43,056]\u001b[0m Trial 38 finished with value: 0.7343434343434343 and parameters: {'n_estimators': 255, 'max_depth': 8, 'learning_rate': 0.14840201590659433, 'min_child_weight': 7, 'gamma': 7.864502460397645e-05, 'subsample': 0.3898189245567038, 'colsample_bytree': 0.03209024563873971, 'reg_alpha': 0.8948906543911426, 'reg_lambda': 0.08640368792802659}. Best is trial 15 with value: 0.7676767676767676.\u001b[0m\n",
      "\u001b[32m[I 2023-06-22 22:03:43,441]\u001b[0m Trial 39 finished with value: 0.7171717171717171 and parameters: {'n_estimators': 345, 'max_depth': 1, 'learning_rate': 0.11354549121509402, 'min_child_weight': 9, 'gamma': 0.0013521609678266103, 'subsample': 0.5359204225137288, 'colsample_bytree': 0.022219025331582456, 'reg_alpha': 2.0342816337230062e-05, 'reg_lambda': 0.00010258618443446101}. Best is trial 15 with value: 0.7676767676767676.\u001b[0m\n",
      "\u001b[32m[I 2023-06-22 22:03:43,842]\u001b[0m Trial 40 finished with value: 0.7222222222222221 and parameters: {'n_estimators': 305, 'max_depth': 6, 'learning_rate': 0.19791251133747256, 'min_child_weight': 4, 'gamma': 0.08417068835092124, 'subsample': 0.13720365340229773, 'colsample_bytree': 0.013235412003071262, 'reg_alpha': 0.01027561655074729, 'reg_lambda': 0.0037343144757663897}. Best is trial 15 with value: 0.7676767676767676.\u001b[0m\n",
      "\u001b[32m[I 2023-06-22 22:03:44,085]\u001b[0m Trial 41 finished with value: 0.7353535353535354 and parameters: {'n_estimators': 158, 'max_depth': 2, 'learning_rate': 0.2504532658243143, 'min_child_weight': 2, 'gamma': 0.000483572154394075, 'subsample': 0.05800515445524364, 'colsample_bytree': 0.012376355393926845, 'reg_alpha': 0.07975305813405749, 'reg_lambda': 0.0013335553808318254}. Best is trial 15 with value: 0.7676767676767676.\u001b[0m\n",
      "\u001b[32m[I 2023-06-22 22:03:44,376]\u001b[0m Trial 42 finished with value: 0.6757575757575757 and parameters: {'n_estimators': 193, 'max_depth': 2, 'learning_rate': 0.2260348135774719, 'min_child_weight': 1, 'gamma': 0.0007475234166745996, 'subsample': 0.09663228503112326, 'colsample_bytree': 0.010010953371325257, 'reg_alpha': 0.23933279300283292, 'reg_lambda': 0.0010338945858555135}. Best is trial 15 with value: 0.7676767676767676.\u001b[0m\n",
      "\u001b[32m[I 2023-06-22 22:03:44,603]\u001b[0m Trial 43 finished with value: 0.7252525252525253 and parameters: {'n_estimators': 96, 'max_depth': 3, 'learning_rate': 0.040705805323271456, 'min_child_weight': 3, 'gamma': 0.00018403583343090915, 'subsample': 0.2173655104804677, 'colsample_bytree': 0.015930423064301574, 'reg_alpha': 0.04400915014562372, 'reg_lambda': 0.0026423118043798917}. Best is trial 15 with value: 0.7676767676767676.\u001b[0m\n",
      "\u001b[32m[I 2023-06-22 22:03:44,773]\u001b[0m Trial 44 finished with value: 0.6929292929292928 and parameters: {'n_estimators': 56, 'max_depth': 1, 'learning_rate': 0.11753948331264291, 'min_child_weight': 2, 'gamma': 0.0050728733737056345, 'subsample': 0.11285921481702134, 'colsample_bytree': 0.013013679145474672, 'reg_alpha': 0.12176361772222782, 'reg_lambda': 0.014004814618342035}. Best is trial 15 with value: 0.7676767676767676.\u001b[0m\n",
      "\u001b[32m[I 2023-06-22 22:03:45,029]\u001b[0m Trial 45 finished with value: 0.594949494949495 and parameters: {'n_estimators': 157, 'max_depth': 3, 'learning_rate': 0.011460203761836818, 'min_child_weight': 4, 'gamma': 0.0012862898300502938, 'subsample': 0.07981413795317081, 'colsample_bytree': 0.02096886712486182, 'reg_alpha': 0.00200004686132908, 'reg_lambda': 0.0002930040553381713}. Best is trial 15 with value: 0.7676767676767676.\u001b[0m\n",
      "\u001b[32m[I 2023-06-22 22:03:45,301]\u001b[0m Trial 46 finished with value: 0.7333333333333333 and parameters: {'n_estimators': 175, 'max_depth': 5, 'learning_rate': 0.31674458649684767, 'min_child_weight': 6, 'gamma': 0.00043624900560854097, 'subsample': 0.2644786705258499, 'colsample_bytree': 0.016798544251330653, 'reg_alpha': 0.02369668631647251, 'reg_lambda': 0.006036775946957492}. Best is trial 15 with value: 0.7676767676767676.\u001b[0m\n",
      "\u001b[32m[I 2023-06-22 22:03:45,628]\u001b[0m Trial 47 finished with value: 0.7151515151515152 and parameters: {'n_estimators': 241, 'max_depth': 2, 'learning_rate': 0.18864865263182487, 'min_child_weight': 1, 'gamma': 5.59132270315011e-06, 'subsample': 0.13524589701841958, 'colsample_bytree': 0.012244853797443202, 'reg_alpha': 0.4368228034809274, 'reg_lambda': 0.0005868957311868504}. Best is trial 15 with value: 0.7676767676767676.\u001b[0m\n",
      "\u001b[32m[I 2023-06-22 22:03:45,835]\u001b[0m Trial 48 finished with value: 0.7565656565656566 and parameters: {'n_estimators': 99, 'max_depth': 1, 'learning_rate': 0.24141130730438654, 'min_child_weight': 7, 'gamma': 5.041680277632381e-05, 'subsample': 0.18473001095293207, 'colsample_bytree': 0.022673903309164526, 'reg_alpha': 0.0004543514798919718, 'reg_lambda': 0.0022256590379181635}. Best is trial 15 with value: 0.7676767676767676.\u001b[0m\n",
      "\u001b[32m[I 2023-06-22 22:03:46,025]\u001b[0m Trial 49 finished with value: 0.7424242424242424 and parameters: {'n_estimators': 73, 'max_depth': 1, 'learning_rate': 0.13945605812931766, 'min_child_weight': 7, 'gamma': 4.298469775105595e-05, 'subsample': 0.16470090196445034, 'colsample_bytree': 0.03005253688992939, 'reg_alpha': 0.0002968043818770671, 'reg_lambda': 0.03664789278619746}. Best is trial 15 with value: 0.7676767676767676.\u001b[0m\n",
      "\u001b[32m[I 2023-06-22 22:03:46,235]\u001b[0m Trial 50 finished with value: 0.704040404040404 and parameters: {'n_estimators': 106, 'max_depth': 1, 'learning_rate': 0.04119270752163166, 'min_child_weight': 8, 'gamma': 9.971325359045697e-05, 'subsample': 0.2035965490421647, 'colsample_bytree': 0.04065705179429049, 'reg_alpha': 0.0008458502599382975, 'reg_lambda': 4.91501839411671e-06}. Best is trial 15 with value: 0.7676767676767676.\u001b[0m\n",
      "\u001b[32m[I 2023-06-22 22:03:46,470]\u001b[0m Trial 51 finished with value: 0.7232323232323232 and parameters: {'n_estimators': 136, 'max_depth': 1, 'learning_rate': 0.25261055451195136, 'min_child_weight': 7, 'gamma': 2.8069072596871587e-05, 'subsample': 0.1895635368178315, 'colsample_bytree': 0.018113007114541047, 'reg_alpha': 0.00041939716945519506, 'reg_lambda': 0.00203769999576911}. Best is trial 15 with value: 0.7676767676767676.\u001b[0m\n",
      "\u001b[32m[I 2023-06-22 22:03:46,750]\u001b[0m Trial 52 finished with value: 0.607070707070707 and parameters: {'n_estimators': 213, 'max_depth': 2, 'learning_rate': 0.19968810314365726, 'min_child_weight': 9, 'gamma': 1.3964049801412657e-05, 'subsample': 0.11435156228797141, 'colsample_bytree': 0.01212609396169599, 'reg_alpha': 6.534150950044494e-05, 'reg_lambda': 0.00016214234324424224}. Best is trial 15 with value: 0.7676767676767676.\u001b[0m\n",
      "\u001b[32m[I 2023-06-22 22:03:46,968]\u001b[0m Trial 53 finished with value: 0.7505050505050506 and parameters: {'n_estimators': 104, 'max_depth': 3, 'learning_rate': 0.16792145461502095, 'min_child_weight': 5, 'gamma': 0.00012036992990647768, 'subsample': 0.24618020868497695, 'colsample_bytree': 0.022680583330840047, 'reg_alpha': 0.001608442114888141, 'reg_lambda': 5.313548213714467e-05}. Best is trial 15 with value: 0.7676767676767676.\u001b[0m\n",
      "\u001b[32m[I 2023-06-22 22:03:47,222]\u001b[0m Trial 54 finished with value: 0.7222222222222221 and parameters: {'n_estimators': 156, 'max_depth': 1, 'learning_rate': 0.2659335739298781, 'min_child_weight': 3, 'gamma': 6.389515834508433e-06, 'subsample': 0.15891080220636414, 'colsample_bytree': 0.016964406361618868, 'reg_alpha': 0.007436545833154534, 'reg_lambda': 0.0036434293703532412}. Best is trial 15 with value: 0.7676767676767676.\u001b[0m\n",
      "\u001b[32m[I 2023-06-22 22:03:47,476]\u001b[0m Trial 55 finished with value: 0.7595959595959596 and parameters: {'n_estimators': 122, 'max_depth': 4, 'learning_rate': 0.13403870847628113, 'min_child_weight': 6, 'gamma': 2.2563213926022226e-06, 'subsample': 0.3070185303468973, 'colsample_bytree': 0.011537027835347284, 'reg_alpha': 0.002453381890588292, 'reg_lambda': 0.001565784453547617}. Best is trial 15 with value: 0.7676767676767676.\u001b[0m\n",
      "\u001b[32m[I 2023-06-22 22:03:47,682]\u001b[0m Trial 56 finished with value: 0.7373737373737373 and parameters: {'n_estimators': 77, 'max_depth': 4, 'learning_rate': 0.09606306416311172, 'min_child_weight': 6, 'gamma': 2.988558345010505e-06, 'subsample': 0.29813144708969147, 'colsample_bytree': 0.010241341171857165, 'reg_alpha': 0.0025109091213926455, 'reg_lambda': 0.01658392542195602}. Best is trial 15 with value: 0.7676767676767676.\u001b[0m\n",
      "\u001b[32m[I 2023-06-22 22:03:47,922]\u001b[0m Trial 57 finished with value: 0.7212121212121212 and parameters: {'n_estimators': 123, 'max_depth': 4, 'learning_rate': 0.1366694293469726, 'min_child_weight': 6, 'gamma': 8.922710673226768e-08, 'subsample': 0.2413570472259717, 'colsample_bytree': 0.018250912760442873, 'reg_alpha': 0.0008883655423131939, 'reg_lambda': 0.0004563526272193766}. Best is trial 15 with value: 0.7676767676767676.\u001b[0m\n",
      "\u001b[32m[I 2023-06-22 22:03:48,415]\u001b[0m Trial 58 finished with value: 0.7151515151515152 and parameters: {'n_estimators': 394, 'max_depth': 5, 'learning_rate': 0.17049869011941338, 'min_child_weight': 5, 'gamma': 8.902728795136064e-07, 'subsample': 0.3563296172531071, 'colsample_bytree': 0.026504234062199702, 'reg_alpha': 0.0001642736639658412, 'reg_lambda': 0.0011822192861032771}. Best is trial 15 with value: 0.7676767676767676.\u001b[0m\n",
      "\u001b[32m[I 2023-06-22 22:03:48,613]\u001b[0m Trial 59 finished with value: 0.6919191919191918 and parameters: {'n_estimators': 61, 'max_depth': 6, 'learning_rate': 0.07884991213731614, 'min_child_weight': 7, 'gamma': 4.365906514759408e-07, 'subsample': 0.4358141694968502, 'colsample_bytree': 0.014557097736215505, 'reg_alpha': 0.004650076553814532, 'reg_lambda': 0.00019151532544201054}. Best is trial 15 with value: 0.7676767676767676.\u001b[0m\n",
      "\u001b[32m[I 2023-06-22 22:03:48,864]\u001b[0m Trial 60 finished with value: 0.6121212121212121 and parameters: {'n_estimators': 118, 'max_depth': 4, 'learning_rate': 0.010483869223371176, 'min_child_weight': 4, 'gamma': 2.0049018379355918e-06, 'subsample': 0.19008120694625585, 'colsample_bytree': 0.021542879084603842, 'reg_alpha': 0.0003684735460507888, 'reg_lambda': 0.005355755577154939}. Best is trial 15 with value: 0.7676767676767676.\u001b[0m\n",
      "\u001b[32m[I 2023-06-22 22:03:49,069]\u001b[0m Trial 61 finished with value: 0.7020202020202019 and parameters: {'n_estimators': 95, 'max_depth': 3, 'learning_rate': 0.22192330753506598, 'min_child_weight': 8, 'gamma': 2.0162210492843632e-05, 'subsample': 0.14116895890345152, 'colsample_bytree': 0.011726847361039624, 'reg_alpha': 0.01828196562433251, 'reg_lambda': 0.0010446780385988826}. Best is trial 15 with value: 0.7676767676767676.\u001b[0m\n",
      "\u001b[32m[I 2023-06-22 22:03:49,358]\u001b[0m Trial 62 finished with value: 0.7444444444444445 and parameters: {'n_estimators': 177, 'max_depth': 3, 'learning_rate': 0.12445667879948102, 'min_child_weight': 5, 'gamma': 4.9780657878006345e-05, 'subsample': 0.2782194055170667, 'colsample_bytree': 0.014561195822921785, 'reg_alpha': 0.001630993836261754, 'reg_lambda': 0.0029455476067828507}. Best is trial 15 with value: 0.7676767676767676.\u001b[0m\n",
      "\u001b[32m[I 2023-06-22 22:03:49,689]\u001b[0m Trial 63 finished with value: 0.703030303030303 and parameters: {'n_estimators': 270, 'max_depth': 7, 'learning_rate': 0.31378222548855883, 'min_child_weight': 6, 'gamma': 8.251141835611142e-06, 'subsample': 0.17809710282915064, 'colsample_bytree': 0.011809636282750006, 'reg_alpha': 0.0007114203700011342, 'reg_lambda': 0.0003812038708061662}. Best is trial 15 with value: 0.7676767676767676.\u001b[0m\n",
      "\u001b[32m[I 2023-06-22 22:03:49,985]\u001b[0m Trial 64 finished with value: 0.7343434343434343 and parameters: {'n_estimators': 190, 'max_depth': 2, 'learning_rate': 0.1942216782789539, 'min_child_weight': 5, 'gamma': 8.021409022003733e-05, 'subsample': 0.2201756992441619, 'colsample_bytree': 0.01942144202022359, 'reg_alpha': 0.002741468502512668, 'reg_lambda': 0.0014543843227436222}. Best is trial 15 with value: 0.7676767676767676.\u001b[0m\n",
      "\u001b[32m[I 2023-06-22 22:03:50,230]\u001b[0m Trial 65 finished with value: 0.7353535353535353 and parameters: {'n_estimators': 137, 'max_depth': 6, 'learning_rate': 0.05256155287002687, 'min_child_weight': 4, 'gamma': 4.245170079815616e-06, 'subsample': 0.10681255336825911, 'colsample_bytree': 0.015792994622871048, 'reg_alpha': 0.014643597902720549, 'reg_lambda': 0.008309694284220816}. Best is trial 15 with value: 0.7676767676767676.\u001b[0m\n",
      "\u001b[32m[I 2023-06-22 22:03:50,556]\u001b[0m Trial 66 finished with value: 0.7646464646464647 and parameters: {'n_estimators': 224, 'max_depth': 5, 'learning_rate': 0.1452356721931901, 'min_child_weight': 3, 'gamma': 1.2112388483244787e-05, 'subsample': 0.14530007506700776, 'colsample_bytree': 0.011639322566827894, 'reg_alpha': 0.006240253902801486, 'reg_lambda': 0.0005759430965182536}. Best is trial 15 with value: 0.7676767676767676.\u001b[0m\n",
      "\u001b[32m[I 2023-06-22 22:03:50,866]\u001b[0m Trial 67 finished with value: 0.7474747474747474 and parameters: {'n_estimators': 211, 'max_depth': 5, 'learning_rate': 0.1484434223496466, 'min_child_weight': 3, 'gamma': 1.3284723444556082e-05, 'subsample': 0.13002742667061049, 'colsample_bytree': 0.010044275807027592, 'reg_alpha': 0.007730806144112913, 'reg_lambda': 0.0006456735279880307}. Best is trial 15 with value: 0.7676767676767676.\u001b[0m\n",
      "\u001b[32m[I 2023-06-22 22:03:51,377]\u001b[0m Trial 68 finished with value: 0.7343434343434343 and parameters: {'n_estimators': 485, 'max_depth': 5, 'learning_rate': 0.09716620680858021, 'min_child_weight': 4, 'gamma': 3.20953977129828e-05, 'subsample': 0.16082686118510287, 'colsample_bytree': 0.014094658225327407, 'reg_alpha': 0.0011850468835474224, 'reg_lambda': 6.255650367937723e-05}. Best is trial 15 with value: 0.7676767676767676.\u001b[0m\n",
      "\u001b[32m[I 2023-06-22 22:03:51,615]\u001b[0m Trial 69 finished with value: 0.6848484848484848 and parameters: {'n_estimators': 88, 'max_depth': 4, 'learning_rate': 0.045517751930900116, 'min_child_weight': 3, 'gamma': 4.4767553952275296e-08, 'subsample': 0.3046866403435103, 'colsample_bytree': 0.011720488170934629, 'reg_alpha': 0.004937382141782717, 'reg_lambda': 0.00016349220235119954}. Best is trial 15 with value: 0.7676767676767676.\u001b[0m\n",
      "\u001b[32m[I 2023-06-22 22:03:51,963]\u001b[0m Trial 70 finished with value: 0.7727272727272727 and parameters: {'n_estimators': 222, 'max_depth': 5, 'learning_rate': 0.0983839638363654, 'min_child_weight': 4, 'gamma': 1.5450388958276234e-06, 'subsample': 0.20414864231677513, 'colsample_bytree': 0.017314661390156236, 'reg_alpha': 0.0006054110362285092, 'reg_lambda': 0.00028469040355790203}. Best is trial 70 with value: 0.7727272727272727.\u001b[0m\n",
      "\u001b[32m[I 2023-06-22 22:03:52,337]\u001b[0m Trial 71 finished with value: 0.7575757575757576 and parameters: {'n_estimators': 235, 'max_depth': 5, 'learning_rate': 0.09151743617707792, 'min_child_weight': 4, 'gamma': 1.777475895307095e-06, 'subsample': 0.23874034618666634, 'colsample_bytree': 0.017455165885034617, 'reg_alpha': 0.000522403060933276, 'reg_lambda': 0.00023902703807369218}. Best is trial 70 with value: 0.7727272727272727.\u001b[0m\n",
      "\u001b[32m[I 2023-06-22 22:03:52,673]\u001b[0m Trial 72 finished with value: 0.7676767676767676 and parameters: {'n_estimators': 234, 'max_depth': 5, 'learning_rate': 0.0980803902103351, 'min_child_weight': 4, 'gamma': 1.751430298216337e-06, 'subsample': 0.2024733246664686, 'colsample_bytree': 0.01779073469727442, 'reg_alpha': 0.00023049663270287803, 'reg_lambda': 0.0002807579981355819}. Best is trial 70 with value: 0.7727272727272727.\u001b[0m\n",
      "\u001b[32m[I 2023-06-22 22:03:53,015]\u001b[0m Trial 73 finished with value: 0.7626262626262627 and parameters: {'n_estimators': 229, 'max_depth': 5, 'learning_rate': 0.0772411007109441, 'min_child_weight': 4, 'gamma': 1.6730859210749569e-06, 'subsample': 0.20993955389222396, 'colsample_bytree': 0.017550631277258626, 'reg_alpha': 0.00023233021458080136, 'reg_lambda': 0.0002864052381353306}. Best is trial 70 with value: 0.7727272727272727.\u001b[0m\n",
      "\u001b[32m[I 2023-06-22 22:03:53,363]\u001b[0m Trial 74 finished with value: 0.7545454545454545 and parameters: {'n_estimators': 277, 'max_depth': 6, 'learning_rate': 0.06791705348158979, 'min_child_weight': 5, 'gamma': 7.135308464981156e-07, 'subsample': 0.14965459956583488, 'colsample_bytree': 0.01993281183620354, 'reg_alpha': 0.00016415202565981735, 'reg_lambda': 9.298517779922398e-05}. Best is trial 70 with value: 0.7727272727272727.\u001b[0m\n",
      "\u001b[32m[I 2023-06-22 22:03:53,703]\u001b[0m Trial 75 finished with value: 0.7262626262626263 and parameters: {'n_estimators': 224, 'max_depth': 5, 'learning_rate': 0.11099572647276607, 'min_child_weight': 3, 'gamma': 4.079545230012005e-07, 'subsample': 0.17597429135416723, 'colsample_bytree': 0.011344895783580005, 'reg_alpha': 0.0002430218716025528, 'reg_lambda': 3.21556973511157e-05}. Best is trial 70 with value: 0.7727272727272727.\u001b[0m\n",
      "\u001b[32m[I 2023-06-22 22:03:54,045]\u001b[0m Trial 76 finished with value: 0.7797979797979798 and parameters: {'n_estimators': 263, 'max_depth': 4, 'learning_rate': 0.027125004781064575, 'min_child_weight': 4, 'gamma': 3.100021975654209e-06, 'subsample': 0.12426265896132235, 'colsample_bytree': 0.02491728469010735, 'reg_alpha': 9.160596030667278e-05, 'reg_lambda': 0.0003794898983277742}. Best is trial 76 with value: 0.7797979797979798.\u001b[0m\n",
      "\u001b[32m[I 2023-06-22 22:03:54,372]\u001b[0m Trial 77 finished with value: 0.7393939393939395 and parameters: {'n_estimators': 244, 'max_depth': 5, 'learning_rate': 0.026615445205786823, 'min_child_weight': 4, 'gamma': 4.73198051500041e-06, 'subsample': 0.11692696712854517, 'colsample_bytree': 0.025414088833338008, 'reg_alpha': 5.5167410349898845e-05, 'reg_lambda': 0.0003917128800897978}. Best is trial 76 with value: 0.7797979797979798.\u001b[0m\n",
      "\u001b[32m[I 2023-06-22 22:03:54,743]\u001b[0m Trial 78 finished with value: 0.7505050505050506 and parameters: {'n_estimators': 296, 'max_depth': 5, 'learning_rate': 0.06879236359480202, 'min_child_weight': 4, 'gamma': 1.2132847272835655e-06, 'subsample': 0.12941983965485515, 'colsample_bytree': 0.01579435238681415, 'reg_alpha': 0.0001027033593930761, 'reg_lambda': 9.809167645431752e-05}. Best is trial 76 with value: 0.7797979797979798.\u001b[0m\n",
      "\u001b[32m[I 2023-06-22 22:03:55,128]\u001b[0m Trial 79 finished with value: 0.7282828282828282 and parameters: {'n_estimators': 260, 'max_depth': 6, 'learning_rate': 0.031055687810373767, 'min_child_weight': 3, 'gamma': 8.442656420413674e-06, 'subsample': 0.20837404675299218, 'colsample_bytree': 0.028572126487839997, 'reg_alpha': 2.8083267055477147e-05, 'reg_lambda': 0.0002973557473490939}. Best is trial 76 with value: 0.7797979797979798.\u001b[0m\n",
      "\u001b[32m[I 2023-06-22 22:03:55,477]\u001b[0m Trial 80 finished with value: 0.7414141414141414 and parameters: {'n_estimators': 223, 'max_depth': 4, 'learning_rate': 0.05344083690714593, 'min_child_weight': 2, 'gamma': 3.199201703371105e-06, 'subsample': 0.14727214580208617, 'colsample_bytree': 0.018950072877346735, 'reg_alpha': 0.00026326198693690133, 'reg_lambda': 0.00014683743013493367}. Best is trial 76 with value: 0.7797979797979798.\u001b[0m\n",
      "\u001b[32m[I 2023-06-22 22:03:55,833]\u001b[0m Trial 81 finished with value: 0.7676767676767676 and parameters: {'n_estimators': 268, 'max_depth': 4, 'learning_rate': 0.1218555082116799, 'min_child_weight': 5, 'gamma': 2.0788695108947423e-06, 'subsample': 0.2106240487707647, 'colsample_bytree': 0.013682754460081815, 'reg_alpha': 0.0012041400011381404, 'reg_lambda': 0.0007563165606079907}. Best is trial 76 with value: 0.7797979797979798.\u001b[0m\n",
      "\u001b[32m[I 2023-06-22 22:03:56,191]\u001b[0m Trial 82 finished with value: 0.7676767676767676 and parameters: {'n_estimators': 271, 'max_depth': 4, 'learning_rate': 0.10310154699759588, 'min_child_weight': 5, 'gamma': 1.0496542719068196e-06, 'subsample': 0.2067734127316355, 'colsample_bytree': 0.01418746722908403, 'reg_alpha': 0.001112658915769987, 'reg_lambda': 0.0007529122745381577}. Best is trial 76 with value: 0.7797979797979798.\u001b[0m\n",
      "\u001b[32m[I 2023-06-22 22:03:56,586]\u001b[0m Trial 83 finished with value: 0.7585858585858585 and parameters: {'n_estimators': 325, 'max_depth': 4, 'learning_rate': 0.09959122668258866, 'min_child_weight': 5, 'gamma': 3.6716917051537363e-06, 'subsample': 0.1678388582732459, 'colsample_bytree': 0.014301435728414672, 'reg_alpha': 0.0013417084298297695, 'reg_lambda': 0.0006010222139891678}. Best is trial 76 with value: 0.7797979797979798.\u001b[0m\n",
      "\u001b[32m[I 2023-06-22 22:03:56,931]\u001b[0m Trial 84 finished with value: 0.712121212121212 and parameters: {'n_estimators': 290, 'max_depth': 4, 'learning_rate': 0.13943385838244177, 'min_child_weight': 5, 'gamma': 1.1905099060216328e-06, 'subsample': 0.09918500865990651, 'colsample_bytree': 0.01316943692725017, 'reg_alpha': 0.0008329260746417169, 'reg_lambda': 7.425611201425496e-05}. Best is trial 76 with value: 0.7797979797979798.\u001b[0m\n",
      "\u001b[32m[I 2023-06-22 22:03:57,270]\u001b[0m Trial 85 finished with value: 0.706060606060606 and parameters: {'n_estimators': 268, 'max_depth': 4, 'learning_rate': 0.17659305936688394, 'min_child_weight': 5, 'gamma': 4.140777438292427e-07, 'subsample': 0.14856413951022238, 'colsample_bytree': 0.015977156659634367, 'reg_alpha': 0.0006817491924021345, 'reg_lambda': 0.0006759526975173158}. Best is trial 76 with value: 0.7797979797979798.\u001b[0m\n",
      "\u001b[32m[I 2023-06-22 22:03:57,626]\u001b[0m Trial 86 finished with value: 0.7585858585858585 and parameters: {'n_estimators': 247, 'max_depth': 4, 'learning_rate': 0.11884641581654898, 'min_child_weight': 4, 'gamma': 8.388272744832885e-06, 'subsample': 0.18951388464894522, 'colsample_bytree': 0.013169138110490738, 'reg_alpha': 0.0012627933730251645, 'reg_lambda': 0.00016199447806425165}. Best is trial 76 with value: 0.7797979797979798.\u001b[0m\n",
      "\u001b[32m[I 2023-06-22 22:03:58,041]\u001b[0m Trial 87 finished with value: 0.7131313131313132 and parameters: {'n_estimators': 305, 'max_depth': 5, 'learning_rate': 0.010263440093208329, 'min_child_weight': 3, 'gamma': 2.656146581147136e-07, 'subsample': 0.1274478403301123, 'colsample_bytree': 0.02131774772757431, 'reg_alpha': 0.003420369443400184, 'reg_lambda': 0.0008467391913431817}. Best is trial 76 with value: 0.7797979797979798.\u001b[0m\n",
      "\u001b[32m[I 2023-06-22 22:03:58,415]\u001b[0m Trial 88 finished with value: 0.7161616161616162 and parameters: {'n_estimators': 279, 'max_depth': 4, 'learning_rate': 0.15758005827384156, 'min_child_weight': 5, 'gamma': 7.706385882568572e-07, 'subsample': 0.24047119213705062, 'colsample_bytree': 0.01083688303633761, 'reg_alpha': 0.012348050609999401, 'reg_lambda': 0.00039562140211374483}. Best is trial 76 with value: 0.7797979797979798.\u001b[0m\n",
      "\u001b[32m[I 2023-06-22 22:03:58,733]\u001b[0m Trial 89 finished with value: 0.7646464646464647 and parameters: {'n_estimators': 200, 'max_depth': 5, 'learning_rate': 0.04746639103002763, 'min_child_weight': 4, 'gamma': 5.616926913948654e-06, 'subsample': 0.2081983165935422, 'colsample_bytree': 0.023719595947442943, 'reg_alpha': 0.035287529084443006, 'reg_lambda': 4.169056698232084e-05}. Best is trial 76 with value: 0.7797979797979798.\u001b[0m\n",
      "\u001b[32m[I 2023-06-22 22:03:59,068]\u001b[0m Trial 90 finished with value: 0.7222222222222221 and parameters: {'n_estimators': 197, 'max_depth': 6, 'learning_rate': 0.03259305375034211, 'min_child_weight': 4, 'gamma': 2.86761213388877e-06, 'subsample': 0.2645002156538052, 'colsample_bytree': 0.032028397023867984, 'reg_alpha': 0.006709722892366198, 'reg_lambda': 0.00022679530626407114}. Best is trial 76 with value: 0.7797979797979798.\u001b[0m\n",
      "\u001b[32m[I 2023-06-22 22:03:59,396]\u001b[0m Trial 91 finished with value: 0.7535353535353535 and parameters: {'n_estimators': 204, 'max_depth': 5, 'learning_rate': 0.05896535803729193, 'min_child_weight': 4, 'gamma': 5.847835554455726e-06, 'subsample': 0.21299998987916577, 'colsample_bytree': 0.020231105133559586, 'reg_alpha': 0.05214645891961238, 'reg_lambda': 4.873804346808032e-05}. Best is trial 76 with value: 0.7797979797979798.\u001b[0m\n",
      "\u001b[32m[I 2023-06-22 22:03:59,744]\u001b[0m Trial 92 finished with value: 0.7686868686868688 and parameters: {'n_estimators': 256, 'max_depth': 5, 'learning_rate': 0.09149591243432884, 'min_child_weight': 5, 'gamma': 1.4580161639742413e-06, 'subsample': 0.16931324745310888, 'colsample_bytree': 0.024557682713763664, 'reg_alpha': 0.02327257513901035, 'reg_lambda': 0.00010992894403969785}. Best is trial 76 with value: 0.7797979797979798.\u001b[0m\n",
      "\u001b[32m[I 2023-06-22 22:04:00,099]\u001b[0m Trial 93 finished with value: 0.7737373737373737 and parameters: {'n_estimators': 254, 'max_depth': 4, 'learning_rate': 0.10201061021394232, 'min_child_weight': 5, 'gamma': 1.2870608037620632e-06, 'subsample': 0.17832227383002533, 'colsample_bytree': 0.02413045334549199, 'reg_alpha': 0.024942242532601598, 'reg_lambda': 0.00013257835248635006}. Best is trial 76 with value: 0.7797979797979798.\u001b[0m\n",
      "\u001b[32m[I 2023-06-22 22:04:00,449]\u001b[0m Trial 94 finished with value: 0.7686868686868688 and parameters: {'n_estimators': 254, 'max_depth': 4, 'learning_rate': 0.08995036046407123, 'min_child_weight': 5, 'gamma': 1.3420030025162284e-06, 'subsample': 0.17834780848146464, 'colsample_bytree': 0.02446814834972983, 'reg_alpha': 0.012686560917336226, 'reg_lambda': 0.0004064757644864634}. Best is trial 76 with value: 0.7797979797979798.\u001b[0m\n",
      "\u001b[32m[I 2023-06-22 22:04:00,789]\u001b[0m Trial 95 finished with value: 0.7494949494949495 and parameters: {'n_estimators': 257, 'max_depth': 4, 'learning_rate': 0.10316601702831833, 'min_child_weight': 5, 'gamma': 1.204393062417377e-06, 'subsample': 0.1838686870544543, 'colsample_bytree': 0.02458128885788401, 'reg_alpha': 0.020309391573144497, 'reg_lambda': 0.000121349948756894}. Best is trial 76 with value: 0.7797979797979798.\u001b[0m\n",
      "\u001b[32m[I 2023-06-22 22:04:01,117]\u001b[0m Trial 96 finished with value: 0.7868686868686869 and parameters: {'n_estimators': 240, 'max_depth': 4, 'learning_rate': 0.08515991247826699, 'min_child_weight': 5, 'gamma': 5.88578598443141e-07, 'subsample': 0.17366603241221729, 'colsample_bytree': 0.026636675219571172, 'reg_alpha': 0.012063969719484669, 'reg_lambda': 0.0008911160555784051}. Best is trial 96 with value: 0.7868686868686869.\u001b[0m\n",
      "\u001b[32m[I 2023-06-22 22:04:01,446]\u001b[0m Trial 97 finished with value: 0.7626262626262627 and parameters: {'n_estimators': 238, 'max_depth': 4, 'learning_rate': 0.12394415295811075, 'min_child_weight': 5, 'gamma': 1.2528463393611767e-07, 'subsample': 0.1698090519325841, 'colsample_bytree': 0.02748790749821903, 'reg_alpha': 0.003494579504401536, 'reg_lambda': 0.0004241678961539736}. Best is trial 96 with value: 0.7868686868686869.\u001b[0m\n",
      "\u001b[32m[I 2023-06-22 22:04:01,803]\u001b[0m Trial 98 finished with value: 0.7676767676767676 and parameters: {'n_estimators': 251, 'max_depth': 3, 'learning_rate': 0.08807131355563896, 'min_child_weight': 6, 'gamma': 6.120559718066235e-07, 'subsample': 0.230225321672611, 'colsample_bytree': 0.037658916711549605, 'reg_alpha': 0.001886860904704328, 'reg_lambda': 0.0008659348693890475}. Best is trial 96 with value: 0.7868686868686869.\u001b[0m\n",
      "\u001b[32m[I 2023-06-22 22:04:02,164]\u001b[0m Trial 99 finished with value: 0.7141414141414141 and parameters: {'n_estimators': 264, 'max_depth': 4, 'learning_rate': 0.17753430712884946, 'min_child_weight': 6, 'gamma': 2.024233423746285e-06, 'subsample': 0.26017578789698564, 'colsample_bytree': 0.029935282051878793, 'reg_alpha': 0.010150431485734801, 'reg_lambda': 0.00018947149328157057}. Best is trial 96 with value: 0.7868686868686869.\u001b[0m\n",
      "\u001b[32m[I 2023-06-22 22:04:02,557]\u001b[0m Trial 100 finished with value: 0.7444444444444445 and parameters: {'n_estimators': 285, 'max_depth': 4, 'learning_rate': 0.08243009771501253, 'min_child_weight': 5, 'gamma': 2.794519052449474e-07, 'subsample': 0.16939897308907417, 'colsample_bytree': 0.024161015496664395, 'reg_alpha': 0.029527048830803697, 'reg_lambda': 8.454335309868525e-05}. Best is trial 96 with value: 0.7868686868686869.\u001b[0m\n",
      "\u001b[32m[I 2023-06-22 22:04:02,880]\u001b[0m Trial 101 finished with value: 0.7575757575757576 and parameters: {'n_estimators': 249, 'max_depth': 3, 'learning_rate': 0.09185055572856332, 'min_child_weight': 6, 'gamma': 5.44677617599683e-07, 'subsample': 0.22613749411628895, 'colsample_bytree': 0.03568311206155111, 'reg_alpha': 0.002173124839622757, 'reg_lambda': 0.0008713966918002963}. Best is trial 96 with value: 0.7868686868686869.\u001b[0m\n",
      "\u001b[32m[I 2023-06-22 22:04:03,211]\u001b[0m Trial 102 finished with value: 0.7545454545454545 and parameters: {'n_estimators': 255, 'max_depth': 3, 'learning_rate': 0.11127125744595234, 'min_child_weight': 6, 'gamma': 8.801811950668976e-07, 'subsample': 0.19475702777521078, 'colsample_bytree': 0.02077448611412797, 'reg_alpha': 0.0018095814995213629, 'reg_lambda': 0.0012471115132810262}. Best is trial 96 with value: 0.7868686868686869.\u001b[0m\n",
      "\u001b[32m[I 2023-06-22 22:04:03,554]\u001b[0m Trial 103 finished with value: 0.7767676767676768 and parameters: {'n_estimators': 240, 'max_depth': 4, 'learning_rate': 0.0768784805473935, 'min_child_weight': 5, 'gamma': 1.4723071070210423e-06, 'subsample': 0.2275013085084117, 'colsample_bytree': 0.041423180407410574, 'reg_alpha': 0.012710023394025566, 'reg_lambda': 0.000319619753021758}. Best is trial 96 with value: 0.7868686868686869.\u001b[0m\n",
      "\u001b[32m[I 2023-06-22 22:04:03,896]\u001b[0m Trial 104 finished with value: 0.7696969696969697 and parameters: {'n_estimators': 237, 'max_depth': 4, 'learning_rate': 0.03254132992716997, 'min_child_weight': 5, 'gamma': 1.4960654151969228e-06, 'subsample': 0.20173918607325875, 'colsample_bytree': 0.025877899334173025, 'reg_alpha': 0.021409653443136382, 'reg_lambda': 0.00028911430610248384}. Best is trial 96 with value: 0.7868686868686869.\u001b[0m\n",
      "\u001b[32m[I 2023-06-22 22:04:04,182]\u001b[0m Trial 105 finished with value: 0.7525252525252525 and parameters: {'n_estimators': 186, 'max_depth': 4, 'learning_rate': 0.03177916996791037, 'min_child_weight': 5, 'gamma': 1.6517157628873204e-06, 'subsample': 0.1635598685097935, 'colsample_bytree': 0.02554291895610173, 'reg_alpha': 0.01794130774175011, 'reg_lambda': 0.00028789908949176625}. Best is trial 96 with value: 0.7868686868686869.\u001b[0m\n",
      "\u001b[32m[I 2023-06-22 22:04:04,506]\u001b[0m Trial 106 finished with value: 0.7787878787878788 and parameters: {'n_estimators': 216, 'max_depth': 4, 'learning_rate': 0.06177169718817047, 'min_child_weight': 5, 'gamma': 2.2612744750319053e-06, 'subsample': 0.24624794494633262, 'colsample_bytree': 0.029063534810556412, 'reg_alpha': 0.012660003511917851, 'reg_lambda': 0.00011761509393940173}. Best is trial 96 with value: 0.7868686868686869.\u001b[0m\n",
      "\u001b[32m[I 2023-06-22 22:04:04,835]\u001b[0m Trial 107 finished with value: 0.787878787878788 and parameters: {'n_estimators': 216, 'max_depth': 4, 'learning_rate': 0.06379237829739395, 'min_child_weight': 5, 'gamma': 2.8281422243656785e-06, 'subsample': 0.2480980707002756, 'colsample_bytree': 0.02814158063855845, 'reg_alpha': 0.014456108737093253, 'reg_lambda': 0.00012175066758111308}. Best is trial 107 with value: 0.787878787878788.\u001b[0m\n",
      "\u001b[32m[I 2023-06-22 22:04:05,156]\u001b[0m Trial 108 finished with value: 0.7838383838383838 and parameters: {'n_estimators': 210, 'max_depth': 4, 'learning_rate': 0.06233041490581199, 'min_child_weight': 5, 'gamma': 2.820525211917829e-06, 'subsample': 0.25414760234001227, 'colsample_bytree': 0.028958495880425934, 'reg_alpha': 0.011735579700224853, 'reg_lambda': 0.0001524056626278631}. Best is trial 107 with value: 0.787878787878788.\u001b[0m\n",
      "\u001b[32m[I 2023-06-22 22:04:05,488]\u001b[0m Trial 109 finished with value: 0.787878787878788 and parameters: {'n_estimators': 215, 'max_depth': 4, 'learning_rate': 0.0675422417601277, 'min_child_weight': 5, 'gamma': 2.7053696958964046e-06, 'subsample': 0.25612044350000635, 'colsample_bytree': 0.03316200020074993, 'reg_alpha': 0.013418126610180582, 'reg_lambda': 0.00014708840583363409}. Best is trial 107 with value: 0.787878787878788.\u001b[0m\n",
      "\u001b[32m[I 2023-06-22 22:04:05,824]\u001b[0m Trial 110 finished with value: 0.7545454545454545 and parameters: {'n_estimators': 209, 'max_depth': 4, 'learning_rate': 0.06144299739167007, 'min_child_weight': 5, 'gamma': 2.7682677046282274e-06, 'subsample': 0.3214048647837211, 'colsample_bytree': 0.042558141737966966, 'reg_alpha': 0.02407411483297877, 'reg_lambda': 0.00012476776783429378}. Best is trial 107 with value: 0.787878787878788.\u001b[0m\n",
      "\u001b[32m[I 2023-06-22 22:04:06,179]\u001b[0m Trial 111 finished with value: 0.7474747474747474 and parameters: {'n_estimators': 216, 'max_depth': 4, 'learning_rate': 0.02362878501417065, 'min_child_weight': 5, 'gamma': 3.909394463610275e-06, 'subsample': 0.28053666936284355, 'colsample_bytree': 0.02925178180847319, 'reg_alpha': 0.01249823425940804, 'reg_lambda': 8.126398000294556e-05}. Best is trial 107 with value: 0.787878787878788.\u001b[0m\n",
      "\u001b[32m[I 2023-06-22 22:04:06,528]\u001b[0m Trial 112 finished with value: 0.7737373737373737 and parameters: {'n_estimators': 216, 'max_depth': 4, 'learning_rate': 0.06739615772212515, 'min_child_weight': 5, 'gamma': 1.3258566973639775e-06, 'subsample': 0.25876646956598204, 'colsample_bytree': 0.031784522219638164, 'reg_alpha': 0.012785018064373797, 'reg_lambda': 0.0001420104989434973}. Best is trial 107 with value: 0.787878787878788.\u001b[0m\n",
      "\u001b[32m[I 2023-06-22 22:04:06,858]\u001b[0m Trial 113 finished with value: 0.7929292929292929 and parameters: {'n_estimators': 220, 'max_depth': 4, 'learning_rate': 0.06643341152211218, 'min_child_weight': 5, 'gamma': 8.537257788388396e-07, 'subsample': 0.24884745096821773, 'colsample_bytree': 0.03244645578587823, 'reg_alpha': 0.05079208598102617, 'reg_lambda': 0.00019484110098553573}. Best is trial 113 with value: 0.7929292929292929.\u001b[0m\n",
      "\u001b[32m[I 2023-06-22 22:04:07,188]\u001b[0m Trial 114 finished with value: 0.7919191919191919 and parameters: {'n_estimators': 217, 'max_depth': 4, 'learning_rate': 0.06638410312699242, 'min_child_weight': 5, 'gamma': 7.519970519747782e-07, 'subsample': 0.251634959463729, 'colsample_bytree': 0.03372052179598123, 'reg_alpha': 0.058914302627501546, 'reg_lambda': 0.00017460003755875454}. Best is trial 113 with value: 0.7929292929292929.\u001b[0m\n",
      "\u001b[32m[I 2023-06-22 22:04:07,473]\u001b[0m Trial 115 finished with value: 0.7838383838383838 and parameters: {'n_estimators': 183, 'max_depth': 4, 'learning_rate': 0.06637627413547642, 'min_child_weight': 6, 'gamma': 8.41096528532694e-07, 'subsample': 0.2536183371277798, 'colsample_bytree': 0.0346972026072742, 'reg_alpha': 0.008358469993708054, 'reg_lambda': 0.00019344096011330558}. Best is trial 113 with value: 0.7929292929292929.\u001b[0m\n",
      "\u001b[32m[I 2023-06-22 22:04:07,764]\u001b[0m Trial 116 finished with value: 0.7696969696969697 and parameters: {'n_estimators': 180, 'max_depth': 4, 'learning_rate': 0.06656060732086116, 'min_child_weight': 6, 'gamma': 7.386685021971427e-07, 'subsample': 0.25418485016451586, 'colsample_bytree': 0.034489181690989114, 'reg_alpha': 0.04979142906392082, 'reg_lambda': 6.330596202265433e-05}. Best is trial 113 with value: 0.7929292929292929.\u001b[0m\n",
      "\u001b[32m[I 2023-06-22 22:04:08,066]\u001b[0m Trial 117 finished with value: 0.7696969696969697 and parameters: {'n_estimators': 191, 'max_depth': 3, 'learning_rate': 0.0562423385744382, 'min_child_weight': 6, 'gamma': 5.168415589213587e-07, 'subsample': 0.29652105167312504, 'colsample_bytree': 0.03215096939115392, 'reg_alpha': 0.0334521057723938, 'reg_lambda': 0.00017250245768362523}. Best is trial 113 with value: 0.7929292929292929.\u001b[0m\n",
      "\u001b[32m[I 2023-06-22 22:04:08,365]\u001b[0m Trial 118 finished with value: 0.7424242424242424 and parameters: {'n_estimators': 166, 'max_depth': 4, 'learning_rate': 0.03739501142937428, 'min_child_weight': 6, 'gamma': 2.5832172666726384e-06, 'subsample': 0.3663012522159871, 'colsample_bytree': 0.0455601409724295, 'reg_alpha': 0.0640836645260176, 'reg_lambda': 0.00014098519513165193}. Best is trial 113 with value: 0.7929292929292929.\u001b[0m\n",
      "\u001b[32m[I 2023-06-22 22:04:08,716]\u001b[0m Trial 119 finished with value: 0.7171717171717171 and parameters: {'n_estimators': 217, 'max_depth': 4, 'learning_rate': 0.07374156561476, 'min_child_weight': 5, 'gamma': 3.3613765893534065e-07, 'subsample': 0.32533132099205947, 'colsample_bytree': 0.03587311733937895, 'reg_alpha': 0.13295458892804266, 'reg_lambda': 4.430249692296464e-05}. Best is trial 113 with value: 0.7929292929292929.\u001b[0m\n",
      "\u001b[32m[I 2023-06-22 22:04:09,044]\u001b[0m Trial 120 finished with value: 0.7545454545454545 and parameters: {'n_estimators': 206, 'max_depth': 3, 'learning_rate': 0.01782707154961133, 'min_child_weight': 5, 'gamma': 8.84303285004459e-07, 'subsample': 0.2791388777808833, 'colsample_bytree': 0.032771281574648245, 'reg_alpha': 0.008656779365943001, 'reg_lambda': 7.111206692811432e-05}. Best is trial 113 with value: 0.7929292929292929.\u001b[0m\n",
      "\u001b[32m[I 2023-06-22 22:04:09,385]\u001b[0m Trial 121 finished with value: 0.7838383838383838 and parameters: {'n_estimators': 219, 'max_depth': 4, 'learning_rate': 0.04897644603302322, 'min_child_weight': 5, 'gamma': 5.626221028574706e-07, 'subsample': 0.250005997760981, 'colsample_bytree': 0.027391489776912185, 'reg_alpha': 0.013820018883396843, 'reg_lambda': 0.0002086333619887995}. Best is trial 113 with value: 0.7929292929292929.\u001b[0m\n",
      "\u001b[32m[I 2023-06-22 22:04:09,715]\u001b[0m Trial 122 finished with value: 0.7727272727272727 and parameters: {'n_estimators': 228, 'max_depth': 4, 'learning_rate': 0.048870363758734686, 'min_child_weight': 5, 'gamma': 5.494676466731489e-07, 'subsample': 0.26014651169631714, 'colsample_bytree': 0.028018604699711798, 'reg_alpha': 0.014632749598872915, 'reg_lambda': 0.00020620480681387163}. Best is trial 113 with value: 0.7929292929292929.\u001b[0m\n",
      "\u001b[32m[I 2023-06-22 22:04:10,126]\u001b[0m Trial 123 finished with value: 0.7696969696969697 and parameters: {'n_estimators': 213, 'max_depth': 4, 'learning_rate': 0.07276120503916342, 'min_child_weight': 5, 'gamma': 2.3527601855960254e-07, 'subsample': 0.23905936943789233, 'colsample_bytree': 0.031134820982320243, 'reg_alpha': 0.03766281489304536, 'reg_lambda': 0.00011281046778625274}. Best is trial 113 with value: 0.7929292929292929.\u001b[0m\n",
      "\u001b[32m[I 2023-06-22 22:04:10,457]\u001b[0m Trial 124 finished with value: 0.7414141414141414 and parameters: {'n_estimators': 198, 'max_depth': 4, 'learning_rate': 0.01518173004235121, 'min_child_weight': 6, 'gamma': 3.779232793363615e-07, 'subsample': 0.3424001695620894, 'colsample_bytree': 0.038304923046608055, 'reg_alpha': 0.009286963975612466, 'reg_lambda': 0.0004589181504337473}. Best is trial 113 with value: 0.7929292929292929.\u001b[0m\n",
      "\u001b[32m[I 2023-06-22 22:04:10,816]\u001b[0m Trial 125 finished with value: 0.7646464646464647 and parameters: {'n_estimators': 242, 'max_depth': 4, 'learning_rate': 0.043576417965968, 'min_child_weight': 5, 'gamma': 9.567001876640457e-07, 'subsample': 0.29361760281347965, 'colsample_bytree': 0.028617395429139943, 'reg_alpha': 0.005869754185128766, 'reg_lambda': 0.0002034812744577596}. Best is trial 113 with value: 0.7929292929292929.\u001b[0m\n",
      "\u001b[32m[I 2023-06-22 22:04:11,133]\u001b[0m Trial 126 finished with value: 0.7868686868686869 and parameters: {'n_estimators': 187, 'max_depth': 4, 'learning_rate': 0.06477486585151497, 'min_child_weight': 5, 'gamma': 4.1742496108606515e-06, 'subsample': 0.24977115541630207, 'colsample_bytree': 0.044226761153030786, 'reg_alpha': 0.02889294118216395, 'reg_lambda': 0.00014204352876250157}. Best is trial 113 with value: 0.7929292929292929.\u001b[0m\n",
      "\u001b[32m[I 2023-06-22 22:04:11,426]\u001b[0m Trial 127 finished with value: 0.7646464646464647 and parameters: {'n_estimators': 186, 'max_depth': 4, 'learning_rate': 0.12508220073218884, 'min_child_weight': 6, 'gamma': 4.156998265791225e-06, 'subsample': 0.2399304243884976, 'colsample_bytree': 0.047353303706247095, 'reg_alpha': 0.030680330859827368, 'reg_lambda': 3.070561174507301e-05}. Best is trial 113 with value: 0.7929292929292929.\u001b[0m\n",
      "\u001b[32m[I 2023-06-22 22:04:11,710]\u001b[0m Trial 128 finished with value: 0.7353535353535354 and parameters: {'n_estimators': 172, 'max_depth': 3, 'learning_rate': 0.1529610421732254, 'min_child_weight': 6, 'gamma': 2.689313963863768e-06, 'subsample': 0.22497188804293353, 'colsample_bytree': 0.034985782022661206, 'reg_alpha': 0.06866253474591695, 'reg_lambda': 7.128891970007119e-05}. Best is trial 113 with value: 0.7929292929292929.\u001b[0m\n",
      "\u001b[32m[I 2023-06-22 22:04:12,074]\u001b[0m Trial 129 finished with value: 0.7646464646464647 and parameters: {'n_estimators': 232, 'max_depth': 4, 'learning_rate': 0.047256170249838775, 'min_child_weight': 5, 'gamma': 6.42956128736444e-07, 'subsample': 0.30782790807910815, 'colsample_bytree': 0.038752612139828974, 'reg_alpha': 0.046469563945680886, 'reg_lambda': 0.00019715670369416276}. Best is trial 113 with value: 0.7929292929292929.\u001b[0m\n",
      "\u001b[32m[I 2023-06-22 22:04:12,420]\u001b[0m Trial 130 finished with value: 0.705050505050505 and parameters: {'n_estimators': 204, 'max_depth': 4, 'learning_rate': 0.011787208402165912, 'min_child_weight': 5, 'gamma': 3.838797261837264e-06, 'subsample': 0.2874427869175554, 'colsample_bytree': 0.04221832106913587, 'reg_alpha': 0.01586189122438717, 'reg_lambda': 1.743986839996928e-05}. Best is trial 113 with value: 0.7929292929292929.\u001b[0m\n",
      "\u001b[32m[I 2023-06-22 22:04:12,752]\u001b[0m Trial 131 finished with value: 0.787878787878788 and parameters: {'n_estimators': 218, 'max_depth': 4, 'learning_rate': 0.07195931220999617, 'min_child_weight': 5, 'gamma': 1.034322097447207e-06, 'subsample': 0.25428338526680194, 'colsample_bytree': 0.031505437818753895, 'reg_alpha': 0.004852195303021894, 'reg_lambda': 9.369456519082674e-05}. Best is trial 113 with value: 0.7929292929292929.\u001b[0m\n",
      "\u001b[32m[I 2023-06-22 22:04:13,037]\u001b[0m Trial 132 finished with value: 0.7505050505050506 and parameters: {'n_estimators': 151, 'max_depth': 4, 'learning_rate': 0.07583444888810281, 'min_child_weight': 5, 'gamma': 9.747769247541398e-07, 'subsample': 0.23209002168794104, 'colsample_bytree': 0.0274251352892621, 'reg_alpha': 0.005226599015435238, 'reg_lambda': 0.00010261672608439322}. Best is trial 113 with value: 0.7929292929292929.\u001b[0m\n",
      "\u001b[32m[I 2023-06-22 22:04:13,422]\u001b[0m Trial 133 finished with value: 0.7818181818181817 and parameters: {'n_estimators': 227, 'max_depth': 4, 'learning_rate': 0.05828093610683825, 'min_child_weight': 5, 'gamma': 6.7501772020560705e-06, 'subsample': 0.26229624074020264, 'colsample_bytree': 0.033668855782214624, 'reg_alpha': 0.007977865921563835, 'reg_lambda': 5.587277281456065e-05}. Best is trial 113 with value: 0.7929292929292929.\u001b[0m\n",
      "\u001b[32m[I 2023-06-22 22:04:13,784]\u001b[0m Trial 134 finished with value: 0.7595959595959596 and parameters: {'n_estimators': 222, 'max_depth': 4, 'learning_rate': 0.03566787541924089, 'min_child_weight': 5, 'gamma': 6.517160602687964e-06, 'subsample': 0.27338480095961337, 'colsample_bytree': 0.034499456642184435, 'reg_alpha': 0.007807155812743744, 'reg_lambda': 5.431275328397446e-05}. Best is trial 113 with value: 0.7929292929292929.\u001b[0m\n",
      "\u001b[32m[I 2023-06-22 22:04:14,114]\u001b[0m Trial 135 finished with value: 0.7505050505050506 and parameters: {'n_estimators': 192, 'max_depth': 4, 'learning_rate': 0.05716925355117904, 'min_child_weight': 5, 'gamma': 1.9826068766416667e-07, 'subsample': 0.3418467890290562, 'colsample_bytree': 0.02942005270455462, 'reg_alpha': 0.004260796496944635, 'reg_lambda': 4.037750157301969e-05}. Best is trial 113 with value: 0.7929292929292929.\u001b[0m\n",
      "\u001b[32m[I 2023-06-22 22:04:14,511]\u001b[0m Trial 136 finished with value: 0.7393939393939394 and parameters: {'n_estimators': 230, 'max_depth': 4, 'learning_rate': 0.1331251542639195, 'min_child_weight': 5, 'gamma': 2.1763852124162597e-06, 'subsample': 0.40624536177185344, 'colsample_bytree': 0.05253225752756025, 'reg_alpha': 0.01775641786466823, 'reg_lambda': 0.0005153721440829682}. Best is trial 113 with value: 0.7929292929292929.\u001b[0m\n",
      "\u001b[32m[I 2023-06-22 22:04:14,807]\u001b[0m Trial 137 finished with value: 0.787878787878788 and parameters: {'n_estimators': 180, 'max_depth': 4, 'learning_rate': 0.07404298517439957, 'min_child_weight': 6, 'gamma': 5.18141685226249e-06, 'subsample': 0.23915049965642377, 'colsample_bytree': 0.03916076017274008, 'reg_alpha': 0.006357705747823077, 'reg_lambda': 0.0003412428549303267}. Best is trial 113 with value: 0.7929292929292929.\u001b[0m\n",
      "\u001b[32m[I 2023-06-22 22:04:15,132]\u001b[0m Trial 138 finished with value: 0.7434343434343434 and parameters: {'n_estimators': 177, 'max_depth': 3, 'learning_rate': 0.02770621929580045, 'min_child_weight': 6, 'gamma': 1.0771887756728854e-05, 'subsample': 0.25694409298277243, 'colsample_bytree': 0.03692280754479001, 'reg_alpha': 0.007239958930832857, 'reg_lambda': 7.298337270818882e-05}. Best is trial 113 with value: 0.7929292929292929.\u001b[0m\n",
      "\u001b[32m[I 2023-06-22 22:04:15,452]\u001b[0m Trial 139 finished with value: 0.7545454545454545 and parameters: {'n_estimators': 184, 'max_depth': 4, 'learning_rate': 0.057638327208829956, 'min_child_weight': 6, 'gamma': 7.127717587297266e-06, 'subsample': 0.30753141182838634, 'colsample_bytree': 0.0329330945373552, 'reg_alpha': 0.003231446420194496, 'reg_lambda': 0.00020724092310046754}. Best is trial 113 with value: 0.7929292929292929.\u001b[0m\n",
      "\u001b[32m[I 2023-06-22 22:04:15,756]\u001b[0m Trial 140 finished with value: 0.7252525252525254 and parameters: {'n_estimators': 165, 'max_depth': 4, 'learning_rate': 0.12154891028801265, 'min_child_weight': 7, 'gamma': 4.261504602733016e-06, 'subsample': 0.38045676513016874, 'colsample_bytree': 0.030535133659682613, 'reg_alpha': 0.005288898507807065, 'reg_lambda': 2.9487668980764055e-05}. Best is trial 113 with value: 0.7929292929292929.\u001b[0m\n",
      "\u001b[32m[I 2023-06-22 22:04:16,113]\u001b[0m Trial 141 finished with value: 0.7737373737373737 and parameters: {'n_estimators': 207, 'max_depth': 4, 'learning_rate': 0.07146454570155383, 'min_child_weight': 5, 'gamma': 2.5085051657164143e-06, 'subsample': 0.24854704459842145, 'colsample_bytree': 0.045089597880064565, 'reg_alpha': 0.010147146157983372, 'reg_lambda': 0.000336336844101164}. Best is trial 113 with value: 0.7929292929292929.\u001b[0m\n",
      "\u001b[32m[I 2023-06-22 22:04:16,456]\u001b[0m Trial 142 finished with value: 0.7505050505050506 and parameters: {'n_estimators': 196, 'max_depth': 4, 'learning_rate': 0.08868904555352822, 'min_child_weight': 5, 'gamma': 5.2201504701787245e-06, 'subsample': 0.21955470074115557, 'colsample_bytree': 0.04032798029992306, 'reg_alpha': 0.016023928237641216, 'reg_lambda': 0.00023711538497749453}. Best is trial 113 with value: 0.7929292929292929.\u001b[0m\n",
      "\u001b[32m[I 2023-06-22 22:04:16,820]\u001b[0m Trial 143 finished with value: 0.7737373737373737 and parameters: {'n_estimators': 239, 'max_depth': 4, 'learning_rate': 0.0796013874376581, 'min_child_weight': 6, 'gamma': 4.77350494991963e-07, 'subsample': 0.27548763614598315, 'colsample_bytree': 0.04039143690686418, 'reg_alpha': 0.03522274181090183, 'reg_lambda': 0.0003580352242685681}. Best is trial 113 with value: 0.7929292929292929.\u001b[0m\n",
      "\u001b[32m[I 2023-06-22 22:04:17,172]\u001b[0m Trial 144 finished with value: 0.7646464646464647 and parameters: {'n_estimators': 221, 'max_depth': 4, 'learning_rate': 0.04236862738403519, 'min_child_weight': 4, 'gamma': 1.8467286032557984e-06, 'subsample': 0.2407804146502075, 'colsample_bytree': 0.036341638012021824, 'reg_alpha': 0.011010475732587373, 'reg_lambda': 9.786676595108934e-05}. Best is trial 113 with value: 0.7929292929292929.\u001b[0m\n",
      "\u001b[32m[I 2023-06-22 22:04:17,521]\u001b[0m Trial 145 finished with value: 0.7393939393939394 and parameters: {'n_estimators': 206, 'max_depth': 4, 'learning_rate': 0.1079330742304648, 'min_child_weight': 5, 'gamma': 3.0528636790610966e-06, 'subsample': 0.33762498770376154, 'colsample_bytree': 0.02674901554894758, 'reg_alpha': 0.09756233856763576, 'reg_lambda': 0.0001455658000582995}. Best is trial 113 with value: 0.7929292929292929.\u001b[0m\n",
      "\u001b[32m[I 2023-06-22 22:04:17,848]\u001b[0m Trial 146 finished with value: 0.7292929292929293 and parameters: {'n_estimators': 231, 'max_depth': 4, 'learning_rate': 0.14584845414301872, 'min_child_weight': 6, 'gamma': 8.303778558704463e-07, 'subsample': 0.22190880336697952, 'colsample_bytree': 0.051716585068061593, 'reg_alpha': 0.023561815372067738, 'reg_lambda': 0.0002367978738553563}. Best is trial 113 with value: 0.7929292929292929.\u001b[0m\n",
      "\u001b[32m[I 2023-06-22 22:04:18,294]\u001b[0m Trial 147 finished with value: 0.7656565656565657 and parameters: {'n_estimators': 215, 'max_depth': 4, 'learning_rate': 0.030023923989622045, 'min_child_weight': 5, 'gamma': 8.387252516353713e-06, 'subsample': 0.2887421115662554, 'colsample_bytree': 0.030318610254095112, 'reg_alpha': 0.0065093564978476485, 'reg_lambda': 5.188815750052001e-05}. Best is trial 113 with value: 0.7929292929292929.\u001b[0m\n",
      "\u001b[32m[I 2023-06-22 22:04:18,631]\u001b[0m Trial 148 finished with value: 0.805050505050505 and parameters: {'n_estimators': 242, 'max_depth': 3, 'learning_rate': 0.05975342588162958, 'min_child_weight': 4, 'gamma': 3.447789089768301e-07, 'subsample': 0.19141579397136732, 'colsample_bytree': 0.03347640187739817, 'reg_alpha': 0.003805311281107549, 'reg_lambda': 0.00046190488666885315}. Best is trial 148 with value: 0.805050505050505.\u001b[0m\n",
      "\u001b[32m[I 2023-06-22 22:04:18,969]\u001b[0m Trial 149 finished with value: 0.7606060606060607 and parameters: {'n_estimators': 198, 'max_depth': 3, 'learning_rate': 0.05795184935582577, 'min_child_weight': 4, 'gamma': 2.728746304559398e-07, 'subsample': 0.193069769777971, 'colsample_bytree': 0.022443513004623362, 'reg_alpha': 0.004130125194198873, 'reg_lambda': 0.0004991926468775851}. Best is trial 148 with value: 0.805050505050505.\u001b[0m\n",
      "\u001b[32m[I 2023-06-22 22:04:19,308]\u001b[0m Trial 150 finished with value: 0.7262626262626262 and parameters: {'n_estimators': 224, 'max_depth': 3, 'learning_rate': 0.014876676690116795, 'min_child_weight': 4, 'gamma': 2.0289717616522136e-05, 'subsample': 0.25717289006154315, 'colsample_bytree': 0.03302358006113236, 'reg_alpha': 0.00830366079218617, 'reg_lambda': 9.868159105226244e-05}. Best is trial 148 with value: 0.805050505050505.\u001b[0m\n",
      "\u001b[32m[I 2023-06-22 22:04:19,670]\u001b[0m Trial 151 finished with value: 0.7494949494949495 and parameters: {'n_estimators': 244, 'max_depth': 4, 'learning_rate': 0.08527608285259214, 'min_child_weight': 5, 'gamma': 6.289289789225604e-07, 'subsample': 0.22356285683190097, 'colsample_bytree': 0.04208496664394237, 'reg_alpha': 0.013398840286379627, 'reg_lambda': 0.0003228637582197843}. Best is trial 148 with value: 0.805050505050505.\u001b[0m\n",
      "\u001b[32m[I 2023-06-22 22:04:19,986]\u001b[0m Trial 152 finished with value: 0.7727272727272727 and parameters: {'n_estimators': 213, 'max_depth': 4, 'learning_rate': 0.10972307833116454, 'min_child_weight': 5, 'gamma': 3.3717371223213093e-07, 'subsample': 0.2418259598115853, 'colsample_bytree': 0.034920261557289695, 'reg_alpha': 0.0029085412053129313, 'reg_lambda': 0.00016842558186570925}. Best is trial 148 with value: 0.805050505050505.\u001b[0m\n",
      "\u001b[32m[I 2023-06-22 22:04:20,470]\u001b[0m Trial 153 finished with value: 0.7909090909090909 and parameters: {'n_estimators': 236, 'max_depth': 4, 'learning_rate': 0.061473983773126545, 'min_child_weight': 4, 'gamma': 1.128927674520979e-06, 'subsample': 0.19349612538530056, 'colsample_bytree': 0.02731638226722578, 'reg_alpha': 0.020643288868730916, 'reg_lambda': 0.0005211125688952564}. Best is trial 148 with value: 0.805050505050505.\u001b[0m\n",
      "\u001b[32m[I 2023-06-22 22:04:20,790]\u001b[0m Trial 154 finished with value: 0.7464646464646464 and parameters: {'n_estimators': 188, 'max_depth': 4, 'learning_rate': 0.048370826861910673, 'min_child_weight': 4, 'gamma': 1.4267415041349603e-07, 'subsample': 0.195082254837935, 'colsample_bytree': 0.026716606408350125, 'reg_alpha': 0.04767917390615114, 'reg_lambda': 0.0005933899431402882}. Best is trial 148 with value: 0.805050505050505.\u001b[0m\n",
      "\u001b[32m[I 2023-06-22 22:04:21,175]\u001b[0m Trial 155 finished with value: 0.7636363636363634 and parameters: {'n_estimators': 231, 'max_depth': 4, 'learning_rate': 0.05913022008787802, 'min_child_weight': 4, 'gamma': 2.062177712245113e-06, 'subsample': 0.30498417807079325, 'colsample_bytree': 0.029028630336227334, 'reg_alpha': 0.020199854485921574, 'reg_lambda': 0.00013873211200101252}. Best is trial 148 with value: 0.805050505050505.\u001b[0m\n",
      "\u001b[32m[I 2023-06-22 22:04:21,527]\u001b[0m Trial 156 finished with value: 0.7262626262626263 and parameters: {'n_estimators': 207, 'max_depth': 4, 'learning_rate': 0.034492049839527465, 'min_child_weight': 4, 'gamma': 1.053841264785976e-06, 'subsample': 0.2662617306295452, 'colsample_bytree': 0.022543331949081046, 'reg_alpha': 0.03221791353833033, 'reg_lambda': 0.00046234895064656414}. Best is trial 148 with value: 0.805050505050505.\u001b[0m\n",
      "\u001b[32m[I 2023-06-22 22:04:21,852]\u001b[0m Trial 157 finished with value: 0.7636363636363634 and parameters: {'n_estimators': 222, 'max_depth': 3, 'learning_rate': 0.10796268302253922, 'min_child_weight': 4, 'gamma': 4.6815539685673323e-07, 'subsample': 0.20712971173871436, 'colsample_bytree': 0.03200912862474621, 'reg_alpha': 0.006213841797059665, 'reg_lambda': 0.0012956576136922103}. Best is trial 148 with value: 0.805050505050505.\u001b[0m\n",
      "\u001b[32m[I 2023-06-22 22:04:22,209]\u001b[0m Trial 158 finished with value: 0.6858585858585858 and parameters: {'n_estimators': 246, 'max_depth': 4, 'learning_rate': 0.010092480079265324, 'min_child_weight': 5, 'gamma': 3.270356989900875e-06, 'subsample': 0.18511571919484396, 'colsample_bytree': 0.027383071951080105, 'reg_alpha': 0.009874334177458142, 'reg_lambda': 0.00023016272673252847}. Best is trial 148 with value: 0.805050505050505.\u001b[0m\n",
      "\u001b[32m[I 2023-06-22 22:04:22,517]\u001b[0m Trial 159 finished with value: 0.7222222222222222 and parameters: {'n_estimators': 198, 'max_depth': 4, 'learning_rate': 0.4440187803110962, 'min_child_weight': 6, 'gamma': 5.58713239190475e-06, 'subsample': 0.32103032267503495, 'colsample_bytree': 0.038033001613265185, 'reg_alpha': 0.017938929758015275, 'reg_lambda': 6.49442251321668e-05}. Best is trial 148 with value: 0.805050505050505.\u001b[0m\n",
      "\u001b[32m[I 2023-06-22 22:04:23,040]\u001b[0m Trial 160 finished with value: 0.7282828282828282 and parameters: {'n_estimators': 432, 'max_depth': 4, 'learning_rate': 0.075040585095889, 'min_child_weight': 4, 'gamma': 8.95999283134468e-07, 'subsample': 0.2768200534043521, 'colsample_bytree': 0.03000467053058742, 'reg_alpha': 0.004406487843888978, 'reg_lambda': 0.000926885531961987}. Best is trial 148 with value: 0.805050505050505.\u001b[0m\n",
      "\u001b[32m[I 2023-06-22 22:04:23,386]\u001b[0m Trial 161 finished with value: 0.7767676767676768 and parameters: {'n_estimators': 237, 'max_depth': 4, 'learning_rate': 0.08467996131739315, 'min_child_weight': 5, 'gamma': 1.4585843902903483e-06, 'subsample': 0.22777011956776774, 'colsample_bytree': 0.034159947322432965, 'reg_alpha': 0.011732500788863565, 'reg_lambda': 0.00033845260214048726}. Best is trial 148 with value: 0.805050505050505.\u001b[0m\n",
      "\u001b[32m[I 2023-06-22 22:04:23,729]\u001b[0m Trial 162 finished with value: 0.7595959595959596 and parameters: {'n_estimators': 244, 'max_depth': 4, 'learning_rate': 0.058329666200031605, 'min_child_weight': 5, 'gamma': 2.094142491799199e-06, 'subsample': 0.24819766590737463, 'colsample_bytree': 0.06404441317594714, 'reg_alpha': 0.06021284816074459, 'reg_lambda': 0.0001630519452252321}. Best is trial 148 with value: 0.805050505050505.\u001b[0m\n",
      "\u001b[32m[I 2023-06-22 22:04:24,059]\u001b[0m Trial 163 finished with value: 0.7929292929292929 and parameters: {'n_estimators': 217, 'max_depth': 4, 'learning_rate': 0.07692259507888188, 'min_child_weight': 5, 'gamma': 7.088482762919031e-07, 'subsample': 0.2086573253222949, 'colsample_bytree': 0.0382974484075746, 'reg_alpha': 0.028241256112187807, 'reg_lambda': 0.00010043465414614741}. Best is trial 148 with value: 0.805050505050505.\u001b[0m\n",
      "\u001b[32m[I 2023-06-22 22:04:24,382]\u001b[0m Trial 164 finished with value: 0.7747474747474747 and parameters: {'n_estimators': 214, 'max_depth': 4, 'learning_rate': 0.04100148628509931, 'min_child_weight': 5, 'gamma': 5.782817612098112e-07, 'subsample': 0.21011952421835425, 'colsample_bytree': 0.02594939455905618, 'reg_alpha': 0.027081493321424226, 'reg_lambda': 9.212924150602618e-05}. Best is trial 148 with value: 0.805050505050505.\u001b[0m\n",
      "\u001b[32m[I 2023-06-22 22:04:24,680]\u001b[0m Trial 165 finished with value: 0.6878787878787879 and parameters: {'n_estimators': 228, 'max_depth': 4, 'learning_rate': 0.609389606544541, 'min_child_weight': 5, 'gamma': 3.7692906353162923e-07, 'subsample': 0.1562711484017076, 'colsample_bytree': 0.0368277839801937, 'reg_alpha': 0.025644359973940975, 'reg_lambda': 9.042033464599683e-05}. Best is trial 148 with value: 0.805050505050505.\u001b[0m\n",
      "\u001b[32m[I 2023-06-22 22:04:24,974]\u001b[0m Trial 166 finished with value: 0.7595959595959596 and parameters: {'n_estimators': 180, 'max_depth': 4, 'learning_rate': 0.09474850459196169, 'min_child_weight': 5, 'gamma': 6.594840373858217e-07, 'subsample': 0.18884476043392823, 'colsample_bytree': 0.03164718459722481, 'reg_alpha': 0.04586073887895625, 'reg_lambda': 0.00014242533991274937}. Best is trial 148 with value: 0.805050505050505.\u001b[0m\n",
      "\u001b[32m[I 2023-06-22 22:04:25,305]\u001b[0m Trial 167 finished with value: 0.7252525252525254 and parameters: {'n_estimators': 201, 'max_depth': 4, 'learning_rate': 0.13108122774141165, 'min_child_weight': 4, 'gamma': 1.0002234678257323e-06, 'subsample': 0.2633688331675087, 'colsample_bytree': 0.029134881505141662, 'reg_alpha': 0.007983338490025187, 'reg_lambda': 0.00022753594769994566}. Best is trial 148 with value: 0.805050505050505.\u001b[0m\n",
      "\u001b[32m[I 2023-06-22 22:04:25,628]\u001b[0m Trial 168 finished with value: 0.7555555555555555 and parameters: {'n_estimators': 218, 'max_depth': 3, 'learning_rate': 0.06942063397655658, 'min_child_weight': 6, 'gamma': 3.346560364204692e-06, 'subsample': 0.21341518461824147, 'colsample_bytree': 0.02507290784444831, 'reg_alpha': 0.10939179169864348, 'reg_lambda': 0.0005959376813738535}. Best is trial 148 with value: 0.805050505050505.\u001b[0m\n",
      "\u001b[32m[I 2023-06-22 22:04:26,010]\u001b[0m Trial 169 finished with value: 0.7696969696969697 and parameters: {'n_estimators': 263, 'max_depth': 4, 'learning_rate': 0.03253583145182786, 'min_child_weight': 5, 'gamma': 1.733055361567188e-07, 'subsample': 0.24473021228613046, 'colsample_bytree': 0.022910854318032574, 'reg_alpha': 0.17732602802205402, 'reg_lambda': 4.7210369323028896e-05}. Best is trial 148 with value: 0.805050505050505.\u001b[0m\n",
      "\u001b[32m[I 2023-06-22 22:04:26,334]\u001b[0m Trial 170 finished with value: 0.7404040404040404 and parameters: {'n_estimators': 192, 'max_depth': 4, 'learning_rate': 0.1074448461009621, 'min_child_weight': 5, 'gamma': 1.2836424888519661e-06, 'subsample': 0.30432939939021947, 'colsample_bytree': 0.03395450187405903, 'reg_alpha': 0.07147318492672457, 'reg_lambda': 0.00011801599722534424}. Best is trial 148 with value: 0.805050505050505.\u001b[0m\n",
      "\u001b[32m[I 2023-06-22 22:04:26,683]\u001b[0m Trial 171 finished with value: 0.7777777777777778 and parameters: {'n_estimators': 235, 'max_depth': 4, 'learning_rate': 0.07758966293380197, 'min_child_weight': 5, 'gamma': 1.4336698405874455e-06, 'subsample': 0.23067768311447712, 'colsample_bytree': 0.040624152402111535, 'reg_alpha': 0.012028860630020805, 'reg_lambda': 0.0003373491971128447}. Best is trial 148 with value: 0.805050505050505.\u001b[0m\n",
      "\u001b[32m[I 2023-06-22 22:04:27,037]\u001b[0m Trial 172 finished with value: 0.7828282828282828 and parameters: {'n_estimators': 233, 'max_depth': 4, 'learning_rate': 0.056523008060822964, 'min_child_weight': 5, 'gamma': 7.380357292791848e-07, 'subsample': 0.1991411351249698, 'colsample_bytree': 0.03828832423937811, 'reg_alpha': 0.0158806219959498, 'reg_lambda': 0.0004173820104106983}. Best is trial 148 with value: 0.805050505050505.\u001b[0m\n",
      "\u001b[32m[I 2023-06-22 22:04:27,366]\u001b[0m Trial 173 finished with value: 0.7656565656565657 and parameters: {'n_estimators': 210, 'max_depth': 4, 'learning_rate': 0.05427386656547216, 'min_child_weight': 5, 'gamma': 7.596317566725148e-07, 'subsample': 0.196809558604295, 'colsample_bytree': 0.03731267404942763, 'reg_alpha': 0.016341852586405456, 'reg_lambda': 0.00048408758591000445}. Best is trial 148 with value: 0.805050505050505.\u001b[0m\n",
      "\u001b[32m[I 2023-06-22 22:04:27,691]\u001b[0m Trial 174 finished with value: 0.7747474747474747 and parameters: {'n_estimators': 229, 'max_depth': 4, 'learning_rate': 0.04401114866153294, 'min_child_weight': 5, 'gamma': 2.928508876526378e-07, 'subsample': 0.17644168711154726, 'colsample_bytree': 0.031044550165266627, 'reg_alpha': 0.03769999659161053, 'reg_lambda': 0.00020076234479766384}. Best is trial 148 with value: 0.805050505050505.\u001b[0m\n",
      "\u001b[32m[I 2023-06-22 22:04:28,047]\u001b[0m Trial 175 finished with value: 0.7444444444444445 and parameters: {'n_estimators': 219, 'max_depth': 4, 'learning_rate': 0.08894851101046782, 'min_child_weight': 4, 'gamma': 4.408423230921114e-07, 'subsample': 0.2806709805904253, 'colsample_bytree': 0.02756999541848317, 'reg_alpha': 0.020708641720184787, 'reg_lambda': 0.0008364723642966064}. Best is trial 148 with value: 0.805050505050505.\u001b[0m\n",
      "\u001b[32m[I 2023-06-22 22:04:28,358]\u001b[0m Trial 176 finished with value: 0.7747474747474747 and parameters: {'n_estimators': 207, 'max_depth': 4, 'learning_rate': 0.06988230405221084, 'min_child_weight': 5, 'gamma': 2.2528136916950922e-06, 'subsample': 0.15827686947535244, 'colsample_bytree': 0.045999138486359455, 'reg_alpha': 0.005230876541093179, 'reg_lambda': 6.730823321434448e-05}. Best is trial 148 with value: 0.805050505050505.\u001b[0m\n",
      "\u001b[32m[I 2023-06-22 22:04:28,649]\u001b[0m Trial 177 finished with value: 0.7484848484848484 and parameters: {'n_estimators': 170, 'max_depth': 4, 'learning_rate': 0.03039538638186231, 'min_child_weight': 6, 'gamma': 6.969714502725376e-07, 'subsample': 0.2169797275747551, 'colsample_bytree': 0.0338623461817498, 'reg_alpha': 0.007818380929218624, 'reg_lambda': 0.001671544418876381}. Best is trial 148 with value: 0.805050505050505.\u001b[0m\n",
      "\u001b[32m[I 2023-06-22 22:04:28,994]\u001b[0m Trial 178 finished with value: 0.7828282828282828 and parameters: {'n_estimators': 223, 'max_depth': 4, 'learning_rate': 0.0549930089612367, 'min_child_weight': 5, 'gamma': 3.923271057680465e-06, 'subsample': 0.2530916766506289, 'colsample_bytree': 0.037749116374066534, 'reg_alpha': 0.01704962715307794, 'reg_lambda': 0.000265472222939136}. Best is trial 148 with value: 0.805050505050505.\u001b[0m\n",
      "\u001b[32m[I 2023-06-22 22:04:29,336]\u001b[0m Trial 179 finished with value: 0.6686868686868688 and parameters: {'n_estimators': 247, 'max_depth': 4, 'learning_rate': 0.010142566696163188, 'min_child_weight': 5, 'gamma': 4.657648872610126e-06, 'subsample': 0.14149660582229098, 'colsample_bytree': 0.03819056181801791, 'reg_alpha': 0.026318819693676943, 'reg_lambda': 0.000267994005082218}. Best is trial 148 with value: 0.805050505050505.\u001b[0m\n",
      "\u001b[32m[I 2023-06-22 22:04:29,667]\u001b[0m Trial 180 finished with value: 0.7494949494949495 and parameters: {'n_estimators': 226, 'max_depth': 4, 'learning_rate': 0.11556205783522676, 'min_child_weight': 5, 'gamma': 1.3142966799331689e-05, 'subsample': 0.19907207516748887, 'colsample_bytree': 0.04544719966004874, 'reg_alpha': 0.06521025745271712, 'reg_lambda': 0.0006959043565957706}. Best is trial 148 with value: 0.805050505050505.\u001b[0m\n",
      "\u001b[32m[I 2023-06-22 22:04:30,021]\u001b[0m Trial 181 finished with value: 0.7919191919191919 and parameters: {'n_estimators': 236, 'max_depth': 4, 'learning_rate': 0.05728948023272023, 'min_child_weight': 5, 'gamma': 2.94052306488004e-06, 'subsample': 0.24657181283937718, 'colsample_bytree': 0.028949140816346107, 'reg_alpha': 0.015524079489849124, 'reg_lambda': 0.00017800188041560176}. Best is trial 148 with value: 0.805050505050505.\u001b[0m\n",
      "\u001b[32m[I 2023-06-22 22:04:30,367]\u001b[0m Trial 182 finished with value: 0.796969696969697 and parameters: {'n_estimators': 240, 'max_depth': 4, 'learning_rate': 0.05157285133559364, 'min_child_weight': 5, 'gamma': 7.1157337917617755e-06, 'subsample': 0.24763824187828762, 'colsample_bytree': 0.034966141993115415, 'reg_alpha': 0.016418772157825733, 'reg_lambda': 0.00041902994064813086}. Best is trial 148 with value: 0.805050505050505.\u001b[0m\n",
      "\u001b[32m[I 2023-06-22 22:04:30,724]\u001b[0m Trial 183 finished with value: 0.7727272727272727 and parameters: {'n_estimators': 238, 'max_depth': 4, 'learning_rate': 0.09133181659749368, 'min_child_weight': 5, 'gamma': 9.219381471520035e-06, 'subsample': 0.2667983522667288, 'colsample_bytree': 0.03452280319247307, 'reg_alpha': 0.020804402545068996, 'reg_lambda': 0.00016795184017468493}. Best is trial 148 with value: 0.805050505050505.\u001b[0m\n",
      "\u001b[32m[I 2023-06-22 22:04:31,065]\u001b[0m Trial 184 finished with value: 0.796969696969697 and parameters: {'n_estimators': 225, 'max_depth': 4, 'learning_rate': 0.055256883456622025, 'min_child_weight': 5, 'gamma': 6.235497392896343e-06, 'subsample': 0.23982661282656403, 'colsample_bytree': 0.041661677682873204, 'reg_alpha': 0.015501450220228892, 'reg_lambda': 0.0002500601951952875}. Best is trial 148 with value: 0.805050505050505.\u001b[0m\n",
      "\u001b[32m[I 2023-06-22 22:04:31,426]\u001b[0m Trial 185 finished with value: 0.788888888888889 and parameters: {'n_estimators': 234, 'max_depth': 4, 'learning_rate': 0.04599761860598897, 'min_child_weight': 5, 'gamma': 3.6454423932232624e-06, 'subsample': 0.2352653587539022, 'colsample_bytree': 0.04203228339881825, 'reg_alpha': 0.03540097572698446, 'reg_lambda': 0.00041143283671146524}. Best is trial 148 with value: 0.805050505050505.\u001b[0m\n",
      "\u001b[32m[I 2023-06-22 22:04:31,783]\u001b[0m Trial 186 finished with value: 0.7545454545454545 and parameters: {'n_estimators': 241, 'max_depth': 4, 'learning_rate': 0.07851553913595749, 'min_child_weight': 5, 'gamma': 1.0432489743245034e-06, 'subsample': 0.23587698358018083, 'colsample_bytree': 0.05029275095955498, 'reg_alpha': 0.03525925297809266, 'reg_lambda': 0.0004312494752877113}. Best is trial 148 with value: 0.805050505050505.\u001b[0m\n",
      "\u001b[32m[I 2023-06-22 22:04:32,132]\u001b[0m Trial 187 finished with value: 0.7828282828282828 and parameters: {'n_estimators': 254, 'max_depth': 4, 'learning_rate': 0.0437226123735303, 'min_child_weight': 6, 'gamma': 4.586485642845478e-06, 'subsample': 0.22497501012258195, 'colsample_bytree': 0.04019039418855829, 'reg_alpha': 0.04838366146969655, 'reg_lambda': 0.0005835648517734784}. Best is trial 148 with value: 0.805050505050505.\u001b[0m\n",
      "\u001b[32m[I 2023-06-22 22:04:32,491]\u001b[0m Trial 188 finished with value: 0.7585858585858585 and parameters: {'n_estimators': 233, 'max_depth': 4, 'learning_rate': 0.10160244190386955, 'min_child_weight': 5, 'gamma': 1.6858399774336744e-06, 'subsample': 0.3035659995315326, 'colsample_bytree': 0.04452984053512872, 'reg_alpha': 0.03577439840095746, 'reg_lambda': 0.00038706314639835393}. Best is trial 148 with value: 0.805050505050505.\u001b[0m\n",
      "\u001b[32m[I 2023-06-22 22:04:32,827]\u001b[0m Trial 189 finished with value: 0.7616161616161616 and parameters: {'n_estimators': 204, 'max_depth': 5, 'learning_rate': 0.029559371272335183, 'min_child_weight': 5, 'gamma': 4.3101520606198045e-07, 'subsample': 0.20486853186857587, 'colsample_bytree': 0.048951329735891676, 'reg_alpha': 0.016197975968118186, 'reg_lambda': 0.0010524371178227713}. Best is trial 148 with value: 0.805050505050505.\u001b[0m\n",
      "\u001b[32m[I 2023-06-22 22:04:33,144]\u001b[0m Trial 190 finished with value: 0.7464646464646464 and parameters: {'n_estimators': 212, 'max_depth': 3, 'learning_rate': 0.0701977002056274, 'min_child_weight': 6, 'gamma': 2.205128297805548e-07, 'subsample': 0.18350528046442582, 'colsample_bytree': 0.042482337764758335, 'reg_alpha': 0.026079341230378843, 'reg_lambda': 0.00021112716807555898}. Best is trial 148 with value: 0.805050505050505.\u001b[0m\n",
      "\u001b[32m[I 2023-06-22 22:04:33,493]\u001b[0m Trial 191 finished with value: 0.7777777777777778 and parameters: {'n_estimators': 226, 'max_depth': 4, 'learning_rate': 0.052848501379727776, 'min_child_weight': 5, 'gamma': 6.517614661661042e-06, 'subsample': 0.24790846517093126, 'colsample_bytree': 0.03710744286885537, 'reg_alpha': 0.015754418709309055, 'reg_lambda': 0.0002765571897664056}. Best is trial 148 with value: 0.805050505050505.\u001b[0m\n",
      "\u001b[32m[I 2023-06-22 22:04:33,841]\u001b[0m Trial 192 finished with value: 0.7545454545454545 and parameters: {'n_estimators': 220, 'max_depth': 4, 'learning_rate': 0.0484596056102201, 'min_child_weight': 5, 'gamma': 3.202807637083418e-06, 'subsample': 0.2718709433260985, 'colsample_bytree': 0.055175686061181575, 'reg_alpha': 0.01240138111766714, 'reg_lambda': 0.00018527347592020216}. Best is trial 148 with value: 0.805050505050505.\u001b[0m\n",
      "\u001b[32m[I 2023-06-22 22:04:34,170]\u001b[0m Trial 193 finished with value: 0.7636363636363634 and parameters: {'n_estimators': 235, 'max_depth': 4, 'learning_rate': 0.08270473689590413, 'min_child_weight': 5, 'gamma': 2.5322228721325637e-06, 'subsample': 0.22396871993092293, 'colsample_bytree': 0.031182903111692677, 'reg_alpha': 0.022126325955371808, 'reg_lambda': 0.00027093639368592907}. Best is trial 148 with value: 0.805050505050505.\u001b[0m\n",
      "\u001b[32m[I 2023-06-22 22:04:34,527]\u001b[0m Trial 194 finished with value: 0.7585858585858585 and parameters: {'n_estimators': 246, 'max_depth': 4, 'learning_rate': 0.06152620317504075, 'min_child_weight': 5, 'gamma': 4.034421590959587e-06, 'subsample': 0.286571867563023, 'colsample_bytree': 0.03905690464533344, 'reg_alpha': 0.009805813275586928, 'reg_lambda': 0.00014287329222286102}. Best is trial 148 with value: 0.805050505050505.\u001b[0m\n",
      "\u001b[32m[I 2023-06-22 22:04:34,842]\u001b[0m Trial 195 finished with value: 0.7212121212121212 and parameters: {'n_estimators': 220, 'max_depth': 4, 'learning_rate': 0.2753530624851112, 'min_child_weight': 5, 'gamma': 1.0579629979722424e-05, 'subsample': 0.25050490166129236, 'colsample_bytree': 0.035561723791646724, 'reg_alpha': 0.015263192547784186, 'reg_lambda': 0.00039801157186767695}. Best is trial 148 with value: 0.805050505050505.\u001b[0m\n",
      "\u001b[32m[I 2023-06-22 22:04:35,151]\u001b[0m Trial 196 finished with value: 0.7363636363636363 and parameters: {'n_estimators': 192, 'max_depth': 4, 'learning_rate': 0.1220277962253794, 'min_child_weight': 5, 'gamma': 1.0815758281740847e-06, 'subsample': 0.3323393050134835, 'colsample_bytree': 0.044012760210463145, 'reg_alpha': 0.09728707566926535, 'reg_lambda': 0.0007121969737095572}. Best is trial 148 with value: 0.805050505050505.\u001b[0m\n",
      "\u001b[32m[I 2023-06-22 22:04:35,473]\u001b[0m Trial 197 finished with value: 0.7525252525252525 and parameters: {'n_estimators': 200, 'max_depth': 4, 'learning_rate': 0.030558645178031543, 'min_child_weight': 5, 'gamma': 5.065873391120882e-06, 'subsample': 0.23513090613544282, 'colsample_bytree': 0.027815727129701727, 'reg_alpha': 0.04837059249851816, 'reg_lambda': 0.00011562581968364623}. Best is trial 148 with value: 0.805050505050505.\u001b[0m\n",
      "\u001b[32m[I 2023-06-22 22:04:35,811]\u001b[0m Trial 198 finished with value: 0.7585858585858585 and parameters: {'n_estimators': 232, 'max_depth': 4, 'learning_rate': 0.0988217786227156, 'min_child_weight': 5, 'gamma': 6.068669038770179e-07, 'subsample': 0.21598159550963716, 'colsample_bytree': 0.03185748964322308, 'reg_alpha': 0.00586150815869844, 'reg_lambda': 0.000243799426674837}. Best is trial 148 with value: 0.805050505050505.\u001b[0m\n",
      "\u001b[32m[I 2023-06-22 22:04:36,144]\u001b[0m Trial 199 finished with value: 0.7838383838383838 and parameters: {'n_estimators': 214, 'max_depth': 4, 'learning_rate': 0.06478325643181496, 'min_child_weight': 6, 'gamma': 1.8976220256735695e-06, 'subsample': 0.2767633579646259, 'colsample_bytree': 0.03966149020425648, 'reg_alpha': 0.03194207346133718, 'reg_lambda': 0.00048537381768853845}. Best is trial 148 with value: 0.805050505050505.\u001b[0m\n",
      "\u001b[32m[I 2023-06-22 22:04:36,449]\u001b[0m Trial 200 finished with value: 0.7313131313131312 and parameters: {'n_estimators': 182, 'max_depth': 4, 'learning_rate': 0.1380534019822271, 'min_child_weight': 6, 'gamma': 1.7488514507004583e-06, 'subsample': 0.29577591392944225, 'colsample_bytree': 0.041476301512896184, 'reg_alpha': 0.0747080849002621, 'reg_lambda': 0.0004346487765971925}. Best is trial 148 with value: 0.805050505050505.\u001b[0m\n",
      "\u001b[32m[I 2023-06-22 22:04:36,761]\u001b[0m Trial 201 finished with value: 0.7929292929292929 and parameters: {'n_estimators': 212, 'max_depth': 4, 'learning_rate': 0.06636795259135166, 'min_child_weight': 6, 'gamma': 3.003240680678524e-06, 'subsample': 0.25087196139288676, 'colsample_bytree': 0.03613777951896366, 'reg_alpha': 0.02729311371512697, 'reg_lambda': 0.00032306204020895416}. Best is trial 148 with value: 0.805050505050505.\u001b[0m\n",
      "\u001b[32m[I 2023-06-22 22:04:37,084]\u001b[0m Trial 202 finished with value: 0.797979797979798 and parameters: {'n_estimators': 211, 'max_depth': 4, 'learning_rate': 0.06858814887939967, 'min_child_weight': 6, 'gamma': 2.5380861167925665e-06, 'subsample': 0.26731807099947347, 'colsample_bytree': 0.04837113204099338, 'reg_alpha': 0.030820136233999634, 'reg_lambda': 0.0004833613713448052}. Best is trial 148 with value: 0.805050505050505.\u001b[0m\n",
      "\u001b[32m[I 2023-06-22 22:04:37,411]\u001b[0m Trial 203 finished with value: 0.7828282828282828 and parameters: {'n_estimators': 209, 'max_depth': 4, 'learning_rate': 0.08346102079653024, 'min_child_weight': 6, 'gamma': 2.6179267269749164e-06, 'subsample': 0.28125687184719306, 'colsample_bytree': 0.0579692259745648, 'reg_alpha': 0.03406771078697733, 'reg_lambda': 0.0006159971265885638}. Best is trial 148 with value: 0.805050505050505.\u001b[0m\n",
      "\u001b[32m[I 2023-06-22 22:04:37,754]\u001b[0m Trial 204 finished with value: 0.7494949494949495 and parameters: {'n_estimators': 214, 'max_depth': 4, 'learning_rate': 0.06867568866858144, 'min_child_weight': 6, 'gamma': 1.8293407259336844e-06, 'subsample': 0.35812212551359296, 'colsample_bytree': 0.029782549392324727, 'reg_alpha': 0.028196575333725184, 'reg_lambda': 0.0011564797210243379}. Best is trial 148 with value: 0.805050505050505.\u001b[0m\n",
      "\u001b[32m[I 2023-06-22 22:04:38,073]\u001b[0m Trial 205 finished with value: 0.7777777777777778 and parameters: {'n_estimators': 200, 'max_depth': 4, 'learning_rate': 0.09023383345208957, 'min_child_weight': 6, 'gamma': 3.166447555361324e-06, 'subsample': 0.261527415625351, 'colsample_bytree': 0.03402285520081204, 'reg_alpha': 0.044147904653340085, 'reg_lambda': 0.00017049391231264405}. Best is trial 148 with value: 0.805050505050505.\u001b[0m\n",
      "\u001b[32m[I 2023-06-22 22:04:38,382]\u001b[0m Trial 206 finished with value: 0.7616161616161616 and parameters: {'n_estimators': 190, 'max_depth': 4, 'learning_rate': 0.04086264957690566, 'min_child_weight': 6, 'gamma': 6.199425208980295e-06, 'subsample': 0.2391442594708978, 'colsample_bytree': 0.04357325132723371, 'reg_alpha': 0.026389610924320638, 'reg_lambda': 0.0003059786230419558}. Best is trial 148 with value: 0.805050505050505.\u001b[0m\n",
      "\u001b[32m[I 2023-06-22 22:04:38,699]\u001b[0m Trial 207 finished with value: 0.7696969696969697 and parameters: {'n_estimators': 211, 'max_depth': 8, 'learning_rate': 0.10968772477727426, 'min_child_weight': 7, 'gamma': 1.5728074399766888e-05, 'subsample': 0.31471289199631, 'colsample_bytree': 0.02619583471565389, 'reg_alpha': 0.011575260294563936, 'reg_lambda': 9.087832152239514e-05}. Best is trial 148 with value: 0.805050505050505.\u001b[0m\n",
      "\u001b[32m[I 2023-06-22 22:04:39,025]\u001b[0m Trial 208 finished with value: 0.6808080808080808 and parameters: {'n_estimators': 223, 'max_depth': 4, 'learning_rate': 0.3354801567877369, 'min_child_weight': 6, 'gamma': 1.3565567200425623e-06, 'subsample': 0.28142719354133006, 'colsample_bytree': 0.05041628509355749, 'reg_alpha': 0.0865323216966497, 'reg_lambda': 0.001960434711164002}. Best is trial 148 with value: 0.805050505050505.\u001b[0m\n",
      "\u001b[32m[I 2023-06-22 22:04:39,325]\u001b[0m Trial 209 finished with value: 0.7282828282828282 and parameters: {'n_estimators': 203, 'max_depth': 4, 'learning_rate': 0.2193782680093956, 'min_child_weight': 7, 'gamma': 2.2395647977733324e-06, 'subsample': 0.2199783230963168, 'colsample_bytree': 0.04734008944230481, 'reg_alpha': 0.16082197912207333, 'reg_lambda': 0.0005456495681259436}. Best is trial 148 with value: 0.805050505050505.\u001b[0m\n",
      "\u001b[32m[I 2023-06-22 22:04:39,645]\u001b[0m Trial 210 finished with value: 0.7929292929292929 and parameters: {'n_estimators': 216, 'max_depth': 4, 'learning_rate': 0.07113974643042176, 'min_child_weight': 6, 'gamma': 9.492838805125707e-07, 'subsample': 0.25651201650704825, 'colsample_bytree': 0.03207606902822943, 'reg_alpha': 0.04730713024047239, 'reg_lambda': 0.00018161464546653601}. Best is trial 148 with value: 0.805050505050505.\u001b[0m\n",
      "\u001b[32m[I 2023-06-22 22:04:39,980]\u001b[0m Trial 211 finished with value: 0.788888888888889 and parameters: {'n_estimators': 212, 'max_depth': 4, 'learning_rate': 0.0709921579441781, 'min_child_weight': 6, 'gamma': 1.0194979190428342e-06, 'subsample': 0.24979818668813328, 'colsample_bytree': 0.03248691916918309, 'reg_alpha': 0.04717330760869721, 'reg_lambda': 0.00018723252376326958}. Best is trial 148 with value: 0.805050505050505.\u001b[0m\n",
      "\u001b[32m[I 2023-06-22 22:04:40,301]\u001b[0m Trial 212 finished with value: 0.788888888888889 and parameters: {'n_estimators': 218, 'max_depth': 4, 'learning_rate': 0.07831261657316463, 'min_child_weight': 6, 'gamma': 8.852666815730466e-07, 'subsample': 0.24342562902026277, 'colsample_bytree': 0.030385080274848576, 'reg_alpha': 0.05314040536006296, 'reg_lambda': 0.00015212894006363695}. Best is trial 148 with value: 0.805050505050505.\u001b[0m\n",
      "\u001b[32m[I 2023-06-22 22:04:40,618]\u001b[0m Trial 213 finished with value: 0.7636363636363634 and parameters: {'n_estimators': 197, 'max_depth': 4, 'learning_rate': 0.07795817180956965, 'min_child_weight': 6, 'gamma': 1.1180203944159014e-06, 'subsample': 0.22487590867298124, 'colsample_bytree': 0.0312688968312022, 'reg_alpha': 0.060126771531680244, 'reg_lambda': 0.00012323020366091623}. Best is trial 148 with value: 0.805050505050505.\u001b[0m\n",
      "\u001b[32m[I 2023-06-22 22:04:40,879]\u001b[0m Trial 214 finished with value: 0.7595959595959596 and parameters: {'n_estimators': 158, 'max_depth': 4, 'learning_rate': 0.09982549408062957, 'min_child_weight': 6, 'gamma': 8.543261442814742e-07, 'subsample': 0.24667523910116598, 'colsample_bytree': 0.03483528607373213, 'reg_alpha': 0.07162708491216856, 'reg_lambda': 0.0001673459722051881}. Best is trial 148 with value: 0.805050505050505.\u001b[0m\n",
      "\u001b[32m[I 2023-06-22 22:04:41,191]\u001b[0m Trial 215 finished with value: 0.7787878787878788 and parameters: {'n_estimators': 176, 'max_depth': 4, 'learning_rate': 0.07276730568052023, 'min_child_weight': 6, 'gamma': 1.204775533960623e-06, 'subsample': 0.25953681609994533, 'colsample_bytree': 0.029571536893829672, 'reg_alpha': 0.038022856920262006, 'reg_lambda': 9.395548054759125e-05}. Best is trial 148 with value: 0.805050505050505.\u001b[0m\n",
      "\u001b[32m[I 2023-06-22 22:04:41,522]\u001b[0m Trial 216 finished with value: 0.7616161616161616 and parameters: {'n_estimators': 208, 'max_depth': 4, 'learning_rate': 0.032770833407270425, 'min_child_weight': 6, 'gamma': 8.283692168371305e-06, 'subsample': 0.20751327240241035, 'colsample_bytree': 0.033330913354364444, 'reg_alpha': 0.04566155241045683, 'reg_lambda': 0.00015247525302463695}. Best is trial 148 with value: 0.805050505050505.\u001b[0m\n",
      "\u001b[32m[I 2023-06-22 22:04:41,858]\u001b[0m Trial 217 finished with value: 0.7474747474747476 and parameters: {'n_estimators': 226, 'max_depth': 4, 'learning_rate': 0.159268282332313, 'min_child_weight': 6, 'gamma': 3.4449357127409944e-06, 'subsample': 0.23371716990250574, 'colsample_bytree': 0.028804664942295274, 'reg_alpha': 0.05555381327751323, 'reg_lambda': 0.00023246665894040573}. Best is trial 148 with value: 0.805050505050505.\u001b[0m\n",
      "\u001b[32m[I 2023-06-22 22:04:42,208]\u001b[0m Trial 218 finished with value: 0.7090909090909091 and parameters: {'n_estimators': 244, 'max_depth': 4, 'learning_rate': 0.30318419507220956, 'min_child_weight': 6, 'gamma': 3.5320407068894034e-07, 'subsample': 0.3120481321215524, 'colsample_bytree': 0.036112183552870845, 'reg_alpha': 0.1136207001077393, 'reg_lambda': 0.00033108654917877084}. Best is trial 148 with value: 0.805050505050505.\u001b[0m\n",
      "\u001b[32m[I 2023-06-22 22:04:42,553]\u001b[0m Trial 219 finished with value: 0.7767676767676768 and parameters: {'n_estimators': 237, 'max_depth': 4, 'learning_rate': 0.08727390398515461, 'min_child_weight': 7, 'gamma': 8.382271204380132e-07, 'subsample': 0.26000114739948377, 'colsample_bytree': 0.03166456803687205, 'reg_alpha': 0.022042976801654884, 'reg_lambda': 0.00012032853708386739}. Best is trial 148 with value: 0.805050505050505.\u001b[0m\n",
      "\u001b[32m[I 2023-06-22 22:04:42,874]\u001b[0m Trial 220 finished with value: 0.7646464646464647 and parameters: {'n_estimators': 217, 'max_depth': 4, 'learning_rate': 0.10902113757503108, 'min_child_weight': 6, 'gamma': 5.552016097316355e-07, 'subsample': 0.1885285502016187, 'colsample_bytree': 0.02438370515213866, 'reg_alpha': 0.08500137673021405, 'reg_lambda': 8.554557276264273e-05}. Best is trial 148 with value: 0.805050505050505.\u001b[0m\n",
      "\u001b[32m[I 2023-06-22 22:04:43,207]\u001b[0m Trial 221 finished with value: 0.8070707070707072 and parameters: {'n_estimators': 220, 'max_depth': 4, 'learning_rate': 0.053536249870884546, 'min_child_weight': 6, 'gamma': 5.04991706827234e-07, 'subsample': 0.244566024489099, 'colsample_bytree': 0.028440149073981538, 'reg_alpha': 0.009025049200511944, 'reg_lambda': 0.00019626764851658301}. Best is trial 221 with value: 0.8070707070707072.\u001b[0m\n",
      "\u001b[32m[I 2023-06-22 22:04:43,546]\u001b[0m Trial 222 finished with value: 0.788888888888889 and parameters: {'n_estimators': 225, 'max_depth': 4, 'learning_rate': 0.04884028489623752, 'min_child_weight': 6, 'gamma': 1.544514628517961e-06, 'subsample': 0.24070671094847237, 'colsample_bytree': 0.027322191503059493, 'reg_alpha': 0.007948410779146967, 'reg_lambda': 0.0001795727839452828}. Best is trial 221 with value: 0.8070707070707072.\u001b[0m\n",
      "\u001b[32m[I 2023-06-22 22:04:43,883]\u001b[0m Trial 223 finished with value: 0.7696969696969697 and parameters: {'n_estimators': 226, 'max_depth': 4, 'learning_rate': 0.046480805836639286, 'min_child_weight': 6, 'gamma': 1.6331759277331904e-06, 'subsample': 0.23347827983740654, 'colsample_bytree': 0.027313158037483538, 'reg_alpha': 0.02073888967243413, 'reg_lambda': 0.00020319096459798478}. Best is trial 221 with value: 0.8070707070707072.\u001b[0m\n",
      "\u001b[32m[I 2023-06-22 22:04:44,226]\u001b[0m Trial 224 finished with value: 0.7676767676767676 and parameters: {'n_estimators': 216, 'max_depth': 4, 'learning_rate': 0.02226145735400773, 'min_child_weight': 6, 'gamma': 2.6556556141876995e-06, 'subsample': 0.21077075487445437, 'colsample_bytree': 0.12627263728804455, 'reg_alpha': 0.004244069849100471, 'reg_lambda': 0.00030209174240885514}. Best is trial 221 with value: 0.8070707070707072.\u001b[0m\n",
      "\u001b[32m[I 2023-06-22 22:04:44,628]\u001b[0m Trial 225 finished with value: 0.796969696969697 and parameters: {'n_estimators': 229, 'max_depth': 4, 'learning_rate': 0.06428449264788842, 'min_child_weight': 6, 'gamma': 5.219129995409871e-06, 'subsample': 0.26901207506286084, 'colsample_bytree': 0.029689067204931013, 'reg_alpha': 0.3001877104274532, 'reg_lambda': 0.00018146681921115104}. Best is trial 221 with value: 0.8070707070707072.\u001b[0m\n",
      "\u001b[32m[I 2023-06-22 22:04:44,964]\u001b[0m Trial 226 finished with value: 0.7141414141414141 and parameters: {'n_estimators': 231, 'max_depth': 4, 'learning_rate': 0.3740328092197925, 'min_child_weight': 6, 'gamma': 5.017463883053153e-06, 'subsample': 0.2885703487471715, 'colsample_bytree': 0.026257174007770768, 'reg_alpha': 0.26127897805283573, 'reg_lambda': 0.00012858803376033107}. Best is trial 221 with value: 0.8070707070707072.\u001b[0m\n",
      "\u001b[32m[I 2023-06-22 22:04:45,359]\u001b[0m Trial 227 finished with value: 0.7828282828282828 and parameters: {'n_estimators': 247, 'max_depth': 4, 'learning_rate': 0.04307029169074222, 'min_child_weight': 6, 'gamma': 6.925296902526959e-06, 'subsample': 0.23339381035846762, 'colsample_bytree': 0.03111014966384228, 'reg_alpha': 0.18850900730496611, 'reg_lambda': 0.0002672109373200632}. Best is trial 221 with value: 0.8070707070707072.\u001b[0m\n",
      "\u001b[32m[I 2023-06-22 22:04:45,709]\u001b[0m Trial 228 finished with value: 0.7919191919191919 and parameters: {'n_estimators': 224, 'max_depth': 4, 'learning_rate': 0.07477943527905928, 'min_child_weight': 6, 'gamma': 4.522009809116543e-07, 'subsample': 0.27087794664402487, 'colsample_bytree': 0.0326304229617947, 'reg_alpha': 0.5426908087235143, 'reg_lambda': 7.048713442791692e-05}. Best is trial 221 with value: 0.8070707070707072.\u001b[0m\n",
      "\u001b[32m[I 2023-06-22 22:04:46,089]\u001b[0m Trial 229 finished with value: 0.7686868686868688 and parameters: {'n_estimators': 236, 'max_depth': 4, 'learning_rate': 0.08506887057202388, 'min_child_weight': 7, 'gamma': 4.0106514891629076e-07, 'subsample': 0.28131282268234076, 'colsample_bytree': 0.023492970465571653, 'reg_alpha': 0.25833374875721954, 'reg_lambda': 7.218592972302581e-05}. Best is trial 221 with value: 0.8070707070707072.\u001b[0m\n",
      "\u001b[32m[I 2023-06-22 22:04:46,445]\u001b[0m Trial 230 finished with value: 0.7535353535353535 and parameters: {'n_estimators': 225, 'max_depth': 4, 'learning_rate': 0.06150557308615575, 'min_child_weight': 6, 'gamma': 4.879933259870771e-07, 'subsample': 0.32832719940010524, 'colsample_bytree': 0.03213133336159867, 'reg_alpha': 0.7135711118496871, 'reg_lambda': 0.0008493666896713415}. Best is trial 221 with value: 0.8070707070707072.\u001b[0m\n",
      "\u001b[32m[I 2023-06-22 22:04:46,779]\u001b[0m Trial 231 finished with value: 0.797979797979798 and parameters: {'n_estimators': 221, 'max_depth': 4, 'learning_rate': 0.0693514200703097, 'min_child_weight': 6, 'gamma': 7.11625174389438e-07, 'subsample': 0.2654620387703609, 'colsample_bytree': 0.029017265609878766, 'reg_alpha': 0.6052503131960658, 'reg_lambda': 1.531137360642391e-07}. Best is trial 221 with value: 0.8070707070707072.\u001b[0m\n",
      "\u001b[32m[I 2023-06-22 22:04:47,110]\u001b[0m Trial 232 finished with value: 0.8020202020202021 and parameters: {'n_estimators': 221, 'max_depth': 4, 'learning_rate': 0.08155469446438116, 'min_child_weight': 6, 'gamma': 2.790972813613186e-07, 'subsample': 0.27134011191164675, 'colsample_bytree': 0.029352237112116052, 'reg_alpha': 0.9247751930052782, 'reg_lambda': 9.251598067747277e-07}. Best is trial 221 with value: 0.8070707070707072.\u001b[0m\n",
      "\u001b[32m[I 2023-06-22 22:04:47,498]\u001b[0m Trial 233 finished with value: 0.7363636363636363 and parameters: {'n_estimators': 220, 'max_depth': 4, 'learning_rate': 0.046081312813528716, 'min_child_weight': 6, 'gamma': 2.839782638360049e-07, 'subsample': 0.5477314564057729, 'colsample_bytree': 0.028948490144495714, 'reg_alpha': 0.33480173152195, 'reg_lambda': 2.3350380888685227e-07}. Best is trial 221 with value: 0.8070707070707072.\u001b[0m\n",
      "\u001b[32m[I 2023-06-22 22:04:47,839]\u001b[0m Trial 234 finished with value: 0.8010101010101011 and parameters: {'n_estimators': 227, 'max_depth': 4, 'learning_rate': 0.07410248755278173, 'min_child_weight': 6, 'gamma': 7.550590295502905e-07, 'subsample': 0.2686797964408502, 'colsample_bytree': 0.0334982415185938, 'reg_alpha': 0.5946264891192732, 'reg_lambda': 6.333051966560268e-07}. Best is trial 221 with value: 0.8070707070707072.\u001b[0m\n",
      "\u001b[32m[I 2023-06-22 22:04:48,191]\u001b[0m Trial 235 finished with value: 0.6919191919191919 and parameters: {'n_estimators': 227, 'max_depth': 4, 'learning_rate': 0.010657694208495078, 'min_child_weight': 6, 'gamma': 7.685729630894843e-07, 'subsample': 0.27172236817106016, 'colsample_bytree': 0.032309708922960305, 'reg_alpha': 0.6657473793995798, 'reg_lambda': 6.767028613658365e-07}. Best is trial 221 with value: 0.8070707070707072.\u001b[0m\n",
      "\u001b[32m[I 2023-06-22 22:04:48,523]\u001b[0m Trial 236 finished with value: 0.706060606060606 and parameters: {'n_estimators': 219, 'max_depth': 4, 'learning_rate': 0.991522510389208, 'min_child_weight': 6, 'gamma': 1.0620323656142092e-06, 'subsample': 0.2956185414018897, 'colsample_bytree': 0.029645992390480456, 'reg_alpha': 0.5440852614712552, 'reg_lambda': 1.7806761523465725e-07}. Best is trial 221 with value: 0.8070707070707072.\u001b[0m\n",
      "\u001b[32m[I 2023-06-22 22:04:48,943]\u001b[0m Trial 237 finished with value: 0.6969696969696969 and parameters: {'n_estimators': 209, 'max_depth': 4, 'learning_rate': 0.5700674296811552, 'min_child_weight': 6, 'gamma': 1.9073375838203514e-07, 'subsample': 0.2686950702779319, 'colsample_bytree': 0.03516430899592474, 'reg_alpha': 0.9771902507009962, 'reg_lambda': 1.7238321484756536e-07}. Best is trial 221 with value: 0.8070707070707072.\u001b[0m\n",
      "\u001b[32m[I 2023-06-22 22:04:49,299]\u001b[0m Trial 238 finished with value: 0.7646464646464647 and parameters: {'n_estimators': 231, 'max_depth': 4, 'learning_rate': 0.09709191568756251, 'min_child_weight': 6, 'gamma': 2.978652108575107e-07, 'subsample': 0.30462957330826146, 'colsample_bytree': 0.02600066545302469, 'reg_alpha': 0.5104202026701082, 'reg_lambda': 6.383980535869108e-06}. Best is trial 221 with value: 0.8070707070707072.\u001b[0m\n",
      "\u001b[32m[I 2023-06-22 22:04:49,641]\u001b[0m Trial 239 finished with value: 0.788888888888889 and parameters: {'n_estimators': 218, 'max_depth': 4, 'learning_rate': 0.06740080965076033, 'min_child_weight': 6, 'gamma': 6.159843342202884e-07, 'subsample': 0.2545585933048038, 'colsample_bytree': 0.029411898026255833, 'reg_alpha': 0.973925055889074, 'reg_lambda': 9.914124283508516e-07}. Best is trial 221 with value: 0.8070707070707072.\u001b[0m\n",
      "\u001b[32m[I 2023-06-22 22:04:50,001]\u001b[0m Trial 240 finished with value: 0.7393939393939394 and parameters: {'n_estimators': 238, 'max_depth': 4, 'learning_rate': 0.23424336548525165, 'min_child_weight': 6, 'gamma': 4.805501916433209e-07, 'subsample': 0.35148127435829724, 'colsample_bytree': 0.02734395376728505, 'reg_alpha': 0.9845827201784989, 'reg_lambda': 1.4744128608609928e-06}. Best is trial 221 with value: 0.8070707070707072.\u001b[0m\n",
      "\u001b[32m[I 2023-06-22 22:04:50,335]\u001b[0m Trial 241 finished with value: 0.7838383838383838 and parameters: {'n_estimators': 219, 'max_depth': 4, 'learning_rate': 0.06700348846579471, 'min_child_weight': 6, 'gamma': 5.796267532773628e-07, 'subsample': 0.2597456990496197, 'colsample_bytree': 0.03157044268988972, 'reg_alpha': 0.6300217855067007, 'reg_lambda': 1.2498772856839693e-06}. Best is trial 221 with value: 0.8070707070707072.\u001b[0m\n",
      "\u001b[32m[I 2023-06-22 22:04:50,623]\u001b[0m Trial 242 finished with value: 0.6202020202020203 and parameters: {'n_estimators': 209, 'max_depth': 4, 'learning_rate': 0.04375210514172835, 'min_child_weight': 6, 'gamma': 7.787408984470438e-07, 'subsample': 0.0887566980897505, 'colsample_bytree': 0.028843590740730934, 'reg_alpha': 0.4427263279916151, 'reg_lambda': 6.087459759257332e-07}. Best is trial 221 with value: 0.8070707070707072.\u001b[0m\n",
      "\u001b[32m[I 2023-06-22 22:04:50,959]\u001b[0m Trial 243 finished with value: 0.7686868686868688 and parameters: {'n_estimators': 225, 'max_depth': 4, 'learning_rate': 0.07957486359771071, 'min_child_weight': 6, 'gamma': 1.1997225492660949e-06, 'subsample': 0.24365093429001658, 'colsample_bytree': 0.033717178544544764, 'reg_alpha': 0.3553982531173698, 'reg_lambda': 3.422456764886757e-06}. Best is trial 221 with value: 0.8070707070707072.\u001b[0m\n",
      "\u001b[32m[I 2023-06-22 22:04:51,254]\u001b[0m Trial 244 finished with value: 0.5 and parameters: {'n_estimators': 218, 'max_depth': 4, 'learning_rate': 0.18479726946132666, 'min_child_weight': 6, 'gamma': 3.789994650275922e-07, 'subsample': 0.052339663963703556, 'colsample_bytree': 0.03027420051219208, 'reg_alpha': 0.7280768791167844, 'reg_lambda': 2.5522498605144196e-05}. Best is trial 221 with value: 0.8070707070707072.\u001b[0m\n",
      "\u001b[32m[I 2023-06-22 22:04:51,603]\u001b[0m Trial 245 finished with value: 0.7505050505050506 and parameters: {'n_estimators': 229, 'max_depth': 4, 'learning_rate': 0.05992260964194929, 'min_child_weight': 6, 'gamma': 6.640151417695088e-07, 'subsample': 0.2781768898427177, 'colsample_bytree': 0.03696488046011281, 'reg_alpha': 0.3942816595602332, 'reg_lambda': 3.5872609694446914e-08}. Best is trial 221 with value: 0.8070707070707072.\u001b[0m\n",
      "\u001b[32m[I 2023-06-22 22:04:51,931]\u001b[0m Trial 246 finished with value: 0.7595959595959596 and parameters: {'n_estimators': 213, 'max_depth': 4, 'learning_rate': 0.1187481698820847, 'min_child_weight': 6, 'gamma': 1.3548621755235816e-06, 'subsample': 0.22067052051483266, 'colsample_bytree': 0.024545591864857955, 'reg_alpha': 0.5233050764458549, 'reg_lambda': 6.507011553551783e-06}. Best is trial 221 with value: 0.8070707070707072.\u001b[0m\n",
      "\u001b[32m[I 2023-06-22 22:04:52,257]\u001b[0m Trial 247 finished with value: 0.7474747474747474 and parameters: {'n_estimators': 205, 'max_depth': 4, 'learning_rate': 0.032743568305799026, 'min_child_weight': 6, 'gamma': 7.699709765498297e-07, 'subsample': 0.26088648272981285, 'colsample_bytree': 0.03312471489790881, 'reg_alpha': 0.9511448003795928, 'reg_lambda': 1.066910046391115e-06}. Best is trial 221 with value: 0.8070707070707072.\u001b[0m\n",
      "\u001b[32m[I 2023-06-22 22:04:52,594]\u001b[0m Trial 248 finished with value: 0.7444444444444445 and parameters: {'n_estimators': 237, 'max_depth': 4, 'learning_rate': 0.08723540732625171, 'min_child_weight': 7, 'gamma': 1.0324390476915005e-06, 'subsample': 0.2337765612769392, 'colsample_bytree': 0.027761496432625373, 'reg_alpha': 0.5883606891874029, 'reg_lambda': 1.3937920959046768e-05}. Best is trial 221 with value: 0.8070707070707072.\u001b[0m\n",
      "\u001b[32m[I 2023-06-22 22:04:52,931]\u001b[0m Trial 249 finished with value: 0.7525252525252525 and parameters: {'n_estimators': 222, 'max_depth': 4, 'learning_rate': 0.2576214995913591, 'min_child_weight': 6, 'gamma': 7.588303601012066e-08, 'subsample': 0.29148111356812134, 'colsample_bytree': 0.03569867574847693, 'reg_alpha': 0.31320342861410655, 'reg_lambda': 7.206553018570028e-06}. Best is trial 221 with value: 0.8070707070707072.\u001b[0m\n",
      "\u001b[32m[I 2023-06-22 22:04:53,303]\u001b[0m Trial 250 finished with value: 0.7262626262626263 and parameters: {'n_estimators': 249, 'max_depth': 4, 'learning_rate': 0.05745399079350528, 'min_child_weight': 6, 'gamma': 2.5360538893620255e-07, 'subsample': 0.24775562006436538, 'colsample_bytree': 0.6188762518765306, 'reg_alpha': 0.4030185431733863, 'reg_lambda': 0.0036335648180017242}. Best is trial 221 with value: 0.8070707070707072.\u001b[0m\n",
      "\u001b[32m[I 2023-06-22 22:04:53,638]\u001b[0m Trial 251 finished with value: 0.7464646464646464 and parameters: {'n_estimators': 213, 'max_depth': 2, 'learning_rate': 0.0986723976096578, 'min_child_weight': 6, 'gamma': 1.6928490438626758e-06, 'subsample': 0.21929153536658924, 'colsample_bytree': 0.030357444752965982, 'reg_alpha': 0.6993696354431297, 'reg_lambda': 5.600802709596826e-07}. Best is trial 221 with value: 0.8070707070707072.\u001b[0m\n",
      "\u001b[32m[I 2023-06-22 22:04:53,983]\u001b[0m Trial 252 finished with value: 0.8060606060606061 and parameters: {'n_estimators': 230, 'max_depth': 4, 'learning_rate': 0.07182466886957445, 'min_child_weight': 6, 'gamma': 4.5880630724475034e-07, 'subsample': 0.2648376406136413, 'colsample_bytree': 0.02598202345966718, 'reg_alpha': 0.9787156892753724, 'reg_lambda': 1.5892877700417628e-06}. Best is trial 221 with value: 0.8070707070707072.\u001b[0m\n",
      "\u001b[32m[I 2023-06-22 22:04:54,333]\u001b[0m Trial 253 finished with value: 0.7616161616161616 and parameters: {'n_estimators': 230, 'max_depth': 4, 'learning_rate': 0.029327177656893758, 'min_child_weight': 6, 'gamma': 4.801860100094329e-07, 'subsample': 0.28769439875504454, 'colsample_bytree': 0.02188640104161214, 'reg_alpha': 0.9691252742170088, 'reg_lambda': 1.6220660908167195e-06}. Best is trial 221 with value: 0.8070707070707072.\u001b[0m\n",
      "\u001b[32m[I 2023-06-22 22:04:54,747]\u001b[0m Trial 254 finished with value: 0.7686868686868688 and parameters: {'n_estimators': 240, 'max_depth': 4, 'learning_rate': 0.055853066897220555, 'min_child_weight': 6, 'gamma': 3.6937835325475844e-07, 'subsample': 0.31779385541895727, 'colsample_bytree': 0.02559567405112936, 'reg_alpha': 0.20843059404797887, 'reg_lambda': 9.33586579612596e-07}. Best is trial 221 with value: 0.8070707070707072.\u001b[0m\n",
      "\u001b[32m[I 2023-06-22 22:04:55,099]\u001b[0m Trial 255 finished with value: 0.796969696969697 and parameters: {'n_estimators': 232, 'max_depth': 4, 'learning_rate': 0.07289892883393413, 'min_child_weight': 6, 'gamma': 0.00032352851447714785, 'subsample': 0.2672203836648411, 'colsample_bytree': 0.02738084068402674, 'reg_alpha': 0.6999975067117353, 'reg_lambda': 7.744474588340401e-07}. Best is trial 221 with value: 0.8070707070707072.\u001b[0m\n",
      "\u001b[32m[I 2023-06-22 22:04:55,469]\u001b[0m Trial 256 finished with value: 0.7626262626262627 and parameters: {'n_estimators': 255, 'max_depth': 4, 'learning_rate': 0.08239353420534457, 'min_child_weight': 6, 'gamma': 0.00018141437442530193, 'subsample': 0.273396278221865, 'colsample_bytree': 0.023703073266616994, 'reg_alpha': 0.47243679563743046, 'reg_lambda': 2.5716648768730495e-06}. Best is trial 221 with value: 0.8070707070707072.\u001b[0m\n",
      "\u001b[32m[I 2023-06-22 22:04:55,808]\u001b[0m Trial 257 finished with value: 0.7262626262626263 and parameters: {'n_estimators': 231, 'max_depth': 4, 'learning_rate': 0.12661022744608344, 'min_child_weight': 6, 'gamma': 0.0001592291588190812, 'subsample': 0.19797196479440196, 'colsample_bytree': 0.02741763930324052, 'reg_alpha': 0.5329363535148491, 'reg_lambda': 8.428636608017012e-07}. Best is trial 221 with value: 0.8070707070707072.\u001b[0m\n",
      "\u001b[32m[I 2023-06-22 22:04:56,145]\u001b[0m Trial 258 finished with value: 0.7454545454545455 and parameters: {'n_estimators': 241, 'max_depth': 5, 'learning_rate': 0.10311151768015367, 'min_child_weight': 7, 'gamma': 0.00029457491477393415, 'subsample': 0.23013330769705975, 'colsample_bytree': 0.026115231516461068, 'reg_alpha': 0.7068009017121085, 'reg_lambda': 8.748446956170862e-07}. Best is trial 221 with value: 0.8070707070707072.\u001b[0m\n",
      "\u001b[32m[I 2023-06-22 22:04:56,449]\u001b[0m Trial 259 finished with value: 0.5 and parameters: {'n_estimators': 228, 'max_depth': 4, 'learning_rate': 0.20578725285300808, 'min_child_weight': 6, 'gamma': 4.05910853740078e-05, 'subsample': 0.03045404493375019, 'colsample_bytree': 0.022028530106013116, 'reg_alpha': 0.843207492078282, 'reg_lambda': 3.7707603311434833e-07}. Best is trial 221 with value: 0.8070707070707072.\u001b[0m\n",
      "\u001b[32m[I 2023-06-22 22:04:56,805]\u001b[0m Trial 260 finished with value: 0.7191919191919192 and parameters: {'n_estimators': 250, 'max_depth': 4, 'learning_rate': 0.043819224296351704, 'min_child_weight': 9, 'gamma': 6.441097414502753e-05, 'subsample': 0.2995727679586384, 'colsample_bytree': 0.02939834046862299, 'reg_alpha': 0.2957638439610661, 'reg_lambda': 2.226390834377171e-06}. Best is trial 221 with value: 0.8070707070707072.\u001b[0m\n",
      "\u001b[32m[I 2023-06-22 22:04:57,101]\u001b[0m Trial 261 finished with value: 0.5 and parameters: {'n_estimators': 222, 'max_depth': 3, 'learning_rate': 0.07278286847370202, 'min_child_weight': 6, 'gamma': 0.0015928739040934406, 'subsample': 0.012873620126280384, 'colsample_bytree': 0.024392230252923006, 'reg_alpha': 0.45856860143517936, 'reg_lambda': 1.6450515084128447e-06}. Best is trial 221 with value: 0.8070707070707072.\u001b[0m\n",
      "\u001b[32m[I 2023-06-22 22:04:57,439]\u001b[0m Trial 262 finished with value: 0.6959595959595959 and parameters: {'n_estimators': 234, 'max_depth': 4, 'learning_rate': 0.7435581572270006, 'min_child_weight': 6, 'gamma': 2.1490440710197493e-07, 'subsample': 0.20766958897957405, 'colsample_bytree': 0.019714667508159735, 'reg_alpha': 0.12750461705791066, 'reg_lambda': 1.9037031932743143e-06}. Best is trial 221 with value: 0.8070707070707072.\u001b[0m\n",
      "\u001b[32m[I 2023-06-22 22:04:57,764]\u001b[0m Trial 263 finished with value: 0.7626262626262625 and parameters: {'n_estimators': 204, 'max_depth': 4, 'learning_rate': 0.02772332914283366, 'min_child_weight': 6, 'gamma': 1.2653389036624986e-07, 'subsample': 0.24453678553784625, 'colsample_bytree': 0.028291055899030724, 'reg_alpha': 0.9800190572231712, 'reg_lambda': 1.1603906105535324e-06}. Best is trial 221 with value: 0.8070707070707072.\u001b[0m\n",
      "\u001b[32m[I 2023-06-22 22:04:58,116]\u001b[0m Trial 264 finished with value: 0.8020202020202021 and parameters: {'n_estimators': 223, 'max_depth': 4, 'learning_rate': 0.052545348959125826, 'min_child_weight': 6, 'gamma': 0.0006926735206843358, 'subsample': 0.26352989096989066, 'colsample_bytree': 0.03749034784456743, 'reg_alpha': 0.20545741373726412, 'reg_lambda': 4.786104061595817e-07}. Best is trial 221 with value: 0.8070707070707072.\u001b[0m\n",
      "\u001b[32m[I 2023-06-22 22:04:58,462]\u001b[0m Trial 265 finished with value: 0.7787878787878788 and parameters: {'n_estimators': 241, 'max_depth': 4, 'learning_rate': 0.04676772897038656, 'min_child_weight': 6, 'gamma': 0.001365624154170934, 'subsample': 0.2701054909035043, 'colsample_bytree': 0.03906601032639856, 'reg_alpha': 0.22515367175438944, 'reg_lambda': 4.528323615327347e-07}. Best is trial 221 with value: 0.8070707070707072.\u001b[0m\n",
      "\u001b[32m[I 2023-06-22 22:04:58,770]\u001b[0m Trial 266 finished with value: 0.6606060606060606 and parameters: {'n_estimators': 222, 'max_depth': 4, 'learning_rate': 0.08703799150652898, 'min_child_weight': 6, 'gamma': 0.00033346793042212, 'subsample': 0.10548824883953126, 'colsample_bytree': 0.03529911452375817, 'reg_alpha': 0.3982619359170047, 'reg_lambda': 7.13444379807054e-07}. Best is trial 221 with value: 0.8070707070707072.\u001b[0m\n",
      "\u001b[32m[I 2023-06-22 22:04:59,138]\u001b[0m Trial 267 finished with value: 0.7434343434343434 and parameters: {'n_estimators': 233, 'max_depth': 4, 'learning_rate': 0.02224301189076254, 'min_child_weight': 6, 'gamma': 0.0003731734480874332, 'subsample': 0.3441465937457293, 'colsample_bytree': 0.04046040642060881, 'reg_alpha': 0.6415505139847857, 'reg_lambda': 4.76938388681409e-07}. Best is trial 221 with value: 0.8070707070707072.\u001b[0m\n",
      "\u001b[32m[I 2023-06-22 22:04:59,477]\u001b[0m Trial 268 finished with value: 0.7696969696969697 and parameters: {'n_estimators': 211, 'max_depth': 4, 'learning_rate': 0.11142194460835639, 'min_child_weight': 6, 'gamma': 0.00044598741197788227, 'subsample': 0.31256481312316337, 'colsample_bytree': 0.03293542549224262, 'reg_alpha': 0.1503255989494855, 'reg_lambda': 1.0642986712804292e-06}. Best is trial 221 with value: 0.8070707070707072.\u001b[0m\n",
      "\u001b[32m[I 2023-06-22 22:04:59,791]\u001b[0m Trial 269 finished with value: 0.7303030303030302 and parameters: {'n_estimators': 227, 'max_depth': 4, 'learning_rate': 0.3331888747670281, 'min_child_weight': 6, 'gamma': 5.327292665541716e-07, 'subsample': 0.11856581572174066, 'colsample_bytree': 0.0768497689405285, 'reg_alpha': 0.2846659737112218, 'reg_lambda': 3.0661237608840695e-07}. Best is trial 221 with value: 0.8070707070707072.\u001b[0m\n",
      "\u001b[32m[I 2023-06-22 22:05:00,138]\u001b[0m Trial 270 finished with value: 0.6969696969696969 and parameters: {'n_estimators': 246, 'max_depth': 4, 'learning_rate': 0.4572325287719924, 'min_child_weight': 6, 'gamma': 0.0006236781736456428, 'subsample': 0.2155464642405668, 'colsample_bytree': 0.03745431320654969, 'reg_alpha': 0.05890995695158892, 'reg_lambda': 6.484414522899962e-07}. Best is trial 221 with value: 0.8070707070707072.\u001b[0m\n",
      "\u001b[32m[I 2023-06-22 22:05:00,458]\u001b[0m Trial 271 finished with value: 0.7737373737373737 and parameters: {'n_estimators': 204, 'max_depth': 3, 'learning_rate': 0.06501688093224739, 'min_child_weight': 7, 'gamma': 2.0860178594808464e-05, 'subsample': 0.26685922270644297, 'colsample_bytree': 0.03279837595298696, 'reg_alpha': 0.15726391135343223, 'reg_lambda': 4.0408003073693794e-07}. Best is trial 221 with value: 0.8070707070707072.\u001b[0m\n",
      "\u001b[32m[I 2023-06-22 22:05:00,825]\u001b[0m Trial 272 finished with value: 0.7474747474747476 and parameters: {'n_estimators': 260, 'max_depth': 5, 'learning_rate': 0.1359272181512067, 'min_child_weight': 6, 'gamma': 0.0010195238938312638, 'subsample': 0.23620549311541045, 'colsample_bytree': 0.04217596706849644, 'reg_alpha': 0.09684503097721771, 'reg_lambda': 1.1658862570332276e-05}. Best is trial 221 with value: 0.8070707070707072.\u001b[0m\n",
      "\u001b[32m[I 2023-06-22 22:05:01,166]\u001b[0m Trial 273 finished with value: 0.7797979797979798 and parameters: {'n_estimators': 217, 'max_depth': 4, 'learning_rate': 0.04295647765360225, 'min_child_weight': 6, 'gamma': 0.10261890997392917, 'subsample': 0.28462510006476416, 'colsample_bytree': 0.035490911701597995, 'reg_alpha': 0.62531035196879, 'reg_lambda': 9.950542718022041e-08}. Best is trial 221 with value: 0.8070707070707072.\u001b[0m\n",
      "\u001b[32m[I 2023-06-22 22:05:01,546]\u001b[0m Trial 274 finished with value: 0.7868686868686869 and parameters: {'n_estimators': 237, 'max_depth': 4, 'learning_rate': 0.09181733657783417, 'min_child_weight': 6, 'gamma': 3.5912548415330094e-07, 'subsample': 0.2522538213388253, 'colsample_bytree': 0.030341596348438957, 'reg_alpha': 2.092353419747783e-06, 'reg_lambda': 8.175317777515764e-07}. Best is trial 221 with value: 0.8070707070707072.\u001b[0m\n",
      "\u001b[32m[I 2023-06-22 22:05:01,937]\u001b[0m Trial 275 finished with value: 0.7131313131313132 and parameters: {'n_estimators': 226, 'max_depth': 4, 'learning_rate': 0.011068156286850428, 'min_child_weight': 6, 'gamma': 0.000747548771954111, 'subsample': 0.9251081485063318, 'colsample_bytree': 0.03750637059100944, 'reg_alpha': 0.9879051639389143, 'reg_lambda': 1.3787226176549583e-06}. Best is trial 221 with value: 0.8070707070707072.\u001b[0m\n",
      "\u001b[32m[I 2023-06-22 22:05:02,309]\u001b[0m Trial 276 finished with value: 0.7595959595959596 and parameters: {'n_estimators': 213, 'max_depth': 4, 'learning_rate': 0.07129941411765622, 'min_child_weight': 6, 'gamma': 0.002232833899821959, 'subsample': 0.3243509342234062, 'colsample_bytree': 0.02576923900432666, 'reg_alpha': 0.3584717917766714, 'reg_lambda': 3.798557219760656e-06}. Best is trial 221 with value: 0.8070707070707072.\u001b[0m\n",
      "\u001b[32m[I 2023-06-22 22:05:02,670]\u001b[0m Trial 277 finished with value: 0.7595959595959596 and parameters: {'n_estimators': 222, 'max_depth': 4, 'learning_rate': 0.054914640261396905, 'min_child_weight': 6, 'gamma': 0.00021287375946495575, 'subsample': 0.38332774763071836, 'colsample_bytree': 0.03083044145626578, 'reg_alpha': 0.22539152306209462, 'reg_lambda': 2.6694238812281538e-06}. Best is trial 221 with value: 0.8070707070707072.\u001b[0m\n",
      "\u001b[32m[I 2023-06-22 22:05:02,974]\u001b[0m Trial 278 finished with value: 0.7333333333333333 and parameters: {'n_estimators': 199, 'max_depth': 4, 'learning_rate': 0.36143115686211674, 'min_child_weight': 6, 'gamma': 0.0005680643879310548, 'subsample': 0.21919915956864303, 'colsample_bytree': 0.047263452493144016, 'reg_alpha': 0.04535808268332643, 'reg_lambda': 5.380511027816165e-07}. Best is trial 221 with value: 0.8070707070707072.\u001b[0m\n",
      "\u001b[32m[I 2023-06-22 22:05:03,326]\u001b[0m Trial 279 finished with value: 0.7050505050505051 and parameters: {'n_estimators': 233, 'max_depth': 3, 'learning_rate': 0.2570088601587589, 'min_child_weight': 6, 'gamma': 6.670489146174365e-07, 'subsample': 0.2684868399125726, 'colsample_bytree': 0.12607579102055969, 'reg_alpha': 0.06131395682991476, 'reg_lambda': 3.8487649300016774e-07}. Best is trial 221 with value: 0.8070707070707072.\u001b[0m\n",
      "\u001b[32m[I 2023-06-22 22:05:03,682]\u001b[0m Trial 280 finished with value: 0.7494949494949495 and parameters: {'n_estimators': 245, 'max_depth': 4, 'learning_rate': 0.10386412791480795, 'min_child_weight': 6, 'gamma': 0.0009413887323408386, 'subsample': 0.23682492543931952, 'colsample_bytree': 0.041127119863725754, 'reg_alpha': 0.529383934226775, 'reg_lambda': 2.0313264564006375e-06}. Best is trial 221 with value: 0.8070707070707072.\u001b[0m\n",
      "\u001b[32m[I 2023-06-22 22:05:03,993]\u001b[0m Trial 281 finished with value: 0.7090909090909091 and parameters: {'n_estimators': 209, 'max_depth': 4, 'learning_rate': 0.4240830981979651, 'min_child_weight': 6, 'gamma': 0.00010388927379898489, 'subsample': 0.1872454096441014, 'colsample_bytree': 0.03448162408131982, 'reg_alpha': 0.03309962794097019, 'reg_lambda': 0.12714335190075737}. Best is trial 221 with value: 0.8070707070707072.\u001b[0m\n",
      "\u001b[32m[I 2023-06-22 22:05:04,343]\u001b[0m Trial 282 finished with value: 0.7737373737373737 and parameters: {'n_estimators': 223, 'max_depth': 4, 'learning_rate': 0.08025882818050309, 'min_child_weight': 7, 'gamma': 8.768359243706742e-07, 'subsample': 0.2986554253843644, 'colsample_bytree': 0.029064197190254784, 'reg_alpha': 0.08233088250197515, 'reg_lambda': 7.801157009534743e-07}. Best is trial 221 with value: 0.8070707070707072.\u001b[0m\n",
      "\u001b[32m[I 2023-06-22 22:05:04,683]\u001b[0m Trial 283 finished with value: 0.7747474747474747 and parameters: {'n_estimators': 235, 'max_depth': 4, 'learning_rate': 0.039253773850386364, 'min_child_weight': 6, 'gamma': 4.6627039094886255e-07, 'subsample': 0.20837696182319876, 'colsample_bytree': 0.021096659845320387, 'reg_alpha': 0.11532840308702383, 'reg_lambda': 9.689017673919542e-08}. Best is trial 221 with value: 0.8070707070707072.\u001b[0m\n",
      "\u001b[32m[I 2023-06-22 22:05:05,016]\u001b[0m Trial 284 finished with value: 0.7212121212121212 and parameters: {'n_estimators': 215, 'max_depth': 4, 'learning_rate': 0.31815121819431147, 'min_child_weight': 6, 'gamma': 2.964566824305586e-07, 'subsample': 0.2558878906676506, 'colsample_bytree': 0.023741286165476834, 'reg_alpha': 0.7735528340992109, 'reg_lambda': 2.5079807883861885e-07}. Best is trial 221 with value: 0.8070707070707072.\u001b[0m\n",
      "\u001b[32m[I 2023-06-22 22:05:05,409]\u001b[0m Trial 285 finished with value: 0.7919191919191919 and parameters: {'n_estimators': 254, 'max_depth': 4, 'learning_rate': 0.06606152507622758, 'min_child_weight': 6, 'gamma': 1.3215029726321273e-06, 'subsample': 0.23402804099316185, 'colsample_bytree': 0.031931375858619646, 'reg_alpha': 3.7965335726956335e-07, 'reg_lambda': 1.970152684196296e-05}. Best is trial 221 with value: 0.8070707070707072.\u001b[0m\n",
      "\u001b[32m[I 2023-06-22 22:05:05,767]\u001b[0m Trial 286 finished with value: 0.7555555555555555 and parameters: {'n_estimators': 257, 'max_depth': 4, 'learning_rate': 0.052242757977771254, 'min_child_weight': 6, 'gamma': 1.3876044509628839e-06, 'subsample': 0.17249782737496364, 'colsample_bytree': 0.03302352577758634, 'reg_alpha': 0.03866031714413655, 'reg_lambda': 3.2218855214333875e-05}. Best is trial 221 with value: 0.8070707070707072.\u001b[0m\n",
      "\u001b[32m[I 2023-06-22 22:05:06,137]\u001b[0m Trial 287 finished with value: 0.7303030303030302 and parameters: {'n_estimators': 269, 'max_depth': 5, 'learning_rate': 0.1463984909083219, 'min_child_weight': 6, 'gamma': 0.01029163012417584, 'subsample': 0.22813102012184516, 'colsample_bytree': 0.037025273244723, 'reg_alpha': 0.000333602717720184, 'reg_lambda': 1.9100716048677542e-05}. Best is trial 221 with value: 0.8070707070707072.\u001b[0m\n",
      "\u001b[32m[I 2023-06-22 22:05:06,488]\u001b[0m Trial 288 finished with value: 0.7535353535353535 and parameters: {'n_estimators': 248, 'max_depth': 4, 'learning_rate': 0.09398246966934315, 'min_child_weight': 6, 'gamma': 1.845438725331143e-06, 'subsample': 0.20178238573483961, 'colsample_bytree': 0.026372590458071072, 'reg_alpha': 0.0005493822405105588, 'reg_lambda': 0.00021687440365632973}. Best is trial 221 with value: 0.8070707070707072.\u001b[0m\n",
      "\u001b[32m[I 2023-06-22 22:05:06,867]\u001b[0m Trial 289 finished with value: 0.7707070707070708 and parameters: {'n_estimators': 243, 'max_depth': 4, 'learning_rate': 0.025048626158568635, 'min_child_weight': 6, 'gamma': 1.2024042582571324e-06, 'subsample': 0.28821329193053796, 'colsample_bytree': 0.03952103652410275, 'reg_alpha': 7.64165011230139e-05, 'reg_lambda': 0.00039139661257096055}. Best is trial 221 with value: 0.8070707070707072.\u001b[0m\n",
      "\u001b[32m[I 2023-06-22 22:05:07,224]\u001b[0m Trial 290 finished with value: 0.7525252525252525 and parameters: {'n_estimators': 254, 'max_depth': 4, 'learning_rate': 0.11701005895548608, 'min_child_weight': 6, 'gamma': 2.5570775990411963e-08, 'subsample': 0.22566650597884708, 'colsample_bytree': 0.03139872853327337, 'reg_alpha': 2.471855646716128e-08, 'reg_lambda': 4.324238018853379e-05}. Best is trial 221 with value: 0.8070707070707072.\u001b[0m\n",
      "\u001b[32m[I 2023-06-22 22:05:07,568]\u001b[0m Trial 291 finished with value: 0.7242424242424242 and parameters: {'n_estimators': 236, 'max_depth': 4, 'learning_rate': 0.23848087779905192, 'min_child_weight': 7, 'gamma': 8.313019650072533e-07, 'subsample': 0.3205640063462209, 'colsample_bytree': 0.03485342916995848, 'reg_alpha': 1.7892476957203554e-05, 'reg_lambda': 0.0001847757976920037}. Best is trial 221 with value: 0.8070707070707072.\u001b[0m\n",
      "\u001b[32m[I 2023-06-22 22:05:07,921]\u001b[0m Trial 292 finished with value: 0.7535353535353535 and parameters: {'n_estimators': 227, 'max_depth': 4, 'learning_rate': 0.07579317782228327, 'min_child_weight': 6, 'gamma': 1.9010597628748162e-07, 'subsample': 0.27476802649522397, 'colsample_bytree': 0.044076038795626396, 'reg_alpha': 9.77993000270031e-07, 'reg_lambda': 4.040849760513946e-06}. Best is trial 221 with value: 0.8070707070707072.\u001b[0m\n",
      "\u001b[32m[I 2023-06-22 22:05:08,296]\u001b[0m Trial 293 finished with value: 0.7919191919191919 and parameters: {'n_estimators': 240, 'max_depth': 4, 'learning_rate': 0.051995977621690156, 'min_child_weight': 6, 'gamma': 0.00011531908095148965, 'subsample': 0.2413630362462196, 'colsample_bytree': 0.027728240546910282, 'reg_alpha': 3.5946561380009615e-07, 'reg_lambda': 0.00026871853409844796}. Best is trial 221 with value: 0.8070707070707072.\u001b[0m\n",
      "\u001b[32m[I 2023-06-22 22:05:08,649]\u001b[0m Trial 294 finished with value: 0.7333333333333333 and parameters: {'n_estimators': 249, 'max_depth': 3, 'learning_rate': 0.5244631264662195, 'min_child_weight': 6, 'gamma': 0.0005881907407775498, 'subsample': 0.1963223152378459, 'colsample_bytree': 0.032091241332701054, 'reg_alpha': 2.3000602674768643e-07, 'reg_lambda': 1.065814362267766e-05}. Best is trial 221 with value: 0.8070707070707072.\u001b[0m\n",
      "\u001b[32m[I 2023-06-22 22:05:08,973]\u001b[0m Trial 295 finished with value: 0.7484848484848485 and parameters: {'n_estimators': 241, 'max_depth': 4, 'learning_rate': 0.3843969004494821, 'min_child_weight': 4, 'gamma': 1.4699501734526439e-08, 'subsample': 0.07673862578793907, 'colsample_bytree': 0.03705111303420386, 'reg_alpha': 1.2409474788378227e-07, 'reg_lambda': 0.0005143154998075731}. Best is trial 221 with value: 0.8070707070707072.\u001b[0m\n",
      "\u001b[32m[I 2023-06-22 22:05:09,392]\u001b[0m Trial 296 finished with value: 0.6767676767676767 and parameters: {'n_estimators': 262, 'max_depth': 4, 'learning_rate': 0.4090000631508415, 'min_child_weight': 6, 'gamma': 0.0003714029179914806, 'subsample': 0.5122160453996675, 'colsample_bytree': 0.028258640948339867, 'reg_alpha': 3.856837930459028e-07, 'reg_lambda': 0.00031841041921813615}. Best is trial 221 with value: 0.8070707070707072.\u001b[0m\n",
      "\u001b[32m[I 2023-06-22 22:05:09,742]\u001b[0m Trial 297 finished with value: 0.7191919191919192 and parameters: {'n_estimators': 235, 'max_depth': 4, 'learning_rate': 0.18060341634298113, 'min_child_weight': 7, 'gamma': 0.0002465700524091518, 'subsample': 0.25025230203151216, 'colsample_bytree': 0.04165356842438399, 'reg_alpha': 9.286643764921026e-06, 'reg_lambda': 0.0002664609139497589}. Best is trial 221 with value: 0.8070707070707072.\u001b[0m\n",
      "\u001b[32m[I 2023-06-22 22:05:10,199]\u001b[0m Trial 298 finished with value: 0.7484848484848485 and parameters: {'n_estimators': 253, 'max_depth': 4, 'learning_rate': 0.06518583846970004, 'min_child_weight': 6, 'gamma': 6.222815095809023e-05, 'subsample': 0.4180518020403795, 'colsample_bytree': 0.05240948735172351, 'reg_alpha': 0.021487291523722606, 'reg_lambda': 0.0006101106743712826}. Best is trial 221 with value: 0.8070707070707072.\u001b[0m\n",
      "\u001b[32m[I 2023-06-22 22:05:10,505]\u001b[0m Trial 299 finished with value: 0.5 and parameters: {'n_estimators': 231, 'max_depth': 4, 'learning_rate': 0.09589612275898961, 'min_child_weight': 6, 'gamma': 8.447298470303222e-05, 'subsample': 0.06627412301067151, 'colsample_bytree': 0.03301213946231575, 'reg_alpha': 1.1360247688946951e-08, 'reg_lambda': 5.3162051790695815e-06}. Best is trial 221 with value: 0.8070707070707072.\u001b[0m\n",
      "\u001b[32m[I 2023-06-22 22:05:10,811]\u001b[0m Trial 300 finished with value: 0.5 and parameters: {'n_estimators': 202, 'max_depth': 4, 'learning_rate': 0.03390065849672628, 'min_child_weight': 10, 'gamma': 9.949624872728974e-06, 'subsample': 0.13743987571508218, 'colsample_bytree': 0.02319433357006391, 'reg_alpha': 4.7385609220168076e-07, 'reg_lambda': 0.00039766445906373754}. Best is trial 221 with value: 0.8070707070707072.\u001b[0m\n",
      "\u001b[32m[I 2023-06-22 22:05:11,185]\u001b[0m Trial 301 finished with value: 0.7626262626262627 and parameters: {'n_estimators': 241, 'max_depth': 4, 'learning_rate': 0.08011154865521833, 'min_child_weight': 6, 'gamma': 3.269467945508861e-07, 'subsample': 0.3613288730973444, 'colsample_bytree': 0.030175583457882144, 'reg_alpha': 5.324464086747247e-08, 'reg_lambda': 0.00026206608819180275}. Best is trial 221 with value: 0.8070707070707072.\u001b[0m\n",
      "\u001b[32m[I 2023-06-22 22:05:11,517]\u001b[0m Trial 302 finished with value: 0.7393939393939394 and parameters: {'n_estimators': 221, 'max_depth': 4, 'learning_rate': 0.26850204050810944, 'min_child_weight': 6, 'gamma': 0.00017067527909380307, 'subsample': 0.21417932549577495, 'colsample_bytree': 0.026408730102458526, 'reg_alpha': 0.04823824362954846, 'reg_lambda': 5.5686327591752446e-05}. Best is trial 221 with value: 0.8070707070707072.\u001b[0m\n",
      "\u001b[32m[I 2023-06-22 22:05:11,875]\u001b[0m Trial 303 finished with value: 0.702020202020202 and parameters: {'n_estimators': 208, 'max_depth': 4, 'learning_rate': 0.1627874754635756, 'min_child_weight': 4, 'gamma': 1.5166338850713234e-05, 'subsample': 0.29940089788647917, 'colsample_bytree': 0.0961789438540625, 'reg_alpha': 0.029370565607307407, 'reg_lambda': 8.338397685348557e-06}. Best is trial 221 with value: 0.8070707070707072.\u001b[0m\n",
      "\u001b[32m[I 2023-06-22 22:05:12,230]\u001b[0m Trial 304 finished with value: 0.7737373737373737 and parameters: {'n_estimators': 228, 'max_depth': 5, 'learning_rate': 0.053559848355927545, 'min_child_weight': 6, 'gamma': 2.8233524871147713e-05, 'subsample': 0.2703643039418612, 'colsample_bytree': 0.035502006172153884, 'reg_alpha': 0.31637809358988117, 'reg_lambda': 4.883945724684849e-07}. Best is trial 221 with value: 0.8070707070707072.\u001b[0m\n",
      "\u001b[32m[I 2023-06-22 22:05:12,607]\u001b[0m Trial 305 finished with value: 0.7202020202020203 and parameters: {'n_estimators': 242, 'max_depth': 4, 'learning_rate': 0.12173515666090265, 'min_child_weight': 5, 'gamma': 5.418274704517296e-07, 'subsample': 0.23405464334364978, 'colsample_bytree': 0.9077431893431005, 'reg_alpha': 0.06928108947103204, 'reg_lambda': 2.9362494628850093e-05}. Best is trial 221 with value: 0.8070707070707072.\u001b[0m\n",
      "\u001b[32m[I 2023-06-22 22:05:12,932]\u001b[0m Trial 306 finished with value: 0.7323232323232323 and parameters: {'n_estimators': 216, 'max_depth': 4, 'learning_rate': 0.20969668879573392, 'min_child_weight': 6, 'gamma': 0.00010560754289485775, 'subsample': 0.17618770487525048, 'colsample_bytree': 0.03125156462527007, 'reg_alpha': 0.00018025062832196067, 'reg_lambda': 3.3070757840341993e-06}. Best is trial 221 with value: 0.8070707070707072.\u001b[0m\n",
      "\u001b[32m[I 2023-06-22 22:05:13,328]\u001b[0m Trial 307 finished with value: 0.709090909090909 and parameters: {'n_estimators': 231, 'max_depth': 4, 'learning_rate': 0.011478928643660041, 'min_child_weight': 3, 'gamma': 9.445596104343779e-07, 'subsample': 0.2583882516223761, 'colsample_bytree': 0.22986296051545035, 'reg_alpha': 0.20738958411258498, 'reg_lambda': 0.00010796141339419421}. Best is trial 221 with value: 0.8070707070707072.\u001b[0m\n",
      "\u001b[32m[I 2023-06-22 22:05:13,774]\u001b[0m Trial 308 finished with value: 0.7292929292929293 and parameters: {'n_estimators': 274, 'max_depth': 3, 'learning_rate': 0.06459727647057888, 'min_child_weight': 5, 'gamma': 5.4911441958672794e-05, 'subsample': 0.33610786300561524, 'colsample_bytree': 0.038589575217056034, 'reg_alpha': 3.1181036261399874e-05, 'reg_lambda': 0.0002184250366076941}. Best is trial 221 with value: 0.8070707070707072.\u001b[0m\n",
      "\u001b[32m[I 2023-06-22 22:05:14,132]\u001b[0m Trial 309 finished with value: 0.7565656565656566 and parameters: {'n_estimators': 198, 'max_depth': 4, 'learning_rate': 0.03751764770634304, 'min_child_weight': 6, 'gamma': 1.4146720733285723e-07, 'subsample': 0.21741937071116554, 'colsample_bytree': 0.04790109807077694, 'reg_alpha': 5.338667844350869e-06, 'reg_lambda': 7.610614700239773e-05}. Best is trial 221 with value: 0.8070707070707072.\u001b[0m\n",
      "\u001b[32m[I 2023-06-22 22:05:14,511]\u001b[0m Trial 310 finished with value: 0.7585858585858585 and parameters: {'n_estimators': 250, 'max_depth': 4, 'learning_rate': 0.09773719256164737, 'min_child_weight': 6, 'gamma': 0.0009549234048320127, 'subsample': 0.28147817186796326, 'colsample_bytree': 0.024933836896280502, 'reg_alpha': 0.0384132217541045, 'reg_lambda': 1.9872387746151087e-05}. Best is trial 221 with value: 0.8070707070707072.\u001b[0m\n",
      "\u001b[32m[I 2023-06-22 22:05:14,853]\u001b[0m Trial 311 finished with value: 0.788888888888889 and parameters: {'n_estimators': 221, 'max_depth': 7, 'learning_rate': 0.07714751647972753, 'min_child_weight': 5, 'gamma': 0.00014063321648944557, 'subsample': 0.24152101794194616, 'colsample_bytree': 0.02824709212387447, 'reg_alpha': 0.14432302585204218, 'reg_lambda': 3.19822661007793e-07}. Best is trial 221 with value: 0.8070707070707072.\u001b[0m\n",
      "\u001b[32m[I 2023-06-22 22:05:15,189]\u001b[0m Trial 312 finished with value: 0.7656565656565657 and parameters: {'n_estimators': 211, 'max_depth': 4, 'learning_rate': 0.05455499654430808, 'min_child_weight': 6, 'gamma': 0.9374954459582162, 'subsample': 0.19265438011800368, 'colsample_bytree': 0.03408917003576022, 'reg_alpha': 0.023421136377251375, 'reg_lambda': 0.0003761033346817008}. Best is trial 221 with value: 0.8070707070707072.\u001b[0m\n",
      "\u001b[32m[I 2023-06-22 22:05:15,553]\u001b[0m Trial 313 finished with value: 0.7383838383838384 and parameters: {'n_estimators': 237, 'max_depth': 2, 'learning_rate': 0.03070252563474589, 'min_child_weight': 7, 'gamma': 2.4944623393653457e-07, 'subsample': 0.6096550623381213, 'colsample_bytree': 0.07011062658860509, 'reg_alpha': 0.0023900152224581137, 'reg_lambda': 1.3888560023081041e-05}. Best is trial 221 with value: 0.8070707070707072.\u001b[0m\n",
      "\u001b[32m[I 2023-06-22 22:05:15,913]\u001b[0m Trial 314 finished with value: 0.7535353535353535 and parameters: {'n_estimators': 227, 'max_depth': 4, 'learning_rate': 0.11526324256442556, 'min_child_weight': 6, 'gamma': 3.766055511862819e-05, 'subsample': 0.3034994149087049, 'colsample_bytree': 0.020740943418310013, 'reg_alpha': 0.0011825905737842964, 'reg_lambda': 0.00015640124246190905}. Best is trial 221 with value: 0.8070707070707072.\u001b[0m\n",
      "\u001b[32m[I 2023-06-22 22:05:16,282]\u001b[0m Trial 315 finished with value: 0.706060606060606 and parameters: {'n_estimators': 218, 'max_depth': 4, 'learning_rate': 0.2981721268144174, 'min_child_weight': 4, 'gamma': 2.304258415692072e-06, 'subsample': 0.2637333510048718, 'colsample_bytree': 0.042463910115434246, 'reg_alpha': 0.4587678201637124, 'reg_lambda': 0.029938955210545532}. Best is trial 221 with value: 0.8070707070707072.\u001b[0m\n",
      "\u001b[32m[I 2023-06-22 22:05:16,613]\u001b[0m Trial 316 finished with value: 0.7616161616161616 and parameters: {'n_estimators': 204, 'max_depth': 4, 'learning_rate': 0.08457006191392624, 'min_child_weight': 6, 'gamma': 6.675886768338409e-07, 'subsample': 0.22511053597706254, 'colsample_bytree': 0.03160720093731253, 'reg_alpha': 0.053199378855854365, 'reg_lambda': 0.0007083719564186515}. Best is trial 221 with value: 0.8070707070707072.\u001b[0m\n",
      "\u001b[32m[I 2023-06-22 22:05:17,125]\u001b[0m Trial 317 finished with value: 0.6757575757575757 and parameters: {'n_estimators': 499, 'max_depth': 4, 'learning_rate': 0.6537336140132499, 'min_child_weight': 5, 'gamma': 4.2991969341046536e-07, 'subsample': 0.15858129504288637, 'colsample_bytree': 0.03594160834818447, 'reg_alpha': 0.0001660802059026757, 'reg_lambda': 0.044008948632591555}. Best is trial 221 with value: 0.8070707070707072.\u001b[0m\n",
      "\u001b[32m[I 2023-06-22 22:05:17,502]\u001b[0m Trial 318 finished with value: 0.7595959595959596 and parameters: {'n_estimators': 232, 'max_depth': 4, 'learning_rate': 0.05132435562811473, 'min_child_weight': 6, 'gamma': 9.69869022540043e-07, 'subsample': 0.3817594870054002, 'colsample_bytree': 0.028310640285368185, 'reg_alpha': 0.10393043752967945, 'reg_lambda': 1.1186093915108499e-06}. Best is trial 221 with value: 0.8070707070707072.\u001b[0m\n",
      "\u001b[32m[I 2023-06-22 22:05:18,007]\u001b[0m Trial 319 finished with value: 0.7646464646464647 and parameters: {'n_estimators': 411, 'max_depth': 4, 'learning_rate': 0.06426576605319093, 'min_child_weight': 5, 'gamma': 0.5723133426024891, 'subsample': 0.2469469422121876, 'colsample_bytree': 0.06017893440645661, 'reg_alpha': 0.00030436487588022116, 'reg_lambda': 5.9620387255583e-07}. Best is trial 221 with value: 0.8070707070707072.\u001b[0m\n",
      "\u001b[32m[I 2023-06-22 22:05:18,435]\u001b[0m Trial 320 finished with value: 0.7242424242424242 and parameters: {'n_estimators': 339, 'max_depth': 4, 'learning_rate': 0.13554712028441973, 'min_child_weight': 6, 'gamma': 0.0002369612648506589, 'subsample': 0.20412220218394908, 'colsample_bytree': 0.03908848034912889, 'reg_alpha': 4.899694309742091e-05, 'reg_lambda': 1.6357159846209321e-06}. Best is trial 221 with value: 0.8070707070707072.\u001b[0m\n",
      "\u001b[32m[I 2023-06-22 22:05:18,805]\u001b[0m Trial 321 finished with value: 0.7535353535353535 and parameters: {'n_estimators': 264, 'max_depth': 4, 'learning_rate': 0.09871334556687596, 'min_child_weight': 6, 'gamma': 3.896341145705398e-06, 'subsample': 0.28698463211049585, 'colsample_bytree': 0.05489293392938362, 'reg_alpha': 0.024302994431825937, 'reg_lambda': 0.00822980068661581}. Best is trial 221 with value: 0.8070707070707072.\u001b[0m\n",
      "\u001b[32m[I 2023-06-22 22:05:19,170]\u001b[0m Trial 322 finished with value: 0.7525252525252525 and parameters: {'n_estimators': 241, 'max_depth': 4, 'learning_rate': 0.02839310190805915, 'min_child_weight': 5, 'gamma': 1.3861673380081979e-06, 'subsample': 0.2346023430690612, 'colsample_bytree': 0.026286907141637613, 'reg_alpha': 0.0008363658296473207, 'reg_lambda': 0.801403410023897}. Best is trial 221 with value: 0.8070707070707072.\u001b[0m\n",
      "\u001b[32m[I 2023-06-22 22:05:19,472]\u001b[0m Trial 323 finished with value: 0.6484848484848484 and parameters: {'n_estimators': 214, 'max_depth': 5, 'learning_rate': 0.3441321883602993, 'min_child_weight': 6, 'gamma': 9.316732675978017e-08, 'subsample': 0.10017474315482178, 'colsample_bytree': 0.030116945923958364, 'reg_alpha': 0.0004172621196896393, 'reg_lambda': 0.0004726416254503316}. Best is trial 221 with value: 0.8070707070707072.\u001b[0m\n",
      "\u001b[32m[I 2023-06-22 22:05:20,024]\u001b[0m Trial 324 finished with value: 0.7393939393939394 and parameters: {'n_estimators': 461, 'max_depth': 4, 'learning_rate': 0.07389105600716817, 'min_child_weight': 6, 'gamma': 6.358474558508962e-06, 'subsample': 0.320332454961643, 'colsample_bytree': 0.04595315695805679, 'reg_alpha': 0.03289975404346096, 'reg_lambda': 0.00012134319030786446}. Best is trial 221 with value: 0.8070707070707072.\u001b[0m\n",
      "\u001b[32m[I 2023-06-22 22:05:20,384]\u001b[0m Trial 325 finished with value: 0.7636363636363634 and parameters: {'n_estimators': 223, 'max_depth': 3, 'learning_rate': 0.04401091161813674, 'min_child_weight': 5, 'gamma': 0.00010944988697949615, 'subsample': 0.2689015556958954, 'colsample_bytree': 0.03311554968914479, 'reg_alpha': 0.3529210503545364, 'reg_lambda': 0.0002918589610218643}. Best is trial 221 with value: 0.8070707070707072.\u001b[0m\n",
      "\u001b[32m[I 2023-06-22 22:05:20,755]\u001b[0m Trial 326 finished with value: 0.7676767676767676 and parameters: {'n_estimators': 247, 'max_depth': 4, 'learning_rate': 0.08907457440384121, 'min_child_weight': 4, 'gamma': 2.344152334579479e-05, 'subsample': 0.2059684999763974, 'colsample_bytree': 0.023698112336210893, 'reg_alpha': 1.2681386925221543e-07, 'reg_lambda': 5.105342731430902e-06}. Best is trial 221 with value: 0.8070707070707072.\u001b[0m\n",
      "\u001b[32m[I 2023-06-22 22:05:21,079]\u001b[0m Trial 327 finished with value: 0.6929292929292928 and parameters: {'n_estimators': 230, 'max_depth': 4, 'learning_rate': 0.4614766252014115, 'min_child_weight': 6, 'gamma': 0.0004573067635846077, 'subsample': 0.11590408357175036, 'colsample_bytree': 0.037030577310075946, 'reg_alpha': 8.316595091824011e-07, 'reg_lambda': 0.00018816373886449355}. Best is trial 221 with value: 0.8070707070707072.\u001b[0m\n",
      "\u001b[32m[I 2023-06-22 22:05:21,381]\u001b[0m Trial 328 finished with value: 0.5676767676767678 and parameters: {'n_estimators': 195, 'max_depth': 4, 'learning_rate': 0.10927337140056381, 'min_child_weight': 7, 'gamma': 6.314863145625136e-07, 'subsample': 0.09010057610469292, 'colsample_bytree': 0.029789995363862964, 'reg_alpha': 0.6588149865822682, 'reg_lambda': 2.3259757035762377e-07}. Best is trial 221 with value: 0.8070707070707072.\u001b[0m\n",
      "\u001b[32m[I 2023-06-22 22:05:21,720]\u001b[0m Trial 329 finished with value: 0.7838383838383838 and parameters: {'n_estimators': 208, 'max_depth': 4, 'learning_rate': 0.06260825149233139, 'min_child_weight': 6, 'gamma': 1.9470592356416465e-06, 'subsample': 0.2468336540705438, 'colsample_bytree': 0.033077695673945424, 'reg_alpha': 0.07908925071553796, 'reg_lambda': 1.4888780849180768e-07}. Best is trial 221 with value: 0.8070707070707072.\u001b[0m\n",
      "\u001b[32m[I 2023-06-22 22:05:22,100]\u001b[0m Trial 330 finished with value: 0.7333333333333334 and parameters: {'n_estimators': 257, 'max_depth': 4, 'learning_rate': 0.04481199146007146, 'min_child_weight': 5, 'gamma': 1.2556863667332231e-05, 'subsample': 0.12746795731025015, 'colsample_bytree': 0.0257689229198537, 'reg_alpha': 0.018851159468184827, 'reg_lambda': 7.134262673464939e-05}. Best is trial 221 with value: 0.8070707070707072.\u001b[0m\n",
      "\u001b[32m[I 2023-06-22 22:05:22,455]\u001b[0m Trial 331 finished with value: 0.6767676767676768 and parameters: {'n_estimators': 237, 'max_depth': 4, 'learning_rate': 0.01150298271174427, 'min_child_weight': 6, 'gamma': 4.0379675722154834e-07, 'subsample': 0.1821062899477476, 'colsample_bytree': 0.04102460517942649, 'reg_alpha': 0.24369098449749774, 'reg_lambda': 2.1883264907247008e-05}. Best is trial 221 with value: 0.8070707070707072.\u001b[0m\n",
      "\u001b[32m[I 2023-06-22 22:05:22,802]\u001b[0m Trial 332 finished with value: 0.7101010101010101 and parameters: {'n_estimators': 220, 'max_depth': 4, 'learning_rate': 0.8545230550136449, 'min_child_weight': 6, 'gamma': 0.0028064491151771065, 'subsample': 0.2830267685449373, 'colsample_bytree': 0.028108413257485993, 'reg_alpha': 4.46868263125856e-07, 'reg_lambda': 0.0009312931124951236}. Best is trial 221 with value: 0.8070707070707072.\u001b[0m\n",
      "\u001b[32m[I 2023-06-22 22:05:23,149]\u001b[0m Trial 333 finished with value: 0.7383838383838384 and parameters: {'n_estimators': 227, 'max_depth': 4, 'learning_rate': 0.2028181866090544, 'min_child_weight': 5, 'gamma': 1.0525304427903099e-06, 'subsample': 0.21811384501554046, 'colsample_bytree': 0.03530597316288003, 'reg_alpha': 3.5387020022347314e-06, 'reg_lambda': 0.0003703173145235073}. Best is trial 221 with value: 0.8070707070707072.\u001b[0m\n",
      "\u001b[32m[I 2023-06-22 22:05:23,515]\u001b[0m Trial 334 finished with value: 0.7404040404040404 and parameters: {'n_estimators': 209, 'max_depth': 5, 'learning_rate': 0.08293313216085546, 'min_child_weight': 6, 'gamma': 3.7484689079490875e-06, 'subsample': 0.33596382829772903, 'colsample_bytree': 0.019287779707151415, 'reg_alpha': 1.6389081285273254e-06, 'reg_lambda': 4.227408698179895e-05}. Best is trial 221 with value: 0.8070707070707072.\u001b[0m\n",
      "\u001b[32m[I 2023-06-22 22:05:23,905]\u001b[0m Trial 335 finished with value: 0.787878787878788 and parameters: {'n_estimators': 246, 'max_depth': 4, 'learning_rate': 0.06945045424555694, 'min_child_weight': 6, 'gamma': 0.0002599511117207017, 'subsample': 0.26241922565064174, 'colsample_bytree': 0.03084675621009875, 'reg_alpha': 0.04424993622105616, 'reg_lambda': 4.580206974090311e-08}. Best is trial 221 with value: 0.8070707070707072.\u001b[0m\n",
      "\u001b[32m[I 2023-06-22 22:05:24,272]\u001b[0m Trial 336 finished with value: 0.7484848484848485 and parameters: {'n_estimators': 235, 'max_depth': 3, 'learning_rate': 0.1529488341059238, 'min_child_weight': 5, 'gamma': 2.193905720242405e-07, 'subsample': 0.2995116439416394, 'colsample_bytree': 0.0442609949142213, 'reg_alpha': 0.49062977039263683, 'reg_lambda': 0.00022944228234045535}. Best is trial 221 with value: 0.8070707070707072.\u001b[0m\n",
      "\u001b[32m[I 2023-06-22 22:05:24,631]\u001b[0m Trial 337 finished with value: 0.7292929292929293 and parameters: {'n_estimators': 220, 'max_depth': 4, 'learning_rate': 0.28226418534590053, 'min_child_weight': 6, 'gamma': 2.685834441200462e-06, 'subsample': 0.23245477317277943, 'colsample_bytree': 0.03817755076233506, 'reg_alpha': 0.14210286296635757, 'reg_lambda': 2.6713948180539467e-06}. Best is trial 221 with value: 0.8070707070707072.\u001b[0m\n",
      "\u001b[32m[I 2023-06-22 22:05:24,988]\u001b[0m Trial 338 finished with value: 0.697979797979798 and parameters: {'n_estimators': 213, 'max_depth': 4, 'learning_rate': 0.4165904130262522, 'min_child_weight': 6, 'gamma': 7.314255927735777e-07, 'subsample': 0.2510410782765641, 'colsample_bytree': 0.08425346450853327, 'reg_alpha': 2.878330939732094e-07, 'reg_lambda': 0.0005971444812930928}. Best is trial 221 with value: 0.8070707070707072.\u001b[0m\n",
      "\u001b[32m[I 2023-06-22 22:05:25,349]\u001b[0m Trial 339 finished with value: 0.7474747474747476 and parameters: {'n_estimators': 229, 'max_depth': 4, 'learning_rate': 0.2899820502898752, 'min_child_weight': 5, 'gamma': 1.5273148803974018e-06, 'subsample': 0.19636134174277967, 'colsample_bytree': 0.02463866351783964, 'reg_alpha': 0.028415892357153954, 'reg_lambda': 0.0001420633017271158}. Best is trial 221 with value: 0.8070707070707072.\u001b[0m\n",
      "\u001b[32m[I 2023-06-22 22:05:25,715]\u001b[0m Trial 340 finished with value: 0.7141414141414141 and parameters: {'n_estimators': 200, 'max_depth': 4, 'learning_rate': 0.2405900264519527, 'min_child_weight': 4, 'gamma': 7.898251012121814e-06, 'subsample': 0.2762629114366777, 'colsample_bytree': 0.04829626019285939, 'reg_alpha': 1.4313293773900424e-07, 'reg_lambda': 6.860249597321277e-07}. Best is trial 221 with value: 0.8070707070707072.\u001b[0m\n",
      "\u001b[32m[I 2023-06-22 22:05:26,178]\u001b[0m Trial 341 finished with value: 0.7040404040404041 and parameters: {'n_estimators': 252, 'max_depth': 4, 'learning_rate': 0.03477931468782511, 'min_child_weight': 3, 'gamma': 3.1293871879935595e-07, 'subsample': 0.6758760962455361, 'colsample_bytree': 0.03387863352036938, 'reg_alpha': 0.06127710908659249, 'reg_lambda': 0.0015492860412365723}. Best is trial 221 with value: 0.8070707070707072.\u001b[0m\n",
      "\u001b[32m[I 2023-06-22 22:05:26,628]\u001b[0m Trial 342 finished with value: 0.6777777777777778 and parameters: {'n_estimators': 239, 'max_depth': 4, 'learning_rate': 0.10829358021741926, 'min_child_weight': 1, 'gamma': 4.879337736641622e-07, 'subsample': 0.4221857699348941, 'colsample_bytree': 0.028887342905619402, 'reg_alpha': 9.183183837970011e-08, 'reg_lambda': 3.7321123343300686e-07}. Best is trial 221 with value: 0.8070707070707072.\u001b[0m\n",
      "\u001b[32m[I 2023-06-22 22:05:27,021]\u001b[0m Trial 343 finished with value: 0.7464646464646464 and parameters: {'n_estimators': 221, 'max_depth': 4, 'learning_rate': 0.05868597401264857, 'min_child_weight': 6, 'gamma': 1.0247944173929787e-06, 'subsample': 0.16439252257057946, 'colsample_bytree': 0.022763346589045937, 'reg_alpha': 6.63096677020505e-07, 'reg_lambda': 0.00031564136938695735}. Best is trial 221 with value: 0.8070707070707072.\u001b[0m\n",
      "\u001b[32m[I 2023-06-22 22:05:27,376]\u001b[0m Trial 344 finished with value: 0.7202020202020203 and parameters: {'n_estimators': 212, 'max_depth': 4, 'learning_rate': 0.3842688879846462, 'min_child_weight': 6, 'gamma': 0.0006564421396731132, 'subsample': 0.22354444519040312, 'colsample_bytree': 0.026924334547874317, 'reg_alpha': 0.017306335198614485, 'reg_lambda': 9.447183614030371e-05}. Best is trial 221 with value: 0.8070707070707072.\u001b[0m\n",
      "\u001b[32m[I 2023-06-22 22:05:27,770]\u001b[0m Trial 345 finished with value: 0.7535353535353535 and parameters: {'n_estimators': 228, 'max_depth': 4, 'learning_rate': 0.08791740655449713, 'min_child_weight': 5, 'gamma': 4.623962418778853e-05, 'subsample': 0.3091035819555972, 'colsample_bytree': 0.03155224013382329, 'reg_alpha': 3.2122327180943036e-08, 'reg_lambda': 8.756183964936104e-06}. Best is trial 221 with value: 0.8070707070707072.\u001b[0m\n",
      "\u001b[32m[I 2023-06-22 22:05:28,169]\u001b[0m Trial 346 finished with value: 0.7010101010101009 and parameters: {'n_estimators': 242, 'max_depth': 4, 'learning_rate': 0.13152800885351296, 'min_child_weight': 6, 'gamma': 2.1180643081034064e-06, 'subsample': 0.24807876763639455, 'colsample_bytree': 0.30700848010503784, 'reg_alpha': 0.00011521635405442094, 'reg_lambda': 0.00018357773514301337}. Best is trial 221 with value: 0.8070707070707072.\u001b[0m\n",
      "\u001b[32m[I 2023-06-22 22:05:28,534]\u001b[0m Trial 347 finished with value: 0.7363636363636363 and parameters: {'n_estimators': 193, 'max_depth': 4, 'learning_rate': 0.05002305533689393, 'min_child_weight': 4, 'gamma': 4.976974420811611e-06, 'subsample': 0.3550658548706026, 'colsample_bytree': 0.03939313772290848, 'reg_alpha': 0.6578824597283037, 'reg_lambda': 0.0004433041586864935}. Best is trial 221 with value: 0.8070707070707072.\u001b[0m\n",
      "\u001b[32m[I 2023-06-22 22:05:28,870]\u001b[0m Trial 348 finished with value: 0.7303030303030302 and parameters: {'n_estimators': 203, 'max_depth': 4, 'learning_rate': 0.18808855633562044, 'min_child_weight': 7, 'gamma': 6.717767852701509e-05, 'subsample': 0.213927034425408, 'colsample_bytree': 0.15106580037395478, 'reg_alpha': 0.3737435360449431, 'reg_lambda': 0.00011568313983203873}. Best is trial 221 with value: 0.8070707070707072.\u001b[0m\n",
      "\u001b[32m[I 2023-06-22 22:05:29,256]\u001b[0m Trial 349 finished with value: 0.7797979797979798 and parameters: {'n_estimators': 232, 'max_depth': 3, 'learning_rate': 0.028197150444092642, 'min_child_weight': 6, 'gamma': 8.069435994599384e-07, 'subsample': 0.26577758543914254, 'colsample_bytree': 0.08081836092342438, 'reg_alpha': 0.03821581971592068, 'reg_lambda': 0.01306166960925136}. Best is trial 221 with value: 0.8070707070707072.\u001b[0m\n",
      "\u001b[32m[I 2023-06-22 22:05:29,636]\u001b[0m Trial 350 finished with value: 0.7787878787878788 and parameters: {'n_estimators': 221, 'max_depth': 4, 'learning_rate': 0.07238358227295438, 'min_child_weight': 5, 'gamma': 5.579149440890541e-07, 'subsample': 0.23869735265207725, 'colsample_bytree': 0.03494622098615715, 'reg_alpha': 3.325494312255975e-07, 'reg_lambda': 2.8034896890760306e-07}. Best is trial 221 with value: 0.8070707070707072.\u001b[0m\n",
      "\u001b[32m[I 2023-06-22 22:05:30,002]\u001b[0m Trial 351 finished with value: 0.692929292929293 and parameters: {'n_estimators': 215, 'max_depth': 4, 'learning_rate': 0.39886250520654676, 'min_child_weight': 6, 'gamma': 1.3711389611709805e-06, 'subsample': 0.2849628824176061, 'colsample_bytree': 0.030294821982333055, 'reg_alpha': 2.0143676836788415e-07, 'reg_lambda': 1.4485842481084076e-05}. Best is trial 221 with value: 0.8070707070707072.\u001b[0m\n",
      "\u001b[32m[I 2023-06-22 22:05:30,368]\u001b[0m Trial 352 finished with value: 0.7686868686868688 and parameters: {'n_estimators': 257, 'max_depth': 4, 'learning_rate': 0.09820869853245044, 'min_child_weight': 6, 'gamma': 0.00016181729092129636, 'subsample': 0.18282918375205578, 'colsample_bytree': 0.04348543999661752, 'reg_alpha': 2.489459413097384e-07, 'reg_lambda': 4.578954219633776e-07}. Best is trial 221 with value: 0.8070707070707072.\u001b[0m\n",
      "\u001b[32m[I 2023-06-22 22:05:30,681]\u001b[0m Trial 353 finished with value: 0.5 and parameters: {'n_estimators': 236, 'max_depth': 5, 'learning_rate': 0.049019818382529556, 'min_child_weight': 5, 'gamma': 1.8395203388583728e-05, 'subsample': 0.02555923426670453, 'colsample_bytree': 0.017338341810919238, 'reg_alpha': 0.19115275335174473, 'reg_lambda': 1.01297697321502e-06}. Best is trial 221 with value: 0.8070707070707072.\u001b[0m\n",
      "\u001b[32m[I 2023-06-22 22:05:31,021]\u001b[0m Trial 354 finished with value: 0.6616161616161615 and parameters: {'n_estimators': 247, 'max_depth': 4, 'learning_rate': 0.7064726894096638, 'min_child_weight': 6, 'gamma': 1.6093123307450766e-07, 'subsample': 0.1452782513652679, 'colsample_bytree': 0.05010673871089112, 'reg_alpha': 0.0019104007684077487, 'reg_lambda': 0.00025155252616289087}. Best is trial 221 with value: 0.8070707070707072.\u001b[0m\n",
      "\u001b[32m[I 2023-06-22 22:05:31,393]\u001b[0m Trial 355 finished with value: 0.7535353535353535 and parameters: {'n_estimators': 225, 'max_depth': 4, 'learning_rate': 0.07680798927413862, 'min_child_weight': 6, 'gamma': 3.3211718693518397e-06, 'subsample': 0.2263984835487653, 'colsample_bytree': 0.7883804255415506, 'reg_alpha': 0.010600799488299135, 'reg_lambda': 1.3794511358471612e-06}. Best is trial 221 with value: 0.8070707070707072.\u001b[0m\n",
      "\u001b[32m[I 2023-06-22 22:05:31,760]\u001b[0m Trial 356 finished with value: 0.7313131313131312 and parameters: {'n_estimators': 207, 'max_depth': 4, 'learning_rate': 0.12105069872981059, 'min_child_weight': 5, 'gamma': 2.9531535116005634e-05, 'subsample': 0.3194513948618572, 'colsample_bytree': 0.026959417220870467, 'reg_alpha': 5.248807224641687e-07, 'reg_lambda': 5.546304717312877e-05}. Best is trial 221 with value: 0.8070707070707072.\u001b[0m\n",
      "\u001b[32m[I 2023-06-22 22:05:32,109]\u001b[0m Trial 357 finished with value: 0.7111111111111111 and parameters: {'n_estimators': 216, 'max_depth': 2, 'learning_rate': 0.010050117678058836, 'min_child_weight': 6, 'gamma': 1.9596549517808727e-06, 'subsample': 0.2621277767862203, 'colsample_bytree': 0.05822176484655892, 'reg_alpha': 0.02612227904111143, 'reg_lambda': 0.0006813024930384962}. Best is trial 221 with value: 0.8070707070707072.\u001b[0m\n",
      "\u001b[32m[I 2023-06-22 22:05:32,463]\u001b[0m Trial 358 finished with value: 0.7111111111111111 and parameters: {'n_estimators': 231, 'max_depth': 4, 'learning_rate': 0.5616785214323198, 'min_child_weight': 6, 'gamma': 1.108912368675209e-05, 'subsample': 0.20277104152146821, 'colsample_bytree': 0.03661343889896988, 'reg_alpha': 0.06970313714762341, 'reg_lambda': 0.00017035216432566657}. Best is trial 221 with value: 0.8070707070707072.\u001b[0m\n",
      "\u001b[32m[I 2023-06-22 22:05:32,840]\u001b[0m Trial 359 finished with value: 0.7828282828282828 and parameters: {'n_estimators': 237, 'max_depth': 4, 'learning_rate': 0.05528717767137819, 'min_child_weight': 7, 'gamma': 3.6318658961425863e-07, 'subsample': 0.2947093774888727, 'colsample_bytree': 0.022051565931107034, 'reg_alpha': 0.6639304431827827, 'reg_lambda': 3.482600576274665e-05}. Best is trial 221 with value: 0.8070707070707072.\u001b[0m\n",
      "\u001b[32m[I 2023-06-22 22:05:33,179]\u001b[0m Trial 360 finished with value: 0.708080808080808 and parameters: {'n_estimators': 224, 'max_depth': 4, 'learning_rate': 0.5055337137690249, 'min_child_weight': 5, 'gamma': 0.01857982733384059, 'subsample': 0.242120191869283, 'colsample_bytree': 0.032606415366175694, 'reg_alpha': 0.014683325038627265, 'reg_lambda': 1.8959201658139444e-06}. Best is trial 221 with value: 0.8070707070707072.\u001b[0m\n",
      "\u001b[32m[I 2023-06-22 22:05:33,532]\u001b[0m Trial 361 finished with value: 0.7787878787878788 and parameters: {'n_estimators': 205, 'max_depth': 8, 'learning_rate': 0.03677826919901513, 'min_child_weight': 6, 'gamma': 7.211635467909205e-07, 'subsample': 0.26617077636547687, 'colsample_bytree': 0.02863811889468831, 'reg_alpha': 1.6180291953405438e-06, 'reg_lambda': 0.00028928233377145435}. Best is trial 221 with value: 0.8070707070707072.\u001b[0m\n",
      "\u001b[32m[I 2023-06-22 22:05:33,876]\u001b[0m Trial 362 finished with value: 0.7252525252525254 and parameters: {'n_estimators': 216, 'max_depth': 3, 'learning_rate': 0.4690597475410271, 'min_child_weight': 6, 'gamma': 0.00012898178932796135, 'subsample': 0.2228229416425542, 'colsample_bytree': 0.02543257139407944, 'reg_alpha': 6.502070349798214e-07, 'reg_lambda': 0.0048196930215362276}. Best is trial 221 with value: 0.8070707070707072.\u001b[0m\n",
      "\u001b[32m[I 2023-06-22 22:05:34,276]\u001b[0m Trial 363 finished with value: 0.7202020202020203 and parameters: {'n_estimators': 245, 'max_depth': 4, 'learning_rate': 0.09058059541627783, 'min_child_weight': 4, 'gamma': 2.551160541001184e-07, 'subsample': 0.24516732783552395, 'colsample_bytree': 0.07159749798193865, 'reg_alpha': 0.0001127013084405426, 'reg_lambda': 9.552993264917755e-05}. Best is trial 221 with value: 0.8070707070707072.\u001b[0m\n",
      "\u001b[32m[I 2023-06-22 22:05:34,629]\u001b[0m Trial 364 finished with value: 0.795959595959596 and parameters: {'n_estimators': 195, 'max_depth': 5, 'learning_rate': 0.2232437357444732, 'min_child_weight': 5, 'gamma': 5.1698681956422e-06, 'subsample': 0.188334565614555, 'colsample_bytree': 0.06734626005082847, 'reg_alpha': 0.0007273074413533191, 'reg_lambda': 0.00048624017783245415}. Best is trial 221 with value: 0.8070707070707072.\u001b[0m\n",
      "\u001b[32m[I 2023-06-22 22:05:34,971]\u001b[0m Trial 365 finished with value: 0.7232323232323232 and parameters: {'n_estimators': 194, 'max_depth': 5, 'learning_rate': 0.11421141672146687, 'min_child_weight': 5, 'gamma': 5.4828960063978825e-06, 'subsample': 0.19056854595573167, 'colsample_bytree': 0.06605867864908732, 'reg_alpha': 0.0002151028824476747, 'reg_lambda': 0.00047818928518312013}. Best is trial 221 with value: 0.8070707070707072.\u001b[0m\n",
      "\u001b[32m[I 2023-06-22 22:05:35,311]\u001b[0m Trial 366 finished with value: 0.7525252525252525 and parameters: {'n_estimators': 194, 'max_depth': 5, 'learning_rate': 0.31592738157889894, 'min_child_weight': 5, 'gamma': 8.121746534792869e-06, 'subsample': 0.1641669225895586, 'colsample_bytree': 0.09399324814863476, 'reg_alpha': 0.0032879605233227444, 'reg_lambda': 0.0007418312938574166}. Best is trial 221 with value: 0.8070707070707072.\u001b[0m\n",
      "\u001b[32m[I 2023-06-22 22:05:35,636]\u001b[0m Trial 367 finished with value: 0.7151515151515152 and parameters: {'n_estimators': 202, 'max_depth': 5, 'learning_rate': 0.15140887298269745, 'min_child_weight': 5, 'gamma': 4.008351422186323e-06, 'subsample': 0.15111321178559406, 'colsample_bytree': 0.041747691954459897, 'reg_alpha': 5.787718239990846e-05, 'reg_lambda': 1.328222029259529e-08}. Best is trial 221 with value: 0.8070707070707072.\u001b[0m\n",
      "\u001b[32m[I 2023-06-22 22:05:35,974]\u001b[0m Trial 368 finished with value: 0.5 and parameters: {'n_estimators': 251, 'max_depth': 6, 'learning_rate': 0.029819125249874484, 'min_child_weight': 5, 'gamma': 0.0011146250036977294, 'subsample': 0.016677561159848614, 'colsample_bytree': 0.03970433144848817, 'reg_alpha': 0.0009292072629440658, 'reg_lambda': 0.0010835129579519665}. Best is trial 221 with value: 0.8070707070707072.\u001b[0m\n",
      "\u001b[32m[I 2023-06-22 22:05:36,374]\u001b[0m Trial 369 finished with value: 0.7252525252525254 and parameters: {'n_estimators': 264, 'max_depth': 4, 'learning_rate': 0.2748739286686869, 'min_child_weight': 5, 'gamma': 3.0558254536952607e-06, 'subsample': 0.20305942154385015, 'colsample_bytree': 0.059149185123817116, 'reg_alpha': 1.6613979138976043e-05, 'reg_lambda': 4.694328675257513e-06}. Best is trial 221 with value: 0.8070707070707072.\u001b[0m\n",
      "\u001b[32m[I 2023-06-22 22:05:36,731]\u001b[0m Trial 370 finished with value: 0.7505050505050506 and parameters: {'n_estimators': 228, 'max_depth': 4, 'learning_rate': 0.0656841561654097, 'min_child_weight': 5, 'gamma': 5.065098342874665e-06, 'subsample': 0.17948646777707244, 'colsample_bytree': 0.052493666443925155, 'reg_alpha': 3.4599484595863233e-07, 'reg_lambda': 0.000488439422272969}. Best is trial 221 with value: 0.8070707070707072.\u001b[0m\n",
      "\u001b[32m[I 2023-06-22 22:05:37,133]\u001b[0m Trial 371 finished with value: 0.7101010101010101 and parameters: {'n_estimators': 282, 'max_depth': 5, 'learning_rate': 0.22250140519414083, 'min_child_weight': 5, 'gamma': 0.00031895659927821344, 'subsample': 0.21237145533363266, 'colsample_bytree': 0.07544908543114862, 'reg_alpha': 0.0028354514176517544, 'reg_lambda': 7.151401309412072e-07}. Best is trial 221 with value: 0.8070707070707072.\u001b[0m\n",
      "\u001b[32m[I 2023-06-22 22:05:37,529]\u001b[0m Trial 372 finished with value: 0.7494949494949495 and parameters: {'n_estimators': 237, 'max_depth': 5, 'learning_rate': 0.0997427850887616, 'min_child_weight': 4, 'gamma': 6.854583932247177e-06, 'subsample': 0.2934769849943024, 'colsample_bytree': 0.04723519666378753, 'reg_alpha': 0.00889449722595765, 'reg_lambda': 0.00030028552544660616}. Best is trial 221 with value: 0.8070707070707072.\u001b[0m\n",
      "\u001b[32m[I 2023-06-22 22:05:37,888]\u001b[0m Trial 373 finished with value: 0.7080808080808081 and parameters: {'n_estimators': 190, 'max_depth': 4, 'learning_rate': 0.046962932781710584, 'min_child_weight': 5, 'gamma': 2.524987749808275e-06, 'subsample': 0.38277690265129377, 'colsample_bytree': 0.03602578814712185, 'reg_alpha': 0.0014922951851265131, 'reg_lambda': 2.0060600425844106e-07}. Best is trial 221 with value: 0.8070707070707072.\u001b[0m\n",
      "\u001b[32m[I 2023-06-22 22:05:38,245]\u001b[0m Trial 374 finished with value: 0.7313131313131312 and parameters: {'n_estimators': 210, 'max_depth': 4, 'learning_rate': 0.12874149444650718, 'min_child_weight': 5, 'gamma': 0.0004862783381100463, 'subsample': 0.3170200889535985, 'colsample_bytree': 0.05375385448414394, 'reg_alpha': 0.0005927757636459093, 'reg_lambda': 1.2768857458820865e-07}. Best is trial 221 with value: 0.8070707070707072.\u001b[0m\n",
      "\u001b[32m[I 2023-06-22 22:05:38,635]\u001b[0m Trial 375 finished with value: 0.7262626262626263 and parameters: {'n_estimators': 224, 'max_depth': 4, 'learning_rate': 0.16586691555821864, 'min_child_weight': 5, 'gamma': 6.519342984353203e-08, 'subsample': 0.48663136058689466, 'colsample_bytree': 0.04347628068727624, 'reg_alpha': 0.019389113357041455, 'reg_lambda': 2.832728783441634e-07}. Best is trial 221 with value: 0.8070707070707072.\u001b[0m\n",
      "\u001b[32m[I 2023-06-22 22:05:38,972]\u001b[0m Trial 376 finished with value: 0.5 and parameters: {'n_estimators': 242, 'max_depth': 6, 'learning_rate': 0.20043019553273192, 'min_child_weight': 6, 'gamma': 4.695945682077799e-07, 'subsample': 0.05811686949096175, 'colsample_bytree': 0.4121753631923752, 'reg_alpha': 0.005803551266222468, 'reg_lambda': 2.1382483345291898e-05}. Best is trial 221 with value: 0.8070707070707072.\u001b[0m\n",
      "\u001b[32m[I 2023-06-22 22:05:39,314]\u001b[0m Trial 377 finished with value: 0.7373737373737373 and parameters: {'n_estimators': 232, 'max_depth': 5, 'learning_rate': 0.07004752516759394, 'min_child_weight': 8, 'gamma': 1.1772913395155197e-06, 'subsample': 0.17107265698359567, 'colsample_bytree': 0.06317622645117126, 'reg_alpha': 0.000286187945438068, 'reg_lambda': 0.00040701202482260003}. Best is trial 221 with value: 0.8070707070707072.\u001b[0m\n",
      "\u001b[32m[I 2023-06-22 22:05:39,681]\u001b[0m Trial 378 finished with value: 0.7525252525252525 and parameters: {'n_estimators': 210, 'max_depth': 4, 'learning_rate': 0.025310158757280828, 'min_child_weight': 6, 'gamma': 1.4069580165244681e-05, 'subsample': 0.26972446157065416, 'colsample_bytree': 0.033554239902883545, 'reg_alpha': 3.9161119919109006e-05, 'reg_lambda': 7.489120094807047e-08}. Best is trial 221 with value: 0.8070707070707072.\u001b[0m\n",
      "\u001b[32m[I 2023-06-22 22:05:40,210]\u001b[0m Trial 379 finished with value: 0.7252525252525254 and parameters: {'n_estimators': 377, 'max_depth': 4, 'learning_rate': 0.08344182572871552, 'min_child_weight': 6, 'gamma': 1.6310032746751312e-06, 'subsample': 0.4256802612056532, 'colsample_bytree': 0.037740298807152906, 'reg_alpha': 9.359384515961997e-05, 'reg_lambda': 4.416474044845123e-07}. Best is trial 221 with value: 0.8070707070707072.\u001b[0m\n",
      "\u001b[32m[I 2023-06-22 22:05:40,543]\u001b[0m Trial 380 finished with value: 0.6585858585858586 and parameters: {'n_estimators': 254, 'max_depth': 4, 'learning_rate': 0.049933870024920626, 'min_child_weight': 5, 'gamma': 0.0015098854913131734, 'subsample': 0.08413631795300663, 'colsample_bytree': 0.03207360984936378, 'reg_alpha': 0.0005113724437030539, 'reg_lambda': 0.0009037603536770777}. Best is trial 221 with value: 0.8070707070707072.\u001b[0m\n",
      "\u001b[32m[I 2023-06-22 22:05:40,896]\u001b[0m Trial 381 finished with value: 0.7545454545454545 and parameters: {'n_estimators': 221, 'max_depth': 3, 'learning_rate': 0.22637153798453657, 'min_child_weight': 4, 'gamma': 2.987874622986043e-07, 'subsample': 0.22502967067696159, 'colsample_bytree': 0.09132922563981585, 'reg_alpha': 0.0016370082983931844, 'reg_lambda': 0.000196893136688751}. Best is trial 221 with value: 0.8070707070707072.\u001b[0m\n",
      "\u001b[32m[I 2023-06-22 22:05:41,207]\u001b[0m Trial 382 finished with value: 0.5 and parameters: {'n_estimators': 203, 'max_depth': 4, 'learning_rate': 0.18359885638557186, 'min_child_weight': 6, 'gamma': 0.0008594984029667018, 'subsample': 0.010272912627777991, 'colsample_bytree': 0.05844843386956656, 'reg_alpha': 0.5057943630149766, 'reg_lambda': 2.2305577642158346e-07}. Best is trial 221 with value: 0.8070707070707072.\u001b[0m\n",
      "\u001b[32m[I 2023-06-22 22:05:41,648]\u001b[0m Trial 383 finished with value: 0.7292929292929293 and parameters: {'n_estimators': 241, 'max_depth': 4, 'learning_rate': 0.06435203035375317, 'min_child_weight': 6, 'gamma': 7.999219646985356e-05, 'subsample': 0.8751803090755055, 'colsample_bytree': 0.6337207002446937, 'reg_alpha': 0.2952346408016339, 'reg_lambda': 0.002570372814621919}. Best is trial 221 with value: 0.8070707070707072.\u001b[0m\n",
      "\u001b[32m[I 2023-06-22 22:05:41,990]\u001b[0m Trial 384 finished with value: 0.7262626262626263 and parameters: {'n_estimators': 229, 'max_depth': 4, 'learning_rate': 0.2460945466410837, 'min_child_weight': 5, 'gamma': 0.09435386058243452, 'subsample': 0.13710484218569546, 'colsample_bytree': 0.046626489901470135, 'reg_alpha': 5.447499004576421e-08, 'reg_lambda': 7.961088865266458e-06}. Best is trial 221 with value: 0.8070707070707072.\u001b[0m\n",
      "\u001b[32m[I 2023-06-22 22:05:42,358]\u001b[0m Trial 385 finished with value: 0.7393939393939394 and parameters: {'n_estimators': 215, 'max_depth': 4, 'learning_rate': 0.09632442438425515, 'min_child_weight': 7, 'gamma': 9.226097525633585e-06, 'subsample': 0.444250062871158, 'colsample_bytree': 0.06699152417541177, 'reg_alpha': 1.8287272765575934e-07, 'reg_lambda': 0.0006024594127202352}. Best is trial 221 with value: 0.8070707070707072.\u001b[0m\n",
      "\u001b[32m[I 2023-06-22 22:05:42,647]\u001b[0m Trial 386 finished with value: 0.5 and parameters: {'n_estimators': 185, 'max_depth': 4, 'learning_rate': 0.02771563884453004, 'min_child_weight': 6, 'gamma': 0.004556005830116026, 'subsample': 0.07212365701036842, 'colsample_bytree': 0.03477270453975876, 'reg_alpha': 1.251735632577129e-05, 'reg_lambda': 0.00035134372913713825}. Best is trial 221 with value: 0.8070707070707072.\u001b[0m\n",
      "\u001b[32m[I 2023-06-22 22:05:42,975]\u001b[0m Trial 387 finished with value: 0.6585858585858586 and parameters: {'n_estimators': 234, 'max_depth': 4, 'learning_rate': 0.05922386244926335, 'min_child_weight': 6, 'gamma': 3.871365807975003e-06, 'subsample': 0.09218856555889197, 'colsample_bytree': 0.06419296542847903, 'reg_alpha': 0.003896131963220342, 'reg_lambda': 2.176667953196727e-06}. Best is trial 221 with value: 0.8070707070707072.\u001b[0m\n",
      "\u001b[32m[I 2023-06-22 22:05:43,326]\u001b[0m Trial 388 finished with value: 0.6707070707070707 and parameters: {'n_estimators': 222, 'max_depth': 4, 'learning_rate': 0.010178519090654252, 'min_child_weight': 5, 'gamma': 1.0588450674101049e-07, 'subsample': 0.18844146164346484, 'colsample_bytree': 0.02832039200243531, 'reg_alpha': 0.9180087428026317, 'reg_lambda': 0.0013758847518976246}. Best is trial 221 with value: 0.8070707070707072.\u001b[0m\n",
      "\u001b[32m[I 2023-06-22 22:05:43,684]\u001b[0m Trial 389 finished with value: 0.7353535353535354 and parameters: {'n_estimators': 198, 'max_depth': 4, 'learning_rate': 0.08111003730375585, 'min_child_weight': 6, 'gamma': 1.7844004077180148e-07, 'subsample': 0.3593358229945083, 'colsample_bytree': 0.07123547841620272, 'reg_alpha': 3.0982101552850285e-05, 'reg_lambda': 1.0938157762106502e-05}. Best is trial 221 with value: 0.8070707070707072.\u001b[0m\n",
      "\u001b[32m[I 2023-06-22 22:05:44,047]\u001b[0m Trial 390 finished with value: 0.7595959595959596 and parameters: {'n_estimators': 212, 'max_depth': 5, 'learning_rate': 0.10929148032038916, 'min_child_weight': 5, 'gamma': 2.2795230551821356e-06, 'subsample': 0.2536453870382928, 'colsample_bytree': 0.031076485475297354, 'reg_alpha': 0.03421190124161017, 'reg_lambda': 0.00024447326195379}. Best is trial 221 with value: 0.8070707070707072.\u001b[0m\n",
      "\u001b[32m[I 2023-06-22 22:05:44,386]\u001b[0m Trial 391 finished with value: 0.5 and parameters: {'n_estimators': 248, 'max_depth': 3, 'learning_rate': 0.3661943992981125, 'min_child_weight': 6, 'gamma': 6.835577458042363e-07, 'subsample': 0.04090686751112827, 'colsample_bytree': 0.1030461067926936, 'reg_alpha': 0.011539121854366468, 'reg_lambda': 5.703263775371684e-05}. Best is trial 221 with value: 0.8070707070707072.\u001b[0m\n",
      "\u001b[32m[I 2023-06-22 22:05:44,760]\u001b[0m Trial 392 finished with value: 0.7303030303030302 and parameters: {'n_estimators': 229, 'max_depth': 4, 'learning_rate': 0.16863243712735282, 'min_child_weight': 4, 'gamma': 1.079687965292821e-06, 'subsample': 0.2834139342397584, 'colsample_bytree': 0.03887035101782354, 'reg_alpha': 0.0007623630439452304, 'reg_lambda': 9.76077149593236e-07}. Best is trial 221 with value: 0.8070707070707072.\u001b[0m\n",
      "\u001b[32m[I 2023-06-22 22:05:45,108]\u001b[0m Trial 393 finished with value: 0.7353535353535354 and parameters: {'n_estimators': 237, 'max_depth': 4, 'learning_rate': 0.26557415572085846, 'min_child_weight': 6, 'gamma': 4.1892176900257816e-07, 'subsample': 0.23243052907080713, 'colsample_bytree': 0.024417864852979806, 'reg_alpha': 0.44323320551817974, 'reg_lambda': 0.00013867587681243185}. Best is trial 221 with value: 0.8070707070707072.\u001b[0m\n",
      "\u001b[32m[I 2023-06-22 22:05:45,493]\u001b[0m Trial 394 finished with value: 0.7717171717171718 and parameters: {'n_estimators': 265, 'max_depth': 4, 'learning_rate': 0.13554607956675818, 'min_child_weight': 5, 'gamma': 5.697245663191056e-06, 'subsample': 0.2140146895094346, 'colsample_bytree': 0.05107196249703223, 'reg_alpha': 0.018100388744926157, 'reg_lambda': 3.227020483129749e-07}. Best is trial 221 with value: 0.8070707070707072.\u001b[0m\n",
      "\u001b[32m[I 2023-06-22 22:05:45,868]\u001b[0m Trial 395 finished with value: 0.787878787878788 and parameters: {'n_estimators': 222, 'max_depth': 4, 'learning_rate': 0.05471378227472131, 'min_child_weight': 6, 'gamma': 5.864599068218446e-07, 'subsample': 0.2734729572530318, 'colsample_bytree': 0.027164144033459025, 'reg_alpha': 1.831544156148861e-08, 'reg_lambda': 5.661518835795999e-07}. Best is trial 221 with value: 0.8070707070707072.\u001b[0m\n",
      "\u001b[32m[I 2023-06-22 22:05:46,208]\u001b[0m Trial 396 finished with value: 0.7565656565656566 and parameters: {'n_estimators': 206, 'max_depth': 4, 'learning_rate': 0.04089070401119299, 'min_child_weight': 6, 'gamma': 3.167970957666768e-05, 'subsample': 0.19602456393295933, 'colsample_bytree': 0.040443000645122254, 'reg_alpha': 0.10195743377596286, 'reg_lambda': 0.0002197787223019072}. Best is trial 221 with value: 0.8070707070707072.\u001b[0m\n",
      "\u001b[32m[I 2023-06-22 22:05:46,568]\u001b[0m Trial 397 finished with value: 0.6828282828282828 and parameters: {'n_estimators': 217, 'max_depth': 4, 'learning_rate': 0.4419946313758175, 'min_child_weight': 5, 'gamma': 1.5510380065049596e-06, 'subsample': 0.3180082003697047, 'colsample_bytree': 0.034716908720833946, 'reg_alpha': 1.0201821254172076e-07, 'reg_lambda': 1.3044481934102926e-06}. Best is trial 221 with value: 0.8070707070707072.\u001b[0m\n",
      "\u001b[32m[I 2023-06-22 22:05:46,991]\u001b[0m Trial 398 finished with value: 0.7313131313131312 and parameters: {'n_estimators': 241, 'max_depth': 4, 'learning_rate': 0.08054776911651917, 'min_child_weight': 2, 'gamma': 3.536169159538653e-06, 'subsample': 0.25118097866824934, 'colsample_bytree': 0.03066504304905502, 'reg_alpha': 0.030049266631853172, 'reg_lambda': 8.921625049758869e-05}. Best is trial 221 with value: 0.8070707070707072.\u001b[0m\n",
      "\u001b[32m[I 2023-06-22 22:05:47,398]\u001b[0m Trial 399 finished with value: 0.6919191919191918 and parameters: {'n_estimators': 258, 'max_depth': 4, 'learning_rate': 0.3438479827192452, 'min_child_weight': 4, 'gamma': 0.00038190159201064485, 'subsample': 0.29576448029666635, 'colsample_bytree': 0.044425493540955284, 'reg_alpha': 9.078348172350031e-06, 'reg_lambda': 0.0006505976016603328}. Best is trial 221 with value: 0.8070707070707072.\u001b[0m\n",
      "\u001b[32m[I 2023-06-22 22:05:47,750]\u001b[0m Trial 400 finished with value: 0.7363636363636364 and parameters: {'n_estimators': 228, 'max_depth': 4, 'learning_rate': 0.3086696968859044, 'min_child_weight': 6, 'gamma': 9.197212611509686e-07, 'subsample': 0.23531995350381107, 'colsample_bytree': 0.03688417383881639, 'reg_alpha': 0.6631896441294428, 'reg_lambda': 1.7851452640036877e-07}. Best is trial 221 with value: 0.8070707070707072.\u001b[0m\n",
      "\u001b[32m[I 2023-06-22 22:05:48,068]\u001b[0m Trial 401 finished with value: 0.6424242424242425 and parameters: {'n_estimators': 211, 'max_depth': 1, 'learning_rate': 0.47898896511692585, 'min_child_weight': 6, 'gamma': 0.0020872052836405125, 'subsample': 0.1044567737931307, 'colsample_bytree': 0.03297455126410642, 'reg_alpha': 1.1072292637001004e-06, 'reg_lambda': 0.09315085276286116}. Best is trial 221 with value: 0.8070707070707072.\u001b[0m\n",
      "\u001b[32m[I 2023-06-22 22:05:48,432]\u001b[0m Trial 402 finished with value: 0.6808080808080808 and parameters: {'n_estimators': 248, 'max_depth': 5, 'learning_rate': 0.5429112600827398, 'min_child_weight': 5, 'gamma': 0.00018322696570548597, 'subsample': 0.21179308972362026, 'colsample_bytree': 0.08334203221130386, 'reg_alpha': 0.046518344448904715, 'reg_lambda': 0.0003406058140432739}. Best is trial 221 with value: 0.8070707070707072.\u001b[0m\n",
      "\u001b[32m[I 2023-06-22 22:05:48,769]\u001b[0m Trial 403 finished with value: 0.7343434343434343 and parameters: {'n_estimators': 201, 'max_depth': 4, 'learning_rate': 0.09705403489968133, 'min_child_weight': 7, 'gamma': 4.585660429846587e-05, 'subsample': 0.26349430551587816, 'colsample_bytree': 0.029131405092058943, 'reg_alpha': 4.588784743647822e-06, 'reg_lambda': 0.00048135945136239684}. Best is trial 221 with value: 0.8070707070707072.\u001b[0m\n",
      "\u001b[32m[I 2023-06-22 22:05:49,172]\u001b[0m Trial 404 finished with value: 0.7535353535353535 and parameters: {'n_estimators': 235, 'max_depth': 4, 'learning_rate': 0.06809799332083191, 'min_child_weight': 6, 'gamma': 2.3771441149872682e-07, 'subsample': 0.33259941297221507, 'colsample_bytree': 0.02593412887306869, 'reg_alpha': 0.0070557743398508305, 'reg_lambda': 0.0001290018673161265}. Best is trial 221 with value: 0.8070707070707072.\u001b[0m\n",
      "\u001b[32m[I 2023-06-22 22:05:49,524]\u001b[0m Trial 405 finished with value: 0.7383838383838384 and parameters: {'n_estimators': 222, 'max_depth': 3, 'learning_rate': 0.0342254087282305, 'min_child_weight': 6, 'gamma': 2.612706788127825e-06, 'subsample': 0.15501363367890733, 'colsample_bytree': 0.022194125799629642, 'reg_alpha': 0.0011253276521754072, 'reg_lambda': 8.130663601954983e-07}. Best is trial 221 with value: 0.8070707070707072.\u001b[0m\n",
      "\u001b[32m[I 2023-06-22 22:05:49,941]\u001b[0m Trial 406 finished with value: 0.702020202020202 and parameters: {'n_estimators': 297, 'max_depth': 4, 'learning_rate': 0.28867076566119765, 'min_child_weight': 5, 'gamma': 0.0002496146397891984, 'subsample': 0.22916855288333438, 'colsample_bytree': 0.011450816361124527, 'reg_alpha': 2.6749160883662193e-06, 'reg_lambda': 4.051218716856044e-05}. Best is trial 221 with value: 0.8070707070707072.\u001b[0m\n",
      "\u001b[32m[I 2023-06-22 22:05:50,297]\u001b[0m Trial 407 finished with value: 0.787878787878788 and parameters: {'n_estimators': 217, 'max_depth': 4, 'learning_rate': 0.11548569424176723, 'min_child_weight': 6, 'gamma': 1.7561287074909997e-05, 'subsample': 0.2851147931706567, 'colsample_bytree': 0.04077686490361366, 'reg_alpha': 0.23198896069109812, 'reg_lambda': 2.9843403600157034e-06}. Best is trial 221 with value: 0.8070707070707072.\u001b[0m\n",
      "\u001b[32m[I 2023-06-22 22:05:50,664]\u001b[0m Trial 408 finished with value: 0.7747474747474747 and parameters: {'n_estimators': 231, 'max_depth': 4, 'learning_rate': 0.047546323225706885, 'min_child_weight': 5, 'gamma': 9.776376909581817e-05, 'subsample': 0.1767424748352009, 'colsample_bytree': 0.054545320895568856, 'reg_alpha': 6.573657531696403e-05, 'reg_lambda': 1.3835357852781648e-07}. Best is trial 221 with value: 0.8070707070707072.\u001b[0m\n",
      "\u001b[32m[I 2023-06-22 22:05:51,035]\u001b[0m Trial 409 finished with value: 0.7595959595959596 and parameters: {'n_estimators': 243, 'max_depth': 2, 'learning_rate': 0.07142965047743002, 'min_child_weight': 6, 'gamma': 4.2879136552283484e-07, 'subsample': 0.25087229243278836, 'colsample_bytree': 0.032056254718282114, 'reg_alpha': 0.0219527259641508, 'reg_lambda': 0.00019887404448715417}. Best is trial 221 with value: 0.8070707070707072.\u001b[0m\n",
      "\u001b[32m[I 2023-06-22 22:05:51,380]\u001b[0m Trial 410 finished with value: 0.6969696969696969 and parameters: {'n_estimators': 209, 'max_depth': 4, 'learning_rate': 0.4318933488873187, 'min_child_weight': 9, 'gamma': 6.017037162215141e-07, 'subsample': 0.47851533939228547, 'colsample_bytree': 0.03736864869604272, 'reg_alpha': 0.013207082570658883, 'reg_lambda': 7.615957221778305e-05}. Best is trial 221 with value: 0.8070707070707072.\u001b[0m\n",
      "\u001b[32m[I 2023-06-22 22:05:51,726]\u001b[0m Trial 411 finished with value: 0.795959595959596 and parameters: {'n_estimators': 227, 'max_depth': 4, 'learning_rate': 0.14118212157227533, 'min_child_weight': 5, 'gamma': 0.06517413519727479, 'subsample': 0.2005169091931868, 'colsample_bytree': 0.02901109084471537, 'reg_alpha': 0.990480970645036, 'reg_lambda': 0.006373669846429928}. Best is trial 221 with value: 0.8070707070707072.\u001b[0m\n",
      "\u001b[32m[I 2023-06-22 22:05:52,097]\u001b[0m Trial 412 finished with value: 0.7636363636363634 and parameters: {'n_estimators': 254, 'max_depth': 4, 'learning_rate': 0.13800468472865698, 'min_child_weight': 5, 'gamma': 5.850158440076511e-05, 'subsample': 0.19367295892453767, 'colsample_bytree': 0.02407180040691467, 'reg_alpha': 0.9038518431040509, 'reg_lambda': 0.06846942385211452}. Best is trial 221 with value: 0.8070707070707072.\u001b[0m\n",
      "\u001b[32m[I 2023-06-22 22:05:52,438]\u001b[0m Trial 413 finished with value: 0.6828282828282828 and parameters: {'n_estimators': 237, 'max_depth': 5, 'learning_rate': 0.0986811334177824, 'min_child_weight': 5, 'gamma': 0.06974265926741931, 'subsample': 0.08242197287501037, 'colsample_bytree': 0.028946761726679947, 'reg_alpha': 0.6427378880602344, 'reg_lambda': 0.0019244308252843166}. Best is trial 221 with value: 0.8070707070707072.\u001b[0m\n",
      "\u001b[32m[I 2023-06-22 22:05:52,800]\u001b[0m Trial 414 finished with value: 0.7727272727272727 and parameters: {'n_estimators': 226, 'max_depth': 4, 'learning_rate': 0.08875020254847647, 'min_child_weight': 5, 'gamma': 0.04603655648871792, 'subsample': 0.20784460778410777, 'colsample_bytree': 0.026268229801924888, 'reg_alpha': 0.40801403933828384, 'reg_lambda': 0.0024883334258529646}. Best is trial 221 with value: 0.8070707070707072.\u001b[0m\n",
      "\u001b[32m[I 2023-06-22 22:05:53,182]\u001b[0m Trial 415 finished with value: 0.7505050505050506 and parameters: {'n_estimators': 242, 'max_depth': 4, 'learning_rate': 0.14458765971151918, 'min_child_weight': 3, 'gamma': 0.04376206240348556, 'subsample': 0.16129320556348486, 'colsample_bytree': 0.027223396152711195, 'reg_alpha': 0.0021998623814317654, 'reg_lambda': 0.015211760675014382}. Best is trial 221 with value: 0.8070707070707072.\u001b[0m\n",
      "\u001b[32m[I 2023-06-22 22:05:53,565]\u001b[0m Trial 416 finished with value: 0.7696969696969697 and parameters: {'n_estimators': 227, 'max_depth': 4, 'learning_rate': 0.052231673813641785, 'min_child_weight': 5, 'gamma': 0.06778808583043963, 'subsample': 0.2009310086322409, 'colsample_bytree': 0.02076454867271592, 'reg_alpha': 1.0823628540574093e-08, 'reg_lambda': 0.043435203832619104}. Best is trial 221 with value: 0.8070707070707072.\u001b[0m\n",
      "\u001b[32m[I 2023-06-22 22:05:53,927]\u001b[0m Trial 417 finished with value: 0.7202020202020203 and parameters: {'n_estimators': 234, 'max_depth': 4, 'learning_rate': 0.805669880739457, 'min_child_weight': 5, 'gamma': 0.0007336969159145292, 'subsample': 0.1858071376249767, 'colsample_bytree': 0.02964308480620023, 'reg_alpha': 0.7975299263747044, 'reg_lambda': 0.0032076628394595553}. Best is trial 221 with value: 0.8070707070707072.\u001b[0m\n",
      "\u001b[32m[I 2023-06-22 22:05:54,319]\u001b[0m Trial 418 finished with value: 0.7585858585858585 and parameters: {'n_estimators': 250, 'max_depth': 4, 'learning_rate': 0.11435541661680253, 'min_child_weight': 5, 'gamma': 0.7031420693068932, 'subsample': 0.22917364812737231, 'colsample_bytree': 0.034984327707709865, 'reg_alpha': 0.00034952784617904077, 'reg_lambda': 2.3707301245864095e-05}. Best is trial 221 with value: 0.8070707070707072.\u001b[0m\n",
      "\u001b[32m[I 2023-06-22 22:05:54,694]\u001b[0m Trial 419 finished with value: 0.7343434343434343 and parameters: {'n_estimators': 272, 'max_depth': 4, 'learning_rate': 0.16664189027000512, 'min_child_weight': 4, 'gamma': 0.0001932247502818903, 'subsample': 0.11075736782538477, 'colsample_bytree': 0.024910552550603576, 'reg_alpha': 0.503081245523714, 'reg_lambda': 0.0010677495393464763}. Best is trial 221 with value: 0.8070707070707072.\u001b[0m\n",
      "\u001b[32m[I 2023-06-22 22:05:55,019]\u001b[0m Trial 420 finished with value: 0.7363636363636363 and parameters: {'n_estimators': 219, 'max_depth': 4, 'learning_rate': 0.4894727777447644, 'min_child_weight': 5, 'gamma': 0.009054764720283378, 'subsample': 0.12726386858226132, 'colsample_bytree': 0.10848704475432791, 'reg_alpha': 0.977486952624899, 'reg_lambda': 0.028419387162235934}. Best is trial 221 with value: 0.8070707070707072.\u001b[0m\n",
      "\u001b[32m[I 2023-06-22 22:05:55,394]\u001b[0m Trial 421 finished with value: 0.7616161616161616 and parameters: {'n_estimators': 225, 'max_depth': 4, 'learning_rate': 0.02837777063589579, 'min_child_weight': 5, 'gamma': 0.004969212573736673, 'subsample': 0.17469093312448092, 'colsample_bytree': 0.044013386560354965, 'reg_alpha': 0.27419134464298983, 'reg_lambda': 0.0014313375423009424}. Best is trial 221 with value: 0.8070707070707072.\u001b[0m\n",
      "\u001b[32m[I 2023-06-22 22:05:55,813]\u001b[0m Trial 422 finished with value: 0.7010101010101009 and parameters: {'n_estimators': 241, 'max_depth': 3, 'learning_rate': 0.1995054570656697, 'min_child_weight': 5, 'gamma': 0.0005159024893026184, 'subsample': 0.5726294415361946, 'colsample_bytree': 0.9335142364137116, 'reg_alpha': 0.3781784022484469, 'reg_lambda': 0.009019997084686938}. Best is trial 221 with value: 0.8070707070707072.\u001b[0m\n",
      "\u001b[32m[I 2023-06-22 22:05:56,135]\u001b[0m Trial 423 finished with value: 0.7363636363636363 and parameters: {'n_estimators': 217, 'max_depth': 5, 'learning_rate': 0.648407123125214, 'min_child_weight': 5, 'gamma': 0.003513423993500729, 'subsample': 0.09683914389043168, 'colsample_bytree': 0.049908065300893395, 'reg_alpha': 0.16572409513779596, 'reg_lambda': 0.0030866160297668534}. Best is trial 221 with value: 0.8070707070707072.\u001b[0m\n",
      "\u001b[32m[I 2023-06-22 22:05:56,580]\u001b[0m Trial 424 finished with value: 0.7353535353535354 and parameters: {'n_estimators': 189, 'max_depth': 4, 'learning_rate': 0.07979886555317942, 'min_child_weight': 4, 'gamma': 0.013506282686168032, 'subsample': 0.34123460938233363, 'colsample_bytree': 0.031188635857567284, 'reg_alpha': 0.010278934193513679, 'reg_lambda': 0.16172907045322782}. Best is trial 221 with value: 0.8070707070707072.\u001b[0m\n",
      "\u001b[32m[I 2023-06-22 22:05:56,946]\u001b[0m Trial 425 finished with value: 0.693939393939394 and parameters: {'n_estimators': 232, 'max_depth': 4, 'learning_rate': 0.9515429714292819, 'min_child_weight': 6, 'gamma': 0.00010516952321734687, 'subsample': 0.21620514694256526, 'colsample_bytree': 0.03448741585376024, 'reg_alpha': 9.026356638477106e-08, 'reg_lambda': 0.0007905693833607616}. Best is trial 221 with value: 0.8070707070707072.\u001b[0m\n",
      "\u001b[32m[I 2023-06-22 22:05:57,314]\u001b[0m Trial 426 finished with value: 0.7545454545454545 and parameters: {'n_estimators': 200, 'max_depth': 4, 'learning_rate': 0.0613494495346787, 'min_child_weight': 5, 'gamma': 9.30942308446037e-06, 'subsample': 0.27257768427885054, 'colsample_bytree': 0.06271952825961652, 'reg_alpha': 1.189275656476997e-06, 'reg_lambda': 0.0018813629162546899}. Best is trial 221 with value: 0.8070707070707072.\u001b[0m\n",
      "\u001b[32m[I 2023-06-22 22:05:57,765]\u001b[0m Trial 427 finished with value: 0.7272727272727272 and parameters: {'n_estimators': 247, 'max_depth': 4, 'learning_rate': 0.04222051528027987, 'min_child_weight': 6, 'gamma': 0.111181674740111, 'subsample': 0.6566745177672411, 'colsample_bytree': 0.08849072326631696, 'reg_alpha': 0.004451118940885492, 'reg_lambda': 4.0837241655982245e-06}. Best is trial 221 with value: 0.8070707070707072.\u001b[0m\n",
      "\u001b[32m[I 2023-06-22 22:05:58,127]\u001b[0m Trial 428 finished with value: 0.5 and parameters: {'n_estimators': 261, 'max_depth': 4, 'learning_rate': 0.52853152357547, 'min_child_weight': 6, 'gamma': 3.743074955607626e-05, 'subsample': 0.017913076493083335, 'colsample_bytree': 0.028358987437409708, 'reg_alpha': 0.00017226714161727358, 'reg_lambda': 1.4755049988361151e-05}. Best is trial 221 with value: 0.8070707070707072.\u001b[0m\n",
      "\u001b[32m[I 2023-06-22 22:05:58,512]\u001b[0m Trial 429 finished with value: 0.7535353535353535 and parameters: {'n_estimators': 225, 'max_depth': 4, 'learning_rate': 0.09731622787108807, 'min_child_weight': 5, 'gamma': 0.000341159240022148, 'subsample': 0.30278594755847166, 'colsample_bytree': 0.03956843732418843, 'reg_alpha': 3.0980377994375964e-07, 'reg_lambda': 5.0685692089148625e-05}. Best is trial 221 with value: 0.8070707070707072.\u001b[0m\n",
      "\u001b[32m[I 2023-06-22 22:05:58,858]\u001b[0m Trial 430 finished with value: 0.788888888888889 and parameters: {'n_estimators': 210, 'max_depth': 4, 'learning_rate': 0.06875859808368506, 'min_child_weight': 6, 'gamma': 0.02202888197356068, 'subsample': 0.2429976462927985, 'colsample_bytree': 0.07989115124432249, 'reg_alpha': 5.658393146397915e-08, 'reg_lambda': 0.25811453526378525}. Best is trial 221 with value: 0.8070707070707072.\u001b[0m\n",
      "\u001b[32m[I 2023-06-22 22:05:59,241]\u001b[0m Trial 431 finished with value: 0.6787878787878788 and parameters: {'n_estimators': 237, 'max_depth': 4, 'learning_rate': 0.5759455856646413, 'min_child_weight': 4, 'gamma': 0.0029235241983093566, 'subsample': 0.2666690652762745, 'colsample_bytree': 0.13738295234373768, 'reg_alpha': 4.825243907194707e-07, 'reg_lambda': 0.0003621793386019319}. Best is trial 221 with value: 0.8070707070707072.\u001b[0m\n",
      "\u001b[32m[I 2023-06-22 22:05:59,592]\u001b[0m Trial 432 finished with value: 0.7444444444444445 and parameters: {'n_estimators': 218, 'max_depth': 4, 'learning_rate': 0.12304999344745712, 'min_child_weight': 7, 'gamma': 0.006841429063229664, 'subsample': 0.22984209010036796, 'colsample_bytree': 0.02313549076577512, 'reg_alpha': 1.793402385167806e-07, 'reg_lambda': 0.019379562201873514}. Best is trial 221 with value: 0.8070707070707072.\u001b[0m\n",
      "\u001b[32m[I 2023-06-22 22:05:59,953]\u001b[0m Trial 433 finished with value: 0.7626262626262625 and parameters: {'n_estimators': 231, 'max_depth': 6, 'learning_rate': 0.027930979770590857, 'min_child_weight': 5, 'gamma': 0.46062715345344957, 'subsample': 0.20273779579623333, 'colsample_bytree': 0.016301377612061463, 'reg_alpha': 0.6141887879022937, 'reg_lambda': 3.282234568742881e-05}. Best is trial 221 with value: 0.8070707070707072.\u001b[0m\n",
      "\u001b[32m[I 2023-06-22 22:06:00,325]\u001b[0m Trial 434 finished with value: 0.7696969696969697 and parameters: {'n_estimators': 206, 'max_depth': 4, 'learning_rate': 0.08500534768352856, 'min_child_weight': 6, 'gamma': 0.030718291050284924, 'subsample': 0.2915716474426246, 'colsample_bytree': 0.03293930585876531, 'reg_alpha': 0.016644121840093846, 'reg_lambda': 0.004101575122185568}. Best is trial 221 with value: 0.8070707070707072.\u001b[0m\n",
      "\u001b[32m[I 2023-06-22 22:06:00,742]\u001b[0m Trial 435 finished with value: 0.7545454545454545 and parameters: {'n_estimators': 223, 'max_depth': 4, 'learning_rate': 0.045113227088573946, 'min_child_weight': 6, 'gamma': 0.014386080907709613, 'subsample': 0.38383137887256236, 'colsample_bytree': 0.03687041769805239, 'reg_alpha': 0.007894426619168143, 'reg_lambda': 0.00011320337277426905}. Best is trial 221 with value: 0.8070707070707072.\u001b[0m\n",
      "\u001b[32m[I 2023-06-22 22:06:01,156]\u001b[0m Trial 436 finished with value: 0.7585858585858585 and parameters: {'n_estimators': 246, 'max_depth': 4, 'learning_rate': 0.06407395705290576, 'min_child_weight': 5, 'gamma': 0.19305638343118334, 'subsample': 0.2523770762654721, 'colsample_bytree': 0.027183117543466365, 'reg_alpha': 6.666166799315298e-07, 'reg_lambda': 6.503857724460643e-08}. Best is trial 221 with value: 0.8070707070707072.\u001b[0m\n",
      "\u001b[32m[I 2023-06-22 22:06:01,531]\u001b[0m Trial 437 finished with value: 0.7282828282828282 and parameters: {'n_estimators': 233, 'max_depth': 5, 'learning_rate': 0.2273481034073001, 'min_child_weight': 6, 'gamma': 0.39914505860981286, 'subsample': 0.22020677391809831, 'colsample_bytree': 0.07232147932394696, 'reg_alpha': 0.9847431245935497, 'reg_lambda': 0.01276145588494456}. Best is trial 221 with value: 0.8070707070707072.\u001b[0m\n",
      "\u001b[32m[I 2023-06-22 22:06:01,917]\u001b[0m Trial 438 finished with value: 0.7181818181818183 and parameters: {'n_estimators': 214, 'max_depth': 4, 'learning_rate': 0.012158818779276916, 'min_child_weight': 6, 'gamma': 0.004801059975585564, 'subsample': 0.27048997717525175, 'colsample_bytree': 0.19213876800112017, 'reg_alpha': 0.02874239108262847, 'reg_lambda': 0.00506586192415436}. Best is trial 221 with value: 0.8070707070707072.\u001b[0m\n",
      "\u001b[32m[I 2023-06-22 22:06:02,250]\u001b[0m Trial 439 finished with value: 0.5 and parameters: {'n_estimators': 199, 'max_depth': 3, 'learning_rate': 0.10884744210747277, 'min_child_weight': 4, 'gamma': 0.8643343853212377, 'subsample': 0.043174314005735466, 'colsample_bytree': 0.04699121900087564, 'reg_alpha': 0.0004760731830337991, 'reg_lambda': 0.0005246392671273564}. Best is trial 221 with value: 0.8070707070707072.\u001b[0m\n",
      "\u001b[32m[I 2023-06-22 22:06:02,607]\u001b[0m Trial 440 finished with value: 0.7373737373737373 and parameters: {'n_estimators': 225, 'max_depth': 4, 'learning_rate': 0.05486538849636983, 'min_child_weight': 5, 'gamma': 0.0024784872023014153, 'subsample': 0.11746478248964692, 'colsample_bytree': 0.030281745856581273, 'reg_alpha': 4.349388448340385e-05, 'reg_lambda': 0.0002820701440853291}. Best is trial 221 with value: 0.8070707070707072.\u001b[0m\n",
      "\u001b[32m[I 2023-06-22 22:06:03,028]\u001b[0m Trial 441 finished with value: 0.6808080808080808 and parameters: {'n_estimators': 255, 'max_depth': 4, 'learning_rate': 0.4163626737254419, 'min_child_weight': 6, 'gamma': 6.31155772031206e-06, 'subsample': 0.31098356412009354, 'colsample_bytree': 0.041610530445522674, 'reg_alpha': 0.0025193032846136886, 'reg_lambda': 6.559231751606764e-05}. Best is trial 221 with value: 0.8070707070707072.\u001b[0m\n",
      "\u001b[32m[I 2023-06-22 22:06:03,424]\u001b[0m Trial 442 finished with value: 0.7141414141414141 and parameters: {'n_estimators': 239, 'max_depth': 4, 'learning_rate': 0.4485416634034995, 'min_child_weight': 5, 'gamma': 0.26784527739454655, 'subsample': 0.18321193807771397, 'colsample_bytree': 0.014808335986153129, 'reg_alpha': 2.5262524797933776e-06, 'reg_lambda': 0.0011825099730156951}. Best is trial 221 with value: 0.8070707070707072.\u001b[0m\n",
      "\u001b[32m[I 2023-06-22 22:06:03,803]\u001b[0m Trial 443 finished with value: 0.7555555555555555 and parameters: {'n_estimators': 215, 'max_depth': 4, 'learning_rate': 0.17986834294580023, 'min_child_weight': 6, 'gamma': 2.3341806103098493e-05, 'subsample': 0.23684433384777895, 'colsample_bytree': 0.019200851580950484, 'reg_alpha': 0.4778355077297927, 'reg_lambda': 0.05276275309544675}. Best is trial 221 with value: 0.8070707070707072.\u001b[0m\n",
      "\u001b[32m[I 2023-06-22 22:06:04,151]\u001b[0m Trial 444 finished with value: 0.5 and parameters: {'n_estimators': 231, 'max_depth': 4, 'learning_rate': 0.0843117289091302, 'min_child_weight': 4, 'gamma': 3.849766050914877e-08, 'subsample': 0.029011774890736124, 'colsample_bytree': 0.09677498821767776, 'reg_alpha': 0.02292981459426056, 'reg_lambda': 5.197745241141769e-07}. Best is trial 221 with value: 0.8070707070707072.\u001b[0m\n",
      "\u001b[32m[I 2023-06-22 22:06:04,514]\u001b[0m Trial 445 finished with value: 0.6414141414141414 and parameters: {'n_estimators': 242, 'max_depth': 4, 'learning_rate': 0.1438162905870402, 'min_child_weight': 5, 'gamma': 0.0009259084940662298, 'subsample': 0.07517974970245946, 'colsample_bytree': 0.07605399509507406, 'reg_alpha': 0.3257977336852661, 'reg_lambda': 6.91641127327006e-06}. Best is trial 221 with value: 0.8070707070707072.\u001b[0m\n",
      "\u001b[32m[I 2023-06-22 22:06:04,950]\u001b[0m Trial 446 finished with value: 0.7191919191919192 and parameters: {'n_estimators': 221, 'max_depth': 4, 'learning_rate': 0.037133429096858676, 'min_child_weight': 6, 'gamma': 0.021932556883286863, 'subsample': 0.8379446618847656, 'colsample_bytree': 0.024797146170552523, 'reg_alpha': 0.03697340100819899, 'reg_lambda': 0.00014645925620662906}. Best is trial 221 with value: 0.8070707070707072.\u001b[0m\n",
      "\u001b[32m[I 2023-06-22 22:06:05,200]\u001b[0m Trial 447 finished with value: 0.7020202020202019 and parameters: {'n_estimators': 63, 'max_depth': 5, 'learning_rate': 0.07268355880686397, 'min_child_weight': 6, 'gamma': 6.797122415534025e-05, 'subsample': 0.20856007812963256, 'colsample_bytree': 0.03389446314879491, 'reg_alpha': 0.01457997427613085, 'reg_lambda': 1.4084156422362798e-06}. Best is trial 221 with value: 0.8070707070707072.\u001b[0m\n",
      "\u001b[32m[I 2023-06-22 22:06:05,607]\u001b[0m Trial 448 finished with value: 0.7262626262626263 and parameters: {'n_estimators': 194, 'max_depth': 3, 'learning_rate': 0.09648746956865142, 'min_child_weight': 3, 'gamma': 0.00014449641160017534, 'subsample': 0.25465415596897917, 'colsample_bytree': 0.03003646188083701, 'reg_alpha': 0.09936113174748348, 'reg_lambda': 0.00023940764842563322}. Best is trial 221 with value: 0.8070707070707072.\u001b[0m\n",
      "\u001b[32m[I 2023-06-22 22:06:05,938]\u001b[0m Trial 449 finished with value: 0.703030303030303 and parameters: {'n_estimators': 206, 'max_depth': 4, 'learning_rate': 0.24370120680448704, 'min_child_weight': 5, 'gamma': 0.003788202936761797, 'subsample': 0.13697301253703212, 'colsample_bytree': 0.03786900405938785, 'reg_alpha': 0.6573988408665221, 'reg_lambda': 0.0008385665938148002}. Best is trial 221 with value: 0.8070707070707072.\u001b[0m\n",
      "\u001b[32m[I 2023-06-22 22:06:06,363]\u001b[0m Trial 450 finished with value: 0.7090909090909091 and parameters: {'n_estimators': 251, 'max_depth': 4, 'learning_rate': 0.3718742834900721, 'min_child_weight': 6, 'gamma': 1.3127006648094296e-05, 'subsample': 0.34353242866293804, 'colsample_bytree': 0.027875824803326205, 'reg_alpha': 0.059378270618790675, 'reg_lambda': 3.2304234888103275e-07}. Best is trial 221 with value: 0.8070707070707072.\u001b[0m\n",
      "\u001b[32m[I 2023-06-22 22:06:06,728]\u001b[0m Trial 451 finished with value: 0.7212121212121212 and parameters: {'n_estimators': 228, 'max_depth': 4, 'learning_rate': 0.6072286338397326, 'min_child_weight': 6, 'gamma': 0.06873078011861389, 'subsample': 0.1695120941717749, 'colsample_bytree': 0.05656213862066378, 'reg_alpha': 2.6915427271267496e-05, 'reg_lambda': 0.00046558467327274594}. Best is trial 221 with value: 0.8070707070707072.\u001b[0m\n",
      "\u001b[32m[I 2023-06-22 22:06:07,077]\u001b[0m Trial 452 finished with value: 0.7747474747474747 and parameters: {'n_estimators': 215, 'max_depth': 4, 'learning_rate': 0.04673940976494036, 'min_child_weight': 5, 'gamma': 4.2253591645061444e-06, 'subsample': 0.14862961102855984, 'colsample_bytree': 0.032935322464753156, 'reg_alpha': 0.00012109618648155444, 'reg_lambda': 0.009234603152190556}. Best is trial 221 with value: 0.8070707070707072.\u001b[0m\n",
      "\u001b[32m[I 2023-06-22 22:06:07,460]\u001b[0m Trial 453 finished with value: 0.7484848484848485 and parameters: {'n_estimators': 237, 'max_depth': 4, 'learning_rate': 0.12321675955449302, 'min_child_weight': 6, 'gamma': 0.14298920943185056, 'subsample': 0.29787548138832903, 'colsample_bytree': 0.04324979776209543, 'reg_alpha': 0.20542764439068595, 'reg_lambda': 1.85681952788696e-05}. Best is trial 221 with value: 0.8070707070707072.\u001b[0m\n",
      "\u001b[32m[I 2023-06-22 22:06:07,846]\u001b[0m Trial 454 finished with value: 0.7171717171717172 and parameters: {'n_estimators': 223, 'max_depth': 4, 'learning_rate': 0.4818772119057415, 'min_child_weight': 5, 'gamma': 0.001619435584696177, 'subsample': 0.23305299940733856, 'colsample_bytree': 0.02644544737179577, 'reg_alpha': 0.010528754676696965, 'reg_lambda': 1.2744831902745754e-07}. Best is trial 221 with value: 0.8070707070707072.\u001b[0m\n",
      "\u001b[32m[I 2023-06-22 22:06:08,199]\u001b[0m Trial 455 finished with value: 0.5 and parameters: {'n_estimators': 244, 'max_depth': 4, 'learning_rate': 0.061179226524152294, 'min_child_weight': 7, 'gamma': 0.00027487512542988604, 'subsample': 0.06623357181090374, 'colsample_bytree': 0.036007913621404423, 'reg_alpha': 5.161506203767747e-06, 'reg_lambda': 9.58546528052486e-05}. Best is trial 221 with value: 0.8070707070707072.\u001b[0m\n",
      "\u001b[32m[I 2023-06-22 22:06:08,526]\u001b[0m Trial 456 finished with value: 0.7353535353535353 and parameters: {'n_estimators': 182, 'max_depth': 4, 'learning_rate': 0.027743513160331815, 'min_child_weight': 6, 'gamma': 0.19255523572129474, 'subsample': 0.19199700978344364, 'colsample_bytree': 0.11159023758342854, 'reg_alpha': 0.0014619600497734564, 'reg_lambda': 1.1225082365867302e-05}. Best is trial 221 with value: 0.8070707070707072.\u001b[0m\n",
      "\u001b[32m[I 2023-06-22 22:06:08,893]\u001b[0m Trial 457 finished with value: 0.6505050505050505 and parameters: {'n_estimators': 206, 'max_depth': 4, 'learning_rate': 0.517757838164448, 'min_child_weight': 5, 'gamma': 0.023522444872865957, 'subsample': 0.2769785420973295, 'colsample_bytree': 0.03034359135072009, 'reg_alpha': 2.018155975983307e-08, 'reg_lambda': 0.03422615745563382}. Best is trial 221 with value: 0.8070707070707072.\u001b[0m\n",
      "\u001b[32m[I 2023-06-22 22:06:09,280]\u001b[0m Trial 458 finished with value: 0.7444444444444445 and parameters: {'n_estimators': 232, 'max_depth': 4, 'learning_rate': 0.08248325113328128, 'min_child_weight': 6, 'gamma': 0.0016936123840666372, 'subsample': 0.2196510003921727, 'colsample_bytree': 0.022261319074246316, 'reg_alpha': 0.0007774309849225458, 'reg_lambda': 2.1885829123743e-06}. Best is trial 221 with value: 0.8070707070707072.\u001b[0m\n",
      "\u001b[32m[I 2023-06-22 22:06:09,699]\u001b[0m Trial 459 finished with value: 0.7232323232323232 and parameters: {'n_estimators': 260, 'max_depth': 4, 'learning_rate': 0.010213299684420439, 'min_child_weight': 6, 'gamma': 1.622168266553415e-07, 'subsample': 0.2575064301505873, 'colsample_bytree': 0.08548067140426657, 'reg_alpha': 1.8619389911096722e-05, 'reg_lambda': 0.011267634595230815}. Best is trial 221 with value: 0.8070707070707072.\u001b[0m\n",
      "\u001b[32m[I 2023-06-22 22:06:10,029]\u001b[0m Trial 460 finished with value: 0.5 and parameters: {'n_estimators': 217, 'max_depth': 4, 'learning_rate': 0.49798622636988366, 'min_child_weight': 5, 'gamma': 8.394471659730142e-05, 'subsample': 0.021158835116192983, 'colsample_bytree': 0.03856291331803483, 'reg_alpha': 3.2439415618167325e-08, 'reg_lambda': 0.006081971446916408}. Best is trial 221 with value: 0.8070707070707072.\u001b[0m\n",
      "\u001b[32m[I 2023-06-22 22:06:10,406]\u001b[0m Trial 461 finished with value: 0.7777777777777778 and parameters: {'n_estimators': 226, 'max_depth': 5, 'learning_rate': 0.0603432579023092, 'min_child_weight': 6, 'gamma': 2.0098784720614635e-06, 'subsample': 0.24374778930109173, 'colsample_bytree': 0.032219504465097804, 'reg_alpha': 0.0036104562591281063, 'reg_lambda': 0.00017198341184658083}. Best is trial 221 with value: 0.8070707070707072.\u001b[0m\n",
      "\u001b[32m[I 2023-06-22 22:06:10,865]\u001b[0m Trial 462 finished with value: 0.6565656565656566 and parameters: {'n_estimators': 208, 'max_depth': 4, 'learning_rate': 0.2077239322294932, 'min_child_weight': 4, 'gamma': 3.3435875018326273e-07, 'subsample': 0.49156924481222786, 'colsample_bytree': 0.04736003530451116, 'reg_alpha': 0.005517105316598535, 'reg_lambda': 0.016473878419407284}. Best is trial 221 with value: 0.8070707070707072.\u001b[0m\n",
      "\u001b[32m[I 2023-06-22 22:06:11,249]\u001b[0m Trial 463 finished with value: 0.7282828282828282 and parameters: {'n_estimators': 235, 'max_depth': 3, 'learning_rate': 0.25902007180219205, 'min_child_weight': 6, 'gamma': 0.009267055924242892, 'subsample': 0.3175355143072205, 'colsample_bytree': 0.024146808885946818, 'reg_alpha': 0.018191959829371725, 'reg_lambda': 7.887274660957042e-07}. Best is trial 221 with value: 0.8070707070707072.\u001b[0m\n",
      "\u001b[32m[I 2023-06-22 22:06:11,686]\u001b[0m Trial 464 finished with value: 0.7070707070707071 and parameters: {'n_estimators': 249, 'max_depth': 4, 'learning_rate': 0.09691132684239216, 'min_child_weight': 5, 'gamma': 0.03394873923059684, 'subsample': 0.7950003491944236, 'colsample_bytree': 0.02764954854616849, 'reg_alpha': 0.7034482012903518, 'reg_lambda': 0.0003630319069719725}. Best is trial 221 with value: 0.8070707070707072.\u001b[0m\n",
      "\u001b[32m[I 2023-06-22 22:06:12,065]\u001b[0m Trial 465 finished with value: 0.7212121212121212 and parameters: {'n_estimators': 219, 'max_depth': 4, 'learning_rate': 0.15810176848476842, 'min_child_weight': 7, 'gamma': 5.088809796772184e-06, 'subsample': 0.2784022793036687, 'colsample_bytree': 0.5234317120006806, 'reg_alpha': 0.02728215697995337, 'reg_lambda': 2.999829636628352e-05}. Best is trial 221 with value: 0.8070707070707072.\u001b[0m\n",
      "\u001b[32m[I 2023-06-22 22:06:12,418]\u001b[0m Trial 466 finished with value: 0.7616161616161616 and parameters: {'n_estimators': 191, 'max_depth': 4, 'learning_rate': 0.04100876350297546, 'min_child_weight': 6, 'gamma': 0.01430526274114552, 'subsample': 0.21030853099976868, 'colsample_bytree': 0.03563780213938818, 'reg_alpha': 2.555614316798458e-07, 'reg_lambda': 0.0006122529081106551}. Best is trial 221 with value: 0.8070707070707072.\u001b[0m\n",
      "\u001b[32m[I 2023-06-22 22:06:12,833]\u001b[0m Trial 467 finished with value: 0.6969696969696969 and parameters: {'n_estimators': 271, 'max_depth': 4, 'learning_rate': 0.32380630319283477, 'min_child_weight': 5, 'gamma': 0.1620571508681093, 'subsample': 0.23672107103558923, 'colsample_bytree': 0.04018113930393672, 'reg_alpha': 0.13682361484610656, 'reg_lambda': 0.00026563828268178657}. Best is trial 221 with value: 0.8070707070707072.\u001b[0m\n",
      "\u001b[32m[I 2023-06-22 22:06:13,228]\u001b[0m Trial 468 finished with value: 0.7484848484848485 and parameters: {'n_estimators': 240, 'max_depth': 5, 'learning_rate': 0.11064360273724122, 'min_child_weight': 6, 'gamma': 0.11745077643203324, 'subsample': 0.19573527129670626, 'colsample_bytree': 0.38757761623115417, 'reg_alpha': 1.4394206154414847e-06, 'reg_lambda': 0.00012904793784755038}. Best is trial 221 with value: 0.8070707070707072.\u001b[0m\n",
      "\u001b[32m[I 2023-06-22 22:06:13,623]\u001b[0m Trial 469 finished with value: 0.7010101010101009 and parameters: {'n_estimators': 229, 'max_depth': 4, 'learning_rate': 0.43037906812520477, 'min_child_weight': 5, 'gamma': 7.961035149362008e-06, 'subsample': 0.4038402242832838, 'colsample_bytree': 0.05185980796308607, 'reg_alpha': 0.47341358731947486, 'reg_lambda': 6.704954068603449e-05}. Best is trial 221 with value: 0.8070707070707072.\u001b[0m\n",
      "\u001b[32m[I 2023-06-22 22:06:14,000]\u001b[0m Trial 470 finished with value: 0.7404040404040404 and parameters: {'n_estimators': 212, 'max_depth': 4, 'learning_rate': 0.07685032528668932, 'min_child_weight': 6, 'gamma': 2.926357652523261e-06, 'subsample': 0.2643806794607866, 'colsample_bytree': 0.8794650911358384, 'reg_alpha': 0.345184085485464, 'reg_lambda': 2.1998284801664943e-07}. Best is trial 221 with value: 0.8070707070707072.\u001b[0m\n",
      "\u001b[32m[I 2023-06-22 22:06:14,382]\u001b[0m Trial 471 finished with value: 0.7595959595959596 and parameters: {'n_estimators': 198, 'max_depth': 4, 'learning_rate': 0.05653305634591205, 'min_child_weight': 4, 'gamma': 0.5857042614419501, 'subsample': 0.29976795761210656, 'colsample_bytree': 0.02993594006551649, 'reg_alpha': 6.728869900772728e-08, 'reg_lambda': 0.005639761938851042}. Best is trial 221 with value: 0.8070707070707072.\u001b[0m\n",
      "\u001b[32m[I 2023-06-22 22:06:14,775]\u001b[0m Trial 472 finished with value: 0.694949494949495 and parameters: {'n_estimators': 222, 'max_depth': 3, 'learning_rate': 0.3532045389097115, 'min_child_weight': 5, 'gamma': 2.7401952506640463e-05, 'subsample': 0.45402242549228045, 'colsample_bytree': 0.03289034809241201, 'reg_alpha': 0.00024252542860542844, 'reg_lambda': 5.700761059665471e-06}. Best is trial 221 with value: 0.8070707070707072.\u001b[0m\n",
      "\u001b[32m[I 2023-06-22 22:06:15,109]\u001b[0m Trial 473 finished with value: 0.5 and parameters: {'n_estimators': 237, 'max_depth': 4, 'learning_rate': 0.03089836710100344, 'min_child_weight': 6, 'gamma': 0.046619809365063755, 'subsample': 0.045176071432717284, 'colsample_bytree': 0.025864858389497335, 'reg_alpha': 3.9310875317922584e-08, 'reg_lambda': 3.8562440765733037e-07}. Best is trial 221 with value: 0.8070707070707072.\u001b[0m\n",
      "\u001b[32m[I 2023-06-22 22:06:15,480]\u001b[0m Trial 474 finished with value: 0.5 and parameters: {'n_estimators': 255, 'max_depth': 4, 'learning_rate': 0.12908158704365263, 'min_child_weight': 5, 'gamma': 0.00013857872379103062, 'subsample': 0.03857599122363068, 'colsample_bytree': 0.0128150116357767, 'reg_alpha': 0.040719270336780126, 'reg_lambda': 0.002476864437362907}. Best is trial 221 with value: 0.8070707070707072.\u001b[0m\n",
      "\u001b[32m[I 2023-06-22 22:06:15,804]\u001b[0m Trial 475 finished with value: 0.7292929292929293 and parameters: {'n_estimators': 212, 'max_depth': 4, 'learning_rate': 0.8675477986369429, 'min_child_weight': 6, 'gamma': 0.006571987121840123, 'subsample': 0.10328870468842408, 'colsample_bytree': 0.03544581446738739, 'reg_alpha': 0.07659256956079627, 'reg_lambda': 0.02355470795377443}. Best is trial 221 with value: 0.8070707070707072.\u001b[0m\n",
      "\u001b[32m[I 2023-06-22 22:06:16,167]\u001b[0m Trial 476 finished with value: 0.7454545454545455 and parameters: {'n_estimators': 227, 'max_depth': 2, 'learning_rate': 0.08037431734829131, 'min_child_weight': 6, 'gamma': 1.0890971718487632e-05, 'subsample': 0.16596098870610537, 'colsample_bytree': 0.021167218147806414, 'reg_alpha': 1.9298756035900864e-06, 'reg_lambda': 0.00020514696100070243}. Best is trial 221 with value: 0.8070707070707072.\u001b[0m\n",
      "\u001b[32m[I 2023-06-22 22:06:16,513]\u001b[0m Trial 477 finished with value: 0.7373737373737372 and parameters: {'n_estimators': 204, 'max_depth': 4, 'learning_rate': 0.32037290438563265, 'min_child_weight': 5, 'gamma': 0.006157081117921112, 'subsample': 0.22041953837228595, 'colsample_bytree': 0.02932974115704085, 'reg_alpha': 0.9438899625821595, 'reg_lambda': 0.0065196260364656896}. Best is trial 221 with value: 0.8070707070707072.\u001b[0m\n",
      "\u001b[32m[I 2023-06-22 22:06:16,905]\u001b[0m Trial 478 finished with value: 0.7777777777777778 and parameters: {'n_estimators': 220, 'max_depth': 5, 'learning_rate': 0.10165003494788993, 'min_child_weight': 6, 'gamma': 1.3330892989527769e-06, 'subsample': 0.24776233644852572, 'colsample_bytree': 0.04319123534288256, 'reg_alpha': 0.020629142722129394, 'reg_lambda': 0.00037502956531148727}. Best is trial 221 with value: 0.8070707070707072.\u001b[0m\n",
      "\u001b[32m[I 2023-06-22 22:06:17,297]\u001b[0m Trial 479 finished with value: 0.7303030303030302 and parameters: {'n_estimators': 247, 'max_depth': 4, 'learning_rate': 0.06653322442985579, 'min_child_weight': 6, 'gamma': 0.0006789900019205545, 'subsample': 0.3483175002075273, 'colsample_bytree': 0.03238504128665666, 'reg_alpha': 1.452988329035546e-07, 'reg_lambda': 1.325152502823004e-06}. Best is trial 221 with value: 0.8070707070707072.\u001b[0m\n",
      "\u001b[32m[I 2023-06-22 22:06:17,715]\u001b[0m Trial 480 finished with value: 0.7686868686868688 and parameters: {'n_estimators': 233, 'max_depth': 4, 'learning_rate': 0.04549165085376807, 'min_child_weight': 5, 'gamma': 0.0011080333177998544, 'subsample': 0.29173931426069244, 'colsample_bytree': 0.10378324103294442, 'reg_alpha': 9.439332935016516e-07, 'reg_lambda': 9.130559272511351e-08}. Best is trial 221 with value: 0.8070707070707072.\u001b[0m\n",
      "\u001b[32m[I 2023-06-22 22:06:18,113]\u001b[0m Trial 481 finished with value: 0.7404040404040404 and parameters: {'n_estimators': 241, 'max_depth': 4, 'learning_rate': 0.025532105087608288, 'min_child_weight': 6, 'gamma': 0.009561710492582646, 'subsample': 0.18378721204250956, 'colsample_bytree': 0.6848994097893695, 'reg_alpha': 0.00848843005359492, 'reg_lambda': 6.380543216564397e-07}. Best is trial 221 with value: 0.8070707070707072.\u001b[0m\n",
      "\u001b[32m[I 2023-06-22 22:06:18,487]\u001b[0m Trial 482 finished with value: 0.7636363636363634 and parameters: {'n_estimators': 213, 'max_depth': 4, 'learning_rate': 0.08687536989878486, 'min_child_weight': 5, 'gamma': 7.644069626398344e-07, 'subsample': 0.2630830587522118, 'colsample_bytree': 0.06685944708174345, 'reg_alpha': 0.015332352980329065, 'reg_lambda': 3.633805661922151e-08}. Best is trial 221 with value: 0.8070707070707072.\u001b[0m\n",
      "\u001b[32m[I 2023-06-22 22:06:18,854]\u001b[0m Trial 483 finished with value: 0.7202020202020203 and parameters: {'n_estimators': 227, 'max_depth': 4, 'learning_rate': 0.9924772492550151, 'min_child_weight': 6, 'gamma': 4.89334647840765e-05, 'subsample': 0.22746949008858341, 'colsample_bytree': 0.027703192041323956, 'reg_alpha': 8.35480270307693e-05, 'reg_lambda': 0.000687949503869783}. Best is trial 221 with value: 0.8070707070707072.\u001b[0m\n",
      "\u001b[32m[I 2023-06-22 22:06:19,241]\u001b[0m Trial 484 finished with value: 0.7111111111111111 and parameters: {'n_estimators': 221, 'max_depth': 4, 'learning_rate': 0.36528398578611443, 'min_child_weight': 4, 'gamma': 0.0029474865485541856, 'subsample': 0.20490397820631798, 'colsample_bytree': 0.03876940634732943, 'reg_alpha': 0.2756389928221283, 'reg_lambda': 0.0011706593314122007}. Best is trial 221 with value: 0.8070707070707072.\u001b[0m\n",
      "\u001b[32m[I 2023-06-22 22:06:19,572]\u001b[0m Trial 485 finished with value: 0.5 and parameters: {'n_estimators': 202, 'max_depth': 7, 'learning_rate': 0.061764418133268474, 'min_child_weight': 6, 'gamma': 4.96768535706847e-07, 'subsample': 0.036726958255782684, 'colsample_bytree': 0.05907768160623969, 'reg_alpha': 0.0012079752019380078, 'reg_lambda': 4.369680127015034e-05}. Best is trial 221 with value: 0.8070707070707072.\u001b[0m\n",
      "\u001b[32m[I 2023-06-22 22:06:20,005]\u001b[0m Trial 486 finished with value: 0.692929292929293 and parameters: {'n_estimators': 233, 'max_depth': 4, 'learning_rate': 0.10992301500445714, 'min_child_weight': 8, 'gamma': 0.29969003605469724, 'subsample': 0.9998450861467142, 'colsample_bytree': 0.023717946511134822, 'reg_alpha': 6.802513765927565e-07, 'reg_lambda': 0.10937388100056997}. Best is trial 221 with value: 0.8070707070707072.\u001b[0m\n",
      "\u001b[32m[I 2023-06-22 22:06:20,417]\u001b[0m Trial 487 finished with value: 0.7181818181818181 and parameters: {'n_estimators': 264, 'max_depth': 4, 'learning_rate': 0.3346471582052699, 'min_child_weight': 7, 'gamma': 2.7182927185220633e-07, 'subsample': 0.3224798776585141, 'colsample_bytree': 0.03558869941620765, 'reg_alpha': 8.028115974935897e-08, 'reg_lambda': 0.0002719631658863967}. Best is trial 221 with value: 0.8070707070707072.\u001b[0m\n",
      "\u001b[32m[I 2023-06-22 22:06:20,758]\u001b[0m Trial 488 finished with value: 0.5 and parameters: {'n_estimators': 243, 'max_depth': 4, 'learning_rate': 0.038837468576636815, 'min_child_weight': 5, 'gamma': 1.9009468816114902e-06, 'subsample': 0.013768180275984447, 'colsample_bytree': 0.031178860589770267, 'reg_alpha': 0.5913790521490639, 'reg_lambda': 0.00011140376086626126}. Best is trial 221 with value: 0.8070707070707072.\u001b[0m\n",
      "\u001b[32m[I 2023-06-22 22:06:21,106]\u001b[0m Trial 489 finished with value: 0.7141414141414142 and parameters: {'n_estimators': 215, 'max_depth': 3, 'learning_rate': 0.5459767343172748, 'min_child_weight': 6, 'gamma': 0.00043640666631736285, 'subsample': 0.12562324109014122, 'colsample_bytree': 0.04177679227063884, 'reg_alpha': 0.00015274982535147484, 'reg_lambda': 0.00016771691639170258}. Best is trial 221 with value: 0.8070707070707072.\u001b[0m\n",
      "\u001b[32m[I 2023-06-22 22:06:21,504]\u001b[0m Trial 490 finished with value: 0.7737373737373737 and parameters: {'n_estimators': 254, 'max_depth': 4, 'learning_rate': 0.07550513801914446, 'min_child_weight': 6, 'gamma': 0.0002199427288413303, 'subsample': 0.24451614932596255, 'colsample_bytree': 0.02545116977932752, 'reg_alpha': 6.1066170920254236e-06, 'reg_lambda': 0.0004128394521875436}. Best is trial 221 with value: 0.8070707070707072.\u001b[0m\n",
      "\u001b[32m[I 2023-06-22 22:06:21,903]\u001b[0m Trial 491 finished with value: 0.7484848484848485 and parameters: {'n_estimators': 225, 'max_depth': 4, 'learning_rate': 0.05546782825977769, 'min_child_weight': 5, 'gamma': 3.334059464456052e-06, 'subsample': 0.2755574484579519, 'colsample_bytree': 0.04756905919737975, 'reg_alpha': 0.00035943699870002375, 'reg_lambda': 9.848001576718825e-07}. Best is trial 221 with value: 0.8070707070707072.\u001b[0m\n",
      "\u001b[32m[I 2023-06-22 22:06:22,199]\u001b[0m Trial 492 finished with value: 0.5 and parameters: {'n_estimators': 172, 'max_depth': 4, 'learning_rate': 0.148227460015064, 'min_child_weight': 6, 'gamma': 6.752621158283379e-06, 'subsample': 0.06329368414110975, 'colsample_bytree': 0.028813761213826047, 'reg_alpha': 0.04597524995976214, 'reg_lambda': 0.0015737556501077288}. Best is trial 221 with value: 0.8070707070707072.\u001b[0m\n",
      "\u001b[32m[I 2023-06-22 22:06:22,589]\u001b[0m Trial 493 finished with value: 0.7484848484848485 and parameters: {'n_estimators': 234, 'max_depth': 4, 'learning_rate': 0.0929688716306734, 'min_child_weight': 5, 'gamma': 0.061582031636708244, 'subsample': 0.22103522761000138, 'colsample_bytree': 0.034037425904078794, 'reg_alpha': 2.6352573743797702e-05, 'reg_lambda': 8.670804986531111e-05}. Best is trial 221 with value: 0.8070707070707072.\u001b[0m\n",
      "\u001b[32m[I 2023-06-22 22:06:22,953]\u001b[0m Trial 494 finished with value: 0.7484848484848485 and parameters: {'n_estimators': 194, 'max_depth': 5, 'learning_rate': 0.1255710112078333, 'min_child_weight': 4, 'gamma': 0.4222412498335197, 'subsample': 0.25671233743412813, 'colsample_bytree': 0.03804480410241505, 'reg_alpha': 0.03149312979523788, 'reg_lambda': 0.0037030229699776943}. Best is trial 221 with value: 0.8070707070707072.\u001b[0m\n",
      "\u001b[32m[I 2023-06-22 22:06:23,300]\u001b[0m Trial 495 finished with value: 0.6939393939393939 and parameters: {'n_estimators': 207, 'max_depth': 4, 'learning_rate': 0.023969622630894548, 'min_child_weight': 6, 'gamma': 1.6402298775694486e-05, 'subsample': 0.14507154726871652, 'colsample_bytree': 0.054607822550287975, 'reg_alpha': 4.509495045686661e-07, 'reg_lambda': 0.0005629110774368415}. Best is trial 221 with value: 0.8070707070707072.\u001b[0m\n",
      "\u001b[32m[I 2023-06-22 22:06:23,719]\u001b[0m Trial 496 finished with value: 0.6727272727272727 and parameters: {'n_estimators': 246, 'max_depth': 4, 'learning_rate': 0.2909987009258404, 'min_child_weight': 6, 'gamma': 0.2650628042969176, 'subsample': 0.6782807382173369, 'colsample_bytree': 0.01893029889042196, 'reg_alpha': 1.4623777421048558e-08, 'reg_lambda': 3.5745967571072628e-06}. Best is trial 221 with value: 0.8070707070707072.\u001b[0m\n",
      "\u001b[32m[I 2023-06-22 22:06:24,155]\u001b[0m Trial 497 finished with value: 0.7323232323232323 and parameters: {'n_estimators': 220, 'max_depth': 6, 'learning_rate': 0.06743309390438873, 'min_child_weight': 3, 'gamma': 1.126016286177417e-06, 'subsample': 0.2924341976505412, 'colsample_bytree': 0.030356789633716345, 'reg_alpha': 0.010716843187076323, 'reg_lambda': 5.3893747206928595e-08}. Best is trial 221 with value: 0.8070707070707072.\u001b[0m\n",
      "\u001b[32m[I 2023-06-22 22:06:24,490]\u001b[0m Trial 498 finished with value: 0.5 and parameters: {'n_estimators': 228, 'max_depth': 4, 'learning_rate': 0.04681373681121798, 'min_child_weight': 5, 'gamma': 1.7690389142854853e-08, 'subsample': 0.02432592494709097, 'colsample_bytree': 0.07861330985412113, 'reg_alpha': 0.005540058494336219, 'reg_lambda': 0.00025078146545433875}. Best is trial 221 with value: 0.8070707070707072.\u001b[0m\n",
      "\u001b[32m[I 2023-06-22 22:06:24,917]\u001b[0m Trial 499 finished with value: 0.6363636363636364 and parameters: {'n_estimators': 359, 'max_depth': 4, 'learning_rate': 0.5865870081889738, 'min_child_weight': 6, 'gamma': 3.856229706052682e-07, 'subsample': 0.08436215497168999, 'colsample_bytree': 0.02682370262047567, 'reg_alpha': 0.002039777726096432, 'reg_lambda': 2.023494306301108e-08}. Best is trial 221 with value: 0.8070707070707072.\u001b[0m\n"
     ]
    },
    {
     "name": "stdout",
     "output_type": "stream",
     "text": [
      "Number of finished trials: 500\n",
      "Best trial:\n",
      "  Value: 0.8070707070707072\n",
      "  Params: \n",
      "    n_estimators: 220\n",
      "    max_depth: 4\n",
      "    learning_rate: 0.053536249870884546\n",
      "    min_child_weight: 6\n",
      "    gamma: 5.04991706827234e-07\n",
      "    subsample: 0.244566024489099\n",
      "    colsample_bytree: 0.028440149073981538\n",
      "    reg_alpha: 0.009025049200511944\n",
      "    reg_lambda: 0.00019626764851658301\n"
     ]
    }
   ],
   "source": [
    "study = optuna.create_study(direction='maximize')\n",
    "study.optimize(objective, n_trials=500)\n",
    "\n",
    "print('Number of finished trials: {}'.format(len(study.trials)))\n",
    "print('Best trial:')\n",
    "trial = study.best_trial\n",
    "\n",
    "print('  Value: {}'.format(trial.value))\n",
    "print('  Params: ')\n",
    "\n",
    "for key, value in trial.params.items():\n",
    "    print('    {}: {}'.format(key, value))"
   ]
  },
  {
   "cell_type": "code",
   "execution_count": 32,
   "metadata": {},
   "outputs": [
    {
     "name": "stdout",
     "output_type": "stream",
     "text": [
      "[22:06:25] WARNING: C:\\Users\\dev-admin\\croot\\xgboost-split_1675120659361\\work\\src\\learner.cc:1115: Starting in XGBoost 1.3.0, the default evaluation metric used with the objective 'binary:logistic' was changed from 'error' to 'logloss'. Explicitly set eval_metric if you'd like to restore the old behavior.\n"
     ]
    },
    {
     "data": {
      "text/plain": [
       "XGBClassifier(base_score=0.5, booster='gbtree', colsample_bylevel=1,\n",
       "              colsample_bynode=1, colsample_bytree=0.028440149073981538,\n",
       "              enable_categorical=False, gamma=5.04991706827234e-07, gpu_id=-1,\n",
       "              importance_type=None, interaction_constraints='',\n",
       "              learning_rate=0.053536249870884546, max_delta_step=0, max_depth=4,\n",
       "              min_child_weight=6, missing=nan, monotone_constraints='()',\n",
       "              n_estimators=220, n_jobs=12, num_parallel_tree=1,\n",
       "              predictor='auto', random_state=0, reg_alpha=0.009025049200511944,\n",
       "              reg_lambda=0.00019626764851658301, scale_pos_weight=1,\n",
       "              subsample=0.244566024489099, tree_method='exact',\n",
       "              validate_parameters=1, verbosity=None)"
      ]
     },
     "execution_count": 32,
     "metadata": {},
     "output_type": "execute_result"
    }
   ],
   "source": [
    "params = trial.params\n",
    "\n",
    "optuna_xgb = XGBClassifier(**params)\n",
    "optuna_xgb.fit(x_train, y_train)"
   ]
  },
  {
   "cell_type": "code",
   "execution_count": 33,
   "metadata": {},
   "outputs": [],
   "source": [
    "optuna_xgb_pred = optuna_xgb.predict(x_test)"
   ]
  },
  {
   "cell_type": "code",
   "execution_count": 40,
   "metadata": {},
   "outputs": [
    {
     "data": {
      "application/vnd.plotly.v1+json": {
       "config": {
        "plotlyServerURL": "https://plot.ly"
       },
       "data": [
        {
         "cliponaxis": false,
         "hovertemplate": [
          "gamma (FloatDistribution): 8.648547908060259e-05<extra></extra>",
          "reg_lambda (FloatDistribution): 0.001417437277582757<extra></extra>",
          "colsample_bytree (FloatDistribution): 0.0021159293526983795<extra></extra>",
          "reg_alpha (FloatDistribution): 0.0022879068164394886<extra></extra>",
          "max_depth (IntDistribution): 0.0024013292223948684<extra></extra>",
          "n_estimators (IntDistribution): 0.04065275548505735<extra></extra>",
          "min_child_weight (IntDistribution): 0.04303886463274844<extra></extra>",
          "learning_rate (FloatDistribution): 0.09588101341691224<extra></extra>",
          "subsample (FloatDistribution): 0.8121182783170859<extra></extra>"
         ],
         "marker": {
          "color": "rgb(66,146,198)"
         },
         "orientation": "h",
         "text": [
          "<0.01",
          "<0.01",
          "<0.01",
          "<0.01",
          "<0.01",
          "0.04",
          "0.04",
          "0.10",
          "0.81"
         ],
         "textposition": "outside",
         "type": "bar",
         "x": [
          0.00008648547908060259,
          0.001417437277582757,
          0.0021159293526983795,
          0.0022879068164394886,
          0.0024013292223948684,
          0.04065275548505735,
          0.04303886463274844,
          0.09588101341691224,
          0.8121182783170859
         ],
         "y": [
          "gamma",
          "reg_lambda",
          "colsample_bytree",
          "reg_alpha",
          "max_depth",
          "n_estimators",
          "min_child_weight",
          "learning_rate",
          "subsample"
         ]
        }
       ],
       "layout": {
        "showlegend": false,
        "template": {
         "data": {
          "bar": [
           {
            "error_x": {
             "color": "#2a3f5f"
            },
            "error_y": {
             "color": "#2a3f5f"
            },
            "marker": {
             "line": {
              "color": "#E5ECF6",
              "width": 0.5
             },
             "pattern": {
              "fillmode": "overlay",
              "size": 10,
              "solidity": 0.2
             }
            },
            "type": "bar"
           }
          ],
          "barpolar": [
           {
            "marker": {
             "line": {
              "color": "#E5ECF6",
              "width": 0.5
             },
             "pattern": {
              "fillmode": "overlay",
              "size": 10,
              "solidity": 0.2
             }
            },
            "type": "barpolar"
           }
          ],
          "carpet": [
           {
            "aaxis": {
             "endlinecolor": "#2a3f5f",
             "gridcolor": "white",
             "linecolor": "white",
             "minorgridcolor": "white",
             "startlinecolor": "#2a3f5f"
            },
            "baxis": {
             "endlinecolor": "#2a3f5f",
             "gridcolor": "white",
             "linecolor": "white",
             "minorgridcolor": "white",
             "startlinecolor": "#2a3f5f"
            },
            "type": "carpet"
           }
          ],
          "choropleth": [
           {
            "colorbar": {
             "outlinewidth": 0,
             "ticks": ""
            },
            "type": "choropleth"
           }
          ],
          "contour": [
           {
            "colorbar": {
             "outlinewidth": 0,
             "ticks": ""
            },
            "colorscale": [
             [
              0,
              "#0d0887"
             ],
             [
              0.1111111111111111,
              "#46039f"
             ],
             [
              0.2222222222222222,
              "#7201a8"
             ],
             [
              0.3333333333333333,
              "#9c179e"
             ],
             [
              0.4444444444444444,
              "#bd3786"
             ],
             [
              0.5555555555555556,
              "#d8576b"
             ],
             [
              0.6666666666666666,
              "#ed7953"
             ],
             [
              0.7777777777777778,
              "#fb9f3a"
             ],
             [
              0.8888888888888888,
              "#fdca26"
             ],
             [
              1,
              "#f0f921"
             ]
            ],
            "type": "contour"
           }
          ],
          "contourcarpet": [
           {
            "colorbar": {
             "outlinewidth": 0,
             "ticks": ""
            },
            "type": "contourcarpet"
           }
          ],
          "heatmap": [
           {
            "colorbar": {
             "outlinewidth": 0,
             "ticks": ""
            },
            "colorscale": [
             [
              0,
              "#0d0887"
             ],
             [
              0.1111111111111111,
              "#46039f"
             ],
             [
              0.2222222222222222,
              "#7201a8"
             ],
             [
              0.3333333333333333,
              "#9c179e"
             ],
             [
              0.4444444444444444,
              "#bd3786"
             ],
             [
              0.5555555555555556,
              "#d8576b"
             ],
             [
              0.6666666666666666,
              "#ed7953"
             ],
             [
              0.7777777777777778,
              "#fb9f3a"
             ],
             [
              0.8888888888888888,
              "#fdca26"
             ],
             [
              1,
              "#f0f921"
             ]
            ],
            "type": "heatmap"
           }
          ],
          "heatmapgl": [
           {
            "colorbar": {
             "outlinewidth": 0,
             "ticks": ""
            },
            "colorscale": [
             [
              0,
              "#0d0887"
             ],
             [
              0.1111111111111111,
              "#46039f"
             ],
             [
              0.2222222222222222,
              "#7201a8"
             ],
             [
              0.3333333333333333,
              "#9c179e"
             ],
             [
              0.4444444444444444,
              "#bd3786"
             ],
             [
              0.5555555555555556,
              "#d8576b"
             ],
             [
              0.6666666666666666,
              "#ed7953"
             ],
             [
              0.7777777777777778,
              "#fb9f3a"
             ],
             [
              0.8888888888888888,
              "#fdca26"
             ],
             [
              1,
              "#f0f921"
             ]
            ],
            "type": "heatmapgl"
           }
          ],
          "histogram": [
           {
            "marker": {
             "pattern": {
              "fillmode": "overlay",
              "size": 10,
              "solidity": 0.2
             }
            },
            "type": "histogram"
           }
          ],
          "histogram2d": [
           {
            "colorbar": {
             "outlinewidth": 0,
             "ticks": ""
            },
            "colorscale": [
             [
              0,
              "#0d0887"
             ],
             [
              0.1111111111111111,
              "#46039f"
             ],
             [
              0.2222222222222222,
              "#7201a8"
             ],
             [
              0.3333333333333333,
              "#9c179e"
             ],
             [
              0.4444444444444444,
              "#bd3786"
             ],
             [
              0.5555555555555556,
              "#d8576b"
             ],
             [
              0.6666666666666666,
              "#ed7953"
             ],
             [
              0.7777777777777778,
              "#fb9f3a"
             ],
             [
              0.8888888888888888,
              "#fdca26"
             ],
             [
              1,
              "#f0f921"
             ]
            ],
            "type": "histogram2d"
           }
          ],
          "histogram2dcontour": [
           {
            "colorbar": {
             "outlinewidth": 0,
             "ticks": ""
            },
            "colorscale": [
             [
              0,
              "#0d0887"
             ],
             [
              0.1111111111111111,
              "#46039f"
             ],
             [
              0.2222222222222222,
              "#7201a8"
             ],
             [
              0.3333333333333333,
              "#9c179e"
             ],
             [
              0.4444444444444444,
              "#bd3786"
             ],
             [
              0.5555555555555556,
              "#d8576b"
             ],
             [
              0.6666666666666666,
              "#ed7953"
             ],
             [
              0.7777777777777778,
              "#fb9f3a"
             ],
             [
              0.8888888888888888,
              "#fdca26"
             ],
             [
              1,
              "#f0f921"
             ]
            ],
            "type": "histogram2dcontour"
           }
          ],
          "mesh3d": [
           {
            "colorbar": {
             "outlinewidth": 0,
             "ticks": ""
            },
            "type": "mesh3d"
           }
          ],
          "parcoords": [
           {
            "line": {
             "colorbar": {
              "outlinewidth": 0,
              "ticks": ""
             }
            },
            "type": "parcoords"
           }
          ],
          "pie": [
           {
            "automargin": true,
            "type": "pie"
           }
          ],
          "scatter": [
           {
            "marker": {
             "colorbar": {
              "outlinewidth": 0,
              "ticks": ""
             }
            },
            "type": "scatter"
           }
          ],
          "scatter3d": [
           {
            "line": {
             "colorbar": {
              "outlinewidth": 0,
              "ticks": ""
             }
            },
            "marker": {
             "colorbar": {
              "outlinewidth": 0,
              "ticks": ""
             }
            },
            "type": "scatter3d"
           }
          ],
          "scattercarpet": [
           {
            "marker": {
             "colorbar": {
              "outlinewidth": 0,
              "ticks": ""
             }
            },
            "type": "scattercarpet"
           }
          ],
          "scattergeo": [
           {
            "marker": {
             "colorbar": {
              "outlinewidth": 0,
              "ticks": ""
             }
            },
            "type": "scattergeo"
           }
          ],
          "scattergl": [
           {
            "marker": {
             "colorbar": {
              "outlinewidth": 0,
              "ticks": ""
             }
            },
            "type": "scattergl"
           }
          ],
          "scattermapbox": [
           {
            "marker": {
             "colorbar": {
              "outlinewidth": 0,
              "ticks": ""
             }
            },
            "type": "scattermapbox"
           }
          ],
          "scatterpolar": [
           {
            "marker": {
             "colorbar": {
              "outlinewidth": 0,
              "ticks": ""
             }
            },
            "type": "scatterpolar"
           }
          ],
          "scatterpolargl": [
           {
            "marker": {
             "colorbar": {
              "outlinewidth": 0,
              "ticks": ""
             }
            },
            "type": "scatterpolargl"
           }
          ],
          "scatterternary": [
           {
            "marker": {
             "colorbar": {
              "outlinewidth": 0,
              "ticks": ""
             }
            },
            "type": "scatterternary"
           }
          ],
          "surface": [
           {
            "colorbar": {
             "outlinewidth": 0,
             "ticks": ""
            },
            "colorscale": [
             [
              0,
              "#0d0887"
             ],
             [
              0.1111111111111111,
              "#46039f"
             ],
             [
              0.2222222222222222,
              "#7201a8"
             ],
             [
              0.3333333333333333,
              "#9c179e"
             ],
             [
              0.4444444444444444,
              "#bd3786"
             ],
             [
              0.5555555555555556,
              "#d8576b"
             ],
             [
              0.6666666666666666,
              "#ed7953"
             ],
             [
              0.7777777777777778,
              "#fb9f3a"
             ],
             [
              0.8888888888888888,
              "#fdca26"
             ],
             [
              1,
              "#f0f921"
             ]
            ],
            "type": "surface"
           }
          ],
          "table": [
           {
            "cells": {
             "fill": {
              "color": "#EBF0F8"
             },
             "line": {
              "color": "white"
             }
            },
            "header": {
             "fill": {
              "color": "#C8D4E3"
             },
             "line": {
              "color": "white"
             }
            },
            "type": "table"
           }
          ]
         },
         "layout": {
          "annotationdefaults": {
           "arrowcolor": "#2a3f5f",
           "arrowhead": 0,
           "arrowwidth": 1
          },
          "autotypenumbers": "strict",
          "coloraxis": {
           "colorbar": {
            "outlinewidth": 0,
            "ticks": ""
           }
          },
          "colorscale": {
           "diverging": [
            [
             0,
             "#8e0152"
            ],
            [
             0.1,
             "#c51b7d"
            ],
            [
             0.2,
             "#de77ae"
            ],
            [
             0.3,
             "#f1b6da"
            ],
            [
             0.4,
             "#fde0ef"
            ],
            [
             0.5,
             "#f7f7f7"
            ],
            [
             0.6,
             "#e6f5d0"
            ],
            [
             0.7,
             "#b8e186"
            ],
            [
             0.8,
             "#7fbc41"
            ],
            [
             0.9,
             "#4d9221"
            ],
            [
             1,
             "#276419"
            ]
           ],
           "sequential": [
            [
             0,
             "#0d0887"
            ],
            [
             0.1111111111111111,
             "#46039f"
            ],
            [
             0.2222222222222222,
             "#7201a8"
            ],
            [
             0.3333333333333333,
             "#9c179e"
            ],
            [
             0.4444444444444444,
             "#bd3786"
            ],
            [
             0.5555555555555556,
             "#d8576b"
            ],
            [
             0.6666666666666666,
             "#ed7953"
            ],
            [
             0.7777777777777778,
             "#fb9f3a"
            ],
            [
             0.8888888888888888,
             "#fdca26"
            ],
            [
             1,
             "#f0f921"
            ]
           ],
           "sequentialminus": [
            [
             0,
             "#0d0887"
            ],
            [
             0.1111111111111111,
             "#46039f"
            ],
            [
             0.2222222222222222,
             "#7201a8"
            ],
            [
             0.3333333333333333,
             "#9c179e"
            ],
            [
             0.4444444444444444,
             "#bd3786"
            ],
            [
             0.5555555555555556,
             "#d8576b"
            ],
            [
             0.6666666666666666,
             "#ed7953"
            ],
            [
             0.7777777777777778,
             "#fb9f3a"
            ],
            [
             0.8888888888888888,
             "#fdca26"
            ],
            [
             1,
             "#f0f921"
            ]
           ]
          },
          "colorway": [
           "#636efa",
           "#EF553B",
           "#00cc96",
           "#ab63fa",
           "#FFA15A",
           "#19d3f3",
           "#FF6692",
           "#B6E880",
           "#FF97FF",
           "#FECB52"
          ],
          "font": {
           "color": "#2a3f5f"
          },
          "geo": {
           "bgcolor": "white",
           "lakecolor": "white",
           "landcolor": "#E5ECF6",
           "showlakes": true,
           "showland": true,
           "subunitcolor": "white"
          },
          "hoverlabel": {
           "align": "left"
          },
          "hovermode": "closest",
          "mapbox": {
           "style": "light"
          },
          "paper_bgcolor": "white",
          "plot_bgcolor": "#E5ECF6",
          "polar": {
           "angularaxis": {
            "gridcolor": "white",
            "linecolor": "white",
            "ticks": ""
           },
           "bgcolor": "#E5ECF6",
           "radialaxis": {
            "gridcolor": "white",
            "linecolor": "white",
            "ticks": ""
           }
          },
          "scene": {
           "xaxis": {
            "backgroundcolor": "#E5ECF6",
            "gridcolor": "white",
            "gridwidth": 2,
            "linecolor": "white",
            "showbackground": true,
            "ticks": "",
            "zerolinecolor": "white"
           },
           "yaxis": {
            "backgroundcolor": "#E5ECF6",
            "gridcolor": "white",
            "gridwidth": 2,
            "linecolor": "white",
            "showbackground": true,
            "ticks": "",
            "zerolinecolor": "white"
           },
           "zaxis": {
            "backgroundcolor": "#E5ECF6",
            "gridcolor": "white",
            "gridwidth": 2,
            "linecolor": "white",
            "showbackground": true,
            "ticks": "",
            "zerolinecolor": "white"
           }
          },
          "shapedefaults": {
           "line": {
            "color": "#2a3f5f"
           }
          },
          "ternary": {
           "aaxis": {
            "gridcolor": "white",
            "linecolor": "white",
            "ticks": ""
           },
           "baxis": {
            "gridcolor": "white",
            "linecolor": "white",
            "ticks": ""
           },
           "bgcolor": "#E5ECF6",
           "caxis": {
            "gridcolor": "white",
            "linecolor": "white",
            "ticks": ""
           }
          },
          "title": {
           "x": 0.05
          },
          "xaxis": {
           "automargin": true,
           "gridcolor": "white",
           "linecolor": "white",
           "ticks": "",
           "title": {
            "standoff": 15
           },
           "zerolinecolor": "white",
           "zerolinewidth": 2
          },
          "yaxis": {
           "automargin": true,
           "gridcolor": "white",
           "linecolor": "white",
           "ticks": "",
           "title": {
            "standoff": 15
           },
           "zerolinecolor": "white",
           "zerolinewidth": 2
          }
         }
        },
        "title": {
         "text": "Hyperparameter Importances"
        },
        "xaxis": {
         "title": {
          "text": "Importance for Objective Value"
         }
        },
        "yaxis": {
         "title": {
          "text": "Hyperparameter"
         }
        }
       }
      }
     },
     "metadata": {},
     "output_type": "display_data"
    }
   ],
   "source": [
    "optuna.visualization.plot_param_importances(study)"
   ]
  },
  {
   "cell_type": "code",
   "execution_count": 34,
   "metadata": {},
   "outputs": [
    {
     "name": "stdout",
     "output_type": "stream",
     "text": [
      "              precision    recall  f1-score   support\n",
      "\n",
      "           0       0.86      0.87      0.86        99\n",
      "           1       0.76      0.75      0.75        55\n",
      "\n",
      "    accuracy                           0.82       154\n",
      "   macro avg       0.81      0.81      0.81       154\n",
      "weighted avg       0.82      0.82      0.82       154\n",
      "\n"
     ]
    },
    {
     "data": {
      "image/png": "[encoded data removed]",
      "text/plain": [
       "<Figure size 432x288 with 2 Axes>"
      ]
     },
     "metadata": {
      "needs_background": "light"
     },
     "output_type": "display_data"
    }
   ],
   "source": [
    "model_evaluation(optuna_xgb, x_test, y_test)"
   ]
  },
  {
   "cell_type": "code",
   "execution_count": 35,
   "metadata": {},
   "outputs": [
    {
     "name": "stdout",
     "output_type": "stream",
     "text": [
      "[22:06:25] WARNING: C:\\Users\\dev-admin\\croot\\xgboost-split_1675120659361\\work\\src\\learner.cc:1115: Starting in XGBoost 1.3.0, the default evaluation metric used with the objective 'binary:logistic' was changed from 'error' to 'logloss'. Explicitly set eval_metric if you'd like to restore the old behavior."
     ]
    },
    {
     "name": "stdout",
     "output_type": "stream",
     "text": [
      "\n",
      "[22:06:25] WARNING: C:\\Users\\dev-admin\\croot\\xgboost-split_1675120659361\\work\\src\\learner.cc:1115: Starting in XGBoost 1.3.0, the default evaluation metric used with the objective 'binary:logistic' was changed from 'error' to 'logloss'. Explicitly set eval_metric if you'd like to restore the old behavior.\n",
      "[22:06:26] WARNING: C:\\Users\\dev-admin\\croot\\xgboost-split_1675120659361\\work\\src\\learner.cc:1115: Starting in XGBoost 1.3.0, the default evaluation metric used with the objective 'binary:logistic' was changed from 'error' to 'logloss'. Explicitly set eval_metric if you'd like to restore the old behavior.\n",
      "[22:06:26] WARNING: C:\\Users\\dev-admin\\croot\\xgboost-split_1675120659361\\work\\src\\learner.cc:1115: Starting in XGBoost 1.3.0, the default evaluation metric used with the objective 'binary:logistic' was changed from 'error' to 'logloss'. Explicitly set eval_metric if you'd like to restore the old behavior.\n",
      "[22:06:26] WARNING: C:\\Users\\dev-admin\\croot\\xgboost-split_1675120659361\\work\\src\\learner.cc:1115: Starting in XGBoost 1.3.0, the default evaluation metric used with the objective 'binary:logistic' was changed from 'error' to 'logloss'. Explicitly set eval_metric if you'd like to restore the old behavior.\n",
      "[22:06:26] WARNING: C:\\Users\\dev-admin\\croot\\xgboost-split_1675120659361\\work\\src\\learner.cc:1115: Starting in XGBoost 1.3.0, the default evaluation metric used with the objective 'binary:logistic' was changed from 'error' to 'logloss'. Explicitly set eval_metric if you'd like to restore the old behavior.\n",
      "[22:06:27] WARNING: C:\\Users\\dev-admin\\croot\\xgboost-split_1675120659361\\work\\src\\learner.cc:1115: Starting in XGBoost 1.3.0, the default evaluation metric used with the objective 'binary:logistic' was changed from 'error' to 'logloss'. Explicitly set eval_metric if you'd like to restore the old behavior.\n",
      "[22:06:27] WARNING: C:\\Users\\dev-admin\\croot\\xgboost-split_1675120659361\\work\\src\\learner.cc:1115: Starting in XGBoost 1.3.0, the default evaluation metric used with the objective 'binary:logistic' was changed from 'error' to 'logloss'. Explicitly set eval_metric if you'd like to restore the old behavior.\n",
      "[22:06:27] WARNING: C:\\Users\\dev-admin\\croot\\xgboost-split_1675120659361\\work\\src\\learner.cc:1115: Starting in XGBoost 1.3.0, the default evaluation metric used with the objective 'binary:logistic' was changed from 'error' to 'logloss'. Explicitly set eval_metric if you'd like to restore the old behavior.\n",
      "[22:06:27] WARNING: C:\\Users\\dev-admin\\croot\\xgboost-split_1675120659361\\work\\src\\learner.cc:1115: Starting in XGBoost 1.3.0, the default evaluation metric used with the objective 'binary:logistic' was changed from 'error' to 'logloss'. Explicitly set eval_metric if you'd like to restore the old behavior.\n",
      "[22:06:27] WARNING: C:\\Users\\dev-admin\\croot\\xgboost-split_1675120659361\\work\\src\\learner.cc:1115: Starting in XGBoost 1.3.0, the default evaluation metric used with the objective 'binary:logistic' was changed from 'error' to 'logloss'. Explicitly set eval_metric if you'd like to restore the old behavior.\n",
      "[22:06:28] WARNING: C:\\Users\\dev-admin\\croot\\xgboost-split_1675120659361\\work\\src\\learner.cc:1115: Starting in XGBoost 1.3.0, the default evaluation metric used with the objective 'binary:logistic' was changed from 'error' to 'logloss'. Explicitly set eval_metric if you'd like to restore the old behavior.\n",
      "[22:06:28] WARNING: C:\\Users\\dev-admin\\croot\\xgboost-split_1675120659361\\work\\src\\learner.cc:1115: Starting in XGBoost 1.3.0, the default evaluation metric used with the objective 'binary:logistic' was changed from 'error' to 'logloss'. Explicitly set eval_metric if you'd like to restore the old behavior.\n",
      "[22:06:28] WARNING: C:\\Users\\dev-admin\\croot\\xgboost-split_1675120659361\\work\\src\\learner.cc:1115: Starting in XGBoost 1.3.0, the default evaluation metric used with the objective 'binary:logistic' was changed from 'error' to 'logloss'. Explicitly set eval_metric if you'd like to restore the old behavior.\n",
      "[22:06:28] WARNING: C:\\Users\\dev-admin\\croot\\xgboost-split_1675120659361\\work\\src\\learner.cc:1115: Starting in XGBoost 1.3.0, the default evaluation metric used with the objective 'binary:logistic' was changed from 'error' to 'logloss'. Explicitly set eval_metric if you'd like to restore the old behavior.\n",
      "[22:06:28] WARNING: C:\\Users\\dev-admin\\croot\\xgboost-split_1675120659361\\work\\src\\learner.cc:1115: Starting in XGBoost 1.3.0, the default evaluation metric used with the objective 'binary:logistic' was changed from 'error' to 'logloss'. Explicitly set eval_metric if you'd like to restore the old behavior.\n",
      "[22:06:29] WARNING: C:\\Users\\dev-admin\\croot\\xgboost-split_1675120659361\\work\\src\\learner.cc:1115: Starting in XGBoost 1.3.0, the default evaluation metric used with the objective 'binary:logistic' was changed from 'error' to 'logloss'. Explicitly set eval_metric if you'd like to restore the old behavior.\n",
      "[22:06:29] WARNING: C:\\Users\\dev-admin\\croot\\xgboost-split_1675120659361\\work\\src\\learner.cc:1115: Starting in XGBoost 1.3.0, the default evaluation metric used with the objective 'binary:logistic' was changed from 'error' to 'logloss'. Explicitly set eval_metric if you'd like to restore the old behavior.\n",
      "[22:06:29] WARNING: C:\\Users\\dev-admin\\croot\\xgboost-split_1675120659361\\work\\src\\learner.cc:1115: Starting in XGBoost 1.3.0, the default evaluation metric used with the objective 'binary:logistic' was changed from 'error' to 'logloss'. Explicitly set eval_metric if you'd like to restore the old behavior.\n",
      "[22:06:29] WARNING: C:\\Users\\dev-admin\\croot\\xgboost-split_1675120659361\\work\\src\\learner.cc:1115: Starting in XGBoost 1.3.0, the default evaluation metric used with the objective 'binary:logistic' was changed from 'error' to 'logloss'. Explicitly set eval_metric if you'd like to restore the old behavior.\n",
      "[22:06:30] WARNING: C:\\Users\\dev-admin\\croot\\xgboost-split_1675120659361\\work\\src\\learner.cc:1115: Starting in XGBoost 1.3.0, the default evaluation metric used with the objective 'binary:logistic' was changed from 'error' to 'logloss'. Explicitly set eval_metric if you'd like to restore the old behavior.\n",
      "[22:06:30] WARNING: C:\\Users\\dev-admin\\croot\\xgboost-split_1675120659361\\work\\src\\learner.cc:1115: Starting in XGBoost 1.3.0, the default evaluation metric used with the objective 'binary:logistic' was changed from 'error' to 'logloss'. Explicitly set eval_metric if you'd like to restore the old behavior.\n",
      "[22:06:30] WARNING: C:\\Users\\dev-admin\\croot\\xgboost-split_1675120659361\\work\\src\\learner.cc:1115: Starting in XGBoost 1.3.0, the default evaluation metric used with the objective 'binary:logistic' was changed from 'error' to 'logloss'. Explicitly set eval_metric if you'd like to restore the old behavior.\n",
      "[22:06:30] WARNING: C:\\Users\\dev-admin\\croot\\xgboost-split_1675120659361\\work\\src\\learner.cc:1115: Starting in XGBoost 1.3.0, the default evaluation metric used with the objective 'binary:logistic' was changed from 'error' to 'logloss'. Explicitly set eval_metric if you'd like to restore the old behavior.\n",
      "[22:06:30] WARNING: C:\\Users\\dev-admin\\croot\\xgboost-split_1675120659361\\work\\src\\learner.cc:1115: Starting in XGBoost 1.3.0, the default evaluation metric used with the objective 'binary:logistic' was changed from 'error' to 'logloss'. Explicitly set eval_metric if you'd like to restore the old behavior.\n",
      "[22:06:31] WARNING: C:\\Users\\dev-admin\\croot\\xgboost-split_1675120659361\\work\\src\\learner.cc:1115: Starting in XGBoost 1.3.0, the default evaluation metric used with the objective 'binary:logistic' was changed from 'error' to 'logloss'. Explicitly set eval_metric if you'd like to restore the old behavior.\n",
      "[22:06:31] WARNING: C:\\Users\\dev-admin\\croot\\xgboost-split_1675120659361\\work\\src\\learner.cc:1115: Starting in XGBoost 1.3.0, the default evaluation metric used with the objective 'binary:logistic' was changed from 'error' to 'logloss'. Explicitly set eval_metric if you'd like to restore the old behavior.\n",
      "[22:06:31] WARNING: C:\\Users\\dev-admin\\croot\\xgboost-split_1675120659361\\work\\src\\learner.cc:1115: Starting in XGBoost 1.3.0, the default evaluation metric used with the objective 'binary:logistic' was changed from 'error' to 'logloss'. Explicitly set eval_metric if you'd like to restore the old behavior.\n",
      "[22:06:31] WARNING: C:\\Users\\dev-admin\\croot\\xgboost-split_1675120659361\\work\\src\\learner.cc:1115: Starting in XGBoost 1.3.0, the default evaluation metric used with the objective 'binary:logistic' was changed from 'error' to 'logloss'. Explicitly set eval_metric if you'd like to restore the old behavior.\n",
      "[22:06:31] WARNING: C:\\Users\\dev-admin\\croot\\xgboost-split_1675120659361\\work\\src\\learner.cc:1115: Starting in XGBoost 1.3.0, the default evaluation metric used with the objective 'binary:logistic' was changed from 'error' to 'logloss'. Explicitly set eval_metric if you'd like to restore the old behavior.\n",
      "[22:06:32] WARNING: C:\\Users\\dev-admin\\croot\\xgboost-split_1675120659361\\work\\src\\learner.cc:1115: Starting in XGBoost 1.3.0, the default evaluation metric used with the objective 'binary:logistic' was changed from 'error' to 'logloss'. Explicitly set eval_metric if you'd like to restore the old behavior.\n",
      "Cross Validation Score :  83.02%\n",
      "ROC_AUC Score :  80.71%\n"
     ]
    },
    {
     "data": {
      "image/png": "[encoded data removed]",
      "text/plain": [
       "<Figure size 432x288 with 1 Axes>"
      ]
     },
     "metadata": {
      "needs_background": "light"
     },
     "output_type": "display_data"
    }
   ],
   "source": [
    "model(optuna_xgb,x_train,y_train,x_test,y_test)"
   ]
  },
  {
   "cell_type": "code",
   "execution_count": 36,
   "metadata": {},
   "outputs": [
    {
     "data": {
      "text/plain": [
       "<AxesSubplot:title={'center':'Feature importance'}, xlabel='F score', ylabel='Features'>"
      ]
     },
     "execution_count": 36,
     "metadata": {},
     "output_type": "execute_result"
    },
    {
     "data": {
      "image/png": "[encoded data removed]",
      "text/plain": [
       "<Figure size 432x288 with 1 Axes>"
      ]
     },
     "metadata": {
      "needs_background": "light"
     },
     "output_type": "display_data"
    }
   ],
   "source": [
    "plot_importance(optuna_xgb)"
   ]
  },
  {
   "attachments": {},
   "cell_type": "markdown",
   "metadata": {},
   "source": [
    "### comparing gridsearchcv and optuna"
   ]
  },
  {
   "cell_type": "code",
   "execution_count": 37,
   "metadata": {},
   "outputs": [
    {
     "data": {
      "image/png": "[encoded data removed]",
      "text/plain": [
       "<Figure size 720x576 with 1 Axes>"
      ]
     },
     "metadata": {
      "needs_background": "light"
     },
     "output_type": "display_data"
    }
   ],
   "source": [
    "from sklearn.metrics import roc_curve\n",
    "from sklearn.metrics import auc\n",
    "\n",
    "# Compute ROC curve and AUC for XGB_best\n",
    "fpr_xgb_best, tpr_xgb_best, thresholds_xgb_best = roc_curve(y_test, xgb_best.predict_proba(x_test)[:, 1])\n",
    "auc_xgb_best = auc(fpr_xgb_best, tpr_xgb_best)\n",
    "\n",
    "# Compute ROC curve and AUC for Optuna_XGB\n",
    "fpr_optuna_xgb, tpr_optuna_xgb, thresholds_optuna_xgb = roc_curve(y_test, optuna_xgb.predict_proba(x_test)[:, 1])\n",
    "auc_optuna_xgb = auc(fpr_optuna_xgb, tpr_optuna_xgb)\n",
    "\n",
    "# Plot ROC curves\n",
    "plt.figure(figsize=(10, 8))\n",
    "plt.plot(fpr_xgb_best, tpr_xgb_best, label='XGB_best (area = %0.2f)' % auc_xgb_best)\n",
    "plt.plot(fpr_optuna_xgb, tpr_optuna_xgb, label='Optuna_XGB (area = %0.2f)' % auc_optuna_xgb)\n",
    "plt.plot([0, 1], [0, 1], 'k--')\n",
    "plt.xlim([-0.01, 1.0])\n",
    "plt.ylim([0.0, 1.01])\n",
    "plt.xlabel('False Positive Rate', fontsize=14)\n",
    "plt.ylabel('True Positive Rate', fontsize=14)\n",
    "plt.title('ROC curve', fontsize=14)\n",
    "plt.legend(loc=\"lower right\")\n",
    "plt.show()"
   ]
  },
  {
   "cell_type": "code",
   "execution_count": 38,
   "metadata": {},
   "outputs": [
    {
     "name": "stdout",
     "output_type": "stream",
     "text": [
      "              precision    recall  f1-score   support\n",
      "\n",
      "           0       0.80      0.83      0.82        99\n",
      "           1       0.67      0.64      0.65        55\n",
      "\n",
      "    accuracy                           0.76       154\n",
      "   macro avg       0.74      0.73      0.74       154\n",
      "weighted avg       0.76      0.76      0.76       154\n",
      "\n"
     ]
    },
    {
     "data": {
      "image/png": "[encoded data removed]",
      "text/plain": [
       "<Figure size 432x288 with 2 Axes>"
      ]
     },
     "metadata": {
      "needs_background": "light"
     },
     "output_type": "display_data"
    }
   ],
   "source": [
    "model_evaluation(xgb_best, x_test, y_test)"
   ]
  },
  {
   "cell_type": "code",
   "execution_count": 39,
   "metadata": {},
   "outputs": [
    {
     "name": "stdout",
     "output_type": "stream",
     "text": [
      "              precision    recall  f1-score   support\n",
      "\n",
      "           0       0.86      0.87      0.86        99\n",
      "           1       0.76      0.75      0.75        55\n",
      "\n",
      "    accuracy                           0.82       154\n",
      "   macro avg       0.81      0.81      0.81       154\n",
      "weighted avg       0.82      0.82      0.82       154\n",
      "\n"
     ]
    },
    {
     "data": {
      "image/png": "[encoded data removed]",
      "text/plain": [
       "<Figure size 432x288 with 2 Axes>"
      ]
     },
     "metadata": {
      "needs_background": "light"
     },
     "output_type": "display_data"
    }
   ],
   "source": [
    "model_evaluation(optuna_xgb, x_test, y_test)"
   ]
  },
  {
   "cell_type": "code",
   "execution_count": null,
   "metadata": {},
   "outputs": [],
   "source": []
  }
 ],
 "metadata": {
  "kernelspec": {
   "display_name": "base",
   "language": "python",
   "name": "python3"
  },
  "language_info": {
   "codemirror_mode": {
    "name": "ipython",
    "version": 3
   },
   "file_extension": ".py",
   "mimetype": "text/x-python",
   "name": "python",
   "nbconvert_exporter": "python",
   "pygments_lexer": "ipython3",
   "version": "3.9.12"
  },
  "orig_nbformat": 4
 },
 "nbformat": 4,
 "nbformat_minor": 2
}
