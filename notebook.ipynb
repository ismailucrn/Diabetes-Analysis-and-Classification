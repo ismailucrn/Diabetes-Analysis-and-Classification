{
 "cells": [
  {
   "cell_type": "code",
   "execution_count": 1,
   "metadata": {},
   "outputs": [],
   "source": [
    "import numpy as np\n",
    "import pandas as pd\n",
    "import matplotlib.pyplot as plt\n",
    "import seaborn as sns\n",
    "import plotly.express as px\n",
    "import plotly.graph_objects as go\n",
    "\n",
    "import warnings\n",
    "warnings.filterwarnings('ignore')"
   ]
  },
  {
   "cell_type": "code",
   "execution_count": 2,
   "metadata": {},
   "outputs": [],
   "source": [
    "# Pregnancies: Number of times pregnant\n",
    "# Glucose: Plasma glucose concentration a 2 hours in an oral glucose tolerance test\n",
    "# BloodPressure: Diastolic blood pressure (mm Hg)\n",
    "# SkinThickness: Triceps skin fold thickness (mm)\n",
    "# Insulin: 2-Hour serum insulin (mu U/ml)\n",
    "# BMI: Body mass index (weight in kg/(height in m)^2)\n",
    "# DiabetesPedigreeFunction: Diabetes pedigree function\n",
    "# Age: Age (years)\n",
    "# Outcome: Class variable (0 or 1)"
   ]
  },
  {
   "cell_type": "code",
   "execution_count": 3,
   "metadata": {},
   "outputs": [
    {
     "data": {
      "text/html": [
       "<div>\n",
       "<style scoped>\n",
       "    .dataframe tbody tr th:only-of-type {\n",
       "        vertical-align: middle;\n",
       "    }\n",
       "\n",
       "    .dataframe tbody tr th {\n",
       "        vertical-align: top;\n",
       "    }\n",
       "\n",
       "    .dataframe thead th {\n",
       "        text-align: right;\n",
       "    }\n",
       "</style>\n",
       "<table border=\"1\" class=\"dataframe\">\n",
       "  <thead>\n",
       "    <tr style=\"text-align: right;\">\n",
       "      <th></th>\n",
       "      <th>Pregnancies</th>\n",
       "      <th>Glucose</th>\n",
       "      <th>BloodPressure</th>\n",
       "      <th>SkinThickness</th>\n",
       "      <th>Insulin</th>\n",
       "      <th>BMI</th>\n",
       "      <th>DiabetesPedigreeFunction</th>\n",
       "      <th>Age</th>\n",
       "      <th>Outcome</th>\n",
       "    </tr>\n",
       "  </thead>\n",
       "  <tbody>\n",
       "    <tr>\n",
       "      <th>0</th>\n",
       "      <td>6</td>\n",
       "      <td>148</td>\n",
       "      <td>72</td>\n",
       "      <td>35</td>\n",
       "      <td>0</td>\n",
       "      <td>33.6</td>\n",
       "      <td>0.627</td>\n",
       "      <td>50</td>\n",
       "      <td>1</td>\n",
       "    </tr>\n",
       "    <tr>\n",
       "      <th>1</th>\n",
       "      <td>1</td>\n",
       "      <td>85</td>\n",
       "      <td>66</td>\n",
       "      <td>29</td>\n",
       "      <td>0</td>\n",
       "      <td>26.6</td>\n",
       "      <td>0.351</td>\n",
       "      <td>31</td>\n",
       "      <td>0</td>\n",
       "    </tr>\n",
       "    <tr>\n",
       "      <th>2</th>\n",
       "      <td>8</td>\n",
       "      <td>183</td>\n",
       "      <td>64</td>\n",
       "      <td>0</td>\n",
       "      <td>0</td>\n",
       "      <td>23.3</td>\n",
       "      <td>0.672</td>\n",
       "      <td>32</td>\n",
       "      <td>1</td>\n",
       "    </tr>\n",
       "    <tr>\n",
       "      <th>3</th>\n",
       "      <td>1</td>\n",
       "      <td>89</td>\n",
       "      <td>66</td>\n",
       "      <td>23</td>\n",
       "      <td>94</td>\n",
       "      <td>28.1</td>\n",
       "      <td>0.167</td>\n",
       "      <td>21</td>\n",
       "      <td>0</td>\n",
       "    </tr>\n",
       "    <tr>\n",
       "      <th>4</th>\n",
       "      <td>0</td>\n",
       "      <td>137</td>\n",
       "      <td>40</td>\n",
       "      <td>35</td>\n",
       "      <td>168</td>\n",
       "      <td>43.1</td>\n",
       "      <td>2.288</td>\n",
       "      <td>33</td>\n",
       "      <td>1</td>\n",
       "    </tr>\n",
       "  </tbody>\n",
       "</table>\n",
       "</div>"
      ],
      "text/plain": [
       "   Pregnancies  Glucose  BloodPressure  SkinThickness  Insulin   BMI  \\\n",
       "0            6      148             72             35        0  33.6   \n",
       "1            1       85             66             29        0  26.6   \n",
       "2            8      183             64              0        0  23.3   \n",
       "3            1       89             66             23       94  28.1   \n",
       "4            0      137             40             35      168  43.1   \n",
       "\n",
       "   DiabetesPedigreeFunction  Age  Outcome  \n",
       "0                     0.627   50        1  \n",
       "1                     0.351   31        0  \n",
       "2                     0.672   32        1  \n",
       "3                     0.167   21        0  \n",
       "4                     2.288   33        1  "
      ]
     },
     "execution_count": 3,
     "metadata": {},
     "output_type": "execute_result"
    }
   ],
   "source": [
    "df = pd.read_csv('diabetes.csv')\n",
    "df.head()"
   ]
  },
  {
   "cell_type": "code",
   "execution_count": 4,
   "metadata": {},
   "outputs": [],
   "source": [
    "#pandas profiling for EDA \n",
    "# from pandas_profiling import ProfileReport\n",
    "# profile = ProfileReport(df, title='Diabetes Report', explorative=True)\n",
    "# profile.to_html()"
   ]
  },
  {
   "cell_type": "code",
   "execution_count": 5,
   "metadata": {},
   "outputs": [],
   "source": [
    "#profile"
   ]
  },
  {
   "cell_type": "code",
   "execution_count": 6,
   "metadata": {},
   "outputs": [
    {
     "name": "stdout",
     "output_type": "stream",
     "text": [
      "<class 'pandas.core.frame.DataFrame'>\n",
      "RangeIndex: 768 entries, 0 to 767\n",
      "Data columns (total 9 columns):\n",
      " #   Column                    Non-Null Count  Dtype  \n",
      "---  ------                    --------------  -----  \n",
      " 0   Pregnancies               768 non-null    int64  \n",
      " 1   Glucose                   768 non-null    int64  \n",
      " 2   BloodPressure             768 non-null    int64  \n",
      " 3   SkinThickness             768 non-null    int64  \n",
      " 4   Insulin                   768 non-null    int64  \n",
      " 5   BMI                       768 non-null    float64\n",
      " 6   DiabetesPedigreeFunction  768 non-null    float64\n",
      " 7   Age                       768 non-null    int64  \n",
      " 8   Outcome                   768 non-null    int64  \n",
      "dtypes: float64(2), int64(7)\n",
      "memory usage: 54.1 KB\n"
     ]
    }
   ],
   "source": [
    "df.info()"
   ]
  },
  {
   "cell_type": "code",
   "execution_count": 7,
   "metadata": {},
   "outputs": [
    {
     "data": {
      "text/html": [
       "<div>\n",
       "<style scoped>\n",
       "    .dataframe tbody tr th:only-of-type {\n",
       "        vertical-align: middle;\n",
       "    }\n",
       "\n",
       "    .dataframe tbody tr th {\n",
       "        vertical-align: top;\n",
       "    }\n",
       "\n",
       "    .dataframe thead th {\n",
       "        text-align: right;\n",
       "    }\n",
       "</style>\n",
       "<table border=\"1\" class=\"dataframe\">\n",
       "  <thead>\n",
       "    <tr style=\"text-align: right;\">\n",
       "      <th></th>\n",
       "      <th>count</th>\n",
       "      <th>mean</th>\n",
       "      <th>std</th>\n",
       "      <th>min</th>\n",
       "      <th>25%</th>\n",
       "      <th>50%</th>\n",
       "      <th>75%</th>\n",
       "      <th>max</th>\n",
       "    </tr>\n",
       "  </thead>\n",
       "  <tbody>\n",
       "    <tr>\n",
       "      <th>Pregnancies</th>\n",
       "      <td>768.0</td>\n",
       "      <td>3.845052</td>\n",
       "      <td>3.369578</td>\n",
       "      <td>0.000</td>\n",
       "      <td>1.00000</td>\n",
       "      <td>3.0000</td>\n",
       "      <td>6.00000</td>\n",
       "      <td>17.00</td>\n",
       "    </tr>\n",
       "    <tr>\n",
       "      <th>Glucose</th>\n",
       "      <td>768.0</td>\n",
       "      <td>120.894531</td>\n",
       "      <td>31.972618</td>\n",
       "      <td>0.000</td>\n",
       "      <td>99.00000</td>\n",
       "      <td>117.0000</td>\n",
       "      <td>140.25000</td>\n",
       "      <td>199.00</td>\n",
       "    </tr>\n",
       "    <tr>\n",
       "      <th>BloodPressure</th>\n",
       "      <td>768.0</td>\n",
       "      <td>69.105469</td>\n",
       "      <td>19.355807</td>\n",
       "      <td>0.000</td>\n",
       "      <td>62.00000</td>\n",
       "      <td>72.0000</td>\n",
       "      <td>80.00000</td>\n",
       "      <td>122.00</td>\n",
       "    </tr>\n",
       "    <tr>\n",
       "      <th>SkinThickness</th>\n",
       "      <td>768.0</td>\n",
       "      <td>20.536458</td>\n",
       "      <td>15.952218</td>\n",
       "      <td>0.000</td>\n",
       "      <td>0.00000</td>\n",
       "      <td>23.0000</td>\n",
       "      <td>32.00000</td>\n",
       "      <td>99.00</td>\n",
       "    </tr>\n",
       "    <tr>\n",
       "      <th>Insulin</th>\n",
       "      <td>768.0</td>\n",
       "      <td>79.799479</td>\n",
       "      <td>115.244002</td>\n",
       "      <td>0.000</td>\n",
       "      <td>0.00000</td>\n",
       "      <td>30.5000</td>\n",
       "      <td>127.25000</td>\n",
       "      <td>846.00</td>\n",
       "    </tr>\n",
       "    <tr>\n",
       "      <th>BMI</th>\n",
       "      <td>768.0</td>\n",
       "      <td>31.992578</td>\n",
       "      <td>7.884160</td>\n",
       "      <td>0.000</td>\n",
       "      <td>27.30000</td>\n",
       "      <td>32.0000</td>\n",
       "      <td>36.60000</td>\n",
       "      <td>67.10</td>\n",
       "    </tr>\n",
       "    <tr>\n",
       "      <th>DiabetesPedigreeFunction</th>\n",
       "      <td>768.0</td>\n",
       "      <td>0.471876</td>\n",
       "      <td>0.331329</td>\n",
       "      <td>0.078</td>\n",
       "      <td>0.24375</td>\n",
       "      <td>0.3725</td>\n",
       "      <td>0.62625</td>\n",
       "      <td>2.42</td>\n",
       "    </tr>\n",
       "    <tr>\n",
       "      <th>Age</th>\n",
       "      <td>768.0</td>\n",
       "      <td>33.240885</td>\n",
       "      <td>11.760232</td>\n",
       "      <td>21.000</td>\n",
       "      <td>24.00000</td>\n",
       "      <td>29.0000</td>\n",
       "      <td>41.00000</td>\n",
       "      <td>81.00</td>\n",
       "    </tr>\n",
       "    <tr>\n",
       "      <th>Outcome</th>\n",
       "      <td>768.0</td>\n",
       "      <td>0.348958</td>\n",
       "      <td>0.476951</td>\n",
       "      <td>0.000</td>\n",
       "      <td>0.00000</td>\n",
       "      <td>0.0000</td>\n",
       "      <td>1.00000</td>\n",
       "      <td>1.00</td>\n",
       "    </tr>\n",
       "  </tbody>\n",
       "</table>\n",
       "</div>"
      ],
      "text/plain": [
       "                          count        mean         std     min       25%  \\\n",
       "Pregnancies               768.0    3.845052    3.369578   0.000   1.00000   \n",
       "Glucose                   768.0  120.894531   31.972618   0.000  99.00000   \n",
       "BloodPressure             768.0   69.105469   19.355807   0.000  62.00000   \n",
       "SkinThickness             768.0   20.536458   15.952218   0.000   0.00000   \n",
       "Insulin                   768.0   79.799479  115.244002   0.000   0.00000   \n",
       "BMI                       768.0   31.992578    7.884160   0.000  27.30000   \n",
       "DiabetesPedigreeFunction  768.0    0.471876    0.331329   0.078   0.24375   \n",
       "Age                       768.0   33.240885   11.760232  21.000  24.00000   \n",
       "Outcome                   768.0    0.348958    0.476951   0.000   0.00000   \n",
       "\n",
       "                               50%        75%     max  \n",
       "Pregnancies                 3.0000    6.00000   17.00  \n",
       "Glucose                   117.0000  140.25000  199.00  \n",
       "BloodPressure              72.0000   80.00000  122.00  \n",
       "SkinThickness              23.0000   32.00000   99.00  \n",
       "Insulin                    30.5000  127.25000  846.00  \n",
       "BMI                        32.0000   36.60000   67.10  \n",
       "DiabetesPedigreeFunction    0.3725    0.62625    2.42  \n",
       "Age                        29.0000   41.00000   81.00  \n",
       "Outcome                     0.0000    1.00000    1.00  "
      ]
     },
     "execution_count": 7,
     "metadata": {},
     "output_type": "execute_result"
    }
   ],
   "source": [
    "df.describe().T"
   ]
  },
  {
   "cell_type": "code",
   "execution_count": 8,
   "metadata": {},
   "outputs": [
    {
     "data": {
      "text/plain": [
       "Pregnancies                 0\n",
       "Glucose                     0\n",
       "BloodPressure               0\n",
       "SkinThickness               0\n",
       "Insulin                     0\n",
       "BMI                         0\n",
       "DiabetesPedigreeFunction    0\n",
       "Age                         0\n",
       "Outcome                     0\n",
       "dtype: int64"
      ]
     },
     "execution_count": 8,
     "metadata": {},
     "output_type": "execute_result"
    },
    {
     "data": {
      "image/png": "[encoded data removed]",
      "text/plain": [
       "<Figure size 432x288 with 1 Axes>"
      ]
     },
     "metadata": {
      "needs_background": "light"
     },
     "output_type": "display_data"
    }
   ],
   "source": [
    "#heatmap for null values\n",
    "sns.heatmap(df.isnull(),yticklabels=False,cbar=False,cmap='viridis')\n",
    "df.isnull().sum()"
   ]
  },
  {
   "cell_type": "code",
   "execution_count": 9,
   "metadata": {},
   "outputs": [],
   "source": [
    "df_copy = df.copy(deep=True)\n",
    "df_copy[['Glucose','BloodPressure','SkinThickness','Insulin','BMI']] = df_copy[['Glucose','BloodPressure','SkinThickness','Insulin','BMI']].replace(0,np.NaN)"
   ]
  },
  {
   "cell_type": "code",
   "execution_count": 10,
   "metadata": {},
   "outputs": [
    {
     "data": {
      "text/plain": [
       "Pregnancies                   0\n",
       "Glucose                       5\n",
       "BloodPressure                35\n",
       "SkinThickness               227\n",
       "Insulin                     374\n",
       "BMI                          11\n",
       "DiabetesPedigreeFunction      0\n",
       "Age                           0\n",
       "Outcome                       0\n",
       "dtype: int64"
      ]
     },
     "execution_count": 10,
     "metadata": {},
     "output_type": "execute_result"
    }
   ],
   "source": [
    "df_copy.isnull().sum()"
   ]
  },
  {
   "cell_type": "code",
   "execution_count": 11,
   "metadata": {},
   "outputs": [
    {
     "data": {
      "text/plain": [
       "array([[<AxesSubplot:title={'center':'Pregnancies'}>,\n",
       "        <AxesSubplot:title={'center':'Glucose'}>,\n",
       "        <AxesSubplot:title={'center':'BloodPressure'}>],\n",
       "       [<AxesSubplot:title={'center':'SkinThickness'}>,\n",
       "        <AxesSubplot:title={'center':'Insulin'}>,\n",
       "        <AxesSubplot:title={'center':'BMI'}>],\n",
       "       [<AxesSubplot:title={'center':'DiabetesPedigreeFunction'}>,\n",
       "        <AxesSubplot:title={'center':'Age'}>,\n",
       "        <AxesSubplot:title={'center':'Outcome'}>]], dtype=object)"
      ]
     },
     "execution_count": 11,
     "metadata": {},
     "output_type": "execute_result"
    },
    {
     "data": {
      "image/png": "[encoded data removed]",
      "text/plain": [
       "<Figure size 1440x1440 with 9 Axes>"
      ]
     },
     "metadata": {
      "needs_background": "light"
     },
     "output_type": "display_data"
    }
   ],
   "source": [
    "#hist all columns with more detailed\n",
    "df_copy.hist(figsize=(20,20), bins=20)"
   ]
  },
  {
   "cell_type": "code",
   "execution_count": 12,
   "metadata": {},
   "outputs": [],
   "source": [
    "df_copy['SkinThickness'].fillna(df_copy['SkinThickness'].median(), inplace = True)\n",
    "df_copy['Insulin'].fillna(df_copy['Insulin'].median(), inplace = True)\n",
    "df_copy['BMI'].fillna(df_copy['BMI'].median(), inplace = True)\n",
    "df_copy['Glucose'].fillna(df_copy['Glucose'].mean(), inplace = True)\n",
    "df_copy['BloodPressure'].fillna(df_copy['BloodPressure'].mean(), inplace = True)"
   ]
  },
  {
   "cell_type": "code",
   "execution_count": 13,
   "metadata": {},
   "outputs": [
    {
     "data": {
      "application/vnd.plotly.v1+json": {
       "config": {
        "plotlyServerURL": "https://plot.ly"
       },
       "data": [
        {
         "hole": 0.5,
         "labels": [
          "Not Diabetic",
          "Diabetic"
         ],
         "type": "pie",
         "values": [
          500,
          268
         ]
        }
       ],
       "layout": {
        "template": {
         "data": {
          "bar": [
           {
            "error_x": {
             "color": "#2a3f5f"
            },
            "error_y": {
             "color": "#2a3f5f"
            },
            "marker": {
             "line": {
              "color": "#E5ECF6",
              "width": 0.5
             },
             "pattern": {
              "fillmode": "overlay",
              "size": 10,
              "solidity": 0.2
             }
            },
            "type": "bar"
           }
          ],
          "barpolar": [
           {
            "marker": {
             "line": {
              "color": "#E5ECF6",
              "width": 0.5
             },
             "pattern": {
              "fillmode": "overlay",
              "size": 10,
              "solidity": 0.2
             }
            },
            "type": "barpolar"
           }
          ],
          "carpet": [
           {
            "aaxis": {
             "endlinecolor": "#2a3f5f",
             "gridcolor": "white",
             "linecolor": "white",
             "minorgridcolor": "white",
             "startlinecolor": "#2a3f5f"
            },
            "baxis": {
             "endlinecolor": "#2a3f5f",
             "gridcolor": "white",
             "linecolor": "white",
             "minorgridcolor": "white",
             "startlinecolor": "#2a3f5f"
            },
            "type": "carpet"
           }
          ],
          "choropleth": [
           {
            "colorbar": {
             "outlinewidth": 0,
             "ticks": ""
            },
            "type": "choropleth"
           }
          ],
          "contour": [
           {
            "colorbar": {
             "outlinewidth": 0,
             "ticks": ""
            },
            "colorscale": [
             [
              0,
              "#0d0887"
             ],
             [
              0.1111111111111111,
              "#46039f"
             ],
             [
              0.2222222222222222,
              "#7201a8"
             ],
             [
              0.3333333333333333,
              "#9c179e"
             ],
             [
              0.4444444444444444,
              "#bd3786"
             ],
             [
              0.5555555555555556,
              "#d8576b"
             ],
             [
              0.6666666666666666,
              "#ed7953"
             ],
             [
              0.7777777777777778,
              "#fb9f3a"
             ],
             [
              0.8888888888888888,
              "#fdca26"
             ],
             [
              1,
              "#f0f921"
             ]
            ],
            "type": "contour"
           }
          ],
          "contourcarpet": [
           {
            "colorbar": {
             "outlinewidth": 0,
             "ticks": ""
            },
            "type": "contourcarpet"
           }
          ],
          "heatmap": [
           {
            "colorbar": {
             "outlinewidth": 0,
             "ticks": ""
            },
            "colorscale": [
             [
              0,
              "#0d0887"
             ],
             [
              0.1111111111111111,
              "#46039f"
             ],
             [
              0.2222222222222222,
              "#7201a8"
             ],
             [
              0.3333333333333333,
              "#9c179e"
             ],
             [
              0.4444444444444444,
              "#bd3786"
             ],
             [
              0.5555555555555556,
              "#d8576b"
             ],
             [
              0.6666666666666666,
              "#ed7953"
             ],
             [
              0.7777777777777778,
              "#fb9f3a"
             ],
             [
              0.8888888888888888,
              "#fdca26"
             ],
             [
              1,
              "#f0f921"
             ]
            ],
            "type": "heatmap"
           }
          ],
          "heatmapgl": [
           {
            "colorbar": {
             "outlinewidth": 0,
             "ticks": ""
            },
            "colorscale": [
             [
              0,
              "#0d0887"
             ],
             [
              0.1111111111111111,
              "#46039f"
             ],
             [
              0.2222222222222222,
              "#7201a8"
             ],
             [
              0.3333333333333333,
              "#9c179e"
             ],
             [
              0.4444444444444444,
              "#bd3786"
             ],
             [
              0.5555555555555556,
              "#d8576b"
             ],
             [
              0.6666666666666666,
              "#ed7953"
             ],
             [
              0.7777777777777778,
              "#fb9f3a"
             ],
             [
              0.8888888888888888,
              "#fdca26"
             ],
             [
              1,
              "#f0f921"
             ]
            ],
            "type": "heatmapgl"
           }
          ],
          "histogram": [
           {
            "marker": {
             "pattern": {
              "fillmode": "overlay",
              "size": 10,
              "solidity": 0.2
             }
            },
            "type": "histogram"
           }
          ],
          "histogram2d": [
           {
            "colorbar": {
             "outlinewidth": 0,
             "ticks": ""
            },
            "colorscale": [
             [
              0,
              "#0d0887"
             ],
             [
              0.1111111111111111,
              "#46039f"
             ],
             [
              0.2222222222222222,
              "#7201a8"
             ],
             [
              0.3333333333333333,
              "#9c179e"
             ],
             [
              0.4444444444444444,
              "#bd3786"
             ],
             [
              0.5555555555555556,
              "#d8576b"
             ],
             [
              0.6666666666666666,
              "#ed7953"
             ],
             [
              0.7777777777777778,
              "#fb9f3a"
             ],
             [
              0.8888888888888888,
              "#fdca26"
             ],
             [
              1,
              "#f0f921"
             ]
            ],
            "type": "histogram2d"
           }
          ],
          "histogram2dcontour": [
           {
            "colorbar": {
             "outlinewidth": 0,
             "ticks": ""
            },
            "colorscale": [
             [
              0,
              "#0d0887"
             ],
             [
              0.1111111111111111,
              "#46039f"
             ],
             [
              0.2222222222222222,
              "#7201a8"
             ],
             [
              0.3333333333333333,
              "#9c179e"
             ],
             [
              0.4444444444444444,
              "#bd3786"
             ],
             [
              0.5555555555555556,
              "#d8576b"
             ],
             [
              0.6666666666666666,
              "#ed7953"
             ],
             [
              0.7777777777777778,
              "#fb9f3a"
             ],
             [
              0.8888888888888888,
              "#fdca26"
             ],
             [
              1,
              "#f0f921"
             ]
            ],
            "type": "histogram2dcontour"
           }
          ],
          "mesh3d": [
           {
            "colorbar": {
             "outlinewidth": 0,
             "ticks": ""
            },
            "type": "mesh3d"
           }
          ],
          "parcoords": [
           {
            "line": {
             "colorbar": {
              "outlinewidth": 0,
              "ticks": ""
             }
            },
            "type": "parcoords"
           }
          ],
          "pie": [
           {
            "automargin": true,
            "type": "pie"
           }
          ],
          "scatter": [
           {
            "marker": {
             "colorbar": {
              "outlinewidth": 0,
              "ticks": ""
             }
            },
            "type": "scatter"
           }
          ],
          "scatter3d": [
           {
            "line": {
             "colorbar": {
              "outlinewidth": 0,
              "ticks": ""
             }
            },
            "marker": {
             "colorbar": {
              "outlinewidth": 0,
              "ticks": ""
             }
            },
            "type": "scatter3d"
           }
          ],
          "scattercarpet": [
           {
            "marker": {
             "colorbar": {
              "outlinewidth": 0,
              "ticks": ""
             }
            },
            "type": "scattercarpet"
           }
          ],
          "scattergeo": [
           {
            "marker": {
             "colorbar": {
              "outlinewidth": 0,
              "ticks": ""
             }
            },
            "type": "scattergeo"
           }
          ],
          "scattergl": [
           {
            "marker": {
             "colorbar": {
              "outlinewidth": 0,
              "ticks": ""
             }
            },
            "type": "scattergl"
           }
          ],
          "scattermapbox": [
           {
            "marker": {
             "colorbar": {
              "outlinewidth": 0,
              "ticks": ""
             }
            },
            "type": "scattermapbox"
           }
          ],
          "scatterpolar": [
           {
            "marker": {
             "colorbar": {
              "outlinewidth": 0,
              "ticks": ""
             }
            },
            "type": "scatterpolar"
           }
          ],
          "scatterpolargl": [
           {
            "marker": {
             "colorbar": {
              "outlinewidth": 0,
              "ticks": ""
             }
            },
            "type": "scatterpolargl"
           }
          ],
          "scatterternary": [
           {
            "marker": {
             "colorbar": {
              "outlinewidth": 0,
              "ticks": ""
             }
            },
            "type": "scatterternary"
           }
          ],
          "surface": [
           {
            "colorbar": {
             "outlinewidth": 0,
             "ticks": ""
            },
            "colorscale": [
             [
              0,
              "#0d0887"
             ],
             [
              0.1111111111111111,
              "#46039f"
             ],
             [
              0.2222222222222222,
              "#7201a8"
             ],
             [
              0.3333333333333333,
              "#9c179e"
             ],
             [
              0.4444444444444444,
              "#bd3786"
             ],
             [
              0.5555555555555556,
              "#d8576b"
             ],
             [
              0.6666666666666666,
              "#ed7953"
             ],
             [
              0.7777777777777778,
              "#fb9f3a"
             ],
             [
              0.8888888888888888,
              "#fdca26"
             ],
             [
              1,
              "#f0f921"
             ]
            ],
            "type": "surface"
           }
          ],
          "table": [
           {
            "cells": {
             "fill": {
              "color": "#EBF0F8"
             },
             "line": {
              "color": "white"
             }
            },
            "header": {
             "fill": {
              "color": "#C8D4E3"
             },
             "line": {
              "color": "white"
             }
            },
            "type": "table"
           }
          ]
         },
         "layout": {
          "annotationdefaults": {
           "arrowcolor": "#2a3f5f",
           "arrowhead": 0,
           "arrowwidth": 1
          },
          "autotypenumbers": "strict",
          "coloraxis": {
           "colorbar": {
            "outlinewidth": 0,
            "ticks": ""
           }
          },
          "colorscale": {
           "diverging": [
            [
             0,
             "#8e0152"
            ],
            [
             0.1,
             "#c51b7d"
            ],
            [
             0.2,
             "#de77ae"
            ],
            [
             0.3,
             "#f1b6da"
            ],
            [
             0.4,
             "#fde0ef"
            ],
            [
             0.5,
             "#f7f7f7"
            ],
            [
             0.6,
             "#e6f5d0"
            ],
            [
             0.7,
             "#b8e186"
            ],
            [
             0.8,
             "#7fbc41"
            ],
            [
             0.9,
             "#4d9221"
            ],
            [
             1,
             "#276419"
            ]
           ],
           "sequential": [
            [
             0,
             "#0d0887"
            ],
            [
             0.1111111111111111,
             "#46039f"
            ],
            [
             0.2222222222222222,
             "#7201a8"
            ],
            [
             0.3333333333333333,
             "#9c179e"
            ],
            [
             0.4444444444444444,
             "#bd3786"
            ],
            [
             0.5555555555555556,
             "#d8576b"
            ],
            [
             0.6666666666666666,
             "#ed7953"
            ],
            [
             0.7777777777777778,
             "#fb9f3a"
            ],
            [
             0.8888888888888888,
             "#fdca26"
            ],
            [
             1,
             "#f0f921"
            ]
           ],
           "sequentialminus": [
            [
             0,
             "#0d0887"
            ],
            [
             0.1111111111111111,
             "#46039f"
            ],
            [
             0.2222222222222222,
             "#7201a8"
            ],
            [
             0.3333333333333333,
             "#9c179e"
            ],
            [
             0.4444444444444444,
             "#bd3786"
            ],
            [
             0.5555555555555556,
             "#d8576b"
            ],
            [
             0.6666666666666666,
             "#ed7953"
            ],
            [
             0.7777777777777778,
             "#fb9f3a"
            ],
            [
             0.8888888888888888,
             "#fdca26"
            ],
            [
             1,
             "#f0f921"
            ]
           ]
          },
          "colorway": [
           "#636efa",
           "#EF553B",
           "#00cc96",
           "#ab63fa",
           "#FFA15A",
           "#19d3f3",
           "#FF6692",
           "#B6E880",
           "#FF97FF",
           "#FECB52"
          ],
          "font": {
           "color": "#2a3f5f"
          },
          "geo": {
           "bgcolor": "white",
           "lakecolor": "white",
           "landcolor": "#E5ECF6",
           "showlakes": true,
           "showland": true,
           "subunitcolor": "white"
          },
          "hoverlabel": {
           "align": "left"
          },
          "hovermode": "closest",
          "mapbox": {
           "style": "light"
          },
          "paper_bgcolor": "white",
          "plot_bgcolor": "#E5ECF6",
          "polar": {
           "angularaxis": {
            "gridcolor": "white",
            "linecolor": "white",
            "ticks": ""
           },
           "bgcolor": "#E5ECF6",
           "radialaxis": {
            "gridcolor": "white",
            "linecolor": "white",
            "ticks": ""
           }
          },
          "scene": {
           "xaxis": {
            "backgroundcolor": "#E5ECF6",
            "gridcolor": "white",
            "gridwidth": 2,
            "linecolor": "white",
            "showbackground": true,
            "ticks": "",
            "zerolinecolor": "white"
           },
           "yaxis": {
            "backgroundcolor": "#E5ECF6",
            "gridcolor": "white",
            "gridwidth": 2,
            "linecolor": "white",
            "showbackground": true,
            "ticks": "",
            "zerolinecolor": "white"
           },
           "zaxis": {
            "backgroundcolor": "#E5ECF6",
            "gridcolor": "white",
            "gridwidth": 2,
            "linecolor": "white",
            "showbackground": true,
            "ticks": "",
            "zerolinecolor": "white"
           }
          },
          "shapedefaults": {
           "line": {
            "color": "#2a3f5f"
           }
          },
          "ternary": {
           "aaxis": {
            "gridcolor": "white",
            "linecolor": "white",
            "ticks": ""
           },
           "baxis": {
            "gridcolor": "white",
            "linecolor": "white",
            "ticks": ""
           },
           "bgcolor": "#E5ECF6",
           "caxis": {
            "gridcolor": "white",
            "linecolor": "white",
            "ticks": ""
           }
          },
          "title": {
           "x": 0.05
          },
          "xaxis": {
           "automargin": true,
           "gridcolor": "white",
           "linecolor": "white",
           "ticks": "",
           "title": {
            "standoff": 15
           },
           "zerolinecolor": "white",
           "zerolinewidth": 2
          },
          "yaxis": {
           "automargin": true,
           "gridcolor": "white",
           "linecolor": "white",
           "ticks": "",
           "title": {
            "standoff": 15
           },
           "zerolinecolor": "white",
           "zerolinewidth": 2
          }
         }
        },
        "title": {
         "text": "Diabetic vs Not Diabetic",
         "x": 0.5
        }
       }
      }
     },
     "metadata": {},
     "output_type": "display_data"
    },
    {
     "data": {
      "application/vnd.plotly.v1+json": {
       "config": {
        "plotlyServerURL": "https://plot.ly"
       },
       "data": [
        {
         "alignmentgroup": "True",
         "bingroup": "x",
         "hovertemplate": "Outcome=%{x}<br>count=%{y}<extra></extra>",
         "legendgroup": "1",
         "marker": {
          "color": "#636efa",
          "pattern": {
           "shape": ""
          }
         },
         "name": "1",
         "offsetgroup": "1",
         "orientation": "v",
         "showlegend": true,
         "type": "histogram",
         "x": [
          1,
          1,
          1,
          1,
          1,
          1,
          1,
          1,
          1,
          1,
          1,
          1,
          1,
          1,
          1,
          1,
          1,
          1,
          1,
          1,
          1,
          1,
          1,
          1,
          1,
          1,
          1,
          1,
          1,
          1,
          1,
          1,
          1,
          1,
          1,
          1,
          1,
          1,
          1,
          1,
          1,
          1,
          1,
          1,
          1,
          1,
          1,
          1,
          1,
          1,
          1,
          1,
          1,
          1,
          1,
          1,
          1,
          1,
          1,
          1,
          1,
          1,
          1,
          1,
          1,
          1,
          1,
          1,
          1,
          1,
          1,
          1,
          1,
          1,
          1,
          1,
          1,
          1,
          1,
          1,
          1,
          1,
          1,
          1,
          1,
          1,
          1,
          1,
          1,
          1,
          1,
          1,
          1,
          1,
          1,
          1,
          1,
          1,
          1,
          1,
          1,
          1,
          1,
          1,
          1,
          1,
          1,
          1,
          1,
          1,
          1,
          1,
          1,
          1,
          1,
          1,
          1,
          1,
          1,
          1,
          1,
          1,
          1,
          1,
          1,
          1,
          1,
          1,
          1,
          1,
          1,
          1,
          1,
          1,
          1,
          1,
          1,
          1,
          1,
          1,
          1,
          1,
          1,
          1,
          1,
          1,
          1,
          1,
          1,
          1,
          1,
          1,
          1,
          1,
          1,
          1,
          1,
          1,
          1,
          1,
          1,
          1,
          1,
          1,
          1,
          1,
          1,
          1,
          1,
          1,
          1,
          1,
          1,
          1,
          1,
          1,
          1,
          1,
          1,
          1,
          1,
          1,
          1,
          1,
          1,
          1,
          1,
          1,
          1,
          1,
          1,
          1,
          1,
          1,
          1,
          1,
          1,
          1,
          1,
          1,
          1,
          1,
          1,
          1,
          1,
          1,
          1,
          1,
          1,
          1,
          1,
          1,
          1,
          1,
          1,
          1,
          1,
          1,
          1,
          1,
          1,
          1,
          1,
          1,
          1,
          1,
          1,
          1,
          1,
          1,
          1,
          1,
          1,
          1,
          1,
          1,
          1,
          1,
          1,
          1,
          1,
          1,
          1,
          1,
          1,
          1,
          1,
          1,
          1,
          1,
          1,
          1,
          1,
          1,
          1,
          1,
          1,
          1,
          1,
          1,
          1,
          1,
          1,
          1,
          1,
          1,
          1,
          1
         ],
         "xaxis": "x",
         "yaxis": "y"
        },
        {
         "alignmentgroup": "True",
         "bingroup": "x",
         "hovertemplate": "Outcome=%{x}<br>count=%{y}<extra></extra>",
         "legendgroup": "0",
         "marker": {
          "color": "#EF553B",
          "pattern": {
           "shape": ""
          }
         },
         "name": "0",
         "offsetgroup": "0",
         "orientation": "v",
         "showlegend": true,
         "type": "histogram",
         "x": [
          0,
          0,
          0,
          0,
          0,
          0,
          0,
          0,
          0,
          0,
          0,
          0,
          0,
          0,
          0,
          0,
          0,
          0,
          0,
          0,
          0,
          0,
          0,
          0,
          0,
          0,
          0,
          0,
          0,
          0,
          0,
          0,
          0,
          0,
          0,
          0,
          0,
          0,
          0,
          0,
          0,
          0,
          0,
          0,
          0,
          0,
          0,
          0,
          0,
          0,
          0,
          0,
          0,
          0,
          0,
          0,
          0,
          0,
          0,
          0,
          0,
          0,
          0,
          0,
          0,
          0,
          0,
          0,
          0,
          0,
          0,
          0,
          0,
          0,
          0,
          0,
          0,
          0,
          0,
          0,
          0,
          0,
          0,
          0,
          0,
          0,
          0,
          0,
          0,
          0,
          0,
          0,
          0,
          0,
          0,
          0,
          0,
          0,
          0,
          0,
          0,
          0,
          0,
          0,
          0,
          0,
          0,
          0,
          0,
          0,
          0,
          0,
          0,
          0,
          0,
          0,
          0,
          0,
          0,
          0,
          0,
          0,
          0,
          0,
          0,
          0,
          0,
          0,
          0,
          0,
          0,
          0,
          0,
          0,
          0,
          0,
          0,
          0,
          0,
          0,
          0,
          0,
          0,
          0,
          0,
          0,
          0,
          0,
          0,
          0,
          0,
          0,
          0,
          0,
          0,
          0,
          0,
          0,
          0,
          0,
          0,
          0,
          0,
          0,
          0,
          0,
          0,
          0,
          0,
          0,
          0,
          0,
          0,
          0,
          0,
          0,
          0,
          0,
          0,
          0,
          0,
          0,
          0,
          0,
          0,
          0,
          0,
          0,
          0,
          0,
          0,
          0,
          0,
          0,
          0,
          0,
          0,
          0,
          0,
          0,
          0,
          0,
          0,
          0,
          0,
          0,
          0,
          0,
          0,
          0,
          0,
          0,
          0,
          0,
          0,
          0,
          0,
          0,
          0,
          0,
          0,
          0,
          0,
          0,
          0,
          0,
          0,
          0,
          0,
          0,
          0,
          0,
          0,
          0,
          0,
          0,
          0,
          0,
          0,
          0,
          0,
          0,
          0,
          0,
          0,
          0,
          0,
          0,
          0,
          0,
          0,
          0,
          0,
          0,
          0,
          0,
          0,
          0,
          0,
          0,
          0,
          0,
          0,
          0,
          0,
          0,
          0,
          0,
          0,
          0,
          0,
          0,
          0,
          0,
          0,
          0,
          0,
          0,
          0,
          0,
          0,
          0,
          0,
          0,
          0,
          0,
          0,
          0,
          0,
          0,
          0,
          0,
          0,
          0,
          0,
          0,
          0,
          0,
          0,
          0,
          0,
          0,
          0,
          0,
          0,
          0,
          0,
          0,
          0,
          0,
          0,
          0,
          0,
          0,
          0,
          0,
          0,
          0,
          0,
          0,
          0,
          0,
          0,
          0,
          0,
          0,
          0,
          0,
          0,
          0,
          0,
          0,
          0,
          0,
          0,
          0,
          0,
          0,
          0,
          0,
          0,
          0,
          0,
          0,
          0,
          0,
          0,
          0,
          0,
          0,
          0,
          0,
          0,
          0,
          0,
          0,
          0,
          0,
          0,
          0,
          0,
          0,
          0,
          0,
          0,
          0,
          0,
          0,
          0,
          0,
          0,
          0,
          0,
          0,
          0,
          0,
          0,
          0,
          0,
          0,
          0,
          0,
          0,
          0,
          0,
          0,
          0,
          0,
          0,
          0,
          0,
          0,
          0,
          0,
          0,
          0,
          0,
          0,
          0,
          0,
          0,
          0,
          0,
          0,
          0,
          0,
          0,
          0,
          0,
          0,
          0,
          0,
          0,
          0,
          0,
          0,
          0,
          0,
          0,
          0,
          0,
          0,
          0,
          0,
          0,
          0,
          0,
          0,
          0,
          0,
          0,
          0,
          0,
          0,
          0,
          0,
          0,
          0,
          0,
          0,
          0,
          0,
          0,
          0,
          0,
          0,
          0,
          0,
          0,
          0,
          0,
          0,
          0,
          0,
          0,
          0,
          0,
          0,
          0,
          0,
          0,
          0,
          0,
          0,
          0,
          0,
          0,
          0,
          0,
          0,
          0,
          0,
          0,
          0,
          0,
          0,
          0,
          0,
          0,
          0,
          0,
          0,
          0,
          0,
          0,
          0,
          0,
          0,
          0,
          0,
          0,
          0,
          0,
          0,
          0,
          0,
          0,
          0,
          0,
          0
         ],
         "xaxis": "x",
         "yaxis": "y"
        }
       ],
       "layout": {
        "barmode": "relative",
        "legend": {
         "title": {
          "text": "Outcome"
         },
         "tracegroupgap": 0
        },
        "template": {
         "data": {
          "bar": [
           {
            "error_x": {
             "color": "#2a3f5f"
            },
            "error_y": {
             "color": "#2a3f5f"
            },
            "marker": {
             "line": {
              "color": "#E5ECF6",
              "width": 0.5
             },
             "pattern": {
              "fillmode": "overlay",
              "size": 10,
              "solidity": 0.2
             }
            },
            "type": "bar"
           }
          ],
          "barpolar": [
           {
            "marker": {
             "line": {
              "color": "#E5ECF6",
              "width": 0.5
             },
             "pattern": {
              "fillmode": "overlay",
              "size": 10,
              "solidity": 0.2
             }
            },
            "type": "barpolar"
           }
          ],
          "carpet": [
           {
            "aaxis": {
             "endlinecolor": "#2a3f5f",
             "gridcolor": "white",
             "linecolor": "white",
             "minorgridcolor": "white",
             "startlinecolor": "#2a3f5f"
            },
            "baxis": {
             "endlinecolor": "#2a3f5f",
             "gridcolor": "white",
             "linecolor": "white",
             "minorgridcolor": "white",
             "startlinecolor": "#2a3f5f"
            },
            "type": "carpet"
           }
          ],
          "choropleth": [
           {
            "colorbar": {
             "outlinewidth": 0,
             "ticks": ""
            },
            "type": "choropleth"
           }
          ],
          "contour": [
           {
            "colorbar": {
             "outlinewidth": 0,
             "ticks": ""
            },
            "colorscale": [
             [
              0,
              "#0d0887"
             ],
             [
              0.1111111111111111,
              "#46039f"
             ],
             [
              0.2222222222222222,
              "#7201a8"
             ],
             [
              0.3333333333333333,
              "#9c179e"
             ],
             [
              0.4444444444444444,
              "#bd3786"
             ],
             [
              0.5555555555555556,
              "#d8576b"
             ],
             [
              0.6666666666666666,
              "#ed7953"
             ],
             [
              0.7777777777777778,
              "#fb9f3a"
             ],
             [
              0.8888888888888888,
              "#fdca26"
             ],
             [
              1,
              "#f0f921"
             ]
            ],
            "type": "contour"
           }
          ],
          "contourcarpet": [
           {
            "colorbar": {
             "outlinewidth": 0,
             "ticks": ""
            },
            "type": "contourcarpet"
           }
          ],
          "heatmap": [
           {
            "colorbar": {
             "outlinewidth": 0,
             "ticks": ""
            },
            "colorscale": [
             [
              0,
              "#0d0887"
             ],
             [
              0.1111111111111111,
              "#46039f"
             ],
             [
              0.2222222222222222,
              "#7201a8"
             ],
             [
              0.3333333333333333,
              "#9c179e"
             ],
             [
              0.4444444444444444,
              "#bd3786"
             ],
             [
              0.5555555555555556,
              "#d8576b"
             ],
             [
              0.6666666666666666,
              "#ed7953"
             ],
             [
              0.7777777777777778,
              "#fb9f3a"
             ],
             [
              0.8888888888888888,
              "#fdca26"
             ],
             [
              1,
              "#f0f921"
             ]
            ],
            "type": "heatmap"
           }
          ],
          "heatmapgl": [
           {
            "colorbar": {
             "outlinewidth": 0,
             "ticks": ""
            },
            "colorscale": [
             [
              0,
              "#0d0887"
             ],
             [
              0.1111111111111111,
              "#46039f"
             ],
             [
              0.2222222222222222,
              "#7201a8"
             ],
             [
              0.3333333333333333,
              "#9c179e"
             ],
             [
              0.4444444444444444,
              "#bd3786"
             ],
             [
              0.5555555555555556,
              "#d8576b"
             ],
             [
              0.6666666666666666,
              "#ed7953"
             ],
             [
              0.7777777777777778,
              "#fb9f3a"
             ],
             [
              0.8888888888888888,
              "#fdca26"
             ],
             [
              1,
              "#f0f921"
             ]
            ],
            "type": "heatmapgl"
           }
          ],
          "histogram": [
           {
            "marker": {
             "pattern": {
              "fillmode": "overlay",
              "size": 10,
              "solidity": 0.2
             }
            },
            "type": "histogram"
           }
          ],
          "histogram2d": [
           {
            "colorbar": {
             "outlinewidth": 0,
             "ticks": ""
            },
            "colorscale": [
             [
              0,
              "#0d0887"
             ],
             [
              0.1111111111111111,
              "#46039f"
             ],
             [
              0.2222222222222222,
              "#7201a8"
             ],
             [
              0.3333333333333333,
              "#9c179e"
             ],
             [
              0.4444444444444444,
              "#bd3786"
             ],
             [
              0.5555555555555556,
              "#d8576b"
             ],
             [
              0.6666666666666666,
              "#ed7953"
             ],
             [
              0.7777777777777778,
              "#fb9f3a"
             ],
             [
              0.8888888888888888,
              "#fdca26"
             ],
             [
              1,
              "#f0f921"
             ]
            ],
            "type": "histogram2d"
           }
          ],
          "histogram2dcontour": [
           {
            "colorbar": {
             "outlinewidth": 0,
             "ticks": ""
            },
            "colorscale": [
             [
              0,
              "#0d0887"
             ],
             [
              0.1111111111111111,
              "#46039f"
             ],
             [
              0.2222222222222222,
              "#7201a8"
             ],
             [
              0.3333333333333333,
              "#9c179e"
             ],
             [
              0.4444444444444444,
              "#bd3786"
             ],
             [
              0.5555555555555556,
              "#d8576b"
             ],
             [
              0.6666666666666666,
              "#ed7953"
             ],
             [
              0.7777777777777778,
              "#fb9f3a"
             ],
             [
              0.8888888888888888,
              "#fdca26"
             ],
             [
              1,
              "#f0f921"
             ]
            ],
            "type": "histogram2dcontour"
           }
          ],
          "mesh3d": [
           {
            "colorbar": {
             "outlinewidth": 0,
             "ticks": ""
            },
            "type": "mesh3d"
           }
          ],
          "parcoords": [
           {
            "line": {
             "colorbar": {
              "outlinewidth": 0,
              "ticks": ""
             }
            },
            "type": "parcoords"
           }
          ],
          "pie": [
           {
            "automargin": true,
            "type": "pie"
           }
          ],
          "scatter": [
           {
            "marker": {
             "colorbar": {
              "outlinewidth": 0,
              "ticks": ""
             }
            },
            "type": "scatter"
           }
          ],
          "scatter3d": [
           {
            "line": {
             "colorbar": {
              "outlinewidth": 0,
              "ticks": ""
             }
            },
            "marker": {
             "colorbar": {
              "outlinewidth": 0,
              "ticks": ""
             }
            },
            "type": "scatter3d"
           }
          ],
          "scattercarpet": [
           {
            "marker": {
             "colorbar": {
              "outlinewidth": 0,
              "ticks": ""
             }
            },
            "type": "scattercarpet"
           }
          ],
          "scattergeo": [
           {
            "marker": {
             "colorbar": {
              "outlinewidth": 0,
              "ticks": ""
             }
            },
            "type": "scattergeo"
           }
          ],
          "scattergl": [
           {
            "marker": {
             "colorbar": {
              "outlinewidth": 0,
              "ticks": ""
             }
            },
            "type": "scattergl"
           }
          ],
          "scattermapbox": [
           {
            "marker": {
             "colorbar": {
              "outlinewidth": 0,
              "ticks": ""
             }
            },
            "type": "scattermapbox"
           }
          ],
          "scatterpolar": [
           {
            "marker": {
             "colorbar": {
              "outlinewidth": 0,
              "ticks": ""
             }
            },
            "type": "scatterpolar"
           }
          ],
          "scatterpolargl": [
           {
            "marker": {
             "colorbar": {
              "outlinewidth": 0,
              "ticks": ""
             }
            },
            "type": "scatterpolargl"
           }
          ],
          "scatterternary": [
           {
            "marker": {
             "colorbar": {
              "outlinewidth": 0,
              "ticks": ""
             }
            },
            "type": "scatterternary"
           }
          ],
          "surface": [
           {
            "colorbar": {
             "outlinewidth": 0,
             "ticks": ""
            },
            "colorscale": [
             [
              0,
              "#0d0887"
             ],
             [
              0.1111111111111111,
              "#46039f"
             ],
             [
              0.2222222222222222,
              "#7201a8"
             ],
             [
              0.3333333333333333,
              "#9c179e"
             ],
             [
              0.4444444444444444,
              "#bd3786"
             ],
             [
              0.5555555555555556,
              "#d8576b"
             ],
             [
              0.6666666666666666,
              "#ed7953"
             ],
             [
              0.7777777777777778,
              "#fb9f3a"
             ],
             [
              0.8888888888888888,
              "#fdca26"
             ],
             [
              1,
              "#f0f921"
             ]
            ],
            "type": "surface"
           }
          ],
          "table": [
           {
            "cells": {
             "fill": {
              "color": "#EBF0F8"
             },
             "line": {
              "color": "white"
             }
            },
            "header": {
             "fill": {
              "color": "#C8D4E3"
             },
             "line": {
              "color": "white"
             }
            },
            "type": "table"
           }
          ]
         },
         "layout": {
          "annotationdefaults": {
           "arrowcolor": "#2a3f5f",
           "arrowhead": 0,
           "arrowwidth": 1
          },
          "autotypenumbers": "strict",
          "coloraxis": {
           "colorbar": {
            "outlinewidth": 0,
            "ticks": ""
           }
          },
          "colorscale": {
           "diverging": [
            [
             0,
             "#8e0152"
            ],
            [
             0.1,
             "#c51b7d"
            ],
            [
             0.2,
             "#de77ae"
            ],
            [
             0.3,
             "#f1b6da"
            ],
            [
             0.4,
             "#fde0ef"
            ],
            [
             0.5,
             "#f7f7f7"
            ],
            [
             0.6,
             "#e6f5d0"
            ],
            [
             0.7,
             "#b8e186"
            ],
            [
             0.8,
             "#7fbc41"
            ],
            [
             0.9,
             "#4d9221"
            ],
            [
             1,
             "#276419"
            ]
           ],
           "sequential": [
            [
             0,
             "#0d0887"
            ],
            [
             0.1111111111111111,
             "#46039f"
            ],
            [
             0.2222222222222222,
             "#7201a8"
            ],
            [
             0.3333333333333333,
             "#9c179e"
            ],
            [
             0.4444444444444444,
             "#bd3786"
            ],
            [
             0.5555555555555556,
             "#d8576b"
            ],
            [
             0.6666666666666666,
             "#ed7953"
            ],
            [
             0.7777777777777778,
             "#fb9f3a"
            ],
            [
             0.8888888888888888,
             "#fdca26"
            ],
            [
             1,
             "#f0f921"
            ]
           ],
           "sequentialminus": [
            [
             0,
             "#0d0887"
            ],
            [
             0.1111111111111111,
             "#46039f"
            ],
            [
             0.2222222222222222,
             "#7201a8"
            ],
            [
             0.3333333333333333,
             "#9c179e"
            ],
            [
             0.4444444444444444,
             "#bd3786"
            ],
            [
             0.5555555555555556,
             "#d8576b"
            ],
            [
             0.6666666666666666,
             "#ed7953"
            ],
            [
             0.7777777777777778,
             "#fb9f3a"
            ],
            [
             0.8888888888888888,
             "#fdca26"
            ],
            [
             1,
             "#f0f921"
            ]
           ]
          },
          "colorway": [
           "#636efa",
           "#EF553B",
           "#00cc96",
           "#ab63fa",
           "#FFA15A",
           "#19d3f3",
           "#FF6692",
           "#B6E880",
           "#FF97FF",
           "#FECB52"
          ],
          "font": {
           "color": "#2a3f5f"
          },
          "geo": {
           "bgcolor": "white",
           "lakecolor": "white",
           "landcolor": "#E5ECF6",
           "showlakes": true,
           "showland": true,
           "subunitcolor": "white"
          },
          "hoverlabel": {
           "align": "left"
          },
          "hovermode": "closest",
          "mapbox": {
           "style": "light"
          },
          "paper_bgcolor": "white",
          "plot_bgcolor": "#E5ECF6",
          "polar": {
           "angularaxis": {
            "gridcolor": "white",
            "linecolor": "white",
            "ticks": ""
           },
           "bgcolor": "#E5ECF6",
           "radialaxis": {
            "gridcolor": "white",
            "linecolor": "white",
            "ticks": ""
           }
          },
          "scene": {
           "xaxis": {
            "backgroundcolor": "#E5ECF6",
            "gridcolor": "white",
            "gridwidth": 2,
            "linecolor": "white",
            "showbackground": true,
            "ticks": "",
            "zerolinecolor": "white"
           },
           "yaxis": {
            "backgroundcolor": "#E5ECF6",
            "gridcolor": "white",
            "gridwidth": 2,
            "linecolor": "white",
            "showbackground": true,
            "ticks": "",
            "zerolinecolor": "white"
           },
           "zaxis": {
            "backgroundcolor": "#E5ECF6",
            "gridcolor": "white",
            "gridwidth": 2,
            "linecolor": "white",
            "showbackground": true,
            "ticks": "",
            "zerolinecolor": "white"
           }
          },
          "shapedefaults": {
           "line": {
            "color": "#2a3f5f"
           }
          },
          "ternary": {
           "aaxis": {
            "gridcolor": "white",
            "linecolor": "white",
            "ticks": ""
           },
           "baxis": {
            "gridcolor": "white",
            "linecolor": "white",
            "ticks": ""
           },
           "bgcolor": "#E5ECF6",
           "caxis": {
            "gridcolor": "white",
            "linecolor": "white",
            "ticks": ""
           }
          },
          "title": {
           "x": 0.05
          },
          "xaxis": {
           "automargin": true,
           "gridcolor": "white",
           "linecolor": "white",
           "ticks": "",
           "title": {
            "standoff": 15
           },
           "zerolinecolor": "white",
           "zerolinewidth": 2
          },
          "yaxis": {
           "automargin": true,
           "gridcolor": "white",
           "linecolor": "white",
           "ticks": "",
           "title": {
            "standoff": 15
           },
           "zerolinecolor": "white",
           "zerolinewidth": 2
          }
         }
        },
        "title": {
         "text": "Diabetic vs Not Diabetic"
        },
        "xaxis": {
         "anchor": "y",
         "categoryarray": [
          1,
          0
         ],
         "categoryorder": "array",
         "domain": [
          0,
          1
         ],
         "title": {
          "text": "Outcome"
         }
        },
        "yaxis": {
         "anchor": "x",
         "domain": [
          0,
          1
         ],
         "title": {
          "text": "count"
         }
        }
       }
      }
     },
     "metadata": {},
     "output_type": "display_data"
    }
   ],
   "source": [
    "labels = ['Not Diabetic', 'Diabetic']\n",
    "values = df_copy['Outcome'].value_counts()\n",
    "fig = go.Figure(data=[go.Pie(labels=labels, values=values, hole=.5)])\n",
    "fig.update_layout(title_text='Diabetic vs Not Diabetic', title_x=0.5)\n",
    "fig.show()\n",
    "\n",
    "fig = px.histogram(df_copy, x=\"Outcome\", color=\"Outcome\", title=\"Diabetic vs Not Diabetic\")\n",
    "fig.show()"
   ]
  },
  {
   "cell_type": "code",
   "execution_count": 14,
   "metadata": {},
   "outputs": [
    {
     "data": {
      "text/plain": [
       "<AxesSubplot:xlabel='Age', ylabel='Density'>"
      ]
     },
     "execution_count": 14,
     "metadata": {},
     "output_type": "execute_result"
    },
    {
     "data": {
      "image/png": "[encoded data removed]",
      "text/plain": [
       "<Figure size 1152x1152 with 8 Axes>"
      ]
     },
     "metadata": {
      "needs_background": "light"
     },
     "output_type": "display_data"
    }
   ],
   "source": [
    "fig, axes = plt.subplots(4, 2, figsize=(16, 16))\n",
    "sns.distplot(df_copy[df_copy['Outcome'] == 0]['Pregnancies'], ax=axes[0, 0])\n",
    "sns.distplot(df_copy[df_copy['Outcome'] == 1]['Pregnancies'], ax=axes[0, 0])\n",
    "axes[0,0].legend(['Not Diabetic', 'Diabetic'])\n",
    "\n",
    "sns.distplot(df_copy[df_copy['Outcome'] == 0]['Glucose'], ax=axes[0, 1])\n",
    "sns.distplot(df_copy[df_copy['Outcome'] == 1]['Glucose'], ax=axes[0, 1])\n",
    "\n",
    "sns.distplot(df_copy[df_copy['Outcome'] == 0]['BloodPressure'], ax=axes[1, 0])\n",
    "sns.distplot(df_copy[df_copy['Outcome'] == 1]['BloodPressure'], ax=axes[1, 0])\n",
    "\n",
    "sns.distplot(df_copy[df_copy['Outcome'] == 0]['SkinThickness'], ax=axes[1, 1])\n",
    "sns.distplot(df_copy[df_copy['Outcome'] == 1]['SkinThickness'], ax=axes[1, 1])\n",
    "\n",
    "sns.distplot(df_copy[df_copy['Outcome'] == 0]['Insulin'], ax=axes[2, 0])\n",
    "sns.distplot(df_copy[df_copy['Outcome'] == 1]['Insulin'], ax=axes[2, 0])\n",
    "\n",
    "sns.distplot(df_copy[df_copy['Outcome'] == 0]['BMI'], ax=axes[2, 1])\n",
    "sns.distplot(df_copy[df_copy['Outcome'] == 1]['BMI'], ax=axes[2, 1])\n",
    "\n",
    "sns.distplot(df_copy[df_copy['Outcome'] == 0]['DiabetesPedigreeFunction'], ax=axes[3, 0])\n",
    "sns.distplot(df_copy[df_copy['Outcome'] == 1]['DiabetesPedigreeFunction'], ax=axes[3, 0])\n",
    "\n",
    "sns.distplot(df_copy[df_copy['Outcome'] == 0]['Age'], ax=axes[3, 1])\n",
    "sns.distplot(df_copy[df_copy['Outcome'] == 1]['Age'], ax=axes[3, 1])\n"
   ]
  },
  {
   "cell_type": "code",
   "execution_count": 15,
   "metadata": {},
   "outputs": [
    {
     "data": {
      "text/plain": [
       "<AxesSubplot:>"
      ]
     },
     "execution_count": 15,
     "metadata": {},
     "output_type": "execute_result"
    },
    {
     "data": {
      "image/png": "[encoded data removed]",
      "text/plain": [
       "<Figure size 1080x720 with 2 Axes>"
      ]
     },
     "metadata": {
      "needs_background": "light"
     },
     "output_type": "display_data"
    }
   ],
   "source": [
    "corr = df_copy.corr()\n",
    "plt.figure(figsize=(15,10))\n",
    "sns.heatmap(corr, annot=True, cmap='coolwarm')\n"
   ]
  },
  {
   "cell_type": "code",
   "execution_count": 16,
   "metadata": {},
   "outputs": [
    {
     "data": {
      "text/plain": [
       "<AxesSubplot:>"
      ]
     },
     "execution_count": 16,
     "metadata": {},
     "output_type": "execute_result"
    },
    {
     "data": {
      "image/png": "[encoded data removed]",
      "text/plain": [
       "<Figure size 360x360 with 2 Axes>"
      ]
     },
     "metadata": {
      "needs_background": "light"
     },
     "output_type": "display_data"
    }
   ],
   "source": [
    "corr = df_copy.corrwith(df_copy['Outcome']).sort_values(ascending = False).to_frame()\n",
    "corr.columns = ['Correlations']\n",
    "plt.subplots(figsize = (5,5))\n",
    "sns.heatmap(corr,annot = True,linewidths = 0.4,linecolor = 'black',cmap=\"flare\")"
   ]
  },
  {
   "cell_type": "code",
   "execution_count": 17,
   "metadata": {},
   "outputs": [],
   "source": [
    "from sklearn.feature_selection import SelectKBest\n",
    "from sklearn.feature_selection import f_classif"
   ]
  },
  {
   "cell_type": "code",
   "execution_count": 18,
   "metadata": {},
   "outputs": [
    {
     "data": {
      "text/html": [
       "<div>\n",
       "<style scoped>\n",
       "    .dataframe tbody tr th:only-of-type {\n",
       "        vertical-align: middle;\n",
       "    }\n",
       "\n",
       "    .dataframe tbody tr th {\n",
       "        vertical-align: top;\n",
       "    }\n",
       "\n",
       "    .dataframe thead th {\n",
       "        text-align: right;\n",
       "    }\n",
       "</style>\n",
       "<table border=\"1\" class=\"dataframe\">\n",
       "  <thead>\n",
       "    <tr style=\"text-align: right;\">\n",
       "      <th></th>\n",
       "      <th>Features</th>\n",
       "      <th>Score</th>\n",
       "    </tr>\n",
       "  </thead>\n",
       "  <tbody>\n",
       "    <tr>\n",
       "      <th>1</th>\n",
       "      <td>Glucose</td>\n",
       "      <td>245.859209</td>\n",
       "    </tr>\n",
       "    <tr>\n",
       "      <th>5</th>\n",
       "      <td>BMI</td>\n",
       "      <td>82.629271</td>\n",
       "    </tr>\n",
       "    <tr>\n",
       "      <th>7</th>\n",
       "      <td>Age</td>\n",
       "      <td>46.140611</td>\n",
       "    </tr>\n",
       "    <tr>\n",
       "      <th>0</th>\n",
       "      <td>Pregnancies</td>\n",
       "      <td>39.670227</td>\n",
       "    </tr>\n",
       "    <tr>\n",
       "      <th>3</th>\n",
       "      <td>SkinThickness</td>\n",
       "      <td>37.078538</td>\n",
       "    </tr>\n",
       "    <tr>\n",
       "      <th>4</th>\n",
       "      <td>Insulin</td>\n",
       "      <td>33.190796</td>\n",
       "    </tr>\n",
       "    <tr>\n",
       "      <th>6</th>\n",
       "      <td>DiabetesPedigreeFunction</td>\n",
       "      <td>23.871300</td>\n",
       "    </tr>\n",
       "    <tr>\n",
       "      <th>2</th>\n",
       "      <td>BloodPressure</td>\n",
       "      <td>21.725844</td>\n",
       "    </tr>\n",
       "  </tbody>\n",
       "</table>\n",
       "</div>"
      ],
      "text/plain": [
       "                   Features       Score\n",
       "1                   Glucose  245.859209\n",
       "5                       BMI   82.629271\n",
       "7                       Age   46.140611\n",
       "0               Pregnancies   39.670227\n",
       "3             SkinThickness   37.078538\n",
       "4                   Insulin   33.190796\n",
       "6  DiabetesPedigreeFunction   23.871300\n",
       "2             BloodPressure   21.725844"
      ]
     },
     "execution_count": 18,
     "metadata": {},
     "output_type": "execute_result"
    }
   ],
   "source": [
    "#ANOVA TEST\n",
    "X = df_copy.iloc[:,0:8]  #independent columns\n",
    "y = df_copy.iloc[:,-1]    #target column i.e price range\n",
    "#apply SelectKBest class to extract top 10 best features\n",
    "bestfeatures = SelectKBest(score_func=f_classif, k=8)\n",
    "fit = bestfeatures.fit(X,y)\n",
    "dfscores = pd.DataFrame(fit.scores_)\n",
    "dfcolumns = pd.DataFrame(X.columns)\n",
    "#concat two dataframes for better visualization\n",
    "featureScores = pd.concat([dfcolumns,dfscores],axis=1)\n",
    "featureScores.columns = ['Features','Score']  #naming the dataframe columns\n",
    "featureScores = featureScores.sort_values(by='Score', ascending=False)\n",
    "featureScores"
   ]
  },
  {
   "cell_type": "code",
   "execution_count": 19,
   "metadata": {},
   "outputs": [
    {
     "data": {
      "image/png": "[encoded data removed]",
      "text/plain": [
       "<Figure size 720x360 with 1 Axes>"
      ]
     },
     "metadata": {
      "needs_background": "light"
     },
     "output_type": "display_data"
    }
   ],
   "source": [
    "plt.figure(figsize=(10,5))\n",
    "sns.barplot(x='Features', y='Score', data=featureScores, palette='flare')\n",
    "plt.xticks(rotation=90)\n",
    "plt.title('Feature Importance (ANOVA)')\n",
    "plt.show()"
   ]
  },
  {
   "cell_type": "code",
   "execution_count": 20,
   "metadata": {},
   "outputs": [],
   "source": [
    "from sklearn.model_selection import train_test_split\n",
    "from sklearn.metrics import confusion_matrix\n",
    "from sklearn.metrics import roc_auc_score\n",
    "from sklearn.metrics import plot_roc_curve\n",
    "from sklearn.model_selection import cross_val_score\n",
    "from sklearn.model_selection import GridSearchCV\n",
    "from sklearn.metrics import classification_report\n",
    "from sklearn.metrics import accuracy_score\n",
    "from sklearn.model_selection import RepeatedStratifiedKFold\n",
    "from sklearn.metrics import precision_recall_curve"
   ]
  },
  {
   "cell_type": "code",
   "execution_count": 21,
   "metadata": {},
   "outputs": [],
   "source": [
    "x_train, x_test, y_train, y_test = train_test_split(X, y, test_size=0.2, random_state=42)"
   ]
  },
  {
   "cell_type": "code",
   "execution_count": 22,
   "metadata": {},
   "outputs": [],
   "source": [
    "def model(classifier,x_train,y_train,x_test,y_test):\n",
    "    \n",
    "    classifier.fit(x_train,y_train)\n",
    "    prediction = classifier.predict(x_test)\n",
    "    cv = RepeatedStratifiedKFold(n_splits = 10,n_repeats = 3,random_state = 1)\n",
    "    print(\"Cross Validation Score : \",'{0:.2%}'.format(cross_val_score(classifier,x_train,y_train,cv = cv,scoring = 'roc_auc').mean()))\n",
    "    print(\"ROC_AUC Score : \",'{0:.2%}'.format(roc_auc_score(y_test,prediction)))\n",
    "    plot_roc_curve(classifier, x_test,y_test)\n",
    "    plt.title('ROC_AUC_Plot')\n",
    "    plt.show()"
   ]
  },
  {
   "cell_type": "code",
   "execution_count": 23,
   "metadata": {},
   "outputs": [],
   "source": [
    "def model_evaluation(classifier,x_test,y_test):\n",
    "    \n",
    "    # Confusion Matrix\n",
    "    cm = confusion_matrix(y_test,classifier.predict(x_test))\n",
    "    names = ['True Neg','False Pos','False Neg','True Pos']\n",
    "    counts = [value for value in cm.flatten()]\n",
    "    percentages = ['{0:.2%}'.format(value) for value in cm.flatten()/np.sum(cm)]\n",
    "    labels = [f'{v1}\\n{v2}\\n{v3}' for v1, v2, v3 in zip(names,counts,percentages)]\n",
    "    labels = np.asarray(labels).reshape(2,2)\n",
    "    sns.heatmap(cm,annot = labels,cmap = 'Blues',fmt ='')\n",
    "    \n",
    "    # Classification Report\n",
    "    print(classification_report(y_test,classifier.predict(x_test)))"
   ]
  },
  {
   "cell_type": "code",
   "execution_count": 38,
   "metadata": {},
   "outputs": [],
   "source": [
    "from xgboost import XGBClassifier\n",
    "from xgboost import plot_importance\n",
    "\n",
    "\n",
    "xgb = XGBClassifier()"
   ]
  },
  {
   "cell_type": "code",
   "execution_count": 25,
   "metadata": {},
   "outputs": [
    {
     "data": {
      "text/plain": [
       "GridSearchCV(cv=5,\n",
       "             estimator=XGBClassifier(base_score=None, booster=None,\n",
       "                                     colsample_bylevel=None,\n",
       "                                     colsample_bynode=None,\n",
       "                                     colsample_bytree=None,\n",
       "                                     enable_categorical=False, gamma=None,\n",
       "                                     gpu_id=None, importance_type=None,\n",
       "                                     interaction_constraints=None,\n",
       "                                     learning_rate=None, max_delta_step=None,\n",
       "                                     max_depth=None, min_child_weight=None,\n",
       "                                     missing=nan, monotone_constraints=None,...\n",
       "                                     num_parallel_tree=None, predictor=None,\n",
       "                                     random_state=None, reg_alpha=None,\n",
       "                                     reg_lambda=None, scale_pos_weight=None,\n",
       "                                     subsample=None, tree_method=None,\n",
       "                                     validate_parameters=None, verbosity=None),\n",
       "             n_jobs=-1,\n",
       "             param_grid={'eval_metric': ['auc'],\n",
       "                         'learning_rate': [0.01, 0.05, 0.1, 0.15, 0.2],\n",
       "                         'max_depth': [1, 2, 3, 4, 5],\n",
       "                         'n_estimators': [50, 100, 200, 300, 400, 500]},\n",
       "             scoring='roc_auc')"
      ]
     },
     "execution_count": 25,
     "metadata": {},
     "output_type": "execute_result"
    }
   ],
   "source": [
    "param_grid = {'n_estimators': [50, 100, 200, 300, 400, 500],\n",
    "                'max_depth': [1, 2, 3, 4, 5],\n",
    "                'learning_rate': [0.01, 0.05, 0.1, 0.15, 0.2],\n",
    "                'eval_metric': [\"auc\"]\n",
    "                }\n",
    "grid = GridSearchCV(xgb, param_grid, cv=5, scoring='roc_auc', n_jobs=-1)\n",
    "grid.fit(x_train, y_train)"
   ]
  },
  {
   "cell_type": "code",
   "execution_count": 26,
   "metadata": {},
   "outputs": [],
   "source": [
    "best_params = grid.best_params_\n",
    "best_score = grid.best_score_"
   ]
  },
  {
   "cell_type": "code",
   "execution_count": 27,
   "metadata": {},
   "outputs": [
    {
     "data": {
      "text/plain": [
       "XGBClassifier(base_score=0.5, booster='gbtree', colsample_bylevel=1,\n",
       "              colsample_bynode=1, colsample_bytree=1, enable_categorical=False,\n",
       "              eval_metric='auc', gamma=0, gpu_id=-1, importance_type=None,\n",
       "              interaction_constraints='', learning_rate=0.2, max_delta_step=0,\n",
       "              max_depth=1, min_child_weight=1, missing=nan,\n",
       "              monotone_constraints='()', n_estimators=100, n_jobs=12,\n",
       "              num_parallel_tree=1, predictor='auto', random_state=0,\n",
       "              reg_alpha=0, reg_lambda=1, scale_pos_weight=1, subsample=1,\n",
       "              tree_method='exact', validate_parameters=1, verbosity=None)"
      ]
     },
     "execution_count": 27,
     "metadata": {},
     "output_type": "execute_result"
    }
   ],
   "source": [
    "xgb_best = XGBClassifier(**best_params)\n",
    "xgb_best.fit(x_train, y_train)"
   ]
  },
  {
   "cell_type": "code",
   "execution_count": 28,
   "metadata": {},
   "outputs": [
    {
     "name": "stdout",
     "output_type": "stream",
     "text": [
      "              precision    recall  f1-score   support\n",
      "\n",
      "           0       0.80      0.83      0.82        99\n",
      "           1       0.67      0.64      0.65        55\n",
      "\n",
      "    accuracy                           0.76       154\n",
      "   macro avg       0.74      0.73      0.74       154\n",
      "weighted avg       0.76      0.76      0.76       154\n",
      "\n"
     ]
    },
    {
     "data": {
      "image/png": "[encoded data removed]",
      "text/plain": [
       "<Figure size 432x288 with 2 Axes>"
      ]
     },
     "metadata": {
      "needs_background": "light"
     },
     "output_type": "display_data"
    }
   ],
   "source": [
    "# Model Evaluation\n",
    "model_evaluation(xgb_best, x_test, y_test)"
   ]
  },
  {
   "cell_type": "code",
   "execution_count": 29,
   "metadata": {},
   "outputs": [
    {
     "name": "stdout",
     "output_type": "stream",
     "text": [
      "Cross Validation Score :  85.15%\n",
      "ROC_AUC Score :  73.23%\n"
     ]
    },
    {
     "data": {
      "image/png": "[encoded data removed]",
      "text/plain": [
       "<Figure size 432x288 with 1 Axes>"
      ]
     },
     "metadata": {
      "needs_background": "light"
     },
     "output_type": "display_data"
    }
   ],
   "source": [
    "#roc_auc_score\n",
    "model(xgb_best,x_train,y_train,x_test,y_test)"
   ]
  },
  {
   "attachments": {},
   "cell_type": "markdown",
   "metadata": {},
   "source": [
    "### xgb optimization with optuna"
   ]
  },
  {
   "cell_type": "code",
   "execution_count": 31,
   "metadata": {},
   "outputs": [],
   "source": [
    "import optuna\n",
    "\n",
    "def objective(trial):\n",
    "    params = {\n",
    "        'n_estimators': trial.suggest_int('n_estimators', 50, 500),\n",
    "        'max_depth': trial.suggest_int('max_depth', 1, 8),\n",
    "        'learning_rate': trial.suggest_uniform('learning_rate', 0.01, 1.0),\n",
    "        'min_child_weight': trial.suggest_int('min_child_weight', 1, 10),\n",
    "        'gamma': trial.suggest_loguniform('gamma', 1e-8, 1.0),\n",
    "        'subsample': trial.suggest_loguniform('subsample', 0.01, 1.0),\n",
    "        'colsample_bytree': trial.suggest_loguniform('colsample_bytree', 0.01, 1.0),\n",
    "        'reg_alpha': trial.suggest_loguniform('reg_alpha', 1e-8, 1.0),\n",
    "        'reg_lambda': trial.suggest_loguniform('reg_lambda', 1e-8, 1.0),\n",
    "        'eval_metric': \"auc\",\n",
    "    }\n",
    "\n",
    "    optuna_model = XGBClassifier(**params)\n",
    "\n",
    "    optuna_model.fit(x_train, y_train)\n",
    "\n",
    "    y_pred = optuna_model.predict(x_test)\n",
    "\n",
    "    return roc_auc_score(y_test, y_pred)"
   ]
  },
  {
   "cell_type": "code",
   "execution_count": 35,
   "metadata": {},
   "outputs": [
    {
     "name": "stderr",
     "output_type": "stream",
     "text": [
      "\u001b[32m[I 2023-06-22 21:31:55,816]\u001b[0m A new study created in memory with name: no-name-47b24468-9f3d-41cf-a76f-b68c148a6761\u001b[0m\n",
      "\u001b[32m[I 2023-06-22 21:31:56,033]\u001b[0m Trial 0 finished with value: 0.6383838383838384 and parameters: {'n_estimators': 297, 'max_depth': 1, 'learning_rate': 0.7326990913940558, 'min_child_weight': 1, 'gamma': 0.0024196621327923877, 'subsample': 0.024185561546679085, 'colsample_bytree': 0.10557660491043878, 'reg_alpha': 5.3441229675413784e-05, 'reg_lambda': 2.2676496847830793e-08}. Best is trial 0 with value: 0.6383838383838384.\u001b[0m\n",
      "\u001b[32m[I 2023-06-22 21:31:56,176]\u001b[0m Trial 1 finished with value: 0.7464646464646464 and parameters: {'n_estimators': 72, 'max_depth': 6, 'learning_rate': 0.6840000117908134, 'min_child_weight': 10, 'gamma': 3.015599904488043e-06, 'subsample': 0.5096028453930456, 'colsample_bytree': 0.5184732983038456, 'reg_alpha': 1.8732893560427502e-07, 'reg_lambda': 0.08029488848509757}. Best is trial 1 with value: 0.7464646464646464.\u001b[0m\n",
      "\u001b[32m[I 2023-06-22 21:31:56,326]\u001b[0m Trial 2 finished with value: 0.7070707070707071 and parameters: {'n_estimators': 184, 'max_depth': 1, 'learning_rate': 0.9269455512650556, 'min_child_weight': 7, 'gamma': 0.002920372110262732, 'subsample': 0.14557616200962437, 'colsample_bytree': 0.17998727745424328, 'reg_alpha': 0.00043373823985459444, 'reg_lambda': 1.208923903330916e-08}. Best is trial 1 with value: 0.7464646464646464.\u001b[0m\n",
      "\u001b[32m[I 2023-06-22 21:31:56,394]\u001b[0m Trial 3 finished with value: 0.5 and parameters: {'n_estimators': 56, 'max_depth': 7, 'learning_rate': 0.7681513712962768, 'min_child_weight': 3, 'gamma': 0.0010106867413776025, 'subsample': 0.010187440052569737, 'colsample_bytree': 0.4627527027329801, 'reg_alpha': 3.343040907803344e-07, 'reg_lambda': 3.448645732386279e-05}. Best is trial 1 with value: 0.7464646464646464.\u001b[0m\n",
      "\u001b[32m[I 2023-06-22 21:31:56,624]\u001b[0m Trial 4 finished with value: 0.6686868686868688 and parameters: {'n_estimators': 150, 'max_depth': 6, 'learning_rate': 0.9116286558933456, 'min_child_weight': 1, 'gamma': 5.64082069913745e-06, 'subsample': 0.1461759202500573, 'colsample_bytree': 0.019172861419372723, 'reg_alpha': 0.016188855465108905, 'reg_lambda': 0.0051611440483700765}. Best is trial 1 with value: 0.7464646464646464.\u001b[0m\n",
      "\u001b[32m[I 2023-06-22 21:31:56,883]\u001b[0m Trial 5 finished with value: 0.7161616161616162 and parameters: {'n_estimators': 306, 'max_depth': 4, 'learning_rate': 0.884562278530088, 'min_child_weight': 1, 'gamma': 1.3127579325142223e-08, 'subsample': 0.1299077662279726, 'colsample_bytree': 0.03969659294592875, 'reg_alpha': 0.0011513740442287525, 'reg_lambda': 1.9478633183650965e-08}. Best is trial 1 with value: 0.7464646464646464.\u001b[0m\n",
      "\u001b[32m[I 2023-06-22 21:31:57,112]\u001b[0m Trial 6 finished with value: 0.5 and parameters: {'n_estimators': 303, 'max_depth': 3, 'learning_rate': 0.5293940061087746, 'min_child_weight': 8, 'gamma': 2.2373156742613748e-08, 'subsample': 0.0165874335729467, 'colsample_bytree': 0.08342561315005018, 'reg_alpha': 1.2867530787498881e-05, 'reg_lambda': 3.64077323584897e-08}. Best is trial 1 with value: 0.7464646464646464.\u001b[0m\n",
      "\u001b[32m[I 2023-06-22 21:31:57,531]\u001b[0m Trial 7 finished with value: 0.6222222222222222 and parameters: {'n_estimators': 477, 'max_depth': 2, 'learning_rate': 0.38578246923769, 'min_child_weight': 4, 'gamma': 0.058011336607043676, 'subsample': 0.5686074030857065, 'colsample_bytree': 0.6020430142755224, 'reg_alpha': 2.10372262131656e-06, 'reg_lambda': 7.033236812775563e-08}. Best is trial 1 with value: 0.7464646464646464.\u001b[0m\n",
      "\u001b[32m[I 2023-06-22 21:31:57,879]\u001b[0m Trial 8 finished with value: 0.7151515151515152 and parameters: {'n_estimators': 349, 'max_depth': 7, 'learning_rate': 0.16276108446165896, 'min_child_weight': 9, 'gamma': 0.0005815695174466135, 'subsample': 0.7278319516664528, 'colsample_bytree': 0.022192118211674963, 'reg_alpha': 0.8405459429106298, 'reg_lambda': 0.000231892512927873}. Best is trial 1 with value: 0.7464646464646464.\u001b[0m\n",
      "\u001b[32m[I 2023-06-22 21:31:58,009]\u001b[0m Trial 9 finished with value: 0.6939393939393939 and parameters: {'n_estimators': 146, 'max_depth': 8, 'learning_rate': 0.8162488970397004, 'min_child_weight': 8, 'gamma': 4.221556128718904e-08, 'subsample': 0.18150015008756992, 'colsample_bytree': 0.1558689899137949, 'reg_alpha': 1.9505833981482165e-07, 'reg_lambda': 0.00010970594347063026}. Best is trial 1 with value: 0.7464646464646464.\u001b[0m\n",
      "\u001b[32m[I 2023-06-22 21:31:58,184]\u001b[0m Trial 10 finished with value: 0.7161616161616162 and parameters: {'n_estimators': 54, 'max_depth': 5, 'learning_rate': 0.6048270161558218, 'min_child_weight': 10, 'gamma': 9.4295211009014e-06, 'subsample': 0.3764254201637377, 'colsample_bytree': 0.9651768554708705, 'reg_alpha': 1.9209858193206424e-08, 'reg_lambda': 0.812729125828472}. Best is trial 1 with value: 0.7464646464646464.\u001b[0m\n",
      "\u001b[32m[I 2023-06-22 21:31:58,657]\u001b[0m Trial 11 finished with value: 0.6393939393939394 and parameters: {'n_estimators': 398, 'max_depth': 4, 'learning_rate': 0.9997294755528434, 'min_child_weight': 5, 'gamma': 4.527441939709222e-07, 'subsample': 0.9538264503551437, 'colsample_bytree': 0.046732406421009835, 'reg_alpha': 0.00082518949944452, 'reg_lambda': 1.3801056664983215e-06}. Best is trial 1 with value: 0.7464646464646464.\u001b[0m\n",
      "\u001b[32m[I 2023-06-22 21:31:58,926]\u001b[0m Trial 12 finished with value: 0.5383838383838384 and parameters: {'n_estimators': 227, 'max_depth': 5, 'learning_rate': 0.676221351991992, 'min_child_weight': 6, 'gamma': 1.0625417845730735e-08, 'subsample': 0.06365312727829316, 'colsample_bytree': 0.011967747672827147, 'reg_alpha': 1.5569961161193285e-08, 'reg_lambda': 0.055927122870380354}. Best is trial 1 with value: 0.7464646464646464.\u001b[0m\n",
      "\u001b[32m[I 2023-06-22 21:31:59,377]\u001b[0m Trial 13 finished with value: 0.6484848484848486 and parameters: {'n_estimators': 406, 'max_depth': 4, 'learning_rate': 0.8524275467318159, 'min_child_weight': 3, 'gamma': 6.954150008256403e-07, 'subsample': 0.2878252357965359, 'colsample_bytree': 0.2891138654498922, 'reg_alpha': 7.1800229322588775e-06, 'reg_lambda': 2.0159095291797334e-06}. Best is trial 1 with value: 0.7464646464646464.\u001b[0m\n",
      "\u001b[32m[I 2023-06-22 21:31:59,653]\u001b[0m Trial 14 finished with value: 0.5 and parameters: {'n_estimators': 238, 'max_depth': 6, 'learning_rate': 0.6360999085755155, 'min_child_weight': 10, 'gamma': 4.2007122420536286e-05, 'subsample': 0.07372025961905052, 'colsample_bytree': 0.048442908071593786, 'reg_alpha': 0.00018547027676535076, 'reg_lambda': 0.002658071085480026}. Best is trial 1 with value: 0.7464646464646464.\u001b[0m\n",
      "\u001b[32m[I 2023-06-22 21:31:59,869]\u001b[0m Trial 15 finished with value: 0.7101010101010101 and parameters: {'n_estimators': 97, 'max_depth': 3, 'learning_rate': 0.44106437694549194, 'min_child_weight': 2, 'gamma': 2.79309741232382e-07, 'subsample': 0.381271173953977, 'colsample_bytree': 0.27926987098075917, 'reg_alpha': 0.0034842493557774566, 'reg_lambda': 0.3432495893439879}. Best is trial 1 with value: 0.7464646464646464.\u001b[0m\n",
      "\u001b[32m[I 2023-06-22 21:32:00,204]\u001b[0m Trial 16 finished with value: 0.6828282828282828 and parameters: {'n_estimators': 249, 'max_depth': 6, 'learning_rate': 0.7701295699895598, 'min_child_weight': 5, 'gamma': 1.272805616959655e-07, 'subsample': 0.2452424693943314, 'colsample_bytree': 0.06298563494807477, 'reg_alpha': 3.87215901761564e-05, 'reg_lambda': 0.04081585197851495}. Best is trial 1 with value: 0.7464646464646464.\u001b[0m\n",
      "\u001b[32m[I 2023-06-22 21:32:00,635]\u001b[0m Trial 17 finished with value: 0.6696969696969699 and parameters: {'n_estimators': 363, 'max_depth': 3, 'learning_rate': 0.9738743719637822, 'min_child_weight': 7, 'gamma': 2.0990808855763673e-06, 'subsample': 0.5083209590347273, 'colsample_bytree': 0.9739816231667933, 'reg_alpha': 1.2968780276428322e-06, 'reg_lambda': 3.31134144912984e-07}. Best is trial 1 with value: 0.7464646464646464.\u001b[0m\n",
      "\u001b[32m[I 2023-06-22 21:32:01,097]\u001b[0m Trial 18 finished with value: 0.7404040404040403 and parameters: {'n_estimators': 454, 'max_depth': 8, 'learning_rate': 0.8480091493020981, 'min_child_weight': 4, 'gamma': 1.0563717561994788e-07, 'subsample': 0.09637303741116414, 'colsample_bytree': 0.03243867622826438, 'reg_alpha': 1.0974585786216431e-05, 'reg_lambda': 1.2427521257118384e-05}. Best is trial 1 with value: 0.7464646464646464.\u001b[0m\n",
      "\u001b[32m[I 2023-06-22 21:32:01,542]\u001b[0m Trial 19 finished with value: 0.7505050505050505 and parameters: {'n_estimators': 478, 'max_depth': 8, 'learning_rate': 0.6906552061798102, 'min_child_weight': 4, 'gamma': 2.681109981053337e-05, 'subsample': 0.06785215585823595, 'colsample_bytree': 0.030716857092262552, 'reg_alpha': 1.432579924663123e-07, 'reg_lambda': 1.5987761306658575e-05}. Best is trial 19 with value: 0.7505050505050505.\u001b[0m\n",
      "\u001b[32m[I 2023-06-22 21:32:01,949]\u001b[0m Trial 20 finished with value: 0.6393939393939394 and parameters: {'n_estimators': 432, 'max_depth': 7, 'learning_rate': 0.5758305566653141, 'min_child_weight': 6, 'gamma': 4.85801215054637e-05, 'subsample': 0.06494541565273111, 'colsample_bytree': 0.12433832317496832, 'reg_alpha': 6.919772883399513e-08, 'reg_lambda': 0.0006784687309596232}. Best is trial 19 with value: 0.7505050505050505.\u001b[0m\n",
      "\u001b[32m[I 2023-06-22 21:32:02,395]\u001b[0m Trial 21 finished with value: 0.7191919191919192 and parameters: {'n_estimators': 497, 'max_depth': 8, 'learning_rate': 0.7389035525105251, 'min_child_weight': 4, 'gamma': 2.2411296488465463e-06, 'subsample': 0.08385138429070088, 'colsample_bytree': 0.03302471622637255, 'reg_alpha': 1.005849774967486e-06, 'reg_lambda': 1.6986079516996747e-05}. Best is trial 19 with value: 0.7505050505050505.\u001b[0m\n",
      "\u001b[32m[I 2023-06-22 21:32:02,810]\u001b[0m Trial 22 finished with value: 0.7161616161616161 and parameters: {'n_estimators': 450, 'max_depth': 8, 'learning_rate': 0.6715221442818007, 'min_child_weight': 4, 'gamma': 1.345398663847836e-07, 'subsample': 0.049779085082308695, 'colsample_bytree': 0.07713940881829728, 'reg_alpha': 7.138340500713796e-08, 'reg_lambda': 1.4389929550384091e-05}. Best is trial 19 with value: 0.7505050505050505.\u001b[0m\n",
      "\u001b[32m[I 2023-06-22 21:32:03,222]\u001b[0m Trial 23 finished with value: 0.5606060606060607 and parameters: {'n_estimators': 462, 'max_depth': 7, 'learning_rate': 0.8618705125382954, 'min_child_weight': 3, 'gamma': 1.7280928384225938e-05, 'subsample': 0.042292900093748975, 'colsample_bytree': 0.03082214600658893, 'reg_alpha': 4.840975471008372e-06, 'reg_lambda': 4.541350410697015e-06}. Best is trial 19 with value: 0.7505050505050505.\u001b[0m\n",
      "\u001b[32m[I 2023-06-22 21:32:03,574]\u001b[0m Trial 24 finished with value: 0.6606060606060606 and parameters: {'n_estimators': 357, 'max_depth': 8, 'learning_rate': 0.8024483012835915, 'min_child_weight': 5, 'gamma': 1.4843722066105281e-06, 'subsample': 0.0937499940319848, 'colsample_bytree': 0.06807627380154846, 'reg_alpha': 5.685289928171032e-07, 'reg_lambda': 5.226305211365898e-05}. Best is trial 19 with value: 0.7505050505050505.\u001b[0m\n",
      "\u001b[32m[I 2023-06-22 21:32:04,023]\u001b[0m Trial 25 finished with value: 0.6393939393939394 and parameters: {'n_estimators': 412, 'max_depth': 6, 'learning_rate': 0.6986546044816802, 'min_child_weight': 2, 'gamma': 0.00016122612499942966, 'subsample': 0.208146484064059, 'colsample_bytree': 0.010528297167181542, 'reg_alpha': 1.2021318317973806e-07, 'reg_lambda': 1.0798486105562482e-05}. Best is trial 19 with value: 0.7505050505050505.\u001b[0m\n",
      "\u001b[32m[I 2023-06-22 21:32:04,471]\u001b[0m Trial 26 finished with value: 0.702020202020202 and parameters: {'n_estimators': 500, 'max_depth': 7, 'learning_rate': 0.5976064300563693, 'min_child_weight': 4, 'gamma': 7.605855708110034e-06, 'subsample': 0.10408246837383787, 'colsample_bytree': 0.021690991586103468, 'reg_alpha': 2.510217803929997e-06, 'reg_lambda': 0.0002750189391614524}. Best is trial 19 with value: 0.7505050505050505.\u001b[0m\n",
      "\u001b[32m[I 2023-06-22 21:32:04,727]\u001b[0m Trial 27 finished with value: 0.6797979797979798 and parameters: {'n_estimators': 190, 'max_depth': 8, 'learning_rate': 0.8155038481968544, 'min_child_weight': 7, 'gamma': 7.009800748565229e-07, 'subsample': 0.11422125531184624, 'colsample_bytree': 0.056475327922389115, 'reg_alpha': 4.202591672588392e-07, 'reg_lambda': 8.172697618994714e-05}. Best is trial 19 with value: 0.7505050505050505.\u001b[0m\n",
      "\u001b[32m[I 2023-06-22 21:32:05,121]\u001b[0m Trial 28 finished with value: 0.7141414141414141 and parameters: {'n_estimators': 378, 'max_depth': 5, 'learning_rate': 0.6984502024296995, 'min_child_weight': 6, 'gamma': 9.776308260413115e-08, 'subsample': 0.18890704906250208, 'colsample_bytree': 0.028211417050636532, 'reg_alpha': 3.209173325597612e-08, 'reg_lambda': 0.0011411937607350507}. Best is trial 19 with value: 0.7505050505050505.\u001b[0m\n",
      "\u001b[32m[I 2023-06-22 21:32:05,457]\u001b[0m Trial 29 finished with value: 0.6434343434343435 and parameters: {'n_estimators': 326, 'max_depth': 7, 'learning_rate': 0.7393863800351549, 'min_child_weight': 2, 'gamma': 6.340033628153242e-08, 'subsample': 0.03648156158292153, 'colsample_bytree': 0.09617567650601089, 'reg_alpha': 1.9529025512543377e-05, 'reg_lambda': 5.474560834923689e-07}. Best is trial 19 with value: 0.7505050505050505.\u001b[0m\n",
      "\u001b[32m[I 2023-06-22 21:32:05,654]\u001b[0m Trial 30 finished with value: 0.5 and parameters: {'n_estimators': 103, 'max_depth': 8, 'learning_rate': 0.5424884292009182, 'min_child_weight': 9, 'gamma': 2.3420628411011804e-06, 'subsample': 0.03228303696888149, 'colsample_bytree': 0.10814482595148693, 'reg_alpha': 1.212489674451173e-08, 'reg_lambda': 4.7217368273767364e-06}. Best is trial 19 with value: 0.7505050505050505.\u001b[0m\n",
      "\u001b[32m[I 2023-06-22 21:32:06,109]\u001b[0m Trial 31 finished with value: 0.7303030303030302 and parameters: {'n_estimators': 496, 'max_depth': 8, 'learning_rate': 0.748975723647395, 'min_child_weight': 4, 'gamma': 3.4502364435380613e-06, 'subsample': 0.08550837408423727, 'colsample_bytree': 0.03491042260897419, 'reg_alpha': 1.0007491926171033e-06, 'reg_lambda': 1.8299486047997564e-05}. Best is trial 19 with value: 0.7505050505050505.\u001b[0m\n",
      "\u001b[32m[I 2023-06-22 21:32:06,521]\u001b[0m Trial 32 finished with value: 0.7010101010101011 and parameters: {'n_estimators': 442, 'max_depth': 8, 'learning_rate': 0.9393161032102868, 'min_child_weight': 3, 'gamma': 1.9800912703271905e-05, 'subsample': 0.05325058175154057, 'colsample_bytree': 0.04479394183120237, 'reg_alpha': 1.6635233143415353e-07, 'reg_lambda': 3.336013954962672e-05}. Best is trial 19 with value: 0.7505050505050505.\u001b[0m\n",
      "\u001b[32m[I 2023-06-22 21:32:06,953]\u001b[0m Trial 33 finished with value: 0.6828282828282828 and parameters: {'n_estimators': 474, 'max_depth': 7, 'learning_rate': 0.7435043249465363, 'min_child_weight': 5, 'gamma': 3.046017029212587e-07, 'subsample': 0.0918612606924656, 'colsample_bytree': 0.0343991553774097, 'reg_alpha': 7.751121999306257e-07, 'reg_lambda': 9.14255871082734e-06}. Best is trial 19 with value: 0.7505050505050505.\u001b[0m\n",
      "\u001b[32m[I 2023-06-22 21:32:07,357]\u001b[0m Trial 34 finished with value: 0.7373737373737372 and parameters: {'n_estimators': 427, 'max_depth': 6, 'learning_rate': 0.8941013159811544, 'min_child_weight': 4, 'gamma': 3.9754194828667004e-06, 'subsample': 0.14406774516854012, 'colsample_bytree': 0.016023224517210114, 'reg_alpha': 4.7437293899969965e-06, 'reg_lambda': 3.6120098617251375e-05}. Best is trial 19 with value: 0.7505050505050505.\u001b[0m\n",
      "\u001b[32m[I 2023-06-22 21:32:07,678]\u001b[0m Trial 35 finished with value: 0.6909090909090909 and parameters: {'n_estimators': 278, 'max_depth': 6, 'learning_rate': 0.9110161493866813, 'min_child_weight': 3, 'gamma': 0.00013399097788934479, 'subsample': 0.1467944281249826, 'colsample_bytree': 0.015983561835143288, 'reg_alpha': 4.775128043838028e-05, 'reg_lambda': 0.00016929968385189257}. Best is trial 19 with value: 0.7505050505050505.\u001b[0m\n",
      "\u001b[32m[I 2023-06-22 21:32:08,089]\u001b[0m Trial 36 finished with value: 0.6191919191919192 and parameters: {'n_estimators': 429, 'max_depth': 6, 'learning_rate': 0.8459800488547716, 'min_child_weight': 5, 'gamma': 1.1718910292778984e-05, 'subsample': 0.15576304257963353, 'colsample_bytree': 0.01621908849254017, 'reg_alpha': 4.328602427151932e-06, 'reg_lambda': 0.0004797033315836194}. Best is trial 19 with value: 0.7505050505050505.\u001b[0m\n",
      "\u001b[32m[I 2023-06-22 21:32:08,436]\u001b[0m Trial 37 finished with value: 0.7000000000000001 and parameters: {'n_estimators': 326, 'max_depth': 5, 'learning_rate': 0.9161164193126674, 'min_child_weight': 4, 'gamma': 1.3115440407320558e-06, 'subsample': 0.12219510153460596, 'colsample_bytree': 0.025887789158463927, 'reg_alpha': 3.1694879660401455e-07, 'reg_lambda': 4.067780806444159e-05}. Best is trial 19 with value: 0.7505050505050505.\u001b[0m\n",
      "\u001b[32m[I 2023-06-22 21:32:08,832]\u001b[0m Trial 38 finished with value: 0.7080808080808081 and parameters: {'n_estimators': 387, 'max_depth': 1, 'learning_rate': 0.8856513017703583, 'min_child_weight': 1, 'gamma': 5.920278396802003e-06, 'subsample': 0.13074990553781396, 'colsample_bytree': 0.014911302128533605, 'reg_alpha': 1.0249048729122669e-05, 'reg_lambda': 7.028407994895968e-05}. Best is trial 19 with value: 0.7505050505050505.\u001b[0m\n",
      "\u001b[32m[I 2023-06-22 21:32:09,228]\u001b[0m Trial 39 finished with value: 0.5 and parameters: {'n_estimators': 418, 'max_depth': 7, 'learning_rate': 0.7820963483733351, 'min_child_weight': 7, 'gamma': 4.0216271524968116e-08, 'subsample': 0.02360408288808554, 'colsample_bytree': 0.022140809239890428, 'reg_alpha': 2.5143515074771307e-06, 'reg_lambda': 0.006983022329915388}. Best is trial 19 with value: 0.7505050505050505.\u001b[0m\n",
      "\u001b[32m[I 2023-06-22 21:32:09,501]\u001b[0m Trial 40 finished with value: 0.6636363636363637 and parameters: {'n_estimators': 193, 'max_depth': 6, 'learning_rate': 0.9475714852784471, 'min_child_weight': 2, 'gamma': 4.67888634618652e-06, 'subsample': 0.1694505096282721, 'colsample_bytree': 0.027281189871794526, 'reg_alpha': 4.762323015088186e-08, 'reg_lambda': 0.0001472517559888748}. Best is trial 19 with value: 0.7505050505050505.\u001b[0m\n",
      "\u001b[32m[I 2023-06-22 21:32:09,977]\u001b[0m Trial 41 finished with value: 0.598989898989899 and parameters: {'n_estimators': 489, 'max_depth': 8, 'learning_rate': 0.8090578232889263, 'min_child_weight': 4, 'gamma': 3.7426268539147908e-06, 'subsample': 0.07821259790605119, 'colsample_bytree': 0.03839984470929946, 'reg_alpha': 3.886136117309128e-07, 'reg_lambda': 2.7177089261536467e-05}. Best is trial 19 with value: 0.7505050505050505.\u001b[0m\n",
      "\u001b[32m[I 2023-06-22 21:32:10,435]\u001b[0m Trial 42 finished with value: 0.6616161616161615 and parameters: {'n_estimators': 461, 'max_depth': 7, 'learning_rate': 0.8658975917813012, 'min_child_weight': 4, 'gamma': 9.687258551101001e-07, 'subsample': 0.10766559252306254, 'colsample_bytree': 0.01928721012577663, 'reg_alpha': 1.6431991285215587e-05, 'reg_lambda': 7.311568466529728e-06}. Best is trial 19 with value: 0.7505050505050505.\u001b[0m\n",
      "\u001b[32m[I 2023-06-22 21:32:10,869]\u001b[0m Trial 43 finished with value: 0.7424242424242424 and parameters: {'n_estimators': 474, 'max_depth': 8, 'learning_rate': 0.6339103808301076, 'min_child_weight': 3, 'gamma': 2.568451355403861e-05, 'subsample': 0.0653537833924395, 'colsample_bytree': 0.03867157093706366, 'reg_alpha': 9.42996688563792e-07, 'reg_lambda': 2.2474150389889383e-05}. Best is trial 19 with value: 0.7505050505050505.\u001b[0m\n",
      "\u001b[32m[I 2023-06-22 21:32:11,289]\u001b[0m Trial 44 finished with value: 0.7494949494949495 and parameters: {'n_estimators': 456, 'max_depth': 7, 'learning_rate': 0.6409803399415446, 'min_child_weight': 3, 'gamma': 2.7858068265036805e-05, 'subsample': 0.061515065551056354, 'colsample_bytree': 0.04156857602656154, 'reg_alpha': 2.4459187347446954e-06, 'reg_lambda': 3.122365461991906e-06}. Best is trial 19 with value: 0.7505050505050505.\u001b[0m\n",
      "\u001b[32m[I 2023-06-22 21:32:11,725]\u001b[0m Trial 45 finished with value: 0.7141414141414142 and parameters: {'n_estimators': 475, 'max_depth': 7, 'learning_rate': 0.4868513244779261, 'min_child_weight': 3, 'gamma': 0.0003177220719847861, 'subsample': 0.06216976786383916, 'colsample_bytree': 0.05060816056532605, 'reg_alpha': 1.6650945135181733e-07, 'reg_lambda': 2.5580260717528295e-06}. Best is trial 19 with value: 0.7505050505050505.\u001b[0m\n",
      "\u001b[32m[I 2023-06-22 21:32:11,958]\u001b[0m Trial 46 finished with value: 0.6141414141414141 and parameters: {'n_estimators': 150, 'max_depth': 8, 'learning_rate': 0.6268281847688283, 'min_child_weight': 2, 'gamma': 3.4817990856551365e-05, 'subsample': 0.052905453820792196, 'colsample_bytree': 0.04443318388984809, 'reg_alpha': 1.7798207037754762e-06, 'reg_lambda': 1.0157503828069277e-06}. Best is trial 19 with value: 0.7505050505050505.\u001b[0m\n",
      "\u001b[32m[I 2023-06-22 21:32:12,387]\u001b[0m Trial 47 finished with value: 0.7141414141414141 and parameters: {'n_estimators': 463, 'max_depth': 8, 'learning_rate': 0.6479166726813426, 'min_child_weight': 3, 'gamma': 0.0017070225578108044, 'subsample': 0.07458411036500358, 'colsample_bytree': 0.06164744775166765, 'reg_alpha': 2.8462764598176552e-08, 'reg_lambda': 3.597165651380871e-06}. Best is trial 19 with value: 0.7505050505050505.\u001b[0m\n",
      "\u001b[32m[I 2023-06-22 21:32:12,572]\u001b[0m Trial 48 finished with value: 0.687878787878788 and parameters: {'n_estimators': 84, 'max_depth': 7, 'learning_rate': 0.6971590149997319, 'min_child_weight': 8, 'gamma': 9.197693069956002e-05, 'subsample': 0.10232523249938197, 'colsample_bytree': 0.04061820898031561, 'reg_alpha': 3.240588121665875e-07, 'reg_lambda': 1.900064638202171e-07}. Best is trial 19 with value: 0.7505050505050505.\u001b[0m\n",
      "\u001b[32m[I 2023-06-22 21:32:12,999]\u001b[0m Trial 49 finished with value: 0.6838383838383839 and parameters: {'n_estimators': 445, 'max_depth': 7, 'learning_rate': 0.5712001682242034, 'min_child_weight': 1, 'gamma': 2.1150143321788366e-05, 'subsample': 0.06947913386417412, 'colsample_bytree': 0.08010669072528859, 'reg_alpha': 9.137929210137372e-08, 'reg_lambda': 9.535893591052273e-07}. Best is trial 19 with value: 0.7505050505050505.\u001b[0m\n",
      "\u001b[32m[I 2023-06-22 21:32:13,530]\u001b[0m Trial 50 finished with value: 0.596969696969697 and parameters: {'n_estimators': 399, 'max_depth': 8, 'learning_rate': 0.650988387143521, 'min_child_weight': 3, 'gamma': 6.0961268294853275e-05, 'subsample': 0.9394425677164591, 'colsample_bytree': 0.0246715773706653, 'reg_alpha': 0.00012092997399784189, 'reg_lambda': 1.5432128493728406e-06}. Best is trial 19 with value: 0.7505050505050505.\u001b[0m\n",
      "\u001b[32m[I 2023-06-22 21:32:13,933]\u001b[0m Trial 51 finished with value: 0.6898989898989899 and parameters: {'n_estimators': 426, 'max_depth': 6, 'learning_rate': 0.7170705579416063, 'min_child_weight': 5, 'gamma': 1.567638095325237e-05, 'subsample': 0.13532982180946757, 'colsample_bytree': 0.03088891247851673, 'reg_alpha': 3.802153759623137e-06, 'reg_lambda': 3.398111183095497e-05}. Best is trial 19 with value: 0.7505050505050505.\u001b[0m\n",
      "\u001b[32m[I 2023-06-22 21:32:14,413]\u001b[0m Trial 52 finished with value: 0.6323232323232322 and parameters: {'n_estimators': 450, 'max_depth': 6, 'learning_rate': 0.7709591006379012, 'min_child_weight': 3, 'gamma': 8.332998862541435e-06, 'subsample': 0.274091827654036, 'colsample_bytree': 0.05518215384396676, 'reg_alpha': 8.089899757507385e-06, 'reg_lambda': 6.759691462653246e-06}. Best is trial 19 with value: 0.7505050505050505.\u001b[0m\n",
      "\u001b[32m[I 2023-06-22 21:32:14,932]\u001b[0m Trial 53 finished with value: 0.6707070707070707 and parameters: {'n_estimators': 479, 'max_depth': 7, 'learning_rate': 0.614994128888682, 'min_child_weight': 4, 'gamma': 3.219187935866032e-05, 'subsample': 0.34538667344620894, 'colsample_bytree': 0.03589813264300202, 'reg_alpha': 1.4746879590656322e-06, 'reg_lambda': 7.566480803085391e-05}. Best is trial 19 with value: 0.7505050505050505.\u001b[0m\n",
      "\u001b[32m[I 2023-06-22 21:32:15,303]\u001b[0m Trial 54 finished with value: 0.5 and parameters: {'n_estimators': 379, 'max_depth': 5, 'learning_rate': 0.6774642485222044, 'min_child_weight': 9, 'gamma': 4.2729282403857693e-07, 'subsample': 0.059127221137733256, 'colsample_bytree': 0.5995404766696515, 'reg_alpha': 6.110876730196023e-07, 'reg_lambda': 1.817518645970321e-05}. Best is trial 19 with value: 0.7505050505050505.\u001b[0m\n",
      "\u001b[32m[I 2023-06-22 21:32:15,709]\u001b[0m Trial 55 finished with value: 0.5 and parameters: {'n_estimators': 437, 'max_depth': 8, 'learning_rate': 0.6555550516005937, 'min_child_weight': 6, 'gamma': 8.63566871141146e-05, 'subsample': 0.046632102165217286, 'colsample_bytree': 0.02003765367619841, 'reg_alpha': 2.0178878163868882e-05, 'reg_lambda': 2.9157358751405703e-06}. Best is trial 19 with value: 0.7505050505050505.\u001b[0m\n",
      "\u001b[32m[I 2023-06-22 21:32:16,183]\u001b[0m Trial 56 finished with value: 0.6343434343434344 and parameters: {'n_estimators': 467, 'max_depth': 7, 'learning_rate': 0.8290439469897628, 'min_child_weight': 2, 'gamma': 1.640355364859327e-08, 'subsample': 0.21536926474075008, 'colsample_bytree': 0.023521263828970976, 'reg_alpha': 2.714050417889863e-06, 'reg_lambda': 9.504139837968568e-06}. Best is trial 19 with value: 0.7505050505050505.\u001b[0m\n",
      "\u001b[32m[I 2023-06-22 21:32:16,448]\u001b[0m Trial 57 finished with value: 0.6646464646464646 and parameters: {'n_estimators': 210, 'max_depth': 4, 'learning_rate': 0.7830025836364846, 'min_child_weight': 4, 'gamma': 1.049105471277177e-05, 'subsample': 0.08276352928362023, 'colsample_bytree': 0.19554795981384454, 'reg_alpha': 5.7921624266712525e-06, 'reg_lambda': 9.342161907290316e-05}. Best is trial 19 with value: 0.7505050505050505.\u001b[0m\n",
      "\u001b[32m[I 2023-06-22 21:32:16,907]\u001b[0m Trial 58 finished with value: 0.6818181818181819 and parameters: {'n_estimators': 413, 'max_depth': 6, 'learning_rate': 0.7119027525663845, 'min_child_weight': 10, 'gamma': 0.0002641789432174522, 'subsample': 0.5110398478872713, 'colsample_bytree': 0.04225543421509963, 'reg_alpha': 2.0182591328753094e-07, 'reg_lambda': 0.00027463045141255604}. Best is trial 19 with value: 0.7505050505050505.\u001b[0m\n",
      "\u001b[32m[I 2023-06-22 21:32:17,131]\u001b[0m Trial 59 finished with value: 0.6030303030303029 and parameters: {'n_estimators': 134, 'max_depth': 8, 'learning_rate': 0.6009071971592536, 'min_child_weight': 5, 'gamma': 2.0053426781216042e-07, 'subsample': 0.06846838108769777, 'colsample_bytree': 0.06675641972310667, 'reg_alpha': 1.1510344701092518e-06, 'reg_lambda': 1.7913627359755592e-05}. Best is trial 19 with value: 0.7505050505050505.\u001b[0m\n",
      "\u001b[32m[I 2023-06-22 21:32:17,483]\u001b[0m Trial 60 finished with value: 0.7202020202020203 and parameters: {'n_estimators': 334, 'max_depth': 7, 'learning_rate': 0.9849945984063676, 'min_child_weight': 3, 'gamma': 1.59895158430542e-06, 'subsample': 0.11862393546188166, 'colsample_bytree': 0.029186356618532125, 'reg_alpha': 3.1037317712330465e-05, 'reg_lambda': 4.2430306319936984e-05}. Best is trial 19 with value: 0.7505050505050505.\u001b[0m\n",
      "\u001b[32m[I 2023-06-22 21:32:17,918]\u001b[0m Trial 61 finished with value: 0.692929292929293 and parameters: {'n_estimators': 485, 'max_depth': 8, 'learning_rate': 0.7272055550904317, 'min_child_weight': 4, 'gamma': 3.5538756072914116e-06, 'subsample': 0.08791006672348814, 'colsample_bytree': 0.034668777551188606, 'reg_alpha': 8.683411361860816e-07, 'reg_lambda': 1.936699326614485e-05}. Best is trial 19 with value: 0.7505050505050505.\u001b[0m\n",
      "\u001b[32m[I 2023-06-22 21:32:18,356]\u001b[0m Trial 62 finished with value: 0.6868686868686869 and parameters: {'n_estimators': 493, 'max_depth': 8, 'learning_rate': 0.7765814809137471, 'min_child_weight': 4, 'gamma': 3.4376272537030746e-06, 'subsample': 0.09565175593738226, 'colsample_bytree': 0.04739321222855765, 'reg_alpha': 1.2726074573841182e-06, 'reg_lambda': 5.422686791463462e-06}. Best is trial 19 with value: 0.7505050505050505.\u001b[0m\n",
      "\u001b[32m[I 2023-06-22 21:32:18,791]\u001b[0m Trial 63 finished with value: 0.6353535353535353 and parameters: {'n_estimators': 500, 'max_depth': 8, 'learning_rate': 0.7501120411709206, 'min_child_weight': 5, 'gamma': 5.264353162123701e-07, 'subsample': 0.058442396806298674, 'colsample_bytree': 0.03787552921095215, 'reg_alpha': 6.047771609813935e-06, 'reg_lambda': 1.2204482061107895e-05}. Best is trial 19 with value: 0.7505050505050505.\u001b[0m\n",
      "\u001b[32m[I 2023-06-22 21:32:19,228]\u001b[0m Trial 64 finished with value: 0.7262626262626263 and parameters: {'n_estimators': 454, 'max_depth': 8, 'learning_rate': 0.6805270227264483, 'min_child_weight': 3, 'gamma': 2.9786749508490444e-05, 'subsample': 0.0811358258753119, 'colsample_bytree': 0.029640238123264197, 'reg_alpha': 2.2500955644649646e-06, 'reg_lambda': 2.4999820280869134e-06}. Best is trial 19 with value: 0.7505050505050505.\u001b[0m\n",
      "\u001b[32m[I 2023-06-22 21:32:19,715]\u001b[0m Trial 65 finished with value: 0.7606060606060606 and parameters: {'n_estimators': 473, 'max_depth': 7, 'learning_rate': 0.7986055643650327, 'min_child_weight': 4, 'gamma': 7.0254495865832895e-06, 'subsample': 0.043069064505627676, 'colsample_bytree': 0.02576979575052669, 'reg_alpha': 5.567792112222614e-07, 'reg_lambda': 2.3594330217145398e-05}. Best is trial 65 with value: 0.7606060606060606.\u001b[0m\n",
      "\u001b[32m[I 2023-06-22 21:32:20,144]\u001b[0m Trial 66 finished with value: 0.5 and parameters: {'n_estimators': 432, 'max_depth': 7, 'learning_rate': 0.887148753717136, 'min_child_weight': 6, 'gamma': 7.431172550356663e-06, 'subsample': 0.042337894225113054, 'colsample_bytree': 0.017780931875395017, 'reg_alpha': 5.041759318145077e-07, 'reg_lambda': 8.66315140416344e-05}. Best is trial 65 with value: 0.7606060606060606.\u001b[0m\n",
      "\u001b[32m[I 2023-06-22 21:32:20,455]\u001b[0m Trial 67 finished with value: 0.7090909090909091 and parameters: {'n_estimators': 261, 'max_depth': 6, 'learning_rate': 0.8379753921166027, 'min_child_weight': 2, 'gamma': 1.6422502280319753e-05, 'subsample': 0.06865275354814379, 'colsample_bytree': 0.013630021515184854, 'reg_alpha': 9.99869123783956e-08, 'reg_lambda': 5.1337653088652385e-05}. Best is trial 65 with value: 0.7606060606060606.\u001b[0m\n",
      "\u001b[32m[I 2023-06-22 21:32:20,905]\u001b[0m Trial 68 finished with value: 0.706060606060606 and parameters: {'n_estimators': 476, 'max_depth': 5, 'learning_rate': 0.8084949602351281, 'min_child_weight': 3, 'gamma': 5.2014568800537006e-05, 'subsample': 0.0555516099355538, 'colsample_bytree': 0.023687030529538387, 'reg_alpha': 2.2636457197859607e-07, 'reg_lambda': 2.6382842851394214e-05}. Best is trial 65 with value: 0.7606060606060606.\u001b[0m\n",
      "\u001b[32m[I 2023-06-22 21:32:21,240]\u001b[0m Trial 69 finished with value: 0.5 and parameters: {'n_estimators': 299, 'max_depth': 7, 'learning_rate': 0.6379176507882054, 'min_child_weight': 4, 'gamma': 1.2032368231100184e-06, 'subsample': 0.03710438054377615, 'colsample_bytree': 0.01813062342858196, 'reg_alpha': 9.071740032310937e-06, 'reg_lambda': 0.0001389434504147658}. Best is trial 65 with value: 0.7606060606060606.\u001b[0m\n",
      "\u001b[32m[I 2023-06-22 21:32:21,669]\u001b[0m Trial 70 finished with value: 0.694949494949495 and parameters: {'n_estimators': 453, 'max_depth': 4, 'learning_rate': 0.8599058042541834, 'min_child_weight': 5, 'gamma': 2.5167231901978894e-06, 'subsample': 0.1022110577010288, 'colsample_bytree': 0.02594298347880555, 'reg_alpha': 6.536994582717995e-08, 'reg_lambda': 6.494964425784508e-06}. Best is trial 65 with value: 0.7606060606060606.\u001b[0m\n",
      "\u001b[32m[I 2023-06-22 21:32:22,115]\u001b[0m Trial 71 finished with value: 0.7333333333333333 and parameters: {'n_estimators': 466, 'max_depth': 8, 'learning_rate': 0.7580598593132011, 'min_child_weight': 4, 'gamma': 5.503929474185183e-06, 'subsample': 0.049823112151673156, 'colsample_bytree': 0.03297588022681586, 'reg_alpha': 6.543468677738879e-07, 'reg_lambda': 3.950772473363546e-06}. Best is trial 65 with value: 0.7606060606060606.\u001b[0m\n",
      "\u001b[32m[I 2023-06-22 21:32:22,569]\u001b[0m Trial 72 finished with value: 0.7090909090909091 and parameters: {'n_estimators': 468, 'max_depth': 7, 'learning_rate': 0.7118645320027854, 'min_child_weight': 4, 'gamma': 1.0698113601561328e-05, 'subsample': 0.05972383506486875, 'colsample_bytree': 0.03148345242559551, 'reg_alpha': 6.089376019327283e-07, 'reg_lambda': 4.036739731052504e-06}. Best is trial 65 with value: 0.7606060606060606.\u001b[0m\n",
      "\u001b[32m[I 2023-06-22 21:32:22,993]\u001b[0m Trial 73 finished with value: 0.6353535353535353 and parameters: {'n_estimators': 420, 'max_depth': 8, 'learning_rate': 0.7522699688184787, 'min_child_weight': 3, 'gamma': 2.606787484165481e-05, 'subsample': 0.05049727891790741, 'colsample_bytree': 0.02063290965037796, 'reg_alpha': 3.7674500159449965e-06, 'reg_lambda': 1.098309531984162e-05}. Best is trial 65 with value: 0.7606060606060606.\u001b[0m\n",
      "\u001b[32m[I 2023-06-22 21:32:23,436]\u001b[0m Trial 74 finished with value: 0.6969696969696969 and parameters: {'n_estimators': 442, 'max_depth': 8, 'learning_rate': 0.7922389371332272, 'min_child_weight': 4, 'gamma': 6.193442128579827e-06, 'subsample': 0.04586156435289888, 'colsample_bytree': 0.05006250721261051, 'reg_alpha': 2.7054553626814776e-07, 'reg_lambda': 2.6230202684412803e-05}. Best is trial 65 with value: 0.7606060606060606.\u001b[0m\n",
      "\u001b[32m[I 2023-06-22 21:32:23,842]\u001b[0m Trial 75 finished with value: 0.7393939393939394 and parameters: {'n_estimators': 402, 'max_depth': 7, 'learning_rate': 0.8182480139029593, 'min_child_weight': 4, 'gamma': 8.548428249011743e-07, 'subsample': 0.07528730986864056, 'colsample_bytree': 0.040674650916127125, 'reg_alpha': 1.3231079595647609e-07, 'reg_lambda': 1.8262575078437663e-06}. Best is trial 65 with value: 0.7606060606060606.\u001b[0m\n",
      "\u001b[32m[I 2023-06-22 21:32:24,253]\u001b[0m Trial 76 finished with value: 0.6434343434343435 and parameters: {'n_estimators': 401, 'max_depth': 6, 'learning_rate': 0.8276081711681953, 'min_child_weight': 5, 'gamma': 2.113418510301497e-06, 'subsample': 0.06967864627219424, 'colsample_bytree': 0.026269871018448313, 'reg_alpha': 1.4370136536473233e-07, 'reg_lambda': 1.7294747669978146e-06}. Best is trial 65 with value: 0.7606060606060606.\u001b[0m\n",
      "\u001b[32m[I 2023-06-22 21:32:24,738]\u001b[0m Trial 77 finished with value: 0.7151515151515152 and parameters: {'n_estimators': 485, 'max_depth': 7, 'learning_rate': 0.897929775557195, 'min_child_weight': 7, 'gamma': 8.6244724566045e-07, 'subsample': 0.1132232944725701, 'colsample_bytree': 0.04159948282577923, 'reg_alpha': 4.535961937994018e-08, 'reg_lambda': 0.954250559140615}. Best is trial 65 with value: 0.7606060606060606.\u001b[0m\n",
      "\u001b[32m[I 2023-06-22 21:32:25,170]\u001b[0m Trial 78 finished with value: 0.6747474747474748 and parameters: {'n_estimators': 385, 'max_depth': 6, 'learning_rate': 0.9434088691730536, 'min_child_weight': 3, 'gamma': 5.998690698936628e-07, 'subsample': 0.07528667109117826, 'colsample_bytree': 0.055947237875825624, 'reg_alpha': 3.710649766372899e-07, 'reg_lambda': 5.725933925799271e-05}. Best is trial 65 with value: 0.7606060606060606.\u001b[0m\n",
      "\u001b[32m[I 2023-06-22 21:32:25,582]\u001b[0m Trial 79 finished with value: 0.6737373737373737 and parameters: {'n_estimators': 369, 'max_depth': 2, 'learning_rate': 0.6739980448456958, 'min_child_weight': 4, 'gamma': 1.4574966162362893e-05, 'subsample': 0.09093607748097562, 'colsample_bytree': 0.021663249677289123, 'reg_alpha': 1.0856075599404815e-07, 'reg_lambda': 1.1152827856762906e-05}. Best is trial 65 with value: 0.7606060606060606.\u001b[0m\n",
      "\u001b[32m[I 2023-06-22 21:32:26,070]\u001b[0m Trial 80 finished with value: 0.7202020202020203 and parameters: {'n_estimators': 434, 'max_depth': 7, 'learning_rate': 0.8625530680275728, 'min_child_weight': 2, 'gamma': 2.8349240390210575e-07, 'subsample': 0.1571195792548816, 'colsample_bytree': 0.03909933715374328, 'reg_alpha': 2.237484666058704e-08, 'reg_lambda': 6.883062985270526e-06}. Best is trial 65 with value: 0.7606060606060606.\u001b[0m\n",
      "\u001b[32m[I 2023-06-22 21:32:26,527]\u001b[0m Trial 81 finished with value: 0.6797979797979798 and parameters: {'n_estimators': 457, 'max_depth': 8, 'learning_rate': 0.8066501863559793, 'min_child_weight': 4, 'gamma': 5.8703993669568094e-06, 'subsample': 0.06390144788798977, 'colsample_bytree': 0.03565815195701603, 'reg_alpha': 7.149900510303635e-07, 'reg_lambda': 4.232983229857898e-06}. Best is trial 65 with value: 0.7606060606060606.\u001b[0m\n",
      "\u001b[32m[I 2023-06-22 21:32:27,033]\u001b[0m Trial 82 finished with value: 0.5 and parameters: {'n_estimators': 468, 'max_depth': 8, 'learning_rate': 0.738216000388407, 'min_child_weight': 9, 'gamma': 4.131182549678212e-06, 'subsample': 0.055542607873172, 'colsample_bytree': 0.03135573345006675, 'reg_alpha': 1.5137842516647645e-06, 'reg_lambda': 2.635977900155958e-06}. Best is trial 65 with value: 0.7606060606060606.\u001b[0m\n",
      "\u001b[32m[I 2023-06-22 21:32:27,456]\u001b[0m Trial 83 finished with value: 0.7202020202020203 and parameters: {'n_estimators': 409, 'max_depth': 7, 'learning_rate': 0.760640529935035, 'min_child_weight': 5, 'gamma': 1.5180813426457919e-06, 'subsample': 0.1287748834421309, 'colsample_bytree': 0.04555350371604509, 'reg_alpha': 2.8522335050313417e-07, 'reg_lambda': 1.3846213949898997e-05}. Best is trial 65 with value: 0.7606060606060606.\u001b[0m\n",
      "\u001b[32m[I 2023-06-22 21:32:27,920]\u001b[0m Trial 84 finished with value: 0.7252525252525253 and parameters: {'n_estimators': 482, 'max_depth': 8, 'learning_rate': 0.8332021626170847, 'min_child_weight': 4, 'gamma': 2.2452310004790746e-05, 'subsample': 0.04871893284235127, 'colsample_bytree': 0.026725749489123096, 'reg_alpha': 8.109932385298251e-07, 'reg_lambda': 1.334054969680308e-06}. Best is trial 65 with value: 0.7606060606060606.\u001b[0m\n",
      "\u001b[32m[I 2023-06-22 21:32:28,392]\u001b[0m Trial 85 finished with value: 0.7050505050505051 and parameters: {'n_estimators': 445, 'max_depth': 7, 'learning_rate': 0.702326150567054, 'min_child_weight': 3, 'gamma': 1.1240818692984009e-05, 'subsample': 0.08406763466112552, 'colsample_bytree': 0.022904552980779893, 'reg_alpha': 4.826001032355267e-07, 'reg_lambda': 4.6975723858547365e-06}. Best is trial 65 with value: 0.7606060606060606.\u001b[0m\n",
      "\u001b[32m[I 2023-06-22 21:32:28,872]\u001b[0m Trial 86 finished with value: 0.5 and parameters: {'n_estimators': 424, 'max_depth': 8, 'learning_rate': 0.7892305814675626, 'min_child_weight': 8, 'gamma': 4.716029482852246e-05, 'subsample': 0.03983940909702902, 'colsample_bytree': 0.03283508714951435, 'reg_alpha': 1.8518474030451603e-07, 'reg_lambda': 6.842622983952725e-07}. Best is trial 65 with value: 0.7606060606060606.\u001b[0m\n",
      "\u001b[32m[I 2023-06-22 21:32:29,454]\u001b[0m Trial 87 finished with value: 0.5505050505050505 and parameters: {'n_estimators': 461, 'max_depth': 7, 'learning_rate': 0.8762305325271994, 'min_child_weight': 4, 'gamma': 9.062437692816184e-07, 'subsample': 0.03399813656851241, 'colsample_bytree': 0.029087634230593785, 'reg_alpha': 2.1509656791489575e-06, 'reg_lambda': 2.8910944423660783e-05}. Best is trial 65 with value: 0.7606060606060606.\u001b[0m\n",
      "\u001b[32m[I 2023-06-22 21:32:29,648]\u001b[0m Trial 88 finished with value: 0.5878787878787879 and parameters: {'n_estimators': 63, 'max_depth': 6, 'learning_rate': 0.7289149068517577, 'min_child_weight': 6, 'gamma': 8.640620062877061e-06, 'subsample': 0.07547117969447857, 'colsample_bytree': 0.039643342938102163, 'reg_alpha': 3.426188176730998e-06, 'reg_lambda': 1.8543008854051097e-06}. Best is trial 65 with value: 0.7606060606060606.\u001b[0m\n",
      "\u001b[32m[I 2023-06-22 21:32:30,101]\u001b[0m Trial 89 finished with value: 0.7101010101010101 and parameters: {'n_estimators': 473, 'max_depth': 5, 'learning_rate': 0.9156983279625919, 'min_child_weight': 3, 'gamma': 2.621799986337173e-06, 'subsample': 0.0640132990451982, 'colsample_bytree': 0.050252522019307654, 'reg_alpha': 1.2156931252024416e-05, 'reg_lambda': 8.023525886890764e-06}. Best is trial 65 with value: 0.7606060606060606.\u001b[0m\n",
      "\u001b[32m[I 2023-06-22 21:32:30,355]\u001b[0m Trial 90 finished with value: 0.6858585858585858 and parameters: {'n_estimators': 169, 'max_depth': 8, 'learning_rate': 0.5781724787770429, 'min_child_weight': 5, 'gamma': 5.748391537720609e-06, 'subsample': 0.09890098171793198, 'colsample_bytree': 0.07782343806905903, 'reg_alpha': 1.409857436047658e-07, 'reg_lambda': 5.420889923889863e-05}. Best is trial 65 with value: 0.7606060606060606.\u001b[0m\n",
      "\u001b[32m[I 2023-06-22 21:32:30,807]\u001b[0m Trial 91 finished with value: 0.7101010101010101 and parameters: {'n_estimators': 492, 'max_depth': 8, 'learning_rate': 0.7652522572342314, 'min_child_weight': 4, 'gamma': 3.969313179158894e-06, 'subsample': 0.08797636150599861, 'colsample_bytree': 0.033825548536940545, 'reg_alpha': 1.208098475179751e-06, 'reg_lambda': 1.8762532918907172e-05}. Best is trial 65 with value: 0.7606060606060606.\u001b[0m\n",
      "\u001b[32m[I 2023-06-22 21:32:31,306]\u001b[0m Trial 92 finished with value: 0.6626262626262626 and parameters: {'n_estimators': 500, 'max_depth': 8, 'learning_rate': 0.6893912643702395, 'min_child_weight': 4, 'gamma': 1.6892443877140905e-05, 'subsample': 0.05284729327723463, 'colsample_bytree': 0.042391006678782116, 'reg_alpha': 8.874297941892804e-07, 'reg_lambda': 1.5069394146441766e-05}. Best is trial 65 with value: 0.7606060606060606.\u001b[0m\n",
      "\u001b[32m[I 2023-06-22 21:32:31,628]\u001b[0m Trial 93 finished with value: 0.712121212121212 and parameters: {'n_estimators': 283, 'max_depth': 7, 'learning_rate': 0.6536683041283742, 'min_child_weight': 4, 'gamma': 2.6119085499572827e-06, 'subsample': 0.07823488163348219, 'colsample_bytree': 0.03591241687381304, 'reg_alpha': 1.790583436058872e-06, 'reg_lambda': 3.543978822594866e-05}. Best is trial 65 with value: 0.7606060606060606.\u001b[0m\n",
      "\u001b[32m[I 2023-06-22 21:32:32,121]\u001b[0m Trial 94 finished with value: 0.7313131313131312 and parameters: {'n_estimators': 483, 'max_depth': 8, 'learning_rate': 0.7218813733664343, 'min_child_weight': 4, 'gamma': 1.6195717556063986e-06, 'subsample': 0.04534938274240941, 'colsample_bytree': 0.027658859567176192, 'reg_alpha': 4.694740884291973e-07, 'reg_lambda': 3.2284591592836098e-06}. Best is trial 65 with value: 0.7606060606060606.\u001b[0m\n",
      "\u001b[32m[I 2023-06-22 21:32:32,538]\u001b[0m Trial 95 finished with value: 0.5 and parameters: {'n_estimators': 449, 'max_depth': 8, 'learning_rate': 0.622969776301747, 'min_child_weight': 5, 'gamma': 4.221202414565881e-07, 'subsample': 0.029170718545576634, 'colsample_bytree': 0.028079119959309604, 'reg_alpha': 3.277843177755001e-07, 'reg_lambda': 3.265354225608385e-06}. Best is trial 65 with value: 0.7606060606060606.\u001b[0m\n",
      "\u001b[32m[I 2023-06-22 21:32:32,965]\u001b[0m Trial 96 finished with value: 0.7121212121212122 and parameters: {'n_estimators': 438, 'max_depth': 8, 'learning_rate': 0.7237706171754951, 'min_child_weight': 3, 'gamma': 1.6949769338351084e-06, 'subsample': 0.045170192064538046, 'colsample_bytree': 0.02112205601377913, 'reg_alpha': 5.627357446225731e-07, 'reg_lambda': 8.517873373213164e-06}. Best is trial 65 with value: 0.7606060606060606.\u001b[0m\n",
      "\u001b[32m[I 2023-06-22 21:32:33,453]\u001b[0m Trial 97 finished with value: 0.6232323232323232 and parameters: {'n_estimators': 476, 'max_depth': 7, 'learning_rate': 0.8458000437673375, 'min_child_weight': 4, 'gamma': 1.2043376142704254e-06, 'subsample': 0.04168803684291515, 'colsample_bytree': 0.02475535278939322, 'reg_alpha': 5.5189301609442934e-06, 'reg_lambda': 5.254744663823355e-06}. Best is trial 65 with value: 0.7606060606060606.\u001b[0m\n",
      "\u001b[32m[I 2023-06-22 21:32:33,901]\u001b[0m Trial 98 finished with value: 0.7242424242424242 and parameters: {'n_estimators': 458, 'max_depth': 7, 'learning_rate': 0.6647434497233546, 'min_child_weight': 3, 'gamma': 6.799909030871406e-05, 'subsample': 0.05737336870345333, 'colsample_bytree': 0.0195675392067697, 'reg_alpha': 2.2185462954246423e-07, 'reg_lambda': 0.29478835856084284}. Best is trial 65 with value: 0.7606060606060606.\u001b[0m\n",
      "\u001b[32m[I 2023-06-22 21:32:34,381]\u001b[0m Trial 99 finished with value: 0.6292929292929292 and parameters: {'n_estimators': 486, 'max_depth': 8, 'learning_rate': 0.6968749485704863, 'min_child_weight': 5, 'gamma': 3.749660647871368e-05, 'subsample': 0.063091346712494, 'colsample_bytree': 0.03186795653826358, 'reg_alpha': 3.908553286814714e-07, 'reg_lambda': 2.5065955147646186e-06}. Best is trial 65 with value: 0.7606060606060606.\u001b[0m\n",
      "\u001b[32m[I 2023-06-22 21:32:34,656]\u001b[0m Trial 100 finished with value: 0.6595959595959595 and parameters: {'n_estimators': 119, 'max_depth': 8, 'learning_rate': 0.8183767927565851, 'min_child_weight': 4, 'gamma': 8.702582997683946e-06, 'subsample': 0.6292652749689909, 'colsample_bytree': 0.04546961396560451, 'reg_alpha': 3.0189047636479442e-06, 'reg_lambda': 1.2050597405237613e-06}. Best is trial 65 with value: 0.7606060606060606.\u001b[0m\n",
      "\u001b[32m[I 2023-06-22 21:32:35,147]\u001b[0m Trial 101 finished with value: 0.6939393939393941 and parameters: {'n_estimators': 488, 'max_depth': 8, 'learning_rate': 0.7605087962926151, 'min_child_weight': 4, 'gamma': 4.318946792478935e-06, 'subsample': 0.10425401063824882, 'colsample_bytree': 0.03827958737205661, 'reg_alpha': 1.3358614549231257e-06, 'reg_lambda': 2.6125508345390608e-05}. Best is trial 65 with value: 0.7606060606060606.\u001b[0m\n",
      "\u001b[32m[I 2023-06-22 21:32:35,612]\u001b[0m Trial 102 finished with value: 0.697979797979798 and parameters: {'n_estimators': 467, 'max_depth': 8, 'learning_rate': 0.7896056264506358, 'min_child_weight': 4, 'gamma': 3.010028659749313e-06, 'subsample': 0.06967247183708067, 'colsample_bytree': 0.028760617377966105, 'reg_alpha': 1.0641469558901083e-06, 'reg_lambda': 1.2233215839191248e-05}. Best is trial 65 with value: 0.7606060606060606.\u001b[0m\n",
      "\u001b[32m[I 2023-06-22 21:32:36,070]\u001b[0m Trial 103 finished with value: 0.7222222222222222 and parameters: {'n_estimators': 493, 'max_depth': 8, 'learning_rate': 0.7300850619919064, 'min_child_weight': 3, 'gamma': 5.306739493578638e-06, 'subsample': 0.051531367876751125, 'colsample_bytree': 0.024063574153012798, 'reg_alpha': 7.161009115159552e-07, 'reg_lambda': 4.375543792961834e-05}. Best is trial 65 with value: 0.7606060606060606.\u001b[0m\n",
      "\u001b[32m[I 2023-06-22 21:32:36,506]\u001b[0m Trial 104 finished with value: 0.7111111111111111 and parameters: {'n_estimators': 477, 'max_depth': 6, 'learning_rate': 0.7467421998441074, 'min_child_weight': 3, 'gamma': 2.033645369115149e-06, 'subsample': 0.047289228713727316, 'colsample_bytree': 0.034193686958813356, 'reg_alpha': 5.186518966264218e-07, 'reg_lambda': 2.103962950116934e-05}. Best is trial 65 with value: 0.7606060606060606.\u001b[0m\n",
      "\u001b[32m[I 2023-06-22 21:32:36,965]\u001b[0m Trial 105 finished with value: 0.702020202020202 and parameters: {'n_estimators': 451, 'max_depth': 8, 'learning_rate': 0.6800249342997267, 'min_child_weight': 4, 'gamma': 1.2536949168424927e-05, 'subsample': 0.09187879193240617, 'colsample_bytree': 0.060489046138933925, 'reg_alpha': 2.3417708154654453e-06, 'reg_lambda': 5.627617542806972e-06}. Best is trial 65 with value: 0.7606060606060606.\u001b[0m\n",
      "\u001b[32m[I 2023-06-22 21:32:37,391]\u001b[0m Trial 106 finished with value: 0.685858585858586 and parameters: {'n_estimators': 429, 'max_depth': 7, 'learning_rate': 0.6280239293727087, 'min_child_weight': 5, 'gamma': 2.357798454523168e-05, 'subsample': 0.11794791634892692, 'colsample_bytree': 0.052008203049651425, 'reg_alpha': 8.506470473139967e-08, 'reg_lambda': 0.0001118313451435}. Best is trial 65 with value: 0.7606060606060606.\u001b[0m\n",
      "\u001b[32m[I 2023-06-22 21:32:37,835]\u001b[0m Trial 107 finished with value: 0.703030303030303 and parameters: {'n_estimators': 442, 'max_depth': 8, 'learning_rate': 0.8008453190704146, 'min_child_weight': 3, 'gamma': 6.710393790252185e-07, 'subsample': 0.0791436331970343, 'colsample_bytree': 0.02725493396492481, 'reg_alpha': 4.381727566130847e-06, 'reg_lambda': 3.715528449553266e-06}. Best is trial 65 with value: 0.7606060606060606.\u001b[0m\n",
      "\u001b[32m[I 2023-06-22 21:32:38,135]\u001b[0m Trial 108 finished with value: 0.6959595959595959 and parameters: {'n_estimators': 230, 'max_depth': 7, 'learning_rate': 0.7759822206295911, 'min_child_weight': 2, 'gamma': 6.876378710569266e-06, 'subsample': 0.05926175969561738, 'colsample_bytree': 0.017240438076247092, 'reg_alpha': 1.475032215461086e-07, 'reg_lambda': 9.591879421520584e-06}. Best is trial 65 with value: 0.7606060606060606.\u001b[0m\n",
      "\u001b[32m[I 2023-06-22 21:32:38,543]\u001b[0m Trial 109 finished with value: 0.5 and parameters: {'n_estimators': 415, 'max_depth': 8, 'learning_rate': 0.711367249261644, 'min_child_weight': 10, 'gamma': 1.403609258587961e-07, 'subsample': 0.07216648676257145, 'colsample_bytree': 0.036770158708280494, 'reg_alpha': 2.409793023129955e-07, 'reg_lambda': 1.8850450407315617e-06}. Best is trial 65 with value: 0.7606060606060606.\u001b[0m\n",
      "\u001b[32m[I 2023-06-22 21:32:38,987]\u001b[0m Trial 110 finished with value: 0.6606060606060606 and parameters: {'n_estimators': 464, 'max_depth': 7, 'learning_rate': 0.8512579626124086, 'min_child_weight': 4, 'gamma': 3.1512359706221133e-06, 'subsample': 0.06565381638479145, 'colsample_bytree': 0.04286463036582146, 'reg_alpha': 4.116139657618127e-07, 'reg_lambda': 7.610309481212661e-06}. Best is trial 65 with value: 0.7606060606060606.\u001b[0m\n",
      "\u001b[32m[I 2023-06-22 21:32:39,510]\u001b[0m Trial 111 finished with value: 0.6878787878787879 and parameters: {'n_estimators': 453, 'max_depth': 8, 'learning_rate': 0.6812726574530018, 'min_child_weight': 3, 'gamma': 2.9020613216019968e-05, 'subsample': 0.08289165194467342, 'colsample_bytree': 0.029262545553283097, 'reg_alpha': 1.7466241824069684e-06, 'reg_lambda': 2.778266766945728e-06}. Best is trial 65 with value: 0.7606060606060606.\u001b[0m\n",
      "\u001b[32m[I 2023-06-22 21:32:39,983]\u001b[0m Trial 112 finished with value: 0.7101010101010101 and parameters: {'n_estimators': 471, 'max_depth': 8, 'learning_rate': 0.6680523483339174, 'min_child_weight': 3, 'gamma': 3.388847640312804e-05, 'subsample': 0.14009407437580443, 'colsample_bytree': 0.03260909966114188, 'reg_alpha': 9.642332505671903e-07, 'reg_lambda': 1.5646022237106856e-05}. Best is trial 65 with value: 0.7606060606060606.\u001b[0m\n",
      "\u001b[32m[I 2023-06-22 21:32:40,455]\u001b[0m Trial 113 finished with value: 0.6505050505050505 and parameters: {'n_estimators': 480, 'max_depth': 8, 'learning_rate': 0.7392722751943293, 'min_child_weight': 2, 'gamma': 1.3549585236890703e-05, 'subsample': 0.09397497103468162, 'colsample_bytree': 0.024705496267929606, 'reg_alpha': 1.972363898761659e-06, 'reg_lambda': 8.192972943783671e-07}. Best is trial 65 with value: 0.7606060606060606.\u001b[0m\n",
      "\u001b[32m[I 2023-06-22 21:32:40,909]\u001b[0m Trial 114 finished with value: 0.6656565656565656 and parameters: {'n_estimators': 456, 'max_depth': 8, 'learning_rate': 0.6559983686419932, 'min_child_weight': 4, 'gamma': 2.0472528405473328e-05, 'subsample': 0.1073716182229349, 'colsample_bytree': 0.029686002939585957, 'reg_alpha': 5.415558676743938e-06, 'reg_lambda': 6.930529410411221e-05}. Best is trial 65 with value: 0.7606060606060606.\u001b[0m\n",
      "\u001b[32m[I 2023-06-22 21:32:41,369]\u001b[0m Trial 115 finished with value: 0.7242424242424242 and parameters: {'n_estimators': 437, 'max_depth': 8, 'learning_rate': 0.6122980221776357, 'min_child_weight': 3, 'gamma': 1.1771393329470441e-06, 'subsample': 0.05552537677876538, 'colsample_bytree': 0.02211788988751673, 'reg_alpha': 7.405941049445919e-07, 'reg_lambda': 4.0739839891881843e-07}. Best is trial 65 with value: 0.7606060606060606.\u001b[0m\n",
      "\u001b[32m[I 2023-06-22 21:32:42,062]\u001b[0m Trial 116 finished with value: 0.692929292929293 and parameters: {'n_estimators': 495, 'max_depth': 7, 'learning_rate': 0.8189550319701538, 'min_child_weight': 4, 'gamma': 9.24297030823712e-06, 'subsample': 0.07890225490323173, 'colsample_bytree': 0.03873317327839325, 'reg_alpha': 2.8009990373792494e-06, 'reg_lambda': 1.5672845411073266e-06}. Best is trial 65 with value: 0.7606060606060606.\u001b[0m\n",
      "\u001b[32m[I 2023-06-22 21:32:42,496]\u001b[0m Trial 117 finished with value: 0.6121212121212121 and parameters: {'n_estimators': 392, 'max_depth': 8, 'learning_rate': 0.7090284165704238, 'min_child_weight': 5, 'gamma': 0.00011598546026776595, 'subsample': 0.05003255856999257, 'colsample_bytree': 0.047896340298724575, 'reg_alpha': 8.314771879996452e-06, 'reg_lambda': 2.303552174531105e-06}. Best is trial 65 with value: 0.7606060606060606.\u001b[0m\n",
      "\u001b[32m[I 2023-06-22 21:32:43,081]\u001b[0m Trial 118 finished with value: 0.7010101010101009 and parameters: {'n_estimators': 462, 'max_depth': 4, 'learning_rate': 0.689558901620853, 'min_child_weight': 4, 'gamma': 1.649506479237197e-06, 'subsample': 0.07174426024172244, 'colsample_bytree': 0.01879890885377027, 'reg_alpha': 2.995199063399995e-07, 'reg_lambda': 2.300863115827733e-05}. Best is trial 65 with value: 0.7606060606060606.\u001b[0m\n",
      "\u001b[32m[I 2023-06-22 21:32:43,588]\u001b[0m Trial 119 finished with value: 0.7202020202020203 and parameters: {'n_estimators': 482, 'max_depth': 6, 'learning_rate': 0.6382360903534284, 'min_child_weight': 2, 'gamma': 5.10408090215501e-06, 'subsample': 0.061840619637968976, 'colsample_bytree': 0.014304396493554913, 'reg_alpha': 6.233633350617854e-08, 'reg_lambda': 4.650024060387543e-06}. Best is trial 65 with value: 0.7606060606060606.\u001b[0m\n",
      "\u001b[32m[I 2023-06-22 21:32:44,003]\u001b[0m Trial 120 finished with value: 0.6848484848484849 and parameters: {'n_estimators': 340, 'max_depth': 5, 'learning_rate': 0.7752967172976395, 'min_child_weight': 3, 'gamma': 8.491988423235958e-07, 'subsample': 0.1756569947898494, 'colsample_bytree': 0.030476810455833125, 'reg_alpha': 1.2401222652005581e-06, 'reg_lambda': 4.0344301668286324e-05}. Best is trial 65 with value: 0.7606060606060606.\u001b[0m\n",
      "\u001b[32m[I 2023-06-22 21:32:44,477]\u001b[0m Trial 121 finished with value: 0.7464646464646464 and parameters: {'n_estimators': 470, 'max_depth': 8, 'learning_rate': 0.8295054869107084, 'min_child_weight': 4, 'gamma': 2.295826429181232e-05, 'subsample': 0.04374202076565841, 'colsample_bytree': 0.02676004508075803, 'reg_alpha': 8.451601372396327e-07, 'reg_lambda': 1.2211865318505805e-06}. Best is trial 65 with value: 0.7606060606060606.\u001b[0m\n",
      "\u001b[32m[I 2023-06-22 21:32:44,949]\u001b[0m Trial 122 finished with value: 0.7464646464646464 and parameters: {'n_estimators': 468, 'max_depth': 8, 'learning_rate': 0.8842540912838597, 'min_child_weight': 4, 'gamma': 6.946188186606234e-05, 'subsample': 0.04335170576049114, 'colsample_bytree': 0.026174254109865114, 'reg_alpha': 5.364982503490258e-07, 'reg_lambda': 1.2984756152501908e-06}. Best is trial 65 with value: 0.7606060606060606.\u001b[0m\n",
      "\u001b[32m[I 2023-06-22 21:32:45,454]\u001b[0m Trial 123 finished with value: 0.7464646464646464 and parameters: {'n_estimators': 487, 'max_depth': 8, 'learning_rate': 0.8939671453837658, 'min_child_weight': 4, 'gamma': 6.397272504512571e-05, 'subsample': 0.04373434722592429, 'colsample_bytree': 0.03482594335976044, 'reg_alpha': 5.555498325735209e-07, 'reg_lambda': 9.494165107208358e-07}. Best is trial 65 with value: 0.7606060606060606.\u001b[0m\n",
      "\u001b[32m[I 2023-06-22 21:32:45,937]\u001b[0m Trial 124 finished with value: 0.5 and parameters: {'n_estimators': 465, 'max_depth': 8, 'learning_rate': 0.8863162838813388, 'min_child_weight': 4, 'gamma': 5.053230497870313e-05, 'subsample': 0.0427180966449013, 'colsample_bytree': 0.026182128989857917, 'reg_alpha': 1.8971903248152112e-07, 'reg_lambda': 8.937867657395471e-07}. Best is trial 65 with value: 0.7606060606060606.\u001b[0m\n",
      "\u001b[32m[I 2023-06-22 21:32:46,437]\u001b[0m Trial 125 finished with value: 0.7333333333333333 and parameters: {'n_estimators': 474, 'max_depth': 8, 'learning_rate': 0.9007600756459732, 'min_child_weight': 4, 'gamma': 8.863163322658366e-05, 'subsample': 0.047001504925924815, 'colsample_bytree': 0.022881088306447184, 'reg_alpha': 4.458260339587597e-07, 'reg_lambda': 5.23967351158345e-07}. Best is trial 65 with value: 0.7606060606060606.\u001b[0m\n",
      "\u001b[32m[I 2023-06-22 21:32:46,817]\u001b[0m Trial 126 finished with value: 0.5505050505050505 and parameters: {'n_estimators': 316, 'max_depth': 8, 'learning_rate': 0.8710220698931014, 'min_child_weight': 4, 'gamma': 6.414754876501597e-05, 'subsample': 0.0380071576355868, 'colsample_bytree': 0.020517364602611294, 'reg_alpha': 6.562342154065435e-07, 'reg_lambda': 6.671553746004175e-07}. Best is trial 65 with value: 0.7606060606060606.\u001b[0m\n",
      "\u001b[32m[I 2023-06-22 21:32:47,263]\u001b[0m Trial 127 finished with value: 0.5515151515151515 and parameters: {'n_estimators': 424, 'max_depth': 8, 'learning_rate': 0.9250901677581527, 'min_child_weight': 5, 'gamma': 0.0001601118857783707, 'subsample': 0.04986828035370279, 'colsample_bytree': 0.015349792342334159, 'reg_alpha': 1.1448551231492255e-07, 'reg_lambda': 3.1865810969667247e-07}. Best is trial 65 with value: 0.7606060606060606.\u001b[0m\n",
      "\u001b[32m[I 2023-06-22 21:32:47,706]\u001b[0m Trial 128 finished with value: 0.5 and parameters: {'n_estimators': 447, 'max_depth': 7, 'learning_rate': 0.9606205967887503, 'min_child_weight': 4, 'gamma': 9.193736022433687e-05, 'subsample': 0.03964231161395293, 'colsample_bytree': 0.022890880930425943, 'reg_alpha': 2.52847517042009e-07, 'reg_lambda': 1.1179592837457428e-06}. Best is trial 65 with value: 0.7606060606060606.\u001b[0m\n",
      "\u001b[32m[I 2023-06-22 21:32:48,176]\u001b[0m Trial 129 finished with value: 0.6424242424242425 and parameters: {'n_estimators': 473, 'max_depth': 8, 'learning_rate': 0.8466106163080899, 'min_child_weight': 4, 'gamma': 4.6167053258490724e-05, 'subsample': 0.044818340060273854, 'colsample_bytree': 0.878684697386525, 'reg_alpha': 4.3522349116780973e-07, 'reg_lambda': 4.701903719544163e-07}. Best is trial 65 with value: 0.7606060606060606.\u001b[0m\n",
      "\u001b[32m[I 2023-06-22 21:32:48,686]\u001b[0m Trial 130 finished with value: 0.5 and parameters: {'n_estimators': 490, 'max_depth': 7, 'learning_rate': 0.9042051410098338, 'min_child_weight': 5, 'gamma': 8.030808085335005e-05, 'subsample': 0.03414032168794403, 'colsample_bytree': 0.017306953842281883, 'reg_alpha': 8.78062784184725e-07, 'reg_lambda': 2.8068499958191505e-07}. Best is trial 65 with value: 0.7606060606060606.\u001b[0m\n",
      "\u001b[32m[I 2023-06-22 21:32:49,204]\u001b[0m Trial 131 finished with value: 0.6232323232323232 and parameters: {'n_estimators': 484, 'max_depth': 8, 'learning_rate': 0.8696620176504908, 'min_child_weight': 4, 'gamma': 0.0001228189290368607, 'subsample': 0.04238050580640331, 'colsample_bytree': 0.026197864914373044, 'reg_alpha': 4.1401231234365986e-07, 'reg_lambda': 5.004847480364543e-07}. Best is trial 65 with value: 0.7606060606060606.\u001b[0m\n",
      "\u001b[32m[I 2023-06-22 21:32:49,713]\u001b[0m Trial 132 finished with value: 0.5 and parameters: {'n_estimators': 469, 'max_depth': 8, 'learning_rate': 0.9190842379053503, 'min_child_weight': 4, 'gamma': 1.5885551159025928e-05, 'subsample': 0.03666569429567623, 'colsample_bytree': 0.03317221223027345, 'reg_alpha': 1.6345820308872948e-07, 'reg_lambda': 1.695774151068231e-06}. Best is trial 65 with value: 0.7606060606060606.\u001b[0m\n",
      "\u001b[32m[I 2023-06-22 21:32:50,217]\u001b[0m Trial 133 finished with value: 0.705050505050505 and parameters: {'n_estimators': 458, 'max_depth': 8, 'learning_rate': 0.8942400284026155, 'min_child_weight': 4, 'gamma': 2.497553085075217e-05, 'subsample': 0.053911533827413115, 'colsample_bytree': 0.03640470073891356, 'reg_alpha': 5.179495153979005e-07, 'reg_lambda': 1.1625074817199645e-06}. Best is trial 65 with value: 0.7606060606060606.\u001b[0m\n",
      "\u001b[32m[I 2023-06-22 21:32:50,735]\u001b[0m Trial 134 finished with value: 0.7555555555555555 and parameters: {'n_estimators': 499, 'max_depth': 8, 'learning_rate': 0.8294200690556744, 'min_child_weight': 4, 'gamma': 0.00020101333081943431, 'subsample': 0.04661924210487302, 'colsample_bytree': 0.02435288675961237, 'reg_alpha': 1.4669222786271775e-06, 'reg_lambda': 7.377972517950782e-07}. Best is trial 65 with value: 0.7606060606060606.\u001b[0m\n",
      "\u001b[32m[I 2023-06-22 21:32:51,214]\u001b[0m Trial 135 finished with value: 0.5 and parameters: {'n_estimators': 497, 'max_depth': 8, 'learning_rate': 0.8452614812974745, 'min_child_weight': 9, 'gamma': 0.00031566614749245763, 'subsample': 0.030769358728907934, 'colsample_bytree': 0.023124968766984624, 'reg_alpha': 3.702579531472691e-06, 'reg_lambda': 6.849952145103855e-07}. Best is trial 65 with value: 0.7606060606060606.\u001b[0m\n",
      "\u001b[32m[I 2023-06-22 21:32:51,725]\u001b[0m Trial 136 finished with value: 0.5 and parameters: {'n_estimators': 476, 'max_depth': 8, 'learning_rate': 0.8302414971621705, 'min_child_weight': 4, 'gamma': 0.00019699367843983246, 'subsample': 0.03921069515059934, 'colsample_bytree': 0.02017756547642365, 'reg_alpha': 1.5815306322425267e-06, 'reg_lambda': 8.267850717523199e-07}. Best is trial 65 with value: 0.7606060606060606.\u001b[0m\n",
      "\u001b[32m[I 2023-06-22 21:32:52,459]\u001b[0m Trial 137 finished with value: 0.6606060606060606 and parameters: {'n_estimators': 445, 'max_depth': 8, 'learning_rate': 0.8830233911562062, 'min_child_weight': 4, 'gamma': 4.274989283378608e-05, 'subsample': 0.04931329062968968, 'colsample_bytree': 0.33367464536608404, 'reg_alpha': 1.1983815637754682e-06, 'reg_lambda': 1.7658601875225322e-07}. Best is trial 65 with value: 0.7606060606060606.\u001b[0m\n",
      "\u001b[32m[I 2023-06-22 21:32:53,072]\u001b[0m Trial 138 finished with value: 0.6323232323232322 and parameters: {'n_estimators': 460, 'max_depth': 7, 'learning_rate': 0.8061071162667502, 'min_child_weight': 8, 'gamma': 6.193888934030633e-05, 'subsample': 0.34768726404177436, 'colsample_bytree': 0.0123721475962307, 'reg_alpha': 3.2377434848483233e-07, 'reg_lambda': 1.1215887081097068e-06}. Best is trial 65 with value: 0.7606060606060606.\u001b[0m\n",
      "\u001b[32m[I 2023-06-22 21:32:53,441]\u001b[0m Trial 139 finished with value: 0.5757575757575757 and parameters: {'n_estimators': 206, 'max_depth': 1, 'learning_rate': 0.9415753247803245, 'min_child_weight': 5, 'gamma': 0.0005269380008552363, 'subsample': 0.0559685796712825, 'colsample_bytree': 0.031750521503439925, 'reg_alpha': 7.216054185883944e-07, 'reg_lambda': 1.9127830795892857e-06}. Best is trial 65 with value: 0.7606060606060606.\u001b[0m\n",
      "\u001b[32m[I 2023-06-22 21:32:54,193]\u001b[0m Trial 140 finished with value: 0.6252525252525252 and parameters: {'n_estimators': 489, 'max_depth': 5, 'learning_rate': 0.8262344782568591, 'min_child_weight': 3, 'gamma': 8.102827305560239e-05, 'subsample': 0.43667131654314795, 'colsample_bytree': 0.04254359874932063, 'reg_alpha': 1.1386401887424426e-07, 'reg_lambda': 0.00993808188082251}. Best is trial 65 with value: 0.7606060606060606.\u001b[0m\n",
      "\u001b[32m[I 2023-06-22 21:32:54,764]\u001b[0m Trial 141 finished with value: 0.7464646464646464 and parameters: {'n_estimators': 499, 'max_depth': 8, 'learning_rate': 0.8647751123386948, 'min_child_weight': 4, 'gamma': 0.00011986814720979691, 'subsample': 0.045419453504799166, 'colsample_bytree': 0.027245175917624945, 'reg_alpha': 5.934598609293992e-07, 'reg_lambda': 2.7097164444271117e-06}. Best is trial 65 with value: 0.7606060606060606.\u001b[0m\n",
      "\u001b[32m[I 2023-06-22 21:32:55,326]\u001b[0m Trial 142 finished with value: 0.7333333333333334 and parameters: {'n_estimators': 499, 'max_depth': 8, 'learning_rate': 0.8599264088295558, 'min_child_weight': 4, 'gamma': 0.00011782185694421052, 'subsample': 0.043497548216695554, 'colsample_bytree': 0.024618023404540525, 'reg_alpha': 2.1076839917142023e-06, 'reg_lambda': 1.3968509446093367e-06}. Best is trial 65 with value: 0.7606060606060606.\u001b[0m\n",
      "\u001b[32m[I 2023-06-22 21:32:55,900]\u001b[0m Trial 143 finished with value: 0.7333333333333334 and parameters: {'n_estimators': 497, 'max_depth': 8, 'learning_rate': 0.8537984501004803, 'min_child_weight': 4, 'gamma': 0.00014275649461033003, 'subsample': 0.04319255100500683, 'colsample_bytree': 0.0261597624335373, 'reg_alpha': 2.474341150389114e-06, 'reg_lambda': 3.4192410990968806e-06}. Best is trial 65 with value: 0.7606060606060606.\u001b[0m\n",
      "\u001b[32m[I 2023-06-22 21:32:56,439]\u001b[0m Trial 144 finished with value: 0.5 and parameters: {'n_estimators': 498, 'max_depth': 8, 'learning_rate': 0.8565390937200519, 'min_child_weight': 4, 'gamma': 0.00020543312254561456, 'subsample': 0.03565505026659197, 'colsample_bytree': 0.02473515660995645, 'reg_alpha': 2.686026899444546e-06, 'reg_lambda': 2.1147636576457104e-06}. Best is trial 65 with value: 0.7606060606060606.\u001b[0m\n",
      "\u001b[32m[I 2023-06-22 21:32:56,986]\u001b[0m Trial 145 finished with value: 0.5 and parameters: {'n_estimators': 487, 'max_depth': 8, 'learning_rate': 0.8708386374909636, 'min_child_weight': 4, 'gamma': 0.00017207620019927508, 'subsample': 0.04281211951768011, 'colsample_bytree': 0.027524160074227085, 'reg_alpha': 1.8837758987787474e-06, 'reg_lambda': 6.730734615669238e-06}. Best is trial 65 with value: 0.7606060606060606.\u001b[0m\n",
      "\u001b[32m[I 2023-06-22 21:32:57,536]\u001b[0m Trial 146 finished with value: 0.5 and parameters: {'n_estimators': 498, 'max_depth': 6, 'learning_rate': 0.8442445019586645, 'min_child_weight': 5, 'gamma': 0.0001470969597119126, 'subsample': 0.03968223626424189, 'colsample_bytree': 0.016481778715218567, 'reg_alpha': 5.857930257814929e-06, 'reg_lambda': 1.5270025421896978e-06}. Best is trial 65 with value: 0.7606060606060606.\u001b[0m\n",
      "\u001b[32m[I 2023-06-22 21:32:57,968]\u001b[0m Trial 147 finished with value: 0.6616161616161615 and parameters: {'n_estimators': 249, 'max_depth': 8, 'learning_rate': 0.9267924110142094, 'min_child_weight': 4, 'gamma': 0.0001106435904012938, 'subsample': 0.2429594781923093, 'colsample_bytree': 0.02994440032695761, 'reg_alpha': 3.5505947079703096e-06, 'reg_lambda': 1.1532585882565354e-05}. Best is trial 65 with value: 0.7606060606060606.\u001b[0m\n",
      "\u001b[32m[I 2023-06-22 21:32:58,497]\u001b[0m Trial 148 finished with value: 0.706060606060606 and parameters: {'n_estimators': 500, 'max_depth': 8, 'learning_rate': 0.8815145975450197, 'min_child_weight': 3, 'gamma': 0.00025007049629600497, 'subsample': 0.06192109722568274, 'colsample_bytree': 0.07139099228700627, 'reg_alpha': 1.588823575846407e-05, 'reg_lambda': 3.2347530736568176e-06}. Best is trial 65 with value: 0.7606060606060606.\u001b[0m\n",
      "\u001b[32m[I 2023-06-22 21:32:59,020]\u001b[0m Trial 149 finished with value: 0.5 and parameters: {'n_estimators': 481, 'max_depth': 7, 'learning_rate': 0.9037077275510853, 'min_child_weight': 4, 'gamma': 3.112068070834901e-05, 'subsample': 0.03333155991472437, 'colsample_bytree': 0.025094013099231212, 'reg_alpha': 1.068617894172981e-05, 'reg_lambda': 1.0863060590601602e-06}. Best is trial 65 with value: 0.7606060606060606.\u001b[0m\n",
      "\u001b[32m[I 2023-06-22 21:32:59,595]\u001b[0m Trial 150 finished with value: 0.6989898989898989 and parameters: {'n_estimators': 491, 'max_depth': 3, 'learning_rate': 0.7999368740943836, 'min_child_weight': 4, 'gamma': 0.00043274704830235797, 'subsample': 0.04478849689303276, 'colsample_bytree': 0.020436639595413145, 'reg_alpha': 1.5227087287552268e-06, 'reg_lambda': 4.959024195812668e-06}. Best is trial 65 with value: 0.7606060606060606.\u001b[0m\n",
      "\u001b[32m[I 2023-06-22 21:33:00,141]\u001b[0m Trial 151 finished with value: 0.6828282828282828 and parameters: {'n_estimators': 471, 'max_depth': 8, 'learning_rate': 0.8308336126456493, 'min_child_weight': 4, 'gamma': 5.34375122133314e-05, 'subsample': 0.051579676858416974, 'colsample_bytree': 0.03483483603442515, 'reg_alpha': 8.416003337945165e-07, 'reg_lambda': 3.002428419057777e-06}. Best is trial 65 with value: 0.7606060606060606.\u001b[0m\n",
      "\u001b[32m[I 2023-06-22 21:33:00,427]\u001b[0m Trial 152 finished with value: 0.6474747474747474 and parameters: {'n_estimators': 167, 'max_depth': 8, 'learning_rate': 0.8563182943042212, 'min_child_weight': 4, 'gamma': 0.00013900006896326705, 'subsample': 0.05780284222454657, 'colsample_bytree': 0.03805320520798351, 'reg_alpha': 2.5738992815907626e-06, 'reg_lambda': 3.942283554817103e-06}. Best is trial 65 with value: 0.7606060606060606.\u001b[0m\n",
      "\u001b[32m[I 2023-06-22 21:33:00,954]\u001b[0m Trial 153 finished with value: 0.7141414141414142 and parameters: {'n_estimators': 482, 'max_depth': 8, 'learning_rate': 0.8139475868041277, 'min_child_weight': 4, 'gamma': 1.921405928673013e-05, 'subsample': 0.04719648719934261, 'colsample_bytree': 0.032125488268695705, 'reg_alpha': 1.025445750175296e-06, 'reg_lambda': 2.023109755543974e-06}. Best is trial 65 with value: 0.7606060606060606.\u001b[0m\n",
      "\u001b[32m[I 2023-06-22 21:33:01,580]\u001b[0m Trial 154 finished with value: 0.703030303030303 and parameters: {'n_estimators': 465, 'max_depth': 8, 'learning_rate': 0.7896775876503311, 'min_child_weight': 4, 'gamma': 6.732862552373702e-08, 'subsample': 0.06785002807519004, 'colsample_bytree': 0.028086711460080245, 'reg_alpha': 1.828804673492567e-06, 'reg_lambda': 8.774113332628351e-06}. Best is trial 65 with value: 0.7606060606060606.\u001b[0m\n",
      "\u001b[32m[I 2023-06-22 21:33:02,136]\u001b[0m Trial 155 finished with value: 0.5 and parameters: {'n_estimators': 500, 'max_depth': 8, 'learning_rate': 0.8666656208460856, 'min_child_weight': 3, 'gamma': 1.1210625897448273e-05, 'subsample': 0.028995846972390084, 'colsample_bytree': 0.13554769900079106, 'reg_alpha': 6.305364597757677e-07, 'reg_lambda': 1.4251462297624256e-06}. Best is trial 65 with value: 0.7606060606060606.\u001b[0m\n",
      "\u001b[32m[I 2023-06-22 21:33:02,643]\u001b[0m Trial 156 finished with value: 0.6797979797979798 and parameters: {'n_estimators': 477, 'max_depth': 7, 'learning_rate': 0.8306725859619387, 'min_child_weight': 5, 'gamma': 3.165109094128983e-05, 'subsample': 0.053853238105894284, 'colsample_bytree': 0.01899300537291982, 'reg_alpha': 2.647543442003631e-07, 'reg_lambda': 6.87104812403374e-07}. Best is trial 65 with value: 0.7606060606060606.\u001b[0m\n",
      "\u001b[32m[I 2023-06-22 21:33:03,181]\u001b[0m Trial 157 finished with value: 0.7222222222222222 and parameters: {'n_estimators': 453, 'max_depth': 8, 'learning_rate': 0.8919746280877683, 'min_child_weight': 4, 'gamma': 7.250827429290871e-06, 'subsample': 0.20010326028546713, 'colsample_bytree': 0.04035602100617998, 'reg_alpha': 7.192588518251458e-06, 'reg_lambda': 1.6407799518340497e-05}. Best is trial 65 with value: 0.7606060606060606.\u001b[0m\n",
      "\u001b[32m[I 2023-06-22 21:33:03,711]\u001b[0m Trial 158 finished with value: 0.5 and parameters: {'n_estimators': 487, 'max_depth': 8, 'learning_rate': 0.8124461529296186, 'min_child_weight': 4, 'gamma': 4.042776572635802e-05, 'subsample': 0.041504842369776584, 'colsample_bytree': 0.02181714595292337, 'reg_alpha': 1.0651777223608655e-06, 'reg_lambda': 5.74577818566827e-06}. Best is trial 65 with value: 0.7606060606060606.\u001b[0m\n",
      "\u001b[32m[I 2023-06-22 21:33:04,203]\u001b[0m Trial 159 finished with value: 0.509090909090909 and parameters: {'n_estimators': 439, 'max_depth': 8, 'learning_rate': 0.7760517889662298, 'min_child_weight': 4, 'gamma': 6.665164320946825e-05, 'subsample': 0.03685757772607916, 'colsample_bytree': 0.026340632759457975, 'reg_alpha': 5.009827443344207e-06, 'reg_lambda': 3.4316634127598435e-05}. Best is trial 65 with value: 0.7606060606060606.\u001b[0m\n",
      "\u001b[32m[I 2023-06-22 21:33:04,950]\u001b[0m Trial 160 finished with value: 0.6575757575757577 and parameters: {'n_estimators': 466, 'max_depth': 8, 'learning_rate': 0.8507299856498655, 'min_child_weight': 1, 'gamma': 0.0001137550702229863, 'subsample': 0.9213095427243825, 'colsample_bytree': 0.03460837723308372, 'reg_alpha': 2.374366176098476e-06, 'reg_lambda': 2.612269571156453e-06}. Best is trial 65 with value: 0.7606060606060606.\u001b[0m\n",
      "\u001b[32m[I 2023-06-22 21:33:05,456]\u001b[0m Trial 161 finished with value: 0.7080808080808081 and parameters: {'n_estimators': 474, 'max_depth': 8, 'learning_rate': 0.8973537073799508, 'min_child_weight': 4, 'gamma': 9.152289370254091e-05, 'subsample': 0.04801626540858249, 'colsample_bytree': 0.023621390084970138, 'reg_alpha': 6.00617405168151e-07, 'reg_lambda': 5.630310445933119e-07}. Best is trial 65 with value: 0.7606060606060606.\u001b[0m\n",
      "\u001b[32m[I 2023-06-22 21:33:05,954]\u001b[0m Trial 162 finished with value: 0.6757575757575758 and parameters: {'n_estimators': 476, 'max_depth': 8, 'learning_rate': 0.9324139349194599, 'min_child_weight': 4, 'gamma': 0.0002492324953689298, 'subsample': 0.05040677069567266, 'colsample_bytree': 0.09822234685105662, 'reg_alpha': 3.741556855004342e-07, 'reg_lambda': 8.58897202331675e-07}. Best is trial 65 with value: 0.7606060606060606.\u001b[0m\n",
      "\u001b[32m[I 2023-06-22 21:33:06,484]\u001b[0m Trial 163 finished with value: 0.7363636363636363 and parameters: {'n_estimators': 490, 'max_depth': 8, 'learning_rate': 0.9102120207619759, 'min_child_weight': 3, 'gamma': 3.361262013264406e-08, 'subsample': 0.045701764397058774, 'colsample_bytree': 0.030183003876993433, 'reg_alpha': 1.9416630318055824e-07, 'reg_lambda': 1.2818603784178649e-06}. Best is trial 65 with value: 0.7606060606060606.\u001b[0m\n",
      "\u001b[32m[I 2023-06-22 21:33:07,004]\u001b[0m Trial 164 finished with value: 0.6919191919191918 and parameters: {'n_estimators': 490, 'max_depth': 8, 'learning_rate': 0.8712816653371787, 'min_child_weight': 3, 'gamma': 2.2758342278479552e-08, 'subsample': 0.04431450749193281, 'colsample_bytree': 0.030658335660667686, 'reg_alpha': 2.1272692431405598e-07, 'reg_lambda': 1.499509171683943e-06}. Best is trial 65 with value: 0.7606060606060606.\u001b[0m\n",
      "\u001b[32m[I 2023-06-22 21:33:07,513]\u001b[0m Trial 165 finished with value: 0.7252525252525254 and parameters: {'n_estimators': 484, 'max_depth': 8, 'learning_rate': 0.9141879989120527, 'min_child_weight': 3, 'gamma': 3.545242881219894e-08, 'subsample': 0.06386052642791419, 'colsample_bytree': 0.028421347276345443, 'reg_alpha': 8.230872621977035e-08, 'reg_lambda': 3.6266890434654417e-06}. Best is trial 65 with value: 0.7606060606060606.\u001b[0m\n",
      "\u001b[32m[I 2023-06-22 21:33:07,873]\u001b[0m Trial 166 finished with value: 0.5 and parameters: {'n_estimators': 288, 'max_depth': 7, 'learning_rate': 0.5922791668633877, 'min_child_weight': 7, 'gamma': 1.898895577283891e-07, 'subsample': 0.03996317889570539, 'colsample_bytree': 0.04446766410724669, 'reg_alpha': 1.590484546735153e-07, 'reg_lambda': 1.1957672888624898e-06}. Best is trial 65 with value: 0.7606060606060606.\u001b[0m\n",
      "\u001b[32m[I 2023-06-22 21:33:08,084]\u001b[0m Trial 167 finished with value: 0.6444444444444444 and parameters: {'n_estimators': 67, 'max_depth': 8, 'learning_rate': 0.7567571526822563, 'min_child_weight': 3, 'gamma': 1.6226110030043138e-05, 'subsample': 0.057395447272780016, 'colsample_bytree': 0.03668024973757354, 'reg_alpha': 3.1298928742258903e-07, 'reg_lambda': 2.148773114497695e-06}. Best is trial 65 with value: 0.7606060606060606.\u001b[0m\n",
      "\u001b[32m[I 2023-06-22 21:33:08,572]\u001b[0m Trial 168 finished with value: 0.6595959595959595 and parameters: {'n_estimators': 459, 'max_depth': 8, 'learning_rate': 0.9566818447887323, 'min_child_weight': 3, 'gamma': 2.4973429082981903e-05, 'subsample': 0.036302645209320514, 'colsample_bytree': 0.03252771195884714, 'reg_alpha': 1.2136506754957568e-06, 'reg_lambda': 2.3772308172475777e-05}. Best is trial 65 with value: 0.7606060606060606.\u001b[0m\n",
      "\u001b[32m[I 2023-06-22 21:33:09,133]\u001b[0m Trial 169 finished with value: 0.68989898989899 and parameters: {'n_estimators': 491, 'max_depth': 7, 'learning_rate': 0.8321310325450085, 'min_child_weight': 4, 'gamma': 6.941715695097101e-08, 'subsample': 0.29287874896115507, 'colsample_bytree': 0.025129957698483512, 'reg_alpha': 4.10012844469519e-06, 'reg_lambda': 5.632145863671019e-05}. Best is trial 65 with value: 0.7606060606060606.\u001b[0m\n",
      "\u001b[32m[I 2023-06-22 21:33:09,710]\u001b[0m Trial 170 finished with value: 0.6696969696969697 and parameters: {'n_estimators': 449, 'max_depth': 8, 'learning_rate': 0.7999645517334842, 'min_child_weight': 5, 'gamma': 1.2648959208913395e-08, 'subsample': 0.07336093285339082, 'colsample_bytree': 0.18850468170242493, 'reg_alpha': 2.925957753792631e-05, 'reg_lambda': 0.0009837071498078615}. Best is trial 65 with value: 0.7606060606060606.\u001b[0m\n",
      "\u001b[32m[I 2023-06-22 21:33:10,262]\u001b[0m Trial 171 finished with value: 0.7505050505050506 and parameters: {'n_estimators': 472, 'max_depth': 8, 'learning_rate': 0.900057460485405, 'min_child_weight': 4, 'gamma': 7.438667260052115e-05, 'subsample': 0.04547729923411255, 'colsample_bytree': 0.02237704828021659, 'reg_alpha': 5.026277196350999e-07, 'reg_lambda': 7.551236756584192e-07}. Best is trial 65 with value: 0.7606060606060606.\u001b[0m\n",
      "\u001b[32m[I 2023-06-22 21:33:10,741]\u001b[0m Trial 172 finished with value: 0.7454545454545455 and parameters: {'n_estimators': 466, 'max_depth': 8, 'learning_rate': 0.8823293722435217, 'min_child_weight': 4, 'gamma': 5.8407602285827174e-05, 'subsample': 0.04460208907325616, 'colsample_bytree': 0.027410479271908407, 'reg_alpha': 5.785285839818519e-07, 'reg_lambda': 9.264262355324461e-07}. Best is trial 65 with value: 0.7606060606060606.\u001b[0m\n",
      "\u001b[32m[I 2023-06-22 21:33:11,210]\u001b[0m Trial 173 finished with value: 0.7464646464646464 and parameters: {'n_estimators': 471, 'max_depth': 8, 'learning_rate': 0.8813846990093624, 'min_child_weight': 4, 'gamma': 6.035999712987838e-05, 'subsample': 0.043646885386475126, 'colsample_bytree': 0.02636511441515348, 'reg_alpha': 2.2399157498549086e-07, 'reg_lambda': 8.992396056918383e-07}. Best is trial 65 with value: 0.7606060606060606.\u001b[0m\n",
      "\u001b[32m[I 2023-06-22 21:33:11,692]\u001b[0m Trial 174 finished with value: 0.5585858585858586 and parameters: {'n_estimators': 459, 'max_depth': 8, 'learning_rate': 0.9148743687972369, 'min_child_weight': 4, 'gamma': 5.606660947751645e-05, 'subsample': 0.03903240101741825, 'colsample_bytree': 0.022549639772324125, 'reg_alpha': 1.8435396864870312e-07, 'reg_lambda': 9.617546565204171e-07}. Best is trial 65 with value: 0.7606060606060606.\u001b[0m\n",
      "\u001b[32m[I 2023-06-22 21:33:12,200]\u001b[0m Trial 175 finished with value: 0.6222222222222222 and parameters: {'n_estimators': 470, 'max_depth': 6, 'learning_rate': 0.9340917653076876, 'min_child_weight': 3, 'gamma': 3.984523831343932e-05, 'subsample': 0.15970319713745176, 'colsample_bytree': 0.01820736726381813, 'reg_alpha': 1.2213328099241647e-07, 'reg_lambda': 3.9122142851541375e-07}. Best is trial 65 with value: 0.7606060606060606.\u001b[0m\n",
      "\u001b[32m[I 2023-06-22 21:33:12,696]\u001b[0m Trial 176 finished with value: 0.7303030303030302 and parameters: {'n_estimators': 481, 'max_depth': 8, 'learning_rate': 0.8785241438264755, 'min_child_weight': 4, 'gamma': 3.916397112696602e-05, 'subsample': 0.05329340437734488, 'colsample_bytree': 0.029110222984990945, 'reg_alpha': 2.4455663371275766e-07, 'reg_lambda': 5.683825521124914e-07}. Best is trial 65 with value: 0.7606060606060606.\u001b[0m\n",
      "\u001b[32m[I 2023-06-22 21:33:13,144]\u001b[0m Trial 177 finished with value: 0.7464646464646464 and parameters: {'n_estimators': 430, 'max_depth': 8, 'learning_rate': 0.9036161863177518, 'min_child_weight': 4, 'gamma': 6.0157949414947695e-05, 'subsample': 0.045315640106442144, 'colsample_bytree': 0.024562410134584926, 'reg_alpha': 4.984609185036384e-07, 'reg_lambda': 8.019740566311061e-07}. Best is trial 65 with value: 0.7606060606060606.\u001b[0m\n",
      "\u001b[32m[I 2023-06-22 21:33:13,593]\u001b[0m Trial 178 finished with value: 0.6323232323232323 and parameters: {'n_estimators': 409, 'max_depth': 8, 'learning_rate': 0.9653760556802408, 'min_child_weight': 4, 'gamma': 7.068998844102795e-05, 'subsample': 0.04704581821258501, 'colsample_bytree': 0.020301333399401034, 'reg_alpha': 5.443902974377521e-07, 'reg_lambda': 2.8218772212254916e-07}. Best is trial 65 with value: 0.7606060606060606.\u001b[0m\n",
      "\u001b[32m[I 2023-06-22 21:33:14,048]\u001b[0m Trial 179 finished with value: 0.5 and parameters: {'n_estimators': 428, 'max_depth': 8, 'learning_rate': 0.9851326986655011, 'min_child_weight': 4, 'gamma': 2.311569900694328e-05, 'subsample': 0.03201040496759437, 'colsample_bytree': 0.0275465366202146, 'reg_alpha': 3.6108347646887176e-07, 'reg_lambda': 0.0002118957747603201}. Best is trial 65 with value: 0.7606060606060606.\u001b[0m\n",
      "\u001b[32m[I 2023-06-22 21:33:14,531]\u001b[0m Trial 180 finished with value: 0.6797979797979797 and parameters: {'n_estimators': 438, 'max_depth': 8, 'learning_rate': 0.9063192174786598, 'min_child_weight': 3, 'gamma': 4.315673893200338e-07, 'subsample': 0.12503216698562938, 'colsample_bytree': 0.029968988639254117, 'reg_alpha': 6.621820652563434e-08, 'reg_lambda': 1.0261077478683687e-06}. Best is trial 65 with value: 0.7606060606060606.\u001b[0m\n",
      "\u001b[32m[I 2023-06-22 21:33:15,015]\u001b[0m Trial 181 finished with value: 0.6272727272727273 and parameters: {'n_estimators': 469, 'max_depth': 8, 'learning_rate': 0.8847133606086163, 'min_child_weight': 4, 'gamma': 8.476525723559587e-05, 'subsample': 0.042817627203255285, 'colsample_bytree': 0.024364794669820316, 'reg_alpha': 9.488642039341566e-07, 'reg_lambda': 7.434782841870452e-07}. Best is trial 65 with value: 0.7606060606060606.\u001b[0m\n",
      "\u001b[32m[I 2023-06-22 21:33:15,487]\u001b[0m Trial 182 finished with value: 0.7191919191919192 and parameters: {'n_estimators': 449, 'max_depth': 8, 'learning_rate': 0.8638690811025314, 'min_child_weight': 4, 'gamma': 5.6469839501104596e-05, 'subsample': 0.04679037639137623, 'colsample_bytree': 0.08371215973670473, 'reg_alpha': 6.820974685933951e-07, 'reg_lambda': 1.219029143298513e-06}. Best is trial 65 with value: 0.7606060606060606.\u001b[0m\n",
      "\u001b[32m[I 2023-06-22 21:33:16,046]\u001b[0m Trial 183 finished with value: 0.6717171717171717 and parameters: {'n_estimators': 479, 'max_depth': 8, 'learning_rate': 0.9498531720148256, 'min_child_weight': 4, 'gamma': 1.0174190960924659e-07, 'subsample': 0.05233064909540243, 'colsample_bytree': 0.21744218950875913, 'reg_alpha': 4.132657566418037e-07, 'reg_lambda': 8.26229970956719e-07}. Best is trial 65 with value: 0.7606060606060606.\u001b[0m\n",
      "\u001b[32m[I 2023-06-22 21:33:16,526]\u001b[0m Trial 184 finished with value: 0.7262626262626263 and parameters: {'n_estimators': 418, 'max_depth': 8, 'learning_rate': 0.8908223795182274, 'min_child_weight': 4, 'gamma': 3.8359614338945136e-05, 'subsample': 0.060208193975775495, 'colsample_bytree': 0.021588565230629204, 'reg_alpha': 2.530219556968663e-07, 'reg_lambda': 4.215441301722748e-07}. Best is trial 65 with value: 0.7606060606060606.\u001b[0m\n",
      "\u001b[32m[I 2023-06-22 21:33:17,039]\u001b[0m Trial 185 finished with value: 0.5 and parameters: {'n_estimators': 457, 'max_depth': 8, 'learning_rate': 0.9155029259614008, 'min_child_weight': 4, 'gamma': 0.00011179151366825602, 'subsample': 0.03985964698628664, 'colsample_bytree': 0.024979762896197074, 'reg_alpha': 1.4746680738316922e-07, 'reg_lambda': 1.6508719868127452e-06}. Best is trial 65 with value: 0.7606060606060606.\u001b[0m\n",
      "\u001b[32m[I 2023-06-22 21:33:17,678]\u001b[0m Trial 186 finished with value: 0.6202020202020202 and parameters: {'n_estimators': 466, 'max_depth': 8, 'learning_rate': 0.5570419951941715, 'min_child_weight': 4, 'gamma': 6.6203344389574e-05, 'subsample': 0.4970750673336193, 'colsample_bytree': 0.02631429799983106, 'reg_alpha': 1.3472974730819668e-06, 'reg_lambda': 0.15223226155230912}. Best is trial 65 with value: 0.7606060606060606.\u001b[0m\n",
      "\u001b[32m[I 2023-06-22 21:33:18,174]\u001b[0m Trial 187 finished with value: 0.5 and parameters: {'n_estimators': 488, 'max_depth': 7, 'learning_rate': 0.8743286580269649, 'min_child_weight': 5, 'gamma': 0.0001846409744028501, 'subsample': 0.03538807099731728, 'colsample_bytree': 0.016336995062100772, 'reg_alpha': 5.002395300496534e-07, 'reg_lambda': 1.4186389328187192e-06}. Best is trial 65 with value: 0.7606060606060606.\u001b[0m\n",
      "\u001b[32m[I 2023-06-22 21:33:18,690]\u001b[0m Trial 188 finished with value: 0.703030303030303 and parameters: {'n_estimators': 476, 'max_depth': 8, 'learning_rate': 0.8407774015333452, 'min_child_weight': 3, 'gamma': 3.0413110877528775e-05, 'subsample': 0.14228755432655657, 'colsample_bytree': 0.03192546808944365, 'reg_alpha': 9.096481074134406e-07, 'reg_lambda': 5.389543706777987e-07}. Best is trial 65 with value: 0.7606060606060606.\u001b[0m\n",
      "\u001b[32m[I 2023-06-22 21:33:19,149]\u001b[0m Trial 189 finished with value: 0.7454545454545455 and parameters: {'n_estimators': 432, 'max_depth': 8, 'learning_rate': 0.935067264565324, 'min_child_weight': 4, 'gamma': 1.1805522662846955e-05, 'subsample': 0.044244838533833944, 'colsample_bytree': 0.034958193363086074, 'reg_alpha': 9.755610584848762e-08, 'reg_lambda': 0.00041242257673621436}. Best is trial 65 with value: 0.7606060606060606.\u001b[0m\n",
      "\u001b[32m[I 2023-06-22 21:33:19,605]\u001b[0m Trial 190 finished with value: 0.6535353535353535 and parameters: {'n_estimators': 435, 'max_depth': 7, 'learning_rate': 0.9351913054912913, 'min_child_weight': 4, 'gamma': 1.3058759622353181e-05, 'subsample': 0.06531940852468116, 'colsample_bytree': 0.038605676640276664, 'reg_alpha': 9.919873067111012e-08, 'reg_lambda': 0.004204512829349146}. Best is trial 65 with value: 0.7606060606060606.\u001b[0m\n",
      "\u001b[32m[I 2023-06-22 21:33:20,070]\u001b[0m Trial 191 finished with value: 0.6232323232323232 and parameters: {'n_estimators': 447, 'max_depth': 8, 'learning_rate': 0.9001112501199563, 'min_child_weight': 4, 'gamma': 1.6727061208686734e-05, 'subsample': 0.042989435289141294, 'colsample_bytree': 0.035230676168836066, 'reg_alpha': 1.9548135281953377e-07, 'reg_lambda': 0.0004384234534461483}. Best is trial 65 with value: 0.7606060606060606.\u001b[0m\n",
      "\u001b[32m[I 2023-06-22 21:33:20,506]\u001b[0m Trial 192 finished with value: 0.7222222222222221 and parameters: {'n_estimators': 398, 'max_depth': 8, 'learning_rate': 0.6469473313413199, 'min_child_weight': 4, 'gamma': 2.6156997415617513e-07, 'subsample': 0.04801959652886924, 'colsample_bytree': 0.028341953310453426, 'reg_alpha': 4.1675162971923865e-08, 'reg_lambda': 7.068801554861564e-05}. Best is trial 65 with value: 0.7606060606060606.\u001b[0m\n",
      "\u001b[32m[I 2023-06-22 21:33:20,972]\u001b[0m Trial 193 finished with value: 0.5 and parameters: {'n_estimators': 431, 'max_depth': 8, 'learning_rate': 0.8610447925124588, 'min_child_weight': 6, 'gamma': 8.842240913281621e-06, 'subsample': 0.0391022852300425, 'colsample_bytree': 0.022155324613530997, 'reg_alpha': 3.3333885632775683e-07, 'reg_lambda': 9.40169319515946e-05}. Best is trial 65 with value: 0.7606060606060606.\u001b[0m\n",
      "\u001b[32m[I 2023-06-22 21:33:21,389]\u001b[0m Trial 194 finished with value: 0.6393939393939394 and parameters: {'n_estimators': 357, 'max_depth': 8, 'learning_rate': 0.8861674174958933, 'min_child_weight': 4, 'gamma': 3.501280648432052e-08, 'subsample': 0.08708995615034255, 'colsample_bytree': 0.02992356805620622, 'reg_alpha': 1.2974349177982332e-07, 'reg_lambda': 0.0015836608444440257}. Best is trial 65 with value: 0.7606060606060606.\u001b[0m\n",
      "\u001b[32m[I 2023-06-22 21:33:21,902]\u001b[0m Trial 195 finished with value: 0.701010101010101 and parameters: {'n_estimators': 500, 'max_depth': 8, 'learning_rate': 0.5126771657818625, 'min_child_weight': 4, 'gamma': 2.4230989554844577e-05, 'subsample': 0.053723947428211606, 'colsample_bytree': 0.04101950981342392, 'reg_alpha': 7.701471805397416e-08, 'reg_lambda': 3.7136831959625186e-05}. Best is trial 65 with value: 0.7606060606060606.\u001b[0m\n",
      "\u001b[32m[I 2023-06-22 21:33:22,373]\u001b[0m Trial 196 finished with value: 0.7454545454545455 and parameters: {'n_estimators': 454, 'max_depth': 8, 'learning_rate': 0.9267133489651014, 'min_child_weight': 4, 'gamma': 4.817954786490295e-05, 'subsample': 0.04371059933648766, 'colsample_bytree': 0.11673072226710113, 'reg_alpha': 6.446451141044303e-07, 'reg_lambda': 0.04649582643378874}. Best is trial 65 with value: 0.7606060606060606.\u001b[0m\n",
      "\u001b[32m[I 2023-06-22 21:33:22,842]\u001b[0m Trial 197 finished with value: 0.6838383838383839 and parameters: {'n_estimators': 454, 'max_depth': 8, 'learning_rate': 0.9253981506944943, 'min_child_weight': 4, 'gamma': 3.689595864360206e-05, 'subsample': 0.057925045956641365, 'colsample_bytree': 0.05339816846690592, 'reg_alpha': 6.096706987441763e-07, 'reg_lambda': 0.036948630431047506}. Best is trial 65 with value: 0.7606060606060606.\u001b[0m\n",
      "\u001b[32m[I 2023-06-22 21:33:23,417]\u001b[0m Trial 198 finished with value: 0.6737373737373737 and parameters: {'n_estimators': 423, 'max_depth': 8, 'learning_rate': 0.96503634500233, 'min_child_weight': 4, 'gamma': 4.180857328027803e-06, 'subsample': 0.6309575483742278, 'colsample_bytree': 0.35658118501087255, 'reg_alpha': 2.651525472382721e-07, 'reg_lambda': 1.5547303852217552e-05}. Best is trial 65 with value: 0.7606060606060606.\u001b[0m\n",
      "\u001b[32m[I 2023-06-22 21:33:23,881]\u001b[0m Trial 199 finished with value: 0.6909090909090908 and parameters: {'n_estimators': 444, 'max_depth': 8, 'learning_rate': 0.9511188185198297, 'min_child_weight': 3, 'gamma': 4.837557471751779e-05, 'subsample': 0.11049238774442904, 'colsample_bytree': 0.10807465938969693, 'reg_alpha': 8.074237593317632e-07, 'reg_lambda': 0.08169519846896951}. Best is trial 65 with value: 0.7606060606060606.\u001b[0m\n",
      "\u001b[32m[I 2023-06-22 21:33:24,370]\u001b[0m Trial 200 finished with value: 0.7323232323232323 and parameters: {'n_estimators': 463, 'max_depth': 6, 'learning_rate': 0.9076477182208649, 'min_child_weight': 4, 'gamma': 4.8072777700745065e-08, 'subsample': 0.04626340847433796, 'colsample_bytree': 0.1174968562009042, 'reg_alpha': 4.833867319948763e-07, 'reg_lambda': 2.0195715355979414e-05}. Best is trial 65 with value: 0.7606060606060606.\u001b[0m\n",
      "\u001b[32m[I 2023-06-22 21:33:24,860]\u001b[0m Trial 201 finished with value: 0.5646464646464646 and parameters: {'n_estimators': 481, 'max_depth': 8, 'learning_rate': 0.9307139071594902, 'min_child_weight': 4, 'gamma': 8.85565427624726e-05, 'subsample': 0.042338558400209524, 'colsample_bytree': 0.15804959811221062, 'reg_alpha': 1.3487651195164998e-06, 'reg_lambda': 7.486466345224083e-07}. Best is trial 65 with value: 0.7606060606060606.\u001b[0m\n",
      "\u001b[32m[I 2023-06-22 21:33:25,342]\u001b[0m Trial 202 finished with value: 0.7272727272727273 and parameters: {'n_estimators': 469, 'max_depth': 8, 'learning_rate': 0.8491599473546957, 'min_child_weight': 4, 'gamma': 5.969752081496973e-05, 'subsample': 0.050324524927653616, 'colsample_bytree': 0.04862560236610161, 'reg_alpha': 8.600105320627878e-05, 'reg_lambda': 2.366581871218402e-06}. Best is trial 65 with value: 0.7606060606060606.\u001b[0m\n",
      "\u001b[32m[I 2023-06-22 21:33:25,838]\u001b[0m Trial 203 finished with value: 0.7303030303030302 and parameters: {'n_estimators': 489, 'max_depth': 5, 'learning_rate': 0.6035040661950665, 'min_child_weight': 4, 'gamma': 2.322197496613337e-08, 'subsample': 0.037936567191293236, 'colsample_bytree': 0.05907137962119053, 'reg_alpha': 3.493346438537359e-07, 'reg_lambda': 0.6412632720399825}. Best is trial 65 with value: 0.7606060606060606.\u001b[0m\n",
      "\u001b[32m[I 2023-06-22 21:33:26,384]\u001b[0m Trial 204 finished with value: 0.7141414141414141 and parameters: {'n_estimators': 457, 'max_depth': 8, 'learning_rate': 0.6237535446325058, 'min_child_weight': 4, 'gamma': 2.1127424409412748e-05, 'subsample': 0.09805072114908979, 'colsample_bytree': 0.2546164747716951, 'reg_alpha': 1.599612414719146e-06, 'reg_lambda': 0.0001359543860497133}. Best is trial 65 with value: 0.7606060606060606.\u001b[0m\n",
      "\u001b[32m[I 2023-06-22 21:33:26,887]\u001b[0m Trial 205 finished with value: 0.7464646464646464 and parameters: {'n_estimators': 473, 'max_depth': 8, 'learning_rate': 0.8932339166416512, 'min_child_weight': 4, 'gamma': 0.00012390242923922214, 'subsample': 0.04379794529424224, 'colsample_bytree': 0.033541253124229786, 'reg_alpha': 1.873023426424271e-07, 'reg_lambda': 0.011066591476739076}. Best is trial 65 with value: 0.7606060606060606.\u001b[0m\n",
      "\u001b[32m[I 2023-06-22 21:33:27,367]\u001b[0m Trial 206 finished with value: 0.5 and parameters: {'n_estimators': 464, 'max_depth': 8, 'learning_rate': 0.9011100100619045, 'min_child_weight': 4, 'gamma': 1.1458700056426075e-05, 'subsample': 0.034921205415510984, 'colsample_bytree': 0.03415508732634544, 'reg_alpha': 1.7052926974140744e-07, 'reg_lambda': 1.1747078278992352e-05}. Best is trial 65 with value: 0.7606060606060606.\u001b[0m\n",
      "\u001b[32m[I 2023-06-22 21:33:27,881]\u001b[0m Trial 207 finished with value: 0.5 and parameters: {'n_estimators': 476, 'max_depth': 8, 'learning_rate': 0.8818479996224107, 'min_child_weight': 5, 'gamma': 6.807533100901351e-06, 'subsample': 0.045333209596123594, 'colsample_bytree': 0.03755679911216173, 'reg_alpha': 1.0053844125609208e-07, 'reg_lambda': 0.04168881650683625}. Best is trial 65 with value: 0.7606060606060606.\u001b[0m\n",
      "\u001b[32m[I 2023-06-22 21:33:28,353]\u001b[0m Trial 208 finished with value: 0.6737373737373737 and parameters: {'n_estimators': 446, 'max_depth': 3, 'learning_rate': 0.9146153872264953, 'min_child_weight': 4, 'gamma': 1.1917690404908838e-07, 'subsample': 0.07096785145444069, 'colsample_bytree': 0.13481783447194182, 'reg_alpha': 2.2944563345630898e-07, 'reg_lambda': 2.9699182087619063e-05}. Best is trial 65 with value: 0.7606060606060606.\u001b[0m\n",
      "\u001b[32m[I 2023-06-22 21:33:28,863]\u001b[0m Trial 209 finished with value: 0.6565656565656565 and parameters: {'n_estimators': 455, 'max_depth': 8, 'learning_rate': 0.9419660374395984, 'min_child_weight': 3, 'gamma': 2.1399934389051275e-06, 'subsample': 0.08202286240001044, 'colsample_bytree': 0.06354264584667779, 'reg_alpha': 4.840088200216174e-07, 'reg_lambda': 0.07521933962401439}. Best is trial 65 with value: 0.7606060606060606.\u001b[0m\n",
      "\u001b[32m[I 2023-06-22 21:33:29,433]\u001b[0m Trial 210 finished with value: 0.6838383838383838 and parameters: {'n_estimators': 435, 'max_depth': 8, 'learning_rate': 0.6703430921371142, 'min_child_weight': 4, 'gamma': 6.229281915311189e-07, 'subsample': 0.39236759882795585, 'colsample_bytree': 0.04491207453725455, 'reg_alpha': 8.256379007140191e-07, 'reg_lambda': 0.00021914748030297344}. Best is trial 65 with value: 0.7606060606060606.\u001b[0m\n",
      "\u001b[32m[I 2023-06-22 21:33:29,920]\u001b[0m Trial 211 finished with value: 0.6232323232323232 and parameters: {'n_estimators': 484, 'max_depth': 8, 'learning_rate': 0.8638042031984695, 'min_child_weight': 4, 'gamma': 0.00014198752356219153, 'subsample': 0.04246702634217709, 'colsample_bytree': 0.023947171157496575, 'reg_alpha': 3.456296865938664e-07, 'reg_lambda': 1.0106248989085229e-06}. Best is trial 65 with value: 0.7606060606060606.\u001b[0m\n",
      "\u001b[32m[I 2023-06-22 21:33:30,400]\u001b[0m Trial 212 finished with value: 0.7040404040404041 and parameters: {'n_estimators': 472, 'max_depth': 8, 'learning_rate': 0.8182427018762818, 'min_child_weight': 4, 'gamma': 0.00010035133202835094, 'subsample': 0.047015345710591926, 'colsample_bytree': 0.010074604956909827, 'reg_alpha': 6.292345600871895e-07, 'reg_lambda': 0.011879634959012099}. Best is trial 65 with value: 0.7606060606060606.\u001b[0m\n",
      "\u001b[32m[I 2023-06-22 21:33:30,897]\u001b[0m Trial 213 finished with value: 0.5 and parameters: {'n_estimators': 492, 'max_depth': 8, 'learning_rate': 0.8895880911331625, 'min_child_weight': 4, 'gamma': 0.0002990681860828072, 'subsample': 0.040158367988699616, 'colsample_bytree': 0.4610069941588244, 'reg_alpha': 4.9280579671058614e-08, 'reg_lambda': 0.0003961319058546102}. Best is trial 65 with value: 0.7606060606060606.\u001b[0m\n",
      "\u001b[32m[I 2023-06-22 21:33:31,144]\u001b[0m Trial 214 finished with value: 0.5797979797979799 and parameters: {'n_estimators': 111, 'max_depth': 8, 'learning_rate': 0.8464070769880031, 'min_child_weight': 4, 'gamma': 7.991918072989868e-05, 'subsample': 0.05136322227167998, 'colsample_bytree': 0.013073748802293773, 'reg_alpha': 1.8394269959137716e-07, 'reg_lambda': 1.5580427186761929e-06}. Best is trial 65 with value: 0.7606060606060606.\u001b[0m\n",
      "\u001b[32m[I 2023-06-22 21:33:31,654]\u001b[0m Trial 215 finished with value: 0.7464646464646464 and parameters: {'n_estimators': 474, 'max_depth': 8, 'learning_rate': 0.8327208164360873, 'min_child_weight': 4, 'gamma': 4.736990698436607e-05, 'subsample': 0.04389373482765088, 'colsample_bytree': 0.011257945886842376, 'reg_alpha': 9.815060243698797e-07, 'reg_lambda': 6.701107859860807e-07}. Best is trial 65 with value: 0.7606060606060606.\u001b[0m\n",
      "\u001b[32m[I 2023-06-22 21:33:32,190]\u001b[0m Trial 216 finished with value: 0.7383838383838384 and parameters: {'n_estimators': 463, 'max_depth': 8, 'learning_rate': 0.9980502063538239, 'min_child_weight': 4, 'gamma': 4.7925539519932385e-05, 'subsample': 0.23319785463666529, 'colsample_bytree': 0.01240511222908037, 'reg_alpha': 1.1029032741875658e-06, 'reg_lambda': 0.019021092055325605}. Best is trial 65 with value: 0.7606060606060606.\u001b[0m\n",
      "\u001b[32m[I 2023-06-22 21:33:32,601]\u001b[0m Trial 217 finished with value: 0.6868686868686869 and parameters: {'n_estimators': 264, 'max_depth': 8, 'learning_rate': 0.9649997568182753, 'min_child_weight': 4, 'gamma': 4.364665854467874e-05, 'subsample': 0.3300043132194271, 'colsample_bytree': 0.012130695467554145, 'reg_alpha': 9.950542191295192e-07, 'reg_lambda': 0.03311929073899215}. Best is trial 65 with value: 0.7606060606060606.\u001b[0m\n",
      "\u001b[32m[I 2023-06-22 21:33:33,131]\u001b[0m Trial 218 finished with value: 0.7050505050505051 and parameters: {'n_estimators': 463, 'max_depth': 8, 'learning_rate': 0.8401476022601292, 'min_child_weight': 4, 'gamma': 3.0041374243310667e-05, 'subsample': 0.1765050190628901, 'colsample_bytree': 0.015098798278058862, 'reg_alpha': 0.000295468509498929, 'reg_lambda': 4.540161348412128e-05}. Best is trial 65 with value: 0.7606060606060606.\u001b[0m\n",
      "\u001b[32m[I 2023-06-22 21:33:33,659]\u001b[0m Trial 219 finished with value: 0.7353535353535354 and parameters: {'n_estimators': 471, 'max_depth': 8, 'learning_rate': 0.8224790193794568, 'min_child_weight': 4, 'gamma': 5.209616345308557e-05, 'subsample': 0.20945423537523936, 'colsample_bytree': 0.015416582958829817, 'reg_alpha': 1.1711730707476292e-06, 'reg_lambda': 0.016666318098009697}. Best is trial 65 with value: 0.7606060606060606.\u001b[0m\n",
      "\u001b[32m[I 2023-06-22 21:33:34,151]\u001b[0m Trial 220 finished with value: 0.6919191919191918 and parameters: {'n_estimators': 451, 'max_depth': 2, 'learning_rate': 0.9933415763577172, 'min_child_weight': 4, 'gamma': 2.92117005824104e-05, 'subsample': 0.13167306418044383, 'colsample_bytree': 0.010903266254108984, 'reg_alpha': 8.060216756829529e-07, 'reg_lambda': 0.02618933112306726}. Best is trial 65 with value: 0.7606060606060606.\u001b[0m\n",
      "\u001b[32m[I 2023-06-22 21:33:34,694]\u001b[0m Trial 221 finished with value: 0.706060606060606 and parameters: {'n_estimators': 478, 'max_depth': 8, 'learning_rate': 0.9815670142527441, 'min_child_weight': 4, 'gamma': 6.892968144003736e-05, 'subsample': 0.24490065427983337, 'colsample_bytree': 0.013135374019903816, 'reg_alpha': 5.3412979470119e-07, 'reg_lambda': 0.004805964914174055}. Best is trial 65 with value: 0.7606060606060606.\u001b[0m\n",
      "\u001b[32m[I 2023-06-22 21:33:35,177]\u001b[0m Trial 222 finished with value: 0.7323232323232323 and parameters: {'n_estimators': 463, 'max_depth': 8, 'learning_rate': 0.9189642140769081, 'min_child_weight': 4, 'gamma': 1.8912347641396008e-05, 'subsample': 0.04519540759745853, 'colsample_bytree': 0.01199649548075067, 'reg_alpha': 2.777526986827397e-07, 'reg_lambda': 0.05904353153447245}. Best is trial 65 with value: 0.7606060606060606.\u001b[0m\n",
      "\u001b[32m[I 2023-06-22 21:33:35,728]\u001b[0m Trial 223 finished with value: 0.6414141414141414 and parameters: {'n_estimators': 471, 'max_depth': 8, 'learning_rate': 0.9451687733670755, 'min_child_weight': 3, 'gamma': 4.1547115460554875e-05, 'subsample': 0.2641481529362034, 'colsample_bytree': 0.01056839964883502, 'reg_alpha': 1.1860292023144706e-07, 'reg_lambda': 6.663858647514908e-07}. Best is trial 65 with value: 0.7606060606060606.\u001b[0m\n",
      "\u001b[32m[I 2023-06-22 21:33:36,231]\u001b[0m Trial 224 finished with value: 0.6797979797979797 and parameters: {'n_estimators': 483, 'max_depth': 8, 'learning_rate': 0.8722196725268274, 'min_child_weight': 10, 'gamma': 3.2320601129609852e-06, 'subsample': 0.15351150548969225, 'colsample_bytree': 0.014123820550368616, 'reg_alpha': 1.5511407462789011e-06, 'reg_lambda': 0.12000473861993556}. Best is trial 65 with value: 0.7606060606060606.\u001b[0m\n",
      "\u001b[32m[I 2023-06-22 21:33:36,713]\u001b[0m Trial 225 finished with value: 0.6303030303030303 and parameters: {'n_estimators': 458, 'max_depth': 8, 'learning_rate': 0.8908330187667969, 'min_child_weight': 4, 'gamma': 3.393915646358813e-07, 'subsample': 0.037611530767874136, 'colsample_bytree': 0.031110837357472696, 'reg_alpha': 4.0948867141600815e-07, 'reg_lambda': 0.018254317026832178}. Best is trial 65 with value: 0.7606060606060606.\u001b[0m\n",
      "\u001b[32m[I 2023-06-22 21:33:37,200]\u001b[0m Trial 226 finished with value: 0.6464646464646464 and parameters: {'n_estimators': 441, 'max_depth': 7, 'learning_rate': 0.9931753520012864, 'min_child_weight': 4, 'gamma': 1.395936279505695e-08, 'subsample': 0.18487332774987697, 'colsample_bytree': 0.02811680495333814, 'reg_alpha': 7.783832133799107e-07, 'reg_lambda': 0.025191737759123936}. Best is trial 65 with value: 0.7606060606060606.\u001b[0m\n",
      "\u001b[32m[I 2023-06-22 21:33:37,692]\u001b[0m Trial 227 finished with value: 0.7242424242424242 and parameters: {'n_estimators': 477, 'max_depth': 8, 'learning_rate': 0.9065452752729506, 'min_child_weight': 4, 'gamma': 1.065550150753374e-08, 'subsample': 0.05031893434190673, 'colsample_bytree': 0.032965987537064395, 'reg_alpha': 5.848266590661388e-07, 'reg_lambda': 0.005698142549956203}. Best is trial 65 with value: 0.7606060606060606.\u001b[0m\n",
      "\u001b[32m[I 2023-06-22 21:33:38,223]\u001b[0m Trial 228 finished with value: 0.607070707070707 and parameters: {'n_estimators': 489, 'max_depth': 8, 'learning_rate': 0.7976632103283623, 'min_child_weight': 5, 'gamma': 1.5254799216097321e-05, 'subsample': 0.05641130799786281, 'colsample_bytree': 0.01833788822556434, 'reg_alpha': 0.004346528888156845, 'reg_lambda': 0.0020435138085672187}. Best is trial 65 with value: 0.7606060606060606.\u001b[0m\n",
      "\u001b[32m[I 2023-06-22 21:33:38,677]\u001b[0m Trial 229 finished with value: 0.6606060606060606 and parameters: {'n_estimators': 406, 'max_depth': 8, 'learning_rate': 0.6958349509790298, 'min_child_weight': 3, 'gamma': 8.131676006242288e-08, 'subsample': 0.04067901976549882, 'colsample_bytree': 0.035202574644095305, 'reg_alpha': 1.0400438330193918e-08, 'reg_lambda': 4.4707095087857523e-07}. Best is trial 65 with value: 0.7606060606060606.\u001b[0m\n",
      "\u001b[32m[I 2023-06-22 21:33:39,157]\u001b[0m Trial 230 finished with value: 0.7333333333333334 and parameters: {'n_estimators': 467, 'max_depth': 6, 'learning_rate': 0.5807700471636225, 'min_child_weight': 4, 'gamma': 6.637193097219248e-05, 'subsample': 0.04425728126461399, 'colsample_bytree': 0.011341028941036776, 'reg_alpha': 2.228608349185084e-07, 'reg_lambda': 1.040500628841431e-06}. Best is trial 65 with value: 0.7606060606060606.\u001b[0m\n",
      "\u001b[32m[I 2023-06-22 21:33:39,673]\u001b[0m Trial 231 finished with value: 0.6838383838383839 and parameters: {'n_estimators': 472, 'max_depth': 8, 'learning_rate': 0.8138680705335106, 'min_child_weight': 4, 'gamma': 4.8222236519229854e-05, 'subsample': 0.16645772609634651, 'colsample_bytree': 0.01517380927363618, 'reg_alpha': 1.3464306714927448e-06, 'reg_lambda': 0.018517684734116933}. Best is trial 65 with value: 0.7606060606060606.\u001b[0m\n",
      "\u001b[32m[I 2023-06-22 21:33:40,213]\u001b[0m Trial 232 finished with value: 0.5777777777777777 and parameters: {'n_estimators': 472, 'max_depth': 8, 'learning_rate': 0.8249438916985902, 'min_child_weight': 4, 'gamma': 4.851142449093998e-05, 'subsample': 0.21131859525744, 'colsample_bytree': 0.08882613823914877, 'reg_alpha': 1.111041183225912e-06, 'reg_lambda': 0.009917437609044776}. Best is trial 65 with value: 0.7606060606060606.\u001b[0m\n",
      "\u001b[32m[I 2023-06-22 21:33:40,753]\u001b[0m Trial 233 finished with value: 0.7222222222222222 and parameters: {'n_estimators': 455, 'max_depth': 8, 'learning_rate': 0.8703394386558618, 'min_child_weight': 4, 'gamma': 8.850800779185175e-05, 'subsample': 0.23709683060957668, 'colsample_bytree': 0.026971358600329953, 'reg_alpha': 1.9489135163093114e-06, 'reg_lambda': 0.003661931006436192}. Best is trial 65 with value: 0.7606060606060606.\u001b[0m\n",
      "\u001b[32m[I 2023-06-22 21:33:41,287]\u001b[0m Trial 234 finished with value: 0.6666666666666666 and parameters: {'n_estimators': 464, 'max_depth': 8, 'learning_rate': 0.6595709112251893, 'min_child_weight': 4, 'gamma': 1.7081541975824123e-07, 'subsample': 0.18137714445592207, 'colsample_bytree': 0.013633538388957284, 'reg_alpha': 1.132935169888099e-06, 'reg_lambda': 0.006748813294391926}. Best is trial 65 with value: 0.7606060606060606.\u001b[0m\n",
      "\u001b[32m[I 2023-06-22 21:33:41,833]\u001b[0m Trial 235 finished with value: 0.6616161616161615 and parameters: {'n_estimators': 479, 'max_depth': 8, 'learning_rate': 0.8342224605079367, 'min_child_weight': 4, 'gamma': 2.720855333472777e-05, 'subsample': 0.2247071589391661, 'colsample_bytree': 0.01577967507280022, 'reg_alpha': 7.222953435811686e-07, 'reg_lambda': 0.013501929408457531}. Best is trial 65 with value: 0.7606060606060606.\u001b[0m\n",
      "\u001b[32m[I 2023-06-22 21:33:42,235]\u001b[0m Trial 236 finished with value: 0.6696969696969699 and parameters: {'n_estimators': 310, 'max_depth': 8, 'learning_rate': 0.6378848678827933, 'min_child_weight': 4, 'gamma': 0.000183614704037379, 'subsample': 0.12529063133867596, 'colsample_bytree': 0.8261123203587556, 'reg_alpha': 1.1369829939250912e-05, 'reg_lambda': 0.009365832286491954}. Best is trial 65 with value: 0.7606060606060606.\u001b[0m\n",
      "\u001b[32m[I 2023-06-22 21:33:42,804]\u001b[0m Trial 237 finished with value: 0.6545454545454545 and parameters: {'n_estimators': 484, 'max_depth': 8, 'learning_rate': 0.7926821970513747, 'min_child_weight': 2, 'gamma': 5.817389102292558e-05, 'subsample': 0.200543019775377, 'colsample_bytree': 0.012863265189441007, 'reg_alpha': 3.199955701585714e-06, 'reg_lambda': 0.003261124247371924}. Best is trial 65 with value: 0.7606060606060606.\u001b[0m\n",
      "\u001b[32m[I 2023-06-22 21:33:43,077]\u001b[0m Trial 238 finished with value: 0.604040404040404 and parameters: {'n_estimators': 88, 'max_depth': 8, 'learning_rate': 0.9261750382991938, 'min_child_weight': 4, 'gamma': 0.00011691011460698246, 'subsample': 0.14617594904554856, 'colsample_bytree': 0.011365064040282074, 'reg_alpha': 4.221331789429928e-07, 'reg_lambda': 0.0009882541390219264}. Best is trial 65 with value: 0.7606060606060606.\u001b[0m\n",
      "\u001b[32m[I 2023-06-22 21:33:43,677]\u001b[0m Trial 239 finished with value: 0.6818181818181819 and parameters: {'n_estimators': 446, 'max_depth': 7, 'learning_rate': 0.5297745322351382, 'min_child_weight': 4, 'gamma': 3.3864683149547714e-05, 'subsample': 0.31430021479156717, 'colsample_bytree': 0.04148093606972987, 'reg_alpha': 4.443677492167303e-05, 'reg_lambda': 0.0006105043036083073}. Best is trial 65 with value: 0.7606060606060606.\u001b[0m\n",
      "\u001b[32m[I 2023-06-22 21:33:44,198]\u001b[0m Trial 240 finished with value: 0.6292929292929292 and parameters: {'n_estimators': 492, 'max_depth': 8, 'learning_rate': 0.8543658402256519, 'min_child_weight': 4, 'gamma': 1.119633986565553e-06, 'subsample': 0.07545386215503594, 'colsample_bytree': 0.0308208735989848, 'reg_alpha': 2.4279761289195043e-05, 'reg_lambda': 0.053367560847888955}. Best is trial 65 with value: 0.7606060606060606.\u001b[0m\n",
      "\u001b[32m[I 2023-06-22 21:33:44,487]\u001b[0m Trial 241 finished with value: 0.5 and parameters: {'n_estimators': 132, 'max_depth': 8, 'learning_rate': 0.8792813634775338, 'min_child_weight': 4, 'gamma': 0.00013220470815476638, 'subsample': 0.04171730364978348, 'colsample_bytree': 0.02511724726373456, 'reg_alpha': 2.1630625771696994e-06, 'reg_lambda': 1.3855701346347877e-06}. Best is trial 65 with value: 0.7606060606060606.\u001b[0m\n",
      "\u001b[32m[I 2023-06-22 21:33:45,173]\u001b[0m Trial 242 finished with value: 0.6636363636363636 and parameters: {'n_estimators': 494, 'max_depth': 8, 'learning_rate': 0.8571534725633679, 'min_child_weight': 4, 'gamma': 5.4320654309072366e-08, 'subsample': 0.2816767919808503, 'colsample_bytree': 0.023002359960861467, 'reg_alpha': 0.2304572207329258, 'reg_lambda': 0.01760263292147982}. Best is trial 65 with value: 0.7606060606060606.\u001b[0m\n",
      "\u001b[32m[I 2023-06-22 21:33:45,690]\u001b[0m Trial 243 finished with value: 0.7141414141414142 and parameters: {'n_estimators': 499, 'max_depth': 8, 'learning_rate': 0.9001551229081566, 'min_child_weight': 4, 'gamma': 6.849457948787549e-05, 'subsample': 0.048495829993260256, 'colsample_bytree': 0.06838300490091435, 'reg_alpha': 1.6722017665194835e-05, 'reg_lambda': 1.9001132949410229e-06}. Best is trial 65 with value: 0.7606060606060606.\u001b[0m\n",
      "\u001b[32m[I 2023-06-22 21:33:46,227]\u001b[0m Trial 244 finished with value: 0.605050505050505 and parameters: {'n_estimators': 484, 'max_depth': 8, 'learning_rate': 0.8235913318069924, 'min_child_weight': 4, 'gamma': 0.00010849876171455763, 'subsample': 0.2197978420672638, 'colsample_bytree': 0.17154195096365052, 'reg_alpha': 1.7587951049450595e-06, 'reg_lambda': 8.423944775936068e-07}. Best is trial 65 with value: 0.7606060606060606.\u001b[0m\n",
      "\u001b[32m[I 2023-06-22 21:33:46,697]\u001b[0m Trial 245 finished with value: 0.7464646464646464 and parameters: {'n_estimators': 468, 'max_depth': 8, 'learning_rate': 0.8738179193368126, 'min_child_weight': 4, 'gamma': 5.384099218824356e-05, 'subsample': 0.04453718396631309, 'colsample_bytree': 0.020224137688954192, 'reg_alpha': 9.489622652926924e-07, 'reg_lambda': 6.874399385104152e-07}. Best is trial 65 with value: 0.7606060606060606.\u001b[0m\n",
      "\u001b[32m[I 2023-06-22 21:33:47,210]\u001b[0m Trial 246 finished with value: 0.6616161616161615 and parameters: {'n_estimators': 469, 'max_depth': 8, 'learning_rate': 0.8890842141931622, 'min_child_weight': 4, 'gamma': 4.865806454080492e-05, 'subsample': 0.26119124206818384, 'colsample_bytree': 0.018033748057883655, 'reg_alpha': 1.027874473865434e-06, 'reg_lambda': 6.018123330988033e-07}. Best is trial 65 with value: 0.7606060606060606.\u001b[0m\n",
      "\u001b[32m[I 2023-06-22 21:33:47,674]\u001b[0m Trial 247 finished with value: 0.7101010101010101 and parameters: {'n_estimators': 465, 'max_depth': 8, 'learning_rate': 0.6127805263611571, 'min_child_weight': 3, 'gamma': 2.2050666170915358e-05, 'subsample': 0.04494916292524688, 'colsample_bytree': 0.07614993519904427, 'reg_alpha': 5.246839271253367e-07, 'reg_lambda': 3.661238124782746e-07}. Best is trial 65 with value: 0.7606060606060606.\u001b[0m\n",
      "\u001b[32m[I 2023-06-22 21:33:48,155]\u001b[0m Trial 248 finished with value: 0.6858585858585858 and parameters: {'n_estimators': 456, 'max_depth': 8, 'learning_rate': 0.9164283310456888, 'min_child_weight': 4, 'gamma': 5.4829567504909495e-06, 'subsample': 0.11601803886121546, 'colsample_bytree': 0.020729957268754935, 'reg_alpha': 8.094256479214874e-07, 'reg_lambda': 2.0591517300120295e-05}. Best is trial 65 with value: 0.7606060606060606.\u001b[0m\n",
      "\u001b[32m[I 2023-06-22 21:33:48,643]\u001b[0m Trial 249 finished with value: 0.6595959595959595 and parameters: {'n_estimators': 475, 'max_depth': 8, 'learning_rate': 0.94385894638228, 'min_child_weight': 4, 'gamma': 1.3660070560984163e-07, 'subsample': 0.19184517020414193, 'colsample_bytree': 0.22744433495133612, 'reg_alpha': 8.017003010184968e-08, 'reg_lambda': 2.7321451621189625e-05}. Best is trial 65 with value: 0.7606060606060606.\u001b[0m\n",
      "\u001b[32m[I 2023-06-22 21:33:49,216]\u001b[0m Trial 250 finished with value: 0.6606060606060608 and parameters: {'n_estimators': 461, 'max_depth': 7, 'learning_rate': 0.7402348499895617, 'min_child_weight': 4, 'gamma': 0.6492281835454784, 'subsample': 0.3778455584216399, 'colsample_bytree': 0.019782483589465848, 'reg_alpha': 1.6390100686242603e-07, 'reg_lambda': 8.158495799567581e-07}. Best is trial 65 with value: 0.7606060606060606.\u001b[0m\n",
      "\u001b[32m[I 2023-06-22 21:33:49,754]\u001b[0m Trial 251 finished with value: 0.705050505050505 and parameters: {'n_estimators': 475, 'max_depth': 8, 'learning_rate': 0.7742294576561314, 'min_child_weight': 4, 'gamma': 2.263856606881183e-07, 'subsample': 0.0937823570936511, 'colsample_bytree': 0.05330913065522518, 'reg_alpha': 2.948730368815164e-07, 'reg_lambda': 2.174027996216307e-07}. Best is trial 65 with value: 0.7606060606060606.\u001b[0m\n",
      "\u001b[32m[I 2023-06-22 21:33:50,250]\u001b[0m Trial 252 finished with value: 0.6646464646464647 and parameters: {'n_estimators': 426, 'max_depth': 8, 'learning_rate': 0.8403344026406403, 'min_child_weight': 3, 'gamma': 3.503603068491663e-05, 'subsample': 0.049515452084273444, 'colsample_bytree': 0.027401383664009172, 'reg_alpha': 6.455546708224199e-07, 'reg_lambda': 5.447449793170409e-07}. Best is trial 65 with value: 0.7606060606060606.\u001b[0m\n",
      "\u001b[32m[I 2023-06-22 21:33:50,779]\u001b[0m Trial 253 finished with value: 0.5585858585858586 and parameters: {'n_estimators': 453, 'max_depth': 8, 'learning_rate': 0.8728390408628611, 'min_child_weight': 4, 'gamma': 1.1019949455559005e-05, 'subsample': 0.038961095437044305, 'colsample_bytree': 0.10166610614165579, 'reg_alpha': 1.1494827313626393e-06, 'reg_lambda': 0.00030188920713631945}. Best is trial 65 with value: 0.7606060606060606.\u001b[0m\n",
      "\u001b[32m[I 2023-06-22 21:33:51,294]\u001b[0m Trial 254 finished with value: 0.7191919191919192 and parameters: {'n_estimators': 483, 'max_depth': 8, 'learning_rate': 0.3993058437859083, 'min_child_weight': 5, 'gamma': 7.982886753522989e-05, 'subsample': 0.10307844621600021, 'colsample_bytree': 0.016518918128335065, 'reg_alpha': 3.9400504747659293e-07, 'reg_lambda': 1.4600347093976286e-05}. Best is trial 65 with value: 0.7606060606060606.\u001b[0m\n",
      "\u001b[32m[I 2023-06-22 21:33:51,759]\u001b[0m Trial 255 finished with value: 0.6828282828282828 and parameters: {'n_estimators': 465, 'max_depth': 6, 'learning_rate': 0.9705054475102289, 'min_child_weight': 4, 'gamma': 5.508447534212527e-05, 'subsample': 0.06501176896622499, 'colsample_bytree': 0.014101914462128147, 'reg_alpha': 1.3582460038231403e-07, 'reg_lambda': 0.024000797426437695}. Best is trial 65 with value: 0.7606060606060606.\u001b[0m\n",
      "\u001b[32m[I 2023-06-22 21:33:52,234]\u001b[0m Trial 256 finished with value: 0.7343434343434343 and parameters: {'n_estimators': 414, 'max_depth': 8, 'learning_rate': 0.6877742251858473, 'min_child_weight': 3, 'gamma': 2.0989069155533555e-08, 'subsample': 0.053388528840951514, 'colsample_bytree': 0.029480707483892088, 'reg_alpha': 1.457530974746798e-06, 'reg_lambda': 0.03484809657377751}. Best is trial 65 with value: 0.7606060606060606.\u001b[0m\n",
      "\u001b[32m[I 2023-06-22 21:33:52,825]\u001b[0m Trial 257 finished with value: 0.7191919191919192 and parameters: {'n_estimators': 440, 'max_depth': 8, 'learning_rate': 0.8952055445364293, 'min_child_weight': 4, 'gamma': 7.562421645533045e-07, 'subsample': 0.4206960245555425, 'colsample_bytree': 0.15522598373337804, 'reg_alpha': 7.859016887063603e-05, 'reg_lambda': 1.0093592893874202e-06}. Best is trial 65 with value: 0.7606060606060606.\u001b[0m\n",
      "\u001b[32m[I 2023-06-22 21:33:53,336]\u001b[0m Trial 258 finished with value: 0.698989898989899 and parameters: {'n_estimators': 470, 'max_depth': 8, 'learning_rate': 0.9208458783219201, 'min_child_weight': 4, 'gamma': 2.231479544328478e-06, 'subsample': 0.16486478789798592, 'colsample_bytree': 0.30264658481037243, 'reg_alpha': 8.12400579821449e-07, 'reg_lambda': 9.758032638746844e-06}. Best is trial 65 with value: 0.7606060606060606.\u001b[0m\n",
      "\u001b[32m[I 2023-06-22 21:33:53,812]\u001b[0m Trial 259 finished with value: 0.6989898989898989 and parameters: {'n_estimators': 451, 'max_depth': 7, 'learning_rate': 0.8070580261932045, 'min_child_weight': 4, 'gamma': 3.315089096694158e-08, 'subsample': 0.04563218006290685, 'colsample_bytree': 0.037852730604831936, 'reg_alpha': 5.3737882426397e-07, 'reg_lambda': 0.00010383866958532701}. Best is trial 65 with value: 0.7606060606060606.\u001b[0m\n",
      "\u001b[32m[I 2023-06-22 21:33:54,272]\u001b[0m Trial 260 finished with value: 0.5 and parameters: {'n_estimators': 481, 'max_depth': 5, 'learning_rate': 0.861024717639749, 'min_child_weight': 7, 'gamma': 2.2982853949452876e-05, 'subsample': 0.04120293419352151, 'colsample_bytree': 0.02237616954378352, 'reg_alpha': 7.792849259608024e-06, 'reg_lambda': 2.2233020186513305e-06}. Best is trial 65 with value: 0.7606060606060606.\u001b[0m\n",
      "\u001b[32m[I 2023-06-22 21:33:54,740]\u001b[0m Trial 261 finished with value: 0.7272727272727273 and parameters: {'n_estimators': 460, 'max_depth': 8, 'learning_rate': 0.8245148639563058, 'min_child_weight': 4, 'gamma': 7.79266928093973e-06, 'subsample': 0.036945299788993684, 'colsample_bytree': 0.026283860148706737, 'reg_alpha': 3.5863231794748596e-06, 'reg_lambda': 6.386448893384771e-05}. Best is trial 65 with value: 0.7606060606060606.\u001b[0m\n",
      "\u001b[32m[I 2023-06-22 21:33:55,349]\u001b[0m Trial 262 finished with value: 0.6323232323232322 and parameters: {'n_estimators': 473, 'max_depth': 8, 'learning_rate': 0.7154650086313743, 'min_child_weight': 4, 'gamma': 4.2029230071357983e-07, 'subsample': 0.48202127421565044, 'colsample_bytree': 0.03372372505214247, 'reg_alpha': 2.992749302792658e-07, 'reg_lambda': 0.051224435226173266}. Best is trial 65 with value: 0.7606060606060606.\u001b[0m\n",
      "\u001b[32m[I 2023-06-22 21:33:55,817]\u001b[0m Trial 263 finished with value: 0.6565656565656565 and parameters: {'n_estimators': 379, 'max_depth': 8, 'learning_rate': 0.8815340181992484, 'min_child_weight': 5, 'gamma': 0.000828022327915736, 'subsample': 0.32294182142731104, 'colsample_bytree': 0.11441454504297119, 'reg_alpha': 2.107891168215378e-07, 'reg_lambda': 0.007809385210842895}. Best is trial 65 with value: 0.7606060606060606.\u001b[0m\n",
      "\u001b[32m[I 2023-06-22 21:33:56,296]\u001b[0m Trial 264 finished with value: 0.6717171717171717 and parameters: {'n_estimators': 483, 'max_depth': 8, 'learning_rate': 0.5685635034312628, 'min_child_weight': 4, 'gamma': 4.6689385893514544e-05, 'subsample': 0.05783935144773138, 'colsample_bytree': 0.4041395825937723, 'reg_alpha': 1.1284006123203113e-07, 'reg_lambda': 0.11753509535628696}. Best is trial 65 with value: 0.7606060606060606.\u001b[0m\n",
      "\u001b[32m[I 2023-06-22 21:33:56,887]\u001b[0m Trial 265 finished with value: 0.6848484848484849 and parameters: {'n_estimators': 490, 'max_depth': 8, 'learning_rate': 0.9037759787126012, 'min_child_weight': 3, 'gamma': 4.175646192523851e-06, 'subsample': 0.048360044163802386, 'colsample_bytree': 0.20213036758069888, 'reg_alpha': 1.055417186260293e-06, 'reg_lambda': 1.1169839199367721e-06}. Best is trial 65 with value: 0.7606060606060606.\u001b[0m\n",
      "\u001b[32m[I 2023-06-22 21:33:57,758]\u001b[0m Trial 266 finished with value: 0.6424242424242425 and parameters: {'n_estimators': 448, 'max_depth': 8, 'learning_rate': 0.6324378040401418, 'min_child_weight': 4, 'gamma': 3.14566900760024e-05, 'subsample': 0.8372442264832771, 'colsample_bytree': 0.27729563220186637, 'reg_alpha': 0.00014978782315578114, 'reg_lambda': 0.016761710619600512}. Best is trial 65 with value: 0.7606060606060606.\u001b[0m\n",
      "\u001b[32m[I 2023-06-22 21:33:58,388]\u001b[0m Trial 267 finished with value: 0.5 and parameters: {'n_estimators': 469, 'max_depth': 7, 'learning_rate': 0.9982698397471242, 'min_child_weight': 9, 'gamma': 1.6840767246047414e-05, 'subsample': 0.03441518603230874, 'colsample_bytree': 0.4964173475288077, 'reg_alpha': 6.75601600532745e-07, 'reg_lambda': 0.013355846137840108}. Best is trial 65 with value: 0.7606060606060606.\u001b[0m\n",
      "\u001b[32m[I 2023-06-22 21:33:58,945]\u001b[0m Trial 268 finished with value: 0.5 and parameters: {'n_estimators': 459, 'max_depth': 8, 'learning_rate': 0.06271639420388453, 'min_child_weight': 4, 'gamma': 7.931768204068662e-05, 'subsample': 0.042424881934061014, 'colsample_bytree': 0.693344541588963, 'reg_alpha': 5.7560825776722505e-08, 'reg_lambda': 0.0025988386670487322}. Best is trial 65 with value: 0.7606060606060606.\u001b[0m\n",
      "\u001b[32m[I 2023-06-22 21:33:59,684]\u001b[0m Trial 269 finished with value: 0.6848484848484848 and parameters: {'n_estimators': 475, 'max_depth': 8, 'learning_rate': 0.8454090850948344, 'min_child_weight': 4, 'gamma': 1.0298852262851561e-07, 'subsample': 0.1366561573332421, 'colsample_bytree': 0.04502578441108579, 'reg_alpha': 4.070004214126607e-07, 'reg_lambda': 6.160272641368381e-07}. Best is trial 65 with value: 0.7606060606060606.\u001b[0m\n",
      "\u001b[32m[I 2023-06-22 21:34:00,338]\u001b[0m Trial 270 finished with value: 0.702020202020202 and parameters: {'n_estimators': 433, 'max_depth': 8, 'learning_rate': 0.9321750870030424, 'min_child_weight': 3, 'gamma': 0.00021052271030594757, 'subsample': 0.0693541299436796, 'colsample_bytree': 0.023852776166559553, 'reg_alpha': 2.6566068926802087e-06, 'reg_lambda': 1.6044910270489894e-06}. Best is trial 65 with value: 0.7606060606060606.\u001b[0m\n",
      "\u001b[32m[I 2023-06-22 21:34:01,089]\u001b[0m Trial 271 finished with value: 0.6252525252525252 and parameters: {'n_estimators': 489, 'max_depth': 8, 'learning_rate': 0.6558054965735677, 'min_child_weight': 4, 'gamma': 3.895235425274551e-05, 'subsample': 0.571241277115322, 'colsample_bytree': 0.06412000585841598, 'reg_alpha': 3.56296702417019e-08, 'reg_lambda': 0.00015577685830394812}. Best is trial 65 with value: 0.7606060606060606.\u001b[0m\n",
      "\u001b[32m[I 2023-06-22 21:34:01,314]\u001b[0m Trial 272 finished with value: 0.711111111111111 and parameters: {'n_estimators': 50, 'max_depth': 8, 'learning_rate': 0.5990101759071151, 'min_child_weight': 4, 'gamma': 6.184138017857016e-05, 'subsample': 0.08690036029927026, 'colsample_bytree': 0.03966260932600382, 'reg_alpha': 1.6398866249313084e-06, 'reg_lambda': 3.729028606113142e-05}. Best is trial 65 with value: 0.7606060606060606.\u001b[0m\n",
      "\u001b[32m[I 2023-06-22 21:34:01,884]\u001b[0m Trial 273 finished with value: 0.5 and parameters: {'n_estimators': 463, 'max_depth': 7, 'learning_rate': 0.9526155821261737, 'min_child_weight': 6, 'gamma': 3.071543936176329e-06, 'subsample': 0.0529058236257211, 'colsample_bytree': 0.030296458958766103, 'reg_alpha': 5.753510267630619e-06, 'reg_lambda': 6.243996540501204e-06}. Best is trial 65 with value: 0.7606060606060606.\u001b[0m\n",
      "\u001b[32m[I 2023-06-22 21:34:02,414]\u001b[0m Trial 274 finished with value: 0.7000000000000001 and parameters: {'n_estimators': 442, 'max_depth': 8, 'learning_rate': 0.7833997031257349, 'min_child_weight': 4, 'gamma': 1.3146215476776522e-05, 'subsample': 0.0624947462318059, 'colsample_bytree': 0.026146429011691168, 'reg_alpha': 8.020935470415626e-08, 'reg_lambda': 3.643338397145503e-07}. Best is trial 65 with value: 0.7606060606060606.\u001b[0m\n",
      "\u001b[32m[I 2023-06-22 21:34:02,718]\u001b[0m Trial 275 finished with value: 0.5 and parameters: {'n_estimators': 180, 'max_depth': 8, 'learning_rate': 0.8678383809801421, 'min_child_weight': 8, 'gamma': 9.378659813963705e-05, 'subsample': 0.04463537424340695, 'colsample_bytree': 0.07198133953591186, 'reg_alpha': 3.57370009400896e-05, 'reg_lambda': 7.134261643325781e-07}. Best is trial 65 with value: 0.7606060606060606.\u001b[0m\n",
      "\u001b[32m[I 2023-06-22 21:34:03,222]\u001b[0m Trial 276 finished with value: 0.68989898989899 and parameters: {'n_estimators': 478, 'max_depth': 4, 'learning_rate': 0.7603217496077751, 'min_child_weight': 5, 'gamma': 2.7784592537929437e-07, 'subsample': 0.07610909329672953, 'colsample_bytree': 0.01920647146826171, 'reg_alpha': 2.4880696166785077e-08, 'reg_lambda': 2.5799479668107814e-06}. Best is trial 65 with value: 0.7606060606060606.\u001b[0m\n",
      "\u001b[32m[I 2023-06-22 21:34:03,852]\u001b[0m Trial 277 finished with value: 0.6696969696969699 and parameters: {'n_estimators': 420, 'max_depth': 8, 'learning_rate': 0.4582804213307833, 'min_child_weight': 3, 'gamma': 1.3476801141629064e-06, 'subsample': 0.2880409837404509, 'colsample_bytree': 0.035389629265327, 'reg_alpha': 1.0183381262136322e-06, 'reg_lambda': 1.3869493180933108e-05}. Best is trial 65 with value: 0.7606060606060606.\u001b[0m\n",
      "\u001b[32m[I 2023-06-22 21:34:04,390]\u001b[0m Trial 278 finished with value: 0.5 and parameters: {'n_estimators': 500, 'max_depth': 5, 'learning_rate': 0.9040512913395816, 'min_child_weight': 4, 'gamma': 0.00015083690305250263, 'subsample': 0.03984607233524027, 'colsample_bytree': 0.05649169004799037, 'reg_alpha': 2.571964782448248e-07, 'reg_lambda': 2.4151926656976815e-05}. Best is trial 65 with value: 0.7606060606060606.\u001b[0m\n",
      "\u001b[32m[I 2023-06-22 21:34:04,855]\u001b[0m Trial 279 finished with value: 0.7474747474747474 and parameters: {'n_estimators': 455, 'max_depth': 8, 'learning_rate': 0.7067404194044165, 'min_child_weight': 4, 'gamma': 0.0003619355584806636, 'subsample': 0.048535973780469296, 'colsample_bytree': 0.01734564330598537, 'reg_alpha': 5.382469217064092e-07, 'reg_lambda': 0.2211043895565892}. Best is trial 65 with value: 0.7606060606060606.\u001b[0m\n",
      "\u001b[32m[I 2023-06-22 21:34:05,346]\u001b[0m Trial 280 finished with value: 0.7383838383838384 and parameters: {'n_estimators': 454, 'max_depth': 7, 'learning_rate': 0.6971319676359276, 'min_child_weight': 4, 'gamma': 0.0003635669624500197, 'subsample': 0.04819491709733787, 'colsample_bytree': 0.01726412573556547, 'reg_alpha': 4.726122473941462e-07, 'reg_lambda': 1.1622511693760512e-06}. Best is trial 65 with value: 0.7606060606060606.\u001b[0m\n",
      "\u001b[32m[I 2023-06-22 21:34:05,856]\u001b[0m Trial 281 finished with value: 0.7484848484848485 and parameters: {'n_estimators': 450, 'max_depth': 7, 'learning_rate': 0.7023687130672238, 'min_child_weight': 4, 'gamma': 0.00043395676434276507, 'subsample': 0.04924352267314896, 'colsample_bytree': 0.021362649903043086, 'reg_alpha': 5.995369053563348e-07, 'reg_lambda': 0.10081164098966658}. Best is trial 65 with value: 0.7606060606060606.\u001b[0m\n",
      "\u001b[32m[I 2023-06-22 21:34:06,348]\u001b[0m Trial 282 finished with value: 0.7333333333333334 and parameters: {'n_estimators': 452, 'max_depth': 7, 'learning_rate': 0.698278493485542, 'min_child_weight': 4, 'gamma': 0.00042050166125034516, 'subsample': 0.04882473392527491, 'colsample_bytree': 0.021188510601941254, 'reg_alpha': 5.496594219803777e-07, 'reg_lambda': 0.1609907364192261}. Best is trial 65 with value: 0.7606060606060606.\u001b[0m\n",
      "\u001b[32m[I 2023-06-22 21:34:06,846]\u001b[0m Trial 283 finished with value: 0.6818181818181817 and parameters: {'n_estimators': 448, 'max_depth': 7, 'learning_rate': 0.6770561604780195, 'min_child_weight': 4, 'gamma': 0.000545905319763041, 'subsample': 0.055148838715810104, 'colsample_bytree': 0.017151804587790944, 'reg_alpha': 3.8608757017256746e-07, 'reg_lambda': 0.06884721840059942}. Best is trial 65 with value: 0.7606060606060606.\u001b[0m\n",
      "\u001b[32m[I 2023-06-22 21:34:07,341]\u001b[0m Trial 284 finished with value: 0.7333333333333333 and parameters: {'n_estimators': 455, 'max_depth': 7, 'learning_rate': 0.7154420151841941, 'min_child_weight': 4, 'gamma': 0.0006537634267974058, 'subsample': 0.05019054518218183, 'colsample_bytree': 0.0919411571122144, 'reg_alpha': 7.112211640384784e-07, 'reg_lambda': 0.0007062326556397766}. Best is trial 65 with value: 0.7606060606060606.\u001b[0m\n",
      "\u001b[32m[I 2023-06-22 21:34:07,991]\u001b[0m Trial 285 finished with value: 0.6525252525252525 and parameters: {'n_estimators': 459, 'max_depth': 7, 'learning_rate': 0.70134836537639, 'min_child_weight': 4, 'gamma': 0.0002956162108019228, 'subsample': 0.7102549982818662, 'colsample_bytree': 0.021693760056246222, 'reg_alpha': 5.354824517834566e-07, 'reg_lambda': 0.31715132697545834}. Best is trial 65 with value: 0.7606060606060606.\u001b[0m\n",
      "\u001b[32m[I 2023-06-22 21:34:08,479]\u001b[0m Trial 286 finished with value: 0.7626262626262627 and parameters: {'n_estimators': 445, 'max_depth': 7, 'learning_rate': 0.675010707924471, 'min_child_weight': 4, 'gamma': 0.0002813034805642321, 'subsample': 0.05989392131501998, 'colsample_bytree': 0.01859063276643805, 'reg_alpha': 3.438020296696709e-07, 'reg_lambda': 0.21291632733444288}. Best is trial 286 with value: 0.7626262626262627.\u001b[0m\n",
      "\u001b[32m[I 2023-06-22 21:34:08,978]\u001b[0m Trial 287 finished with value: 0.6484848484848484 and parameters: {'n_estimators': 436, 'max_depth': 7, 'learning_rate': 0.6721622984002978, 'min_child_weight': 5, 'gamma': 0.00020397612014007101, 'subsample': 0.06222650107527629, 'colsample_bytree': 0.023583690894422582, 'reg_alpha': 2.8254721477240527e-07, 'reg_lambda': 0.12773729061986303}. Best is trial 286 with value: 0.7626262626262627.\u001b[0m\n",
      "\u001b[32m[I 2023-06-22 21:34:09,456]\u001b[0m Trial 288 finished with value: 0.7242424242424242 and parameters: {'n_estimators': 441, 'max_depth': 7, 'learning_rate': 0.6509273849865009, 'min_child_weight': 4, 'gamma': 0.0002777547837980393, 'subsample': 0.05892359397182054, 'colsample_bytree': 0.018596326372048298, 'reg_alpha': 7.44098630048408e-07, 'reg_lambda': 0.31295227671473463}. Best is trial 286 with value: 0.7626262626262627.\u001b[0m\n",
      "\u001b[32m[I 2023-06-22 21:34:09,943]\u001b[0m Trial 289 finished with value: 0.6626262626262627 and parameters: {'n_estimators': 444, 'max_depth': 7, 'learning_rate': 0.6683609035803938, 'min_child_weight': 4, 'gamma': 0.00016725668113536581, 'subsample': 0.05370158051401988, 'colsample_bytree': 0.01959954069990688, 'reg_alpha': 3.6212487829184846e-07, 'reg_lambda': 0.1788164669655365}. Best is trial 286 with value: 0.7626262626262627.\u001b[0m\n",
      "\u001b[32m[I 2023-06-22 21:34:10,449]\u001b[0m Trial 290 finished with value: 0.7333333333333334 and parameters: {'n_estimators': 463, 'max_depth': 7, 'learning_rate': 0.7375688605254838, 'min_child_weight': 4, 'gamma': 0.0003686749474806121, 'subsample': 0.043164210998411216, 'colsample_bytree': 0.0249286398604319, 'reg_alpha': 8.022048872893249e-07, 'reg_lambda': 0.23506719999859937}. Best is trial 286 with value: 0.7626262626262627.\u001b[0m\n",
      "\u001b[32m[I 2023-06-22 21:34:10,924]\u001b[0m Trial 291 finished with value: 0.7484848484848485 and parameters: {'n_estimators': 433, 'max_depth': 2, 'learning_rate': 0.6865681789651508, 'min_child_weight': 4, 'gamma': 0.0002420506644496573, 'subsample': 0.06857594799345096, 'colsample_bytree': 0.021287814463766725, 'reg_alpha': 1.8054588884283666e-07, 'reg_lambda': 0.2205406269842639}. Best is trial 286 with value: 0.7626262626262627.\u001b[0m\n",
      "\u001b[32m[I 2023-06-22 21:34:11,422]\u001b[0m Trial 292 finished with value: 0.7737373737373737 and parameters: {'n_estimators': 427, 'max_depth': 2, 'learning_rate': 0.6832540436860263, 'min_child_weight': 4, 'gamma': 0.000253512946225316, 'subsample': 0.059669344770691204, 'colsample_bytree': 0.022937759362079684, 'reg_alpha': 1.5675655042917814e-07, 'reg_lambda': 0.2629595577474852}. Best is trial 292 with value: 0.7737373737373737.\u001b[0m\n",
      "\u001b[32m[I 2023-06-22 21:34:11,913]\u001b[0m Trial 293 finished with value: 0.7111111111111111 and parameters: {'n_estimators': 428, 'max_depth': 2, 'learning_rate': 0.6857977440458074, 'min_child_weight': 4, 'gamma': 0.0004495245772932284, 'subsample': 0.06835991227894675, 'colsample_bytree': 0.02110375291630863, 'reg_alpha': 1.702457215320246e-07, 'reg_lambda': 0.43716491371564076}. Best is trial 292 with value: 0.7737373737373737.\u001b[0m\n",
      "\u001b[32m[I 2023-06-22 21:34:12,409]\u001b[0m Trial 294 finished with value: 0.6848484848484849 and parameters: {'n_estimators': 440, 'max_depth': 2, 'learning_rate': 0.7270526611296849, 'min_child_weight': 4, 'gamma': 0.0007916208452496497, 'subsample': 0.062457761439999995, 'colsample_bytree': 0.022436663688913987, 'reg_alpha': 2.68265006129889e-07, 'reg_lambda': 0.09441667160438356}. Best is trial 292 with value: 0.7737373737373737.\u001b[0m\n",
      "\u001b[32m[I 2023-06-22 21:34:12,913]\u001b[0m Trial 295 finished with value: 0.6484848484848486 and parameters: {'n_estimators': 430, 'max_depth': 2, 'learning_rate': 0.7114209759821137, 'min_child_weight': 5, 'gamma': 0.0002734999779564173, 'subsample': 0.05688130832417946, 'colsample_bytree': 0.01935191852584142, 'reg_alpha': 1.8169302482929594e-07, 'reg_lambda': 0.25143121977255944}. Best is trial 292 with value: 0.7737373737373737.\u001b[0m\n",
      "\u001b[32m[I 2023-06-22 21:34:13,397]\u001b[0m Trial 296 finished with value: 0.6565656565656566 and parameters: {'n_estimators': 431, 'max_depth': 1, 'learning_rate': 0.6625048034155899, 'min_child_weight': 4, 'gamma': 0.0002053570336267654, 'subsample': 0.053330170553634496, 'colsample_bytree': 0.0271722546990578, 'reg_alpha': 6.412801546105674e-05, 'reg_lambda': 0.1703737626990449}. Best is trial 292 with value: 0.7737373737373737.\u001b[0m\n",
      "\u001b[32m[I 2023-06-22 21:34:13,870]\u001b[0m Trial 297 finished with value: 0.6303030303030303 and parameters: {'n_estimators': 446, 'max_depth': 8, 'learning_rate': 0.653263192422162, 'min_child_weight': 4, 'gamma': 0.0015025120983945392, 'subsample': 0.037388581127909826, 'colsample_bytree': 0.02346078906162214, 'reg_alpha': 4.3180274374327087e-07, 'reg_lambda': 0.5328240819227418}. Best is trial 292 with value: 0.7737373737373737.\u001b[0m\n",
      "\u001b[32m[I 2023-06-22 21:34:14,368]\u001b[0m Trial 298 finished with value: 0.7494949494949495 and parameters: {'n_estimators': 451, 'max_depth': 3, 'learning_rate': 0.6787722509347064, 'min_child_weight': 4, 'gamma': 0.00039766417050884494, 'subsample': 0.06726662870288386, 'colsample_bytree': 0.02570077850877215, 'reg_alpha': 2.861362212700934e-07, 'reg_lambda': 0.09474969872909922}. Best is trial 292 with value: 0.7737373737373737.\u001b[0m\n",
      "\u001b[32m[I 2023-06-22 21:34:14,834]\u001b[0m Trial 299 finished with value: 0.5 and parameters: {'n_estimators': 423, 'max_depth': 3, 'learning_rate': 0.6794207640905842, 'min_child_weight': 4, 'gamma': 0.0005324259262599209, 'subsample': 0.017536987730185742, 'colsample_bytree': 0.020864392487507474, 'reg_alpha': 1.0391979383523457e-07, 'reg_lambda': 0.20412768980177065}. Best is trial 292 with value: 0.7737373737373737.\u001b[0m\n",
      "\u001b[32m[I 2023-06-22 21:34:15,155]\u001b[0m Trial 300 finished with value: 0.7474747474747474 and parameters: {'n_estimators': 218, 'max_depth': 2, 'learning_rate': 0.6391755561475724, 'min_child_weight': 4, 'gamma': 0.0002992833245085187, 'subsample': 0.06609087335344492, 'colsample_bytree': 0.02528057215377862, 'reg_alpha': 2.9559410560565183e-07, 'reg_lambda': 0.3664887249406297}. Best is trial 292 with value: 0.7737373737373737.\u001b[0m\n",
      "\u001b[32m[I 2023-06-22 21:34:15,495]\u001b[0m Trial 301 finished with value: 0.7202020202020203 and parameters: {'n_estimators': 235, 'max_depth': 2, 'learning_rate': 0.6866752071985666, 'min_child_weight': 4, 'gamma': 0.00034991082094566446, 'subsample': 0.06808114048984451, 'colsample_bytree': 0.024991563587192317, 'reg_alpha': 2.356654980469456e-07, 'reg_lambda': 0.1042483312834657}. Best is trial 292 with value: 0.7737373737373737.\u001b[0m\n",
      "\u001b[32m[I 2023-06-22 21:34:15,915]\u001b[0m Trial 302 finished with value: 0.6979797979797979 and parameters: {'n_estimators': 327, 'max_depth': 2, 'learning_rate': 0.7113158615282835, 'min_child_weight': 4, 'gamma': 0.00022200859599101177, 'subsample': 0.05938591915027255, 'colsample_bytree': 0.022796969670443968, 'reg_alpha': 1.343419153539748e-07, 'reg_lambda': 0.4460476244123834}. Best is trial 292 with value: 0.7737373737373737.\u001b[0m\n",
      "\u001b[32m[I 2023-06-22 21:34:16,195]\u001b[0m Trial 303 finished with value: 0.6343434343434344 and parameters: {'n_estimators': 138, 'max_depth': 2, 'learning_rate': 0.6385289308387232, 'min_child_weight': 4, 'gamma': 0.00044274207676178626, 'subsample': 0.04459583198177267, 'colsample_bytree': 0.024435661283184185, 'reg_alpha': 2.8393656642691776e-07, 'reg_lambda': 0.34605937029533806}. Best is trial 292 with value: 0.7737373737373737.\u001b[0m\n",
      "\u001b[32m[I 2023-06-22 21:34:16,701]\u001b[0m Trial 304 finished with value: 0.6262626262626263 and parameters: {'n_estimators': 448, 'max_depth': 2, 'learning_rate': 0.7278230830647194, 'min_child_weight': 5, 'gamma': 0.00029857885906543145, 'subsample': 0.04883397939243032, 'colsample_bytree': 0.9794611957201361, 'reg_alpha': 3.4192041693330114e-07, 'reg_lambda': 0.23306487915572016}. Best is trial 292 with value: 0.7737373737373737.\u001b[0m\n",
      "\u001b[32m[I 2023-06-22 21:34:17,181]\u001b[0m Trial 305 finished with value: 0.7505050505050505 and parameters: {'n_estimators': 436, 'max_depth': 2, 'learning_rate': 0.6277916780931402, 'min_child_weight': 4, 'gamma': 0.00016149641935950287, 'subsample': 0.04047363494522663, 'colsample_bytree': 0.02793398191652129, 'reg_alpha': 1.769518197143823e-07, 'reg_lambda': 0.07463197558437205}. Best is trial 292 with value: 0.7737373737373737.\u001b[0m\n",
      "\u001b[32m[I 2023-06-22 21:34:17,648]\u001b[0m Trial 306 finished with value: 0.7454545454545455 and parameters: {'n_estimators': 419, 'max_depth': 2, 'learning_rate': 0.6377995061050994, 'min_child_weight': 4, 'gamma': 0.00017361932560936528, 'subsample': 0.04043840585364996, 'colsample_bytree': 0.027597143767277434, 'reg_alpha': 2.0307040007388306e-07, 'reg_lambda': 0.08742348135793036}. Best is trial 292 with value: 0.7737373737373737.\u001b[0m\n",
      "\u001b[32m[I 2023-06-22 21:34:18,185]\u001b[0m Trial 307 finished with value: 0.7414141414141414 and parameters: {'n_estimators': 436, 'max_depth': 2, 'learning_rate': 0.6730780975250746, 'min_child_weight': 1, 'gamma': 0.0006471770440865502, 'subsample': 0.03338430214453915, 'colsample_bytree': 0.026568279938736578, 'reg_alpha': 1.3989845204468948e-07, 'reg_lambda': 0.15459925966719654}. Best is trial 292 with value: 0.7737373737373737.\u001b[0m\n",
      "\u001b[32m[I 2023-06-22 21:34:18,728]\u001b[0m Trial 308 finished with value: 0.6575757575757577 and parameters: {'n_estimators': 434, 'max_depth': 2, 'learning_rate': 0.622346173964835, 'min_child_weight': 4, 'gamma': 0.00013731011258505066, 'subsample': 0.9889189320536945, 'colsample_bytree': 0.02099207534827465, 'reg_alpha': 7.980474012003912e-08, 'reg_lambda': 0.6463116939371105}. Best is trial 292 with value: 0.7737373737373737.\u001b[0m\n",
      "\u001b[32m[I 2023-06-22 21:34:19,070]\u001b[0m Trial 309 finished with value: 0.6888888888888889 and parameters: {'n_estimators': 210, 'max_depth': 2, 'learning_rate': 0.695734200640399, 'min_child_weight': 4, 'gamma': 0.00021417260624484192, 'subsample': 0.052074023758328425, 'colsample_bytree': 0.028512625209493887, 'reg_alpha': 5.261372928420627e-08, 'reg_lambda': 0.1294231285972675}. Best is trial 292 with value: 0.7737373737373737.\u001b[0m\n",
      "\u001b[32m[I 2023-06-22 21:34:19,386]\u001b[0m Trial 310 finished with value: 0.5505050505050505 and parameters: {'n_estimators': 197, 'max_depth': 3, 'learning_rate': 0.6551585430607266, 'min_child_weight': 4, 'gamma': 0.0001225362641143064, 'subsample': 0.03619938930071887, 'colsample_bytree': 0.02550143706478501, 'reg_alpha': 1.7770932177521582e-07, 'reg_lambda': 0.2058742229387009}. Best is trial 292 with value: 0.7737373737373737.\u001b[0m\n",
      "\u001b[32m[I 2023-06-22 21:34:19,768]\u001b[0m Trial 311 finished with value: 0.7454545454545455 and parameters: {'n_estimators': 295, 'max_depth': 2, 'learning_rate': 0.5490850270232109, 'min_child_weight': 4, 'gamma': 0.0002186503528763393, 'subsample': 0.06597060297370104, 'colsample_bytree': 0.022775200639678105, 'reg_alpha': 3.243488885353206e-07, 'reg_lambda': 0.3163548300957609}. Best is trial 292 with value: 0.7737373737373737.\u001b[0m\n",
      "\u001b[32m[I 2023-06-22 21:34:20,245]\u001b[0m Trial 312 finished with value: 0.7404040404040404 and parameters: {'n_estimators': 414, 'max_depth': 1, 'learning_rate': 0.6078064833070166, 'min_child_weight': 4, 'gamma': 0.0003515978482824742, 'subsample': 0.07417235258119079, 'colsample_bytree': 0.01838395978303235, 'reg_alpha': 1.1886718841790015e-07, 'reg_lambda': 0.9233443959892044}. Best is trial 292 with value: 0.7737373737373737.\u001b[0m\n",
      "\u001b[32m[I 2023-06-22 21:34:20,661]\u001b[0m Trial 313 finished with value: 0.6848484848484848 and parameters: {'n_estimators': 347, 'max_depth': 2, 'learning_rate': 0.6720465782929494, 'min_child_weight': 4, 'gamma': 0.00026799984587273963, 'subsample': 0.056637376847385505, 'colsample_bytree': 0.031793940187640285, 'reg_alpha': 1.9463952537214138e-07, 'reg_lambda': 0.10440832669519085}. Best is trial 292 with value: 0.7737373737373737.\u001b[0m\n",
      "\u001b[32m[I 2023-06-22 21:34:20,914]\u001b[0m Trial 314 finished with value: 0.6595959595959596 and parameters: {'n_estimators': 93, 'max_depth': 2, 'learning_rate': 0.6427967044634092, 'min_child_weight': 4, 'gamma': 0.000937780401443223, 'subsample': 0.04657192654917305, 'colsample_bytree': 0.027749121922189916, 'reg_alpha': 4.03599486553106e-07, 'reg_lambda': 0.06364240102850305}. Best is trial 292 with value: 0.7737373737373737.\u001b[0m\n",
      "\u001b[32m[I 2023-06-22 21:34:21,288]\u001b[0m Trial 315 finished with value: 0.5 and parameters: {'n_estimators': 274, 'max_depth': 1, 'learning_rate': 0.7207367560766518, 'min_child_weight': 4, 'gamma': 0.00013797880649554258, 'subsample': 0.04003161488111477, 'colsample_bytree': 0.025046588438681884, 'reg_alpha': 2.526207969934534e-07, 'reg_lambda': 0.2205517154315005}. Best is trial 292 with value: 0.7737373737373737.\u001b[0m\n",
      "\u001b[32m[I 2023-06-22 21:34:21,679]\u001b[0m Trial 316 finished with value: 0.5 and parameters: {'n_estimators': 151, 'max_depth': 2, 'learning_rate': 0.7524709808925885, 'min_child_weight': 4, 'gamma': 9.452229893207186e-05, 'subsample': 0.030481780447201113, 'colsample_bytree': 0.020207625277768575, 'reg_alpha': 9.648688665882344e-08, 'reg_lambda': 0.06467036008708825}. Best is trial 292 with value: 0.7737373737373737.\u001b[0m\n",
      "\u001b[32m[I 2023-06-22 21:34:22,272]\u001b[0m Trial 317 finished with value: 0.7040404040404041 and parameters: {'n_estimators': 427, 'max_depth': 3, 'learning_rate': 0.6919388922536267, 'min_child_weight': 5, 'gamma': 0.00043121822719519964, 'subsample': 0.06155930975228132, 'colsample_bytree': 0.030002964134869626, 'reg_alpha': 4.955003541299108e-07, 'reg_lambda': 0.35241045732992776}. Best is trial 292 with value: 0.7737373737373737.\u001b[0m\n",
      "\u001b[32m[I 2023-06-22 21:34:22,832]\u001b[0m Trial 318 finished with value: 0.6757575757575757 and parameters: {'n_estimators': 442, 'max_depth': 2, 'learning_rate': 0.6640573499053672, 'min_child_weight': 4, 'gamma': 0.0006698319502301044, 'subsample': 0.050805879297162494, 'colsample_bytree': 0.022723698351551636, 'reg_alpha': 1.3808198786301928e-07, 'reg_lambda': 0.1425602105600162}. Best is trial 292 with value: 0.7737373737373737.\u001b[0m\n",
      "\u001b[32m[I 2023-06-22 21:34:23,163]\u001b[0m Trial 319 finished with value: 0.5 and parameters: {'n_estimators': 217, 'max_depth': 2, 'learning_rate': 0.6249305159045196, 'min_child_weight': 4, 'gamma': 0.00016278670633590488, 'subsample': 0.04284016503048276, 'colsample_bytree': 0.016607582095714044, 'reg_alpha': 2.789419609509148e-07, 'reg_lambda': 0.42306701314945006}. Best is trial 292 with value: 0.7737373737373737.\u001b[0m\n",
      "\u001b[32m[I 2023-06-22 21:34:23,700]\u001b[0m Trial 320 finished with value: 0.7272727272727272 and parameters: {'n_estimators': 479, 'max_depth': 2, 'learning_rate': 0.5895538593713942, 'min_child_weight': 4, 'gamma': 0.0002714586181939356, 'subsample': 0.08013644080281979, 'colsample_bytree': 0.02580200042349431, 'reg_alpha': 0.00025839378417738925, 'reg_lambda': 0.08992464221270595}. Best is trial 292 with value: 0.7737373737373737.\u001b[0m\n",
      "\u001b[32m[I 2023-06-22 21:34:23,960]\u001b[0m Trial 321 finished with value: 0.697979797979798 and parameters: {'n_estimators': 79, 'max_depth': 2, 'learning_rate': 0.6952957352780164, 'min_child_weight': 4, 'gamma': 9.932320011131857e-05, 'subsample': 0.04648766171080311, 'colsample_bytree': 0.019513315215275943, 'reg_alpha': 6.44135603974398e-08, 'reg_lambda': 0.2529719151099401}. Best is trial 292 with value: 0.7737373737373737.\u001b[0m\n",
      "\u001b[32m[I 2023-06-22 21:34:24,453]\u001b[0m Trial 322 finished with value: 0.7272727272727272 and parameters: {'n_estimators': 468, 'max_depth': 4, 'learning_rate': 0.7444414368103512, 'min_child_weight': 5, 'gamma': 0.00622955685277086, 'subsample': 0.05457723977263723, 'colsample_bytree': 0.02873282066237011, 'reg_alpha': 3.074185394465585e-08, 'reg_lambda': 0.7165688751027556}. Best is trial 292 with value: 0.7737373737373737.\u001b[0m\n",
      "\u001b[32m[I 2023-06-22 21:34:24,939]\u001b[0m Trial 323 finished with value: 0.7272727272727273 and parameters: {'n_estimators': 453, 'max_depth': 4, 'learning_rate': 0.6798413734273482, 'min_child_weight': 4, 'gamma': 0.0003786097378344978, 'subsample': 0.03780089852592513, 'colsample_bytree': 0.021978064948661644, 'reg_alpha': 4.826641085687548e-07, 'reg_lambda': 4.6666268191724315e-07}. Best is trial 292 with value: 0.7737373737373737.\u001b[0m\n",
      "\u001b[32m[I 2023-06-22 21:34:25,455]\u001b[0m Trial 324 finished with value: 0.7515151515151516 and parameters: {'n_estimators': 490, 'max_depth': 3, 'learning_rate': 0.6498036813711823, 'min_child_weight': 4, 'gamma': 0.00014062523866421937, 'subsample': 0.042589798155659504, 'colsample_bytree': 0.03305190153547378, 'reg_alpha': 1.8573492778658223e-07, 'reg_lambda': 0.4722961602463998}. Best is trial 292 with value: 0.7737373737373737.\u001b[0m\n",
      "\u001b[32m[I 2023-06-22 21:34:25,970]\u001b[0m Trial 325 finished with value: 0.6060606060606061 and parameters: {'n_estimators': 490, 'max_depth': 3, 'learning_rate': 0.2765612158095134, 'min_child_weight': 4, 'gamma': 0.0001253672965050583, 'subsample': 0.04089067814782692, 'colsample_bytree': 0.010362456328387738, 'reg_alpha': 2.2392128384301495e-07, 'reg_lambda': 0.3616216661689964}. Best is trial 292 with value: 0.7737373737373737.\u001b[0m\n",
      "\u001b[32m[I 2023-06-22 21:34:26,495]\u001b[0m Trial 326 finished with value: 0.697979797979798 and parameters: {'n_estimators': 500, 'max_depth': 3, 'learning_rate': 0.6455604715767042, 'min_child_weight': 4, 'gamma': 0.00016801552940410935, 'subsample': 0.05954258207863529, 'colsample_bytree': 0.03220092114813417, 'reg_alpha': 3.635202645865963e-07, 'reg_lambda': 0.7681152426184394}. Best is trial 292 with value: 0.7737373737373737.\u001b[0m\n",
      "\u001b[32m[I 2023-06-22 21:34:27,030]\u001b[0m Trial 327 finished with value: 0.7616161616161616 and parameters: {'n_estimators': 480, 'max_depth': 3, 'learning_rate': 0.6141464484748766, 'min_child_weight': 2, 'gamma': 7.337673910415299e-05, 'subsample': 0.06960894675130723, 'colsample_bytree': 0.02413863298578317, 'reg_alpha': 3.4087021667478705e-07, 'reg_lambda': 0.16691049620915027}. Best is trial 292 with value: 0.7737373737373737.\u001b[0m\n",
      "\u001b[32m[I 2023-06-22 21:34:27,570]\u001b[0m Trial 328 finished with value: 0.7393939393939394 and parameters: {'n_estimators': 484, 'max_depth': 2, 'learning_rate': 0.63597994644221, 'min_child_weight': 2, 'gamma': 9.139528369738676e-05, 'subsample': 0.0833842501845715, 'colsample_bytree': 0.08296730102112085, 'reg_alpha': 3.18824688797067e-07, 'reg_lambda': 0.1835908940331972}. Best is trial 292 with value: 0.7737373737373737.\u001b[0m\n",
      "\u001b[32m[I 2023-06-22 21:34:28,087]\u001b[0m Trial 329 finished with value: 0.7222222222222222 and parameters: {'n_estimators': 493, 'max_depth': 3, 'learning_rate': 0.6249745349523412, 'min_child_weight': 2, 'gamma': 0.0002264574368587036, 'subsample': 0.0657506391404194, 'colsample_bytree': 0.023438732294403825, 'reg_alpha': 2.251388555845821e-07, 'reg_lambda': 0.2536316678760931}. Best is trial 292 with value: 0.7737373737373737.\u001b[0m\n",
      "\u001b[32m[I 2023-06-22 21:34:28,587]\u001b[0m Trial 330 finished with value: 0.7464646464646464 and parameters: {'n_estimators': 482, 'max_depth': 2, 'learning_rate': 0.608311145296507, 'min_child_weight': 4, 'gamma': 8.109328598553734e-05, 'subsample': 0.07326148382073132, 'colsample_bytree': 0.018144071877278335, 'reg_alpha': 1.639653641979548e-07, 'reg_lambda': 0.49998884840354124}. Best is trial 292 with value: 0.7737373737373737.\u001b[0m\n",
      "\u001b[32m[I 2023-06-22 21:34:29,105]\u001b[0m Trial 331 finished with value: 0.6838383838383838 and parameters: {'n_estimators': 473, 'max_depth': 3, 'learning_rate': 0.65456667679046, 'min_child_weight': 2, 'gamma': 0.0001362082199073977, 'subsample': 0.07010028658753673, 'colsample_bytree': 0.5373127957428178, 'reg_alpha': 1.5507777127650392e-07, 'reg_lambda': 0.11542131423212759}. Best is trial 292 with value: 0.7737373737373737.\u001b[0m\n",
      "\u001b[32m[I 2023-06-22 21:34:29,544]\u001b[0m Trial 332 finished with value: 0.6979797979797979 and parameters: {'n_estimators': 251, 'max_depth': 3, 'learning_rate': 0.6628874012981086, 'min_child_weight': 10, 'gamma': 0.0005139650082941203, 'subsample': 0.44086478075237795, 'colsample_bytree': 0.021579152377215326, 'reg_alpha': 4.069555602157171e-07, 'reg_lambda': 0.5793574080507237}. Best is trial 292 with value: 0.7737373737373737.\u001b[0m\n",
      "\u001b[32m[I 2023-06-22 21:34:30,200]\u001b[0m Trial 333 finished with value: 0.6535353535353535 and parameters: {'n_estimators': 490, 'max_depth': 3, 'learning_rate': 0.6126246774999426, 'min_child_weight': 2, 'gamma': 0.00027051449879299364, 'subsample': 0.805741350633797, 'colsample_bytree': 0.024355527104378556, 'reg_alpha': 6.166593937620793e-07, 'reg_lambda': 0.0799027831685662}. Best is trial 292 with value: 0.7737373737373737.\u001b[0m\n",
      "\u001b[32m[I 2023-06-22 21:34:30,713]\u001b[0m Trial 334 finished with value: 0.5 and parameters: {'n_estimators': 477, 'max_depth': 3, 'learning_rate': 0.5713908268807295, 'min_child_weight': 4, 'gamma': 0.00010859145351364064, 'subsample': 0.032995523919116136, 'colsample_bytree': 0.015512175426623353, 'reg_alpha': 2.3318587444659481e-07, 'reg_lambda': 0.2246679201192336}. Best is trial 292 with value: 0.7737373737373737.\u001b[0m\n",
      "\u001b[32m[I 2023-06-22 21:34:31,246]\u001b[0m Trial 335 finished with value: 0.7080808080808081 and parameters: {'n_estimators': 487, 'max_depth': 3, 'learning_rate': 0.6837682526377261, 'min_child_weight': 1, 'gamma': 7.357304762087699e-05, 'subsample': 0.0636349895622321, 'colsample_bytree': 0.019764862737106606, 'reg_alpha': 0.00011811369728684414, 'reg_lambda': 0.1474614679673639}. Best is trial 292 with value: 0.7737373737373737.\u001b[0m\n",
      "\u001b[32m[I 2023-06-22 21:34:31,757]\u001b[0m Trial 336 finished with value: 0.5 and parameters: {'n_estimators': 468, 'max_depth': 6, 'learning_rate': 0.7080014091968678, 'min_child_weight': 5, 'gamma': 0.00017786792055390013, 'subsample': 0.011197723082012691, 'colsample_bytree': 0.3594106657247664, 'reg_alpha': 3.2712359675737314e-07, 'reg_lambda': 0.39242835908011636}. Best is trial 292 with value: 0.7737373737373737.\u001b[0m\n",
      "\u001b[32m[I 2023-06-22 21:34:32,258]\u001b[0m Trial 337 finished with value: 0.7676767676767676 and parameters: {'n_estimators': 460, 'max_depth': 2, 'learning_rate': 0.5943703091704265, 'min_child_weight': 4, 'gamma': 6.620079692265502e-05, 'subsample': 0.04685511817577677, 'colsample_bytree': 0.026049834391874485, 'reg_alpha': 0.0007532323804164538, 'reg_lambda': 2.7748518378441003e-07}. Best is trial 292 with value: 0.7737373737373737.\u001b[0m\n",
      "\u001b[32m[I 2023-06-22 21:34:32,770]\u001b[0m Trial 338 finished with value: 0.6686868686868687 and parameters: {'n_estimators': 454, 'max_depth': 2, 'learning_rate': 0.5857451050912011, 'min_child_weight': 1, 'gamma': 0.00013187224128500155, 'subsample': 0.051438798710756364, 'colsample_bytree': 0.7201293003388304, 'reg_alpha': 0.0008565965406684954, 'reg_lambda': 2.1033779628994993e-07}. Best is trial 292 with value: 0.7737373737373737.\u001b[0m\n",
      "\u001b[32m[I 2023-06-22 21:34:33,217]\u001b[0m Trial 339 finished with value: 0.6656565656565656 and parameters: {'n_estimators': 368, 'max_depth': 2, 'learning_rate': 0.5949153846705806, 'min_child_weight': 4, 'gamma': 0.00036009843445466776, 'subsample': 0.05538268270079917, 'colsample_bytree': 0.026471592042640907, 'reg_alpha': 5.7512077766220486e-05, 'reg_lambda': 0.039133852969637804}. Best is trial 292 with value: 0.7737373737373737.\u001b[0m\n",
      "\u001b[32m[I 2023-06-22 21:34:33,481]\u001b[0m Trial 340 finished with value: 0.6434343434343435 and parameters: {'n_estimators': 118, 'max_depth': 2, 'learning_rate': 0.626601795765452, 'min_child_weight': 6, 'gamma': 7.26524316086987e-05, 'subsample': 0.07722256753423862, 'colsample_bytree': 0.02950556486094596, 'reg_alpha': 1.782609681271469e-08, 'reg_lambda': 2.9769673515390354e-07}. Best is trial 292 with value: 0.7737373737373737.\u001b[0m\n",
      "\u001b[32m[I 2023-06-22 21:34:34,059]\u001b[0m Trial 341 finished with value: 0.6323232323232322 and parameters: {'n_estimators': 478, 'max_depth': 2, 'learning_rate': 0.6555435967252198, 'min_child_weight': 8, 'gamma': 0.00019648173484410048, 'subsample': 0.6181251602372159, 'colsample_bytree': 0.024749489989744248, 'reg_alpha': 3.152037901153734e-05, 'reg_lambda': 0.16635090306370798}. Best is trial 292 with value: 0.7737373737373737.\u001b[0m\n",
      "\u001b[32m[I 2023-06-22 21:34:34,546]\u001b[0m Trial 342 finished with value: 0.7464646464646464 and parameters: {'n_estimators': 460, 'max_depth': 2, 'learning_rate': 0.5107058491021075, 'min_child_weight': 4, 'gamma': 0.0005655904738739694, 'subsample': 0.059096820474375554, 'colsample_bytree': 0.03191432001151753, 'reg_alpha': 0.00045752054408613796, 'reg_lambda': 1.6126355274499263e-07}. Best is trial 292 with value: 0.7737373737373737.\u001b[0m\n",
      "\u001b[32m[I 2023-06-22 21:34:35,104]\u001b[0m Trial 343 finished with value: 0.7242424242424242 and parameters: {'n_estimators': 488, 'max_depth': 3, 'learning_rate': 0.642542763657418, 'min_child_weight': 4, 'gamma': 0.00010623604602848009, 'subsample': 0.048290806772295386, 'colsample_bytree': 0.028010608154533597, 'reg_alpha': 0.004626112830520308, 'reg_lambda': 0.0977782214161604}. Best is trial 292 with value: 0.7737373737373737.\u001b[0m\n",
      "\u001b[32m[I 2023-06-22 21:34:35,634]\u001b[0m Trial 344 finished with value: 0.7161616161616162 and parameters: {'n_estimators': 496, 'max_depth': 2, 'learning_rate': 0.6122333411039926, 'min_child_weight': 4, 'gamma': 3.1820419765856254e-05, 'subsample': 0.068384242828444, 'colsample_bytree': 0.10587515415199807, 'reg_alpha': 0.0013598594956405468, 'reg_lambda': 1.1647204790892352e-07}. Best is trial 292 with value: 0.7737373737373737.\u001b[0m\n",
      "\u001b[32m[I 2023-06-22 21:34:35,917]\u001b[0m Trial 345 finished with value: 0.5 and parameters: {'n_estimators': 156, 'max_depth': 4, 'learning_rate': 0.6743888040251853, 'min_child_weight': 4, 'gamma': 0.00025027567947660313, 'subsample': 0.03608713617798048, 'colsample_bytree': 0.02327204154498039, 'reg_alpha': 0.0005435940885880257, 'reg_lambda': 3.5895324596884996e-08}. Best is trial 292 with value: 0.7737373737373737.\u001b[0m\n",
      "\u001b[32m[I 2023-06-22 21:34:36,394]\u001b[0m Trial 346 finished with value: 0.5 and parameters: {'n_estimators': 443, 'max_depth': 1, 'learning_rate': 0.5416938347747012, 'min_child_weight': 9, 'gamma': 7.361699395505195e-05, 'subsample': 0.05045296463255226, 'colsample_bytree': 0.013965449336752847, 'reg_alpha': 1.4873605442458223e-07, 'reg_lambda': 0.06015391342483913}. Best is trial 292 with value: 0.7737373737373737.\u001b[0m\n",
      "\u001b[32m[I 2023-06-22 21:34:36,903]\u001b[0m Trial 347 finished with value: 0.6828282828282828 and parameters: {'n_estimators': 461, 'max_depth': 2, 'learning_rate': 0.711285575152086, 'min_child_weight': 3, 'gamma': 0.00016154775673759956, 'subsample': 0.04014957105553337, 'colsample_bytree': 0.23064730809287617, 'reg_alpha': 7.912177817640449e-05, 'reg_lambda': 3.823221961791214e-06}. Best is trial 292 with value: 0.7737373737373737.\u001b[0m\n",
      "\u001b[32m[I 2023-06-22 21:34:37,385]\u001b[0m Trial 348 finished with value: 0.5 and parameters: {'n_estimators': 474, 'max_depth': 2, 'learning_rate': 0.5599150103139149, 'min_child_weight': 4, 'gamma': 0.0003242459031074309, 'subsample': 0.028202413309189142, 'colsample_bytree': 0.09478902862755526, 'reg_alpha': 2.2478367914817792e-07, 'reg_lambda': 4.633661079393267e-07}. Best is trial 292 with value: 0.7737373737373737.\u001b[0m\n",
      "\u001b[32m[I 2023-06-22 21:34:37,620]\u001b[0m Trial 349 finished with value: 0.6888888888888889 and parameters: {'n_estimators': 63, 'max_depth': 3, 'learning_rate': 0.6227871292856022, 'min_child_weight': 4, 'gamma': 2.26256617312805e-05, 'subsample': 0.05580759904061486, 'colsample_bytree': 0.026346941893899745, 'reg_alpha': 4.818066958182623e-07, 'reg_lambda': 0.2988212485915219}. Best is trial 292 with value: 0.7737373737373737.\u001b[0m\n",
      "\u001b[32m[I 2023-06-22 21:34:38,112]\u001b[0m Trial 350 finished with value: 0.7373737373737372 and parameters: {'n_estimators': 483, 'max_depth': 2, 'learning_rate': 0.7335499936996427, 'min_child_weight': 4, 'gamma': 0.00010168148621678049, 'subsample': 0.04793491722198618, 'colsample_bytree': 0.029795809395791104, 'reg_alpha': 0.0012633231878872977, 'reg_lambda': 0.9214268323742093}. Best is trial 292 with value: 0.7737373737373737.\u001b[0m\n",
      "\u001b[32m[I 2023-06-22 21:34:38,588]\u001b[0m Trial 351 finished with value: 0.7212121212121212 and parameters: {'n_estimators': 451, 'max_depth': 7, 'learning_rate': 0.5848449509987509, 'min_child_weight': 4, 'gamma': 3.7026420568585594e-05, 'subsample': 0.06237126512247735, 'colsample_bytree': 0.0328978121244566, 'reg_alpha': 1.0254074274572718e-07, 'reg_lambda': 0.4627549918608274}. Best is trial 292 with value: 0.7737373737373737.\u001b[0m\n",
      "\u001b[32m[I 2023-06-22 21:34:38,834]\u001b[0m Trial 352 finished with value: 0.7262626262626263 and parameters: {'n_estimators': 104, 'max_depth': 1, 'learning_rate': 0.6883623219413183, 'min_child_weight': 5, 'gamma': 6.340811084941544e-05, 'subsample': 0.09109867799954902, 'colsample_bytree': 0.021870771663869387, 'reg_alpha': 0.0003134953627203071, 'reg_lambda': 0.17887429090583046}. Best is trial 292 with value: 0.7737373737373737.\u001b[0m\n",
      "\u001b[32m[I 2023-06-22 21:34:39,440]\u001b[0m Trial 353 finished with value: 0.6313131313131313 and parameters: {'n_estimators': 469, 'max_depth': 7, 'learning_rate': 0.6441201141501521, 'min_child_weight': 4, 'gamma': 0.000961984160451717, 'subsample': 0.5001381639083559, 'colsample_bytree': 0.011401521065366004, 'reg_alpha': 0.0017813669393896838, 'reg_lambda': 5.69997986481221e-06}. Best is trial 292 with value: 0.7737373737373737.\u001b[0m\n",
      "\u001b[32m[I 2023-06-22 21:34:39,966]\u001b[0m Trial 354 finished with value: 0.5 and parameters: {'n_estimators': 500, 'max_depth': 2, 'learning_rate': 0.6604397236320169, 'min_child_weight': 4, 'gamma': 0.0004342250172056882, 'subsample': 0.042156390082427775, 'colsample_bytree': 0.02455995604303643, 'reg_alpha': 3.364143761555677e-07, 'reg_lambda': 0.0441441850038751}. Best is trial 292 with value: 0.7737373737373737.\u001b[0m\n",
      "\u001b[32m[I 2023-06-22 21:34:40,433]\u001b[0m Trial 355 finished with value: 0.6303030303030303 and parameters: {'n_estimators': 459, 'max_depth': 4, 'learning_rate': 0.7043361099833043, 'min_child_weight': 4, 'gamma': 0.00024292836630014243, 'subsample': 0.03716825873883242, 'colsample_bytree': 0.017296964420591428, 'reg_alpha': 0.013856550878893242, 'reg_lambda': 0.11656311414544122}. Best is trial 292 with value: 0.7737373737373737.\u001b[0m\n",
      "\u001b[32m[I 2023-06-22 21:34:40,996]\u001b[0m Trial 356 finished with value: 0.6121212121212122 and parameters: {'n_estimators': 480, 'max_depth': 2, 'learning_rate': 0.794606815810389, 'min_child_weight': 4, 'gamma': 0.00015705404798107723, 'subsample': 0.8780268556285443, 'colsample_bytree': 0.1226267390336954, 'reg_alpha': 0.0002238286185571753, 'reg_lambda': 2.696618307882126e-06}. Best is trial 292 with value: 0.7737373737373737.\u001b[0m\n",
      "\u001b[32m[I 2023-06-22 21:34:41,480]\u001b[0m Trial 357 finished with value: 0.7070707070707071 and parameters: {'n_estimators': 438, 'max_depth': 5, 'learning_rate': 0.7256830224757915, 'min_child_weight': 4, 'gamma': 4.408830138484772e-05, 'subsample': 0.0723171590092946, 'colsample_bytree': 0.01007675646969599, 'reg_alpha': 5.923931808115073e-07, 'reg_lambda': 3.1699782530977783e-07}. Best is trial 292 with value: 0.7737373737373737.\u001b[0m\n",
      "\u001b[32m[I 2023-06-22 21:34:41,983]\u001b[0m Trial 358 finished with value: 0.6999999999999998 and parameters: {'n_estimators': 471, 'max_depth': 3, 'learning_rate': 0.5989462809793266, 'min_child_weight': 3, 'gamma': 0.00011176825963804528, 'subsample': 0.04599622741407155, 'colsample_bytree': 0.028354011123519023, 'reg_alpha': 1.7771729659160504e-07, 'reg_lambda': 1.6999786911656984e-06}. Best is trial 292 with value: 0.7737373737373737.\u001b[0m\n",
      "\u001b[32m[I 2023-06-22 21:34:42,530]\u001b[0m Trial 359 finished with value: 0.6484848484848486 and parameters: {'n_estimators': 489, 'max_depth': 6, 'learning_rate': 0.6790997517826762, 'min_child_weight': 5, 'gamma': 5.797032684585602e-06, 'subsample': 0.05477181825757901, 'colsample_bytree': 0.02583081201032567, 'reg_alpha': 0.0001237770902639017, 'reg_lambda': 0.23112893760166245}. Best is trial 292 with value: 0.7737373737373737.\u001b[0m\n",
      "\u001b[32m[I 2023-06-22 21:34:43,182]\u001b[0m Trial 360 finished with value: 0.6252525252525252 and parameters: {'n_estimators': 448, 'max_depth': 7, 'learning_rate': 0.475390744988385, 'min_child_weight': 2, 'gamma': 6.69912587238965e-05, 'subsample': 0.7312035222909695, 'colsample_bytree': 0.036267337191051574, 'reg_alpha': 3.382394404271618e-07, 'reg_lambda': 0.0016411537144704893}. Best is trial 292 with value: 0.7737373737373737.\u001b[0m\n",
      "\u001b[32m[I 2023-06-22 21:34:43,705]\u001b[0m Trial 361 finished with value: 0.7191919191919192 and parameters: {'n_estimators': 462, 'max_depth': 3, 'learning_rate': 0.7625947889618504, 'min_child_weight': 4, 'gamma': 1.9412585842980088e-05, 'subsample': 0.08064606938047494, 'colsample_bytree': 0.03006816980026286, 'reg_alpha': 2.436283154543876e-07, 'reg_lambda': 0.0001939571880497571}. Best is trial 292 with value: 0.7737373737373737.\u001b[0m\n",
      "\u001b[32m[I 2023-06-22 21:34:44,252]\u001b[0m Trial 362 finished with value: 0.7141414141414141 and parameters: {'n_estimators': 476, 'max_depth': 2, 'learning_rate': 0.6354481434989484, 'min_child_weight': 4, 'gamma': 2.9337479357299728e-05, 'subsample': 0.11033526772337664, 'colsample_bytree': 0.059433400259806916, 'reg_alpha': 0.0001463631399501018, 'reg_lambda': 7.599403656121777e-06}. Best is trial 292 with value: 0.7737373737373737.\u001b[0m\n",
      "\u001b[32m[I 2023-06-22 21:34:44,574]\u001b[0m Trial 363 finished with value: 0.5 and parameters: {'n_estimators': 179, 'max_depth': 7, 'learning_rate': 0.8422307446126694, 'min_child_weight': 4, 'gamma': 0.0011905170410834232, 'subsample': 0.04044529073895387, 'colsample_bytree': 0.021320058105947188, 'reg_alpha': 0.0003797061880795928, 'reg_lambda': 1.2352830353248571e-08}. Best is trial 292 with value: 0.7737373737373737.\u001b[0m\n",
      "\u001b[32m[I 2023-06-22 21:34:45,110]\u001b[0m Trial 364 finished with value: 0.7373737373737372 and parameters: {'n_estimators': 492, 'max_depth': 7, 'learning_rate': 0.6640901561416579, 'min_child_weight': 4, 'gamma': 0.00018554827906863106, 'subsample': 0.06654654142436313, 'colsample_bytree': 0.023727281890793428, 'reg_alpha': 0.00019523533207782396, 'reg_lambda': 8.64586031805248e-07}. Best is trial 292 with value: 0.7737373737373737.\u001b[0m\n",
      "\u001b[32m[I 2023-06-22 21:34:45,631]\u001b[0m Trial 365 finished with value: 0.7646464646464646 and parameters: {'n_estimators': 455, 'max_depth': 2, 'learning_rate': 0.7014648624246648, 'min_child_weight': 4, 'gamma': 0.0006177257422968475, 'subsample': 0.05000442119997407, 'colsample_bytree': 0.4280316894165508, 'reg_alpha': 1.157655192247355e-05, 'reg_lambda': 0.08286812934954144}. Best is trial 292 with value: 0.7737373737373737.\u001b[0m\n",
      "\u001b[32m[I 2023-06-22 21:34:46,147]\u001b[0m Trial 366 finished with value: 0.7303030303030302 and parameters: {'n_estimators': 445, 'max_depth': 2, 'learning_rate': 0.704645565970738, 'min_child_weight': 4, 'gamma': 0.0006425976235616206, 'subsample': 0.05964584996769451, 'colsample_bytree': 0.6661974172406587, 'reg_alpha': 4.421356455724263e-06, 'reg_lambda': 0.0639791128118954}. Best is trial 292 with value: 0.7737373737373737.\u001b[0m\n",
      "\u001b[32m[I 2023-06-22 21:34:46,743]\u001b[0m Trial 367 finished with value: 0.6888888888888889 and parameters: {'n_estimators': 433, 'max_depth': 2, 'learning_rate': 0.7303954589757492, 'min_child_weight': 3, 'gamma': 0.000541867003297378, 'subsample': 0.3418962748461659, 'colsample_bytree': 0.026768386830688082, 'reg_alpha': 6.3351167343842544e-06, 'reg_lambda': 0.10137967827693298}. Best is trial 292 with value: 0.7737373737373737.\u001b[0m\n",
      "\u001b[32m[I 2023-06-22 21:34:47,256]\u001b[0m Trial 368 finished with value: 0.7111111111111111 and parameters: {'n_estimators': 453, 'max_depth': 2, 'learning_rate': 0.6764384232088656, 'min_child_weight': 4, 'gamma': 0.0003406092119843373, 'subsample': 0.05183086287309486, 'colsample_bytree': 0.5777146317463802, 'reg_alpha': 4.843446261530986e-07, 'reg_lambda': 0.030607988335389667}. Best is trial 292 with value: 0.7737373737373737.\u001b[0m\n",
      "\u001b[32m[I 2023-06-22 21:34:47,746]\u001b[0m Trial 369 finished with value: 0.6757575757575758 and parameters: {'n_estimators': 421, 'max_depth': 2, 'learning_rate': 0.6943470544087914, 'min_child_weight': 4, 'gamma': 8.730787844867664e-06, 'subsample': 0.050430694591309465, 'colsample_bytree': 0.19203455370603134, 'reg_alpha': 1.1787042012273928e-07, 'reg_lambda': 0.2989491271047276}. Best is trial 292 with value: 0.7737373737373737.\u001b[0m\n",
      "\u001b[32m[I 2023-06-22 21:34:48,241]\u001b[0m Trial 370 finished with value: 0.6747474747474747 and parameters: {'n_estimators': 459, 'max_depth': 2, 'learning_rate': 0.7177617192527852, 'min_child_weight': 4, 'gamma': 0.0007372056068218042, 'subsample': 0.05921022929924263, 'colsample_bytree': 0.033515638586789215, 'reg_alpha': 0.0005482080204906461, 'reg_lambda': 0.13833713853325452}. Best is trial 292 with value: 0.7737373737373737.\u001b[0m\n",
      "\u001b[32m[I 2023-06-22 21:34:48,715]\u001b[0m Trial 371 finished with value: 0.7212121212121212 and parameters: {'n_estimators': 443, 'max_depth': 2, 'learning_rate': 0.6476383128042793, 'min_child_weight': 3, 'gamma': 1.938532189118941e-06, 'subsample': 0.04651108446658677, 'colsample_bytree': 0.17222037939220913, 'reg_alpha': 2.8807728140321e-07, 'reg_lambda': 0.08210498238226255}. Best is trial 292 with value: 0.7737373737373737.\u001b[0m\n",
      "\u001b[32m[I 2023-06-22 21:34:49,042]\u001b[0m Trial 372 finished with value: 0.6999999999999998 and parameters: {'n_estimators': 224, 'max_depth': 2, 'learning_rate': 0.6205695940520334, 'min_child_weight': 5, 'gamma': 0.00046114781583108007, 'subsample': 0.07281303969308062, 'colsample_bytree': 0.4398900258076546, 'reg_alpha': 2.557740532791636e-05, 'reg_lambda': 0.575376719433432}. Best is trial 292 with value: 0.7737373737373737.\u001b[0m\n",
      "\u001b[32m[I 2023-06-22 21:34:49,539]\u001b[0m Trial 373 finished with value: 0.5 and parameters: {'n_estimators': 465, 'max_depth': 2, 'learning_rate': 0.6686048547773167, 'min_child_weight': 7, 'gamma': 0.00024158637808032845, 'subsample': 0.054461987920763184, 'colsample_bytree': 0.49887497318700963, 'reg_alpha': 1.7005489664666037e-05, 'reg_lambda': 0.0001205626988823109}. Best is trial 292 with value: 0.7737373737373737.\u001b[0m\n",
      "\u001b[32m[I 2023-06-22 21:34:49,804]\u001b[0m Trial 374 finished with value: 0.7232323232323231 and parameters: {'n_estimators': 75, 'max_depth': 6, 'learning_rate': 0.7553566485031473, 'min_child_weight': 4, 'gamma': 0.0003200192725605766, 'subsample': 0.42781570680924735, 'colsample_bytree': 0.45636944024521464, 'reg_alpha': 1.540688774992845e-05, 'reg_lambda': 0.17343926619257408}. Best is trial 292 with value: 0.7737373737373737.\u001b[0m\n",
      "\u001b[32m[I 2023-06-22 21:34:50,284]\u001b[0m Trial 375 finished with value: 0.509090909090909 and parameters: {'n_estimators': 452, 'max_depth': 2, 'learning_rate': 0.6976186396103827, 'min_child_weight': 4, 'gamma': 0.0011269758407745085, 'subsample': 0.04394747612493649, 'colsample_bytree': 0.579360568835918, 'reg_alpha': 4.2484255943811455e-05, 'reg_lambda': 0.005250574031700421}. Best is trial 292 with value: 0.7737373737373737.\u001b[0m\n",
      "\u001b[32m[I 2023-06-22 21:34:50,773]\u001b[0m Trial 376 finished with value: 0.6606060606060608 and parameters: {'n_estimators': 436, 'max_depth': 3, 'learning_rate': 0.7743528395379625, 'min_child_weight': 4, 'gamma': 0.00012660961016604716, 'subsample': 0.09796300398122713, 'colsample_bytree': 0.4230612458521849, 'reg_alpha': 6.436324085665089e-07, 'reg_lambda': 4.575829895926213e-06}. Best is trial 292 with value: 0.7737373737373737.\u001b[0m\n",
      "\u001b[32m[I 2023-06-22 21:34:51,438]\u001b[0m Trial 377 finished with value: 0.6262626262626263 and parameters: {'n_estimators': 482, 'max_depth': 5, 'learning_rate': 0.6056513119939532, 'min_child_weight': 4, 'gamma': 0.00018845401399054265, 'subsample': 0.9011050475580792, 'colsample_bytree': 0.023401798530298442, 'reg_alpha': 1.8040925954326922e-07, 'reg_lambda': 7.87684406566126e-05}. Best is trial 292 with value: 0.7737373737373737.\u001b[0m\n",
      "\u001b[32m[I 2023-06-22 21:34:51,986]\u001b[0m Trial 378 finished with value: 0.7262626262626263 and parameters: {'n_estimators': 467, 'max_depth': 4, 'learning_rate': 0.5661493520950862, 'min_child_weight': 4, 'gamma': 3.8870635495802305e-06, 'subsample': 0.06399573026197813, 'colsample_bytree': 0.23581030403636807, 'reg_alpha': 4.145185857113185e-07, 'reg_lambda': 0.04514082766671335}. Best is trial 292 with value: 0.7737373737373737.\u001b[0m\n",
      "\u001b[32m[I 2023-06-22 21:34:52,459]\u001b[0m Trial 379 finished with value: 0.5757575757575757 and parameters: {'n_estimators': 447, 'max_depth': 1, 'learning_rate': 0.502075210701406, 'min_child_weight': 4, 'gamma': 0.00011858079873773979, 'subsample': 0.03829577444936514, 'colsample_bytree': 0.2640047283158672, 'reg_alpha': 6.964229799458471e-07, 'reg_lambda': 0.37889887645133813}. Best is trial 292 with value: 0.7737373737373737.\u001b[0m\n",
      "\u001b[32m[I 2023-06-22 21:34:52,999]\u001b[0m Trial 380 finished with value: 0.7303030303030303 and parameters: {'n_estimators': 457, 'max_depth': 7, 'learning_rate': 0.6430277291571398, 'min_child_weight': 3, 'gamma': 8.252583897293396e-05, 'subsample': 0.03393929218949501, 'colsample_bytree': 0.13459288540477657, 'reg_alpha': 5.2804992642342704e-05, 'reg_lambda': 0.06352797795603723}. Best is trial 292 with value: 0.7737373737373737.\u001b[0m\n",
      "\u001b[32m[I 2023-06-22 21:34:53,652]\u001b[0m Trial 381 finished with value: 0.6666666666666666 and parameters: {'n_estimators': 424, 'max_depth': 7, 'learning_rate': 0.680201531594589, 'min_child_weight': 4, 'gamma': 0.002528568923247873, 'subsample': 0.2631769823761237, 'colsample_bytree': 0.03116864350841841, 'reg_alpha': 0.37653490348957863, 'reg_lambda': 2.195834616448476e-06}. Best is trial 292 with value: 0.7737373737373737.\u001b[0m\n",
      "\u001b[32m[I 2023-06-22 21:34:54,121]\u001b[0m Trial 382 finished with value: 0.7070707070707071 and parameters: {'n_estimators': 397, 'max_depth': 2, 'learning_rate': 0.7340455752554711, 'min_child_weight': 5, 'gamma': 0.0003631529098363112, 'subsample': 0.12113876084615001, 'colsample_bytree': 0.027417823925436697, 'reg_alpha': 7.706395404692764e-08, 'reg_lambda': 0.23162158408338007}. Best is trial 292 with value: 0.7737373737373737.\u001b[0m\n",
      "\u001b[32m[I 2023-06-22 21:34:54,653]\u001b[0m Trial 383 finished with value: 0.6919191919191919 and parameters: {'n_estimators': 494, 'max_depth': 3, 'learning_rate': 0.6281619993160933, 'min_child_weight': 1, 'gamma': 1.390307706794245e-05, 'subsample': 0.04802765379901453, 'colsample_bytree': 0.29916812433564144, 'reg_alpha': 1.4256003425948552e-07, 'reg_lambda': 0.11174057319888402}. Best is trial 292 with value: 0.7737373737373737.\u001b[0m\n",
      "\u001b[32m[I 2023-06-22 21:34:55,219]\u001b[0m Trial 384 finished with value: 0.7252525252525254 and parameters: {'n_estimators': 485, 'max_depth': 2, 'learning_rate': 0.6575950358211043, 'min_child_weight': 4, 'gamma': 0.0004960142520550469, 'subsample': 0.05242699422595594, 'colsample_bytree': 0.49003814204247026, 'reg_alpha': 2.476571635536285e-07, 'reg_lambda': 1.2761179302123016e-06}. Best is trial 292 with value: 0.7737373737373737.\u001b[0m\n",
      "\u001b[32m[I 2023-06-22 21:34:56,015]\u001b[0m Trial 385 finished with value: 0.6616161616161615 and parameters: {'n_estimators': 466, 'max_depth': 8, 'learning_rate': 0.5385896282073238, 'min_child_weight': 4, 'gamma': 0.0002448376638022972, 'subsample': 0.5271790096780673, 'colsample_bytree': 0.3263864593944699, 'reg_alpha': 4.171816709103785e-07, 'reg_lambda': 3.0187279498006465e-06}. Best is trial 292 with value: 0.7737373737373737.\u001b[0m\n",
      "\u001b[32m[I 2023-06-22 21:34:56,762]\u001b[0m Trial 386 finished with value: 0.604040404040404 and parameters: {'n_estimators': 500, 'max_depth': 8, 'learning_rate': 0.7177537224042929, 'min_child_weight': 4, 'gamma': 0.000800469506824965, 'subsample': 0.3453051771219081, 'colsample_bytree': 0.39177813615426205, 'reg_alpha': 1.3425939624772992e-05, 'reg_lambda': 8.58682915882835e-08}. Best is trial 292 with value: 0.7737373737373737.\u001b[0m\n",
      "\u001b[32m[I 2023-06-22 21:34:57,266]\u001b[0m Trial 387 finished with value: 0.5484848484848486 and parameters: {'n_estimators': 440, 'max_depth': 7, 'learning_rate': 0.6915030658641959, 'min_child_weight': 4, 'gamma': 0.0001600442226849934, 'subsample': 0.042468773640232375, 'colsample_bytree': 0.020494172432673697, 'reg_alpha': 2.759798867519085e-06, 'reg_lambda': 0.5674055883034033}. Best is trial 292 with value: 0.7737373737373737.\u001b[0m\n",
      "\u001b[32m[I 2023-06-22 21:34:57,823]\u001b[0m Trial 388 finished with value: 0.6595959595959595 and parameters: {'n_estimators': 476, 'max_depth': 2, 'learning_rate': 0.8782158656827128, 'min_child_weight': 4, 'gamma': 8.331907931763576e-05, 'subsample': 0.06785551436900582, 'colsample_bytree': 0.9431685999780699, 'reg_alpha': 1.461772992871272e-06, 'reg_lambda': 0.02759612544090935}. Best is trial 292 with value: 0.7737373737373737.\u001b[0m\n",
      "\u001b[32m[I 2023-06-22 21:34:58,255]\u001b[0m Trial 389 finished with value: 0.6888888888888889 and parameters: {'n_estimators': 316, 'max_depth': 8, 'learning_rate': 0.855750285151028, 'min_child_weight': 4, 'gamma': 4.839224685040242e-05, 'subsample': 0.060234214555239134, 'colsample_bytree': 0.025381147167099896, 'reg_alpha': 0.0025479233855774702, 'reg_lambda': 4.790480550904e-05}. Best is trial 292 with value: 0.7737373737373737.\u001b[0m\n",
      "\u001b[32m[I 2023-06-22 21:34:58,752]\u001b[0m Trial 390 finished with value: 0.697979797979798 and parameters: {'n_estimators': 456, 'max_depth': 6, 'learning_rate': 0.6688905303916326, 'min_child_weight': 3, 'gamma': 0.00024931053911465584, 'subsample': 0.0847261900345459, 'colsample_bytree': 0.04748757687957657, 'reg_alpha': 2.1831014064161536e-05, 'reg_lambda': 8.78997559186366e-06}. Best is trial 292 with value: 0.7737373737373737.\u001b[0m\n",
      "\u001b[32m[I 2023-06-22 21:34:59,285]\u001b[0m Trial 391 finished with value: 0.7424242424242424 and parameters: {'n_estimators': 408, 'max_depth': 2, 'learning_rate': 0.5780731586753667, 'min_child_weight': 4, 'gamma': 3.0484350020771884e-06, 'subsample': 0.04811381017189658, 'colsample_bytree': 0.6230684613176154, 'reg_alpha': 8.389662757571783e-06, 'reg_lambda': 2.6143373806009544e-07}. Best is trial 292 with value: 0.7737373737373737.\u001b[0m\n",
      "\u001b[32m[I 2023-06-22 21:34:59,611]\u001b[0m Trial 392 finished with value: 0.5 and parameters: {'n_estimators': 165, 'max_depth': 8, 'learning_rate': 0.518152122174881, 'min_child_weight': 5, 'gamma': 0.0014708810719181974, 'subsample': 0.03916246136355857, 'colsample_bytree': 0.03625162665420571, 'reg_alpha': 8.454223216342767e-07, 'reg_lambda': 0.00027539282184158584}. Best is trial 292 with value: 0.7737373737373737.\u001b[0m\n",
      "\u001b[32m[I 2023-06-22 21:35:00,210]\u001b[0m Trial 393 finished with value: 0.7090909090909091 and parameters: {'n_estimators': 471, 'max_depth': 3, 'learning_rate': 0.5999418440630352, 'min_child_weight': 4, 'gamma': 9.048318202820915e-06, 'subsample': 0.15578559488845084, 'colsample_bytree': 0.3935883243415004, 'reg_alpha': 1.984482056593922e-07, 'reg_lambda': 0.13936861144547938}. Best is trial 292 with value: 0.7737373737373737.\u001b[0m\n",
      "\u001b[32m[I 2023-06-22 21:35:00,727]\u001b[0m Trial 394 finished with value: 0.6767676767676767 and parameters: {'n_estimators': 432, 'max_depth': 8, 'learning_rate': 0.895967361527229, 'min_child_weight': 4, 'gamma': 2.6803115736760613e-05, 'subsample': 0.05564673339028226, 'colsample_bytree': 0.20703348944366057, 'reg_alpha': 1.2141243396716023e-05, 'reg_lambda': 4.972210882439789e-07}. Best is trial 292 with value: 0.7737373737373737.\u001b[0m\n",
      "\u001b[32m[I 2023-06-22 21:35:01,504]\u001b[0m Trial 395 finished with value: 0.6252525252525252 and parameters: {'n_estimators': 481, 'max_depth': 8, 'learning_rate': 0.806383503527123, 'min_child_weight': 4, 'gamma': 0.00010059122281988682, 'subsample': 0.9536147738166485, 'colsample_bytree': 0.02892116223255065, 'reg_alpha': 3.336555912519065e-07, 'reg_lambda': 0.2855289652728652}. Best is trial 292 with value: 0.7737373737373737.\u001b[0m\n",
      "\u001b[32m[I 2023-06-22 21:35:02,058]\u001b[0m Trial 396 finished with value: 0.7383838383838384 and parameters: {'n_estimators': 462, 'max_depth': 7, 'learning_rate': 0.4094180392812216, 'min_child_weight': 4, 'gamma': 5.863780038950492e-05, 'subsample': 0.07670478711117662, 'colsample_bytree': 0.06920701297520027, 'reg_alpha': 8.532132417816552e-05, 'reg_lambda': 0.06983441636485045}. Best is trial 292 with value: 0.7737373737373737.\u001b[0m\n",
      "\u001b[32m[I 2023-06-22 21:35:02,713]\u001b[0m Trial 397 finished with value: 0.6353535353535353 and parameters: {'n_estimators': 448, 'max_depth': 2, 'learning_rate': 0.7109237996722488, 'min_child_weight': 4, 'gamma': 0.00014259513404455313, 'subsample': 0.5528455939430466, 'colsample_bytree': 0.7274288014465383, 'reg_alpha': 0.0007253748122860158, 'reg_lambda': 1.560644165805777e-06}. Best is trial 292 with value: 0.7737373737373737.\u001b[0m\n",
      "\u001b[32m[I 2023-06-22 21:35:03,447]\u001b[0m Trial 398 finished with value: 0.6525252525252525 and parameters: {'n_estimators': 489, 'max_depth': 8, 'learning_rate': 0.6421873134287925, 'min_child_weight': 3, 'gamma': 0.006145171300125351, 'subsample': 0.4096110111183758, 'colsample_bytree': 0.01850374821220861, 'reg_alpha': 5.094515014498562e-07, 'reg_lambda': 0.0007223815218059615}. Best is trial 292 with value: 0.7737373737373737.\u001b[0m\n",
      "\u001b[32m[I 2023-06-22 21:35:04,131]\u001b[0m Trial 399 finished with value: 0.692929292929293 and parameters: {'n_estimators': 472, 'max_depth': 4, 'learning_rate': 0.7458380551630459, 'min_child_weight': 2, 'gamma': 0.00037872655613148284, 'subsample': 0.37663999970713813, 'colsample_bytree': 0.022308597510798295, 'reg_alpha': 1.37900412068964e-07, 'reg_lambda': 0.1987992069125019}. Best is trial 292 with value: 0.7737373737373737.\u001b[0m\n",
      "\u001b[32m[I 2023-06-22 21:35:04,818]\u001b[0m Trial 400 finished with value: 0.5848484848484848 and parameters: {'n_estimators': 452, 'max_depth': 7, 'learning_rate': 0.622085913803859, 'min_child_weight': 4, 'gamma': 1.7039617300023166e-06, 'subsample': 0.3053015510010682, 'colsample_bytree': 0.5021481694844346, 'reg_alpha': 1.7802747988309408e-06, 'reg_lambda': 0.0037234857911086043}. Best is trial 292 with value: 0.7737373737373737.\u001b[0m\n",
      "\u001b[32m[I 2023-06-22 21:35:05,435]\u001b[0m Trial 401 finished with value: 0.6313131313131314 and parameters: {'n_estimators': 440, 'max_depth': 2, 'learning_rate': 0.6857807284476901, 'min_child_weight': 4, 'gamma': 6.3957446533192905e-06, 'subsample': 0.045294491316050164, 'colsample_bytree': 0.024632202910266545, 'reg_alpha': 2.442572395128007e-07, 'reg_lambda': 0.002710163579038046}. Best is trial 292 with value: 0.7737373737373737.\u001b[0m\n",
      "\u001b[32m[I 2023-06-22 21:35:06,001]\u001b[0m Trial 402 finished with value: 0.5 and parameters: {'n_estimators': 483, 'max_depth': 8, 'learning_rate': 0.6594534642739613, 'min_child_weight': 5, 'gamma': 3.662067646908622e-05, 'subsample': 0.03589400487048928, 'colsample_bytree': 0.031040699002840098, 'reg_alpha': 1.055707625113164e-05, 'reg_lambda': 7.842143038020474e-07}. Best is trial 292 with value: 0.7737373737373737.\u001b[0m\n",
      "\u001b[32m[I 2023-06-22 21:35:06,534]\u001b[0m Trial 403 finished with value: 0.693939393939394 and parameters: {'n_estimators': 463, 'max_depth': 3, 'learning_rate': 0.7001704295179386, 'min_child_weight': 9, 'gamma': 1.7729588972372035e-05, 'subsample': 0.19915042402561053, 'colsample_bytree': 0.03955429732490454, 'reg_alpha': 0.0002202332243291967, 'reg_lambda': 0.045957756479694946}. Best is trial 292 with value: 0.7737373737373737.\u001b[0m\n",
      "\u001b[32m[I 2023-06-22 21:35:07,056]\u001b[0m Trial 404 finished with value: 0.6494949494949495 and parameters: {'n_estimators': 500, 'max_depth': 8, 'learning_rate': 0.8624998784991627, 'min_child_weight': 4, 'gamma': 0.00020009767125859113, 'subsample': 0.05111923613034808, 'colsample_bytree': 0.07757652673167716, 'reg_alpha': 4.361728612918283e-08, 'reg_lambda': 0.006865326044881774}. Best is trial 292 with value: 0.7737373737373737.\u001b[0m\n",
      "\u001b[32m[I 2023-06-22 21:35:07,703]\u001b[0m Trial 405 finished with value: 0.6616161616161615 and parameters: {'n_estimators': 426, 'max_depth': 6, 'learning_rate': 0.771479489947795, 'min_child_weight': 4, 'gamma': 6.81105327556643e-05, 'subsample': 0.659130524821021, 'colsample_bytree': 0.08675456408798142, 'reg_alpha': 6.978224218178721e-07, 'reg_lambda': 0.4078499098564498}. Best is trial 292 with value: 0.7737373737373737.\u001b[0m\n",
      "\u001b[32m[I 2023-06-22 21:35:08,468]\u001b[0m Trial 406 finished with value: 0.6393939393939394 and parameters: {'n_estimators': 474, 'max_depth': 7, 'learning_rate': 0.6686938480886067, 'min_child_weight': 3, 'gamma': 0.0006320219035191998, 'subsample': 0.5921343398375736, 'colsample_bytree': 0.02760176506768821, 'reg_alpha': 9.455556530435368e-08, 'reg_lambda': 1.3909819786622657e-07}. Best is trial 292 with value: 0.7737373737373737.\u001b[0m\n",
      "\u001b[32m[I 2023-06-22 21:35:08,992]\u001b[0m Trial 407 finished with value: 0.5 and parameters: {'n_estimators': 457, 'max_depth': 8, 'learning_rate': 0.19314126085617872, 'min_child_weight': 4, 'gamma': 0.050808894491131795, 'subsample': 0.031529057201076995, 'colsample_bytree': 0.021858004360593673, 'reg_alpha': 3.4330786043912754e-07, 'reg_lambda': 0.08946250527045216}. Best is trial 292 with value: 0.7737373737373737.\u001b[0m\n",
      "\u001b[32m[I 2023-06-22 21:35:09,570]\u001b[0m Trial 408 finished with value: 0.6232323232323232 and parameters: {'n_estimators': 490, 'max_depth': 1, 'learning_rate': 0.8844982030623884, 'min_child_weight': 4, 'gamma': 0.00010751478391728444, 'subsample': 0.04172263302031876, 'colsample_bytree': 0.034086872853404664, 'reg_alpha': 1.1080975899884225e-06, 'reg_lambda': 1.0389682640575595e-06}. Best is trial 292 with value: 0.7737373737373737.\u001b[0m\n",
      "\u001b[32m[I 2023-06-22 21:35:10,374]\u001b[0m Trial 409 finished with value: 0.6303030303030303 and parameters: {'n_estimators': 467, 'max_depth': 2, 'learning_rate': 0.7890723798219598, 'min_child_weight': 4, 'gamma': 9.192720579334114e-07, 'subsample': 0.7314199516305017, 'colsample_bytree': 0.09999269927050702, 'reg_alpha': 0.06007019185067407, 'reg_lambda': 4.091098409323135e-06}. Best is trial 292 with value: 0.7737373737373737.\u001b[0m\n",
      "\u001b[32m[I 2023-06-22 21:35:10,868]\u001b[0m Trial 410 finished with value: 0.6858585858585858 and parameters: {'n_estimators': 447, 'max_depth': 8, 'learning_rate': 0.48410179425594113, 'min_child_weight': 4, 'gamma': 0.00029568207182099297, 'subsample': 0.06408196155637018, 'colsample_bytree': 0.5776488160758442, 'reg_alpha': 1.8012295008540822e-07, 'reg_lambda': 2.4537033148686847e-07}. Best is trial 292 with value: 0.7737373737373737.\u001b[0m\n",
      "\u001b[32m[I 2023-06-22 21:35:11,452]\u001b[0m Trial 411 finished with value: 0.7141414141414141 and parameters: {'n_estimators': 415, 'max_depth': 8, 'learning_rate': 0.9073194557267, 'min_child_weight': 4, 'gamma': 0.00015333214266907897, 'subsample': 0.4839560560179998, 'colsample_bytree': 0.5306109270680233, 'reg_alpha': 5.005149230803708e-07, 'reg_lambda': 0.0013197553157226513}. Best is trial 292 with value: 0.7737373737373737.\u001b[0m\n",
      "\u001b[32m[I 2023-06-22 21:35:12,011]\u001b[0m Trial 412 finished with value: 0.6707070707070707 and parameters: {'n_estimators': 479, 'max_depth': 2, 'learning_rate': 0.6379097970097106, 'min_child_weight': 6, 'gamma': 2.670131332313948e-06, 'subsample': 0.45053162636111077, 'colsample_bytree': 0.02572125511486205, 'reg_alpha': 0.00016906749416002406, 'reg_lambda': 3.62492301926218e-07}. Best is trial 292 with value: 0.7737373737373737.\u001b[0m\n",
      "\u001b[32m[I 2023-06-22 21:35:12,455]\u001b[0m Trial 413 finished with value: 0.6262626262626263 and parameters: {'n_estimators': 460, 'max_depth': 8, 'learning_rate': 0.8408493738186253, 'min_child_weight': 5, 'gamma': 8.081668155354336e-05, 'subsample': 0.04685459272540631, 'colsample_bytree': 0.24664590988863153, 'reg_alpha': 2.5410807182538695e-07, 'reg_lambda': 0.9742007273275622}. Best is trial 292 with value: 0.7737373737373737.\u001b[0m\n",
      "\u001b[32m[I 2023-06-22 21:35:12,918]\u001b[0m Trial 414 finished with value: 0.6767676767676767 and parameters: {'n_estimators': 434, 'max_depth': 7, 'learning_rate': 0.5890377698436325, 'min_child_weight': 2, 'gamma': 4.1867610480259325e-05, 'subsample': 0.05877981134923075, 'colsample_bytree': 0.01933333149505679, 'reg_alpha': 2.6904859156643346e-05, 'reg_lambda': 0.14950516932803207}. Best is trial 292 with value: 0.7737373737373737.\u001b[0m\n",
      "\u001b[32m[I 2023-06-22 21:35:13,267]\u001b[0m Trial 415 finished with value: 0.5 and parameters: {'n_estimators': 269, 'max_depth': 7, 'learning_rate': 0.5623162211899677, 'min_child_weight': 4, 'gamma': 2.8633567395898103e-05, 'subsample': 0.023639882495566988, 'colsample_bytree': 0.050837250381709026, 'reg_alpha': 3.307969684444432e-06, 'reg_lambda': 6.276039424026012e-05}. Best is trial 292 with value: 0.7737373737373737.\u001b[0m\n",
      "\u001b[32m[I 2023-06-22 21:35:13,668]\u001b[0m Trial 416 finished with value: 0.7090909090909091 and parameters: {'n_estimators': 252, 'max_depth': 8, 'learning_rate': 0.4357789034472733, 'min_child_weight': 3, 'gamma': 1.2413095932475306e-05, 'subsample': 0.1457378099394534, 'colsample_bytree': 0.024295204010286182, 'reg_alpha': 7.000376139245944e-07, 'reg_lambda': 0.29315887380006905}. Best is trial 292 with value: 0.7737373737373737.\u001b[0m\n",
      "\u001b[32m[I 2023-06-22 21:35:14,190]\u001b[0m Trial 417 finished with value: 0.7424242424242424 and parameters: {'n_estimators': 489, 'max_depth': 3, 'learning_rate': 0.7413502837859409, 'min_child_weight': 4, 'gamma': 4.379805742194729e-06, 'subsample': 0.06979546489802409, 'colsample_bytree': 0.028691307239176216, 'reg_alpha': 3.895296776503392e-07, 'reg_lambda': 1.8814394974818507e-06}. Best is trial 292 with value: 0.7737373737373737.\u001b[0m\n",
      "\u001b[32m[I 2023-06-22 21:35:14,677]\u001b[0m Trial 418 finished with value: 0.5 and parameters: {'n_estimators': 449, 'max_depth': 2, 'learning_rate': 0.7180265708819936, 'min_child_weight': 4, 'gamma': 0.0003722567882742528, 'subsample': 0.026025358109188608, 'colsample_bytree': 0.2121372894741185, 'reg_alpha': 5.631093308060497e-06, 'reg_lambda': 6.880819269945825e-06}. Best is trial 292 with value: 0.7737373737373737.\u001b[0m\n",
      "\u001b[32m[I 2023-06-22 21:35:15,241]\u001b[0m Trial 419 finished with value: 0.6343434343434344 and parameters: {'n_estimators': 473, 'max_depth': 8, 'learning_rate': 0.8177099649877227, 'min_child_weight': 4, 'gamma': 0.00021050852242404666, 'subsample': 0.29190354696220366, 'colsample_bytree': 0.05540876683657377, 'reg_alpha': 0.006090944084631279, 'reg_lambda': 5.941339288220347e-07}. Best is trial 292 with value: 0.7737373737373737.\u001b[0m\n",
      "\u001b[32m[I 2023-06-22 21:35:15,524]\u001b[0m Trial 420 finished with value: 0.7444444444444445 and parameters: {'n_estimators': 124, 'max_depth': 8, 'learning_rate': 0.6109992417587693, 'min_child_weight': 4, 'gamma': 5.8026446587741874e-05, 'subsample': 0.10427165431742583, 'colsample_bytree': 0.8769281412676635, 'reg_alpha': 9.939186128376581e-05, 'reg_lambda': 0.09653617358859226}. Best is trial 292 with value: 0.7737373737373737.\u001b[0m\n",
      "\u001b[32m[I 2023-06-22 21:35:15,999]\u001b[0m Trial 421 finished with value: 0.7242424242424242 and parameters: {'n_estimators': 443, 'max_depth': 2, 'learning_rate': 0.6603629353826372, 'min_child_weight': 4, 'gamma': 0.00012113841736740633, 'subsample': 0.053018603937661835, 'colsample_bytree': 0.2812315561200109, 'reg_alpha': 0.0007576485242170242, 'reg_lambda': 1.734502789712984e-05}. Best is trial 292 with value: 0.7737373737373737.\u001b[0m\n",
      "\u001b[32m[I 2023-06-22 21:35:16,493]\u001b[0m Trial 422 finished with value: 0.5 and parameters: {'n_estimators': 480, 'max_depth': 8, 'learning_rate': 0.3539318214930217, 'min_child_weight': 5, 'gamma': 1.8343714986825764e-05, 'subsample': 0.04186736687272646, 'colsample_bytree': 0.0204782676921891, 'reg_alpha': 1.1468046869559043e-07, 'reg_lambda': 0.00016853697474857496}. Best is trial 292 with value: 0.7737373737373737.\u001b[0m\n",
      "\u001b[32m[I 2023-06-22 21:35:16,982]\u001b[0m Trial 423 finished with value: 0.7272727272727273 and parameters: {'n_estimators': 466, 'max_depth': 2, 'learning_rate': 0.6967528990733078, 'min_child_weight': 4, 'gamma': 0.0004591489344940478, 'subsample': 0.03731929320022345, 'colsample_bytree': 0.043963392352169575, 'reg_alpha': 4.082559782361601e-05, 'reg_lambda': 0.009521048817093739}. Best is trial 292 with value: 0.7737373737373737.\u001b[0m\n",
      "\u001b[32m[I 2023-06-22 21:35:17,420]\u001b[0m Trial 424 finished with value: 0.5383838383838384 and parameters: {'n_estimators': 387, 'max_depth': 8, 'learning_rate': 0.6827326589071413, 'min_child_weight': 4, 'gamma': 0.0008178471321792527, 'subsample': 0.04907413647508055, 'colsample_bytree': 0.032491387758444096, 'reg_alpha': 6.279810565521953e-08, 'reg_lambda': 1.175636296628295e-05}. Best is trial 292 with value: 0.7737373737373737.\u001b[0m\n",
      "\u001b[32m[I 2023-06-22 21:35:17,960]\u001b[0m Trial 425 finished with value: 0.7727272727272727 and parameters: {'n_estimators': 494, 'max_depth': 5, 'learning_rate': 0.05418731921257525, 'min_child_weight': 3, 'gamma': 0.0002613541802464597, 'subsample': 0.07962401815988031, 'colsample_bytree': 0.02372475120707738, 'reg_alpha': 2.1283456976441e-06, 'reg_lambda': 4.8648360000318546e-08}. Best is trial 292 with value: 0.7737373737373737.\u001b[0m\n",
      "\u001b[32m[I 2023-06-22 21:35:18,590]\u001b[0m Trial 426 finished with value: 0.7131313131313131 and parameters: {'n_estimators': 494, 'max_depth': 6, 'learning_rate': 0.4430903711655907, 'min_child_weight': 2, 'gamma': 0.0002879002842687434, 'subsample': 0.07976577714377849, 'colsample_bytree': 0.02218270862927071, 'reg_alpha': 1.9081364584931925e-06, 'reg_lambda': 7.199706596467486e-08}. Best is trial 292 with value: 0.7737373737373737.\u001b[0m\n",
      "\u001b[32m[I 2023-06-22 21:35:19,206]\u001b[0m Trial 427 finished with value: 0.7373737373737372 and parameters: {'n_estimators': 494, 'max_depth': 5, 'learning_rate': 0.12585934516359665, 'min_child_weight': 3, 'gamma': 0.0005981891081292056, 'subsample': 0.08976073598517467, 'colsample_bytree': 0.022927695527746282, 'reg_alpha': 2.3018996727677464e-06, 'reg_lambda': 1.3807088056236993e-07}. Best is trial 292 with value: 0.7737373737373737.\u001b[0m\n",
      "\u001b[32m[I 2023-06-22 21:35:19,757]\u001b[0m Trial 428 finished with value: 0.7181818181818181 and parameters: {'n_estimators': 499, 'max_depth': 5, 'learning_rate': 0.6147746012356669, 'min_child_weight': 3, 'gamma': 0.0002159034879335436, 'subsample': 0.07512940997316017, 'colsample_bytree': 0.025561817184781527, 'reg_alpha': 4.1898188117610776e-06, 'reg_lambda': 2.7450379025800334e-06}. Best is trial 292 with value: 0.7737373737373737.\u001b[0m\n",
      "\u001b[32m[I 2023-06-22 21:35:20,308]\u001b[0m Trial 429 finished with value: 0.7191919191919192 and parameters: {'n_estimators': 486, 'max_depth': 5, 'learning_rate': 0.26765334358789095, 'min_child_weight': 2, 'gamma': 5.115104214842217e-07, 'subsample': 0.06678770678824013, 'colsample_bytree': 0.017886765895219783, 'reg_alpha': 1.234767986411671e-06, 'reg_lambda': 2.3414240926516976e-07}. Best is trial 292 with value: 0.7737373737373737.\u001b[0m\n",
      "\u001b[32m[I 2023-06-22 21:35:20,985]\u001b[0m Trial 430 finished with value: 0.7444444444444445 and parameters: {'n_estimators': 500, 'max_depth': 6, 'learning_rate': 0.04006262038112687, 'min_child_weight': 3, 'gamma': 0.00031896638682598206, 'subsample': 0.25596661960684236, 'colsample_bytree': 0.02651952725549988, 'reg_alpha': 8.802137168750137e-07, 'reg_lambda': 7.820593837944202e-08}. Best is trial 292 with value: 0.7737373737373737.\u001b[0m\n",
      "\u001b[32m[I 2023-06-22 21:35:21,467]\u001b[0m Trial 431 finished with value: 0.7505050505050506 and parameters: {'n_estimators': 430, 'max_depth': 4, 'learning_rate': 0.3386974432715555, 'min_child_weight': 3, 'gamma': 0.0004393754871335007, 'subsample': 0.063046751732871, 'colsample_bytree': 0.10966760449317071, 'reg_alpha': 1.7560533558462756e-06, 'reg_lambda': 1.3135950111810245e-06}. Best is trial 292 with value: 0.7737373737373737.\u001b[0m\n",
      "\u001b[32m[I 2023-06-22 21:35:22,072]\u001b[0m Trial 432 finished with value: 0.7222222222222221 and parameters: {'n_estimators': 483, 'max_depth': 4, 'learning_rate': 0.09598890644470809, 'min_child_weight': 3, 'gamma': 0.00048668289303822405, 'subsample': 0.06237772839336933, 'colsample_bytree': 0.20763725621984128, 'reg_alpha': 2.6477152593256093e-06, 'reg_lambda': 1.0216608300316225e-07}. Best is trial 292 with value: 0.7737373737373737.\u001b[0m\n",
      "\u001b[32m[I 2023-06-22 21:35:22,654]\u001b[0m Trial 433 finished with value: 0.7363636363636363 and parameters: {'n_estimators': 437, 'max_depth': 4, 'learning_rate': 0.043980076711761004, 'min_child_weight': 3, 'gamma': 0.0008905695958388065, 'subsample': 0.07035873704627027, 'colsample_bytree': 0.543764956331961, 'reg_alpha': 1.0721403445658766e-06, 'reg_lambda': 2.5597868228787698e-08}. Best is trial 292 with value: 0.7737373737373737.\u001b[0m\n",
      "\u001b[32m[I 2023-06-22 21:35:23,079]\u001b[0m Trial 434 finished with value: 0.696969696969697 and parameters: {'n_estimators': 285, 'max_depth': 4, 'learning_rate': 0.5022812103398036, 'min_child_weight': 3, 'gamma': 0.000593217582242633, 'subsample': 0.07779019434065507, 'colsample_bytree': 0.3743273433365836, 'reg_alpha': 1.7419730700165645e-06, 'reg_lambda': 3.252124903053664e-08}. Best is trial 292 with value: 0.7737373737373737.\u001b[0m\n",
      "\u001b[32m[I 2023-06-22 21:35:23,472]\u001b[0m Trial 435 finished with value: 0.7565656565656567 and parameters: {'n_estimators': 202, 'max_depth': 5, 'learning_rate': 0.21759384435912243, 'min_child_weight': 3, 'gamma': 0.00031675238386899644, 'subsample': 0.08509067927880634, 'colsample_bytree': 0.4387167698352588, 'reg_alpha': 2.895814186958585e-06, 'reg_lambda': 1.3024645823740663e-06}. Best is trial 292 with value: 0.7737373737373737.\u001b[0m\n",
      "\u001b[32m[I 2023-06-22 21:35:23,856]\u001b[0m Trial 436 finished with value: 0.7050505050505051 and parameters: {'n_estimators': 208, 'max_depth': 5, 'learning_rate': 0.22640366199957201, 'min_child_weight': 3, 'gamma': 0.0002723853433731323, 'subsample': 0.0869573915652148, 'colsample_bytree': 0.44127243640383357, 'reg_alpha': 2.613931859689738e-06, 'reg_lambda': 1.3206812099600107e-06}. Best is trial 292 with value: 0.7737373737373737.\u001b[0m\n",
      "\u001b[32m[I 2023-06-22 21:35:24,238]\u001b[0m Trial 437 finished with value: 0.7404040404040404 and parameters: {'n_estimators': 222, 'max_depth': 5, 'learning_rate': 0.13247877633147573, 'min_child_weight': 3, 'gamma': 0.0004210050710938933, 'subsample': 0.08554460383309904, 'colsample_bytree': 0.34568673305771647, 'reg_alpha': 3.419553348447295e-06, 'reg_lambda': 5.349395065351747e-08}. Best is trial 292 with value: 0.7737373737373737.\u001b[0m\n",
      "\u001b[32m[I 2023-06-22 21:35:24,638]\u001b[0m Trial 438 finished with value: 0.7202020202020203 and parameters: {'n_estimators': 233, 'max_depth': 5, 'learning_rate': 0.15718486834792944, 'min_child_weight': 3, 'gamma': 0.00038293538770429265, 'subsample': 0.09828004808104418, 'colsample_bytree': 0.12943974137249065, 'reg_alpha': 7.757008631390835e-06, 'reg_lambda': 1.7866842301912708e-06}. Best is trial 292 with value: 0.7737373737373737.\u001b[0m\n",
      "\u001b[32m[I 2023-06-22 21:35:25,156]\u001b[0m Trial 439 finished with value: 0.7454545454545455 and parameters: {'n_estimators': 427, 'max_depth': 5, 'learning_rate': 0.09764730152598178, 'min_child_weight': 3, 'gamma': 0.001168004408768531, 'subsample': 0.07200274683479643, 'colsample_bytree': 0.40054523668536096, 'reg_alpha': 1.7393834778188101e-06, 'reg_lambda': 5.744623200181395e-08}. Best is trial 292 with value: 0.7737373737373737.\u001b[0m\n",
      "\u001b[32m[I 2023-06-22 21:35:25,552]\u001b[0m Trial 440 finished with value: 0.7040404040404041 and parameters: {'n_estimators': 244, 'max_depth': 4, 'learning_rate': 0.3300896261403904, 'min_child_weight': 3, 'gamma': 0.00019254082156364778, 'subsample': 0.06110576904307908, 'colsample_bytree': 0.1602501519115331, 'reg_alpha': 2.1494444434369446e-06, 'reg_lambda': 2.9794490868099704e-06}. Best is trial 292 with value: 0.7737373737373737.\u001b[0m\n",
      "\u001b[32m[I 2023-06-22 21:35:25,931]\u001b[0m Trial 441 finished with value: 0.6808080808080806 and parameters: {'n_estimators': 196, 'max_depth': 5, 'learning_rate': 0.012499137538519126, 'min_child_weight': 3, 'gamma': 0.0002915115925269763, 'subsample': 0.08134713036453653, 'colsample_bytree': 0.3151049668993988, 'reg_alpha': 1.2907790004130559e-06, 'reg_lambda': 1.2970772539432814e-08}. Best is trial 292 with value: 0.7737373737373737.\u001b[0m\n",
      "\u001b[32m[I 2023-06-22 21:35:26,540]\u001b[0m Trial 442 finished with value: 0.7181818181818181 and parameters: {'n_estimators': 491, 'max_depth': 6, 'learning_rate': 0.22087293255278173, 'min_child_weight': 2, 'gamma': 0.0006470145591659699, 'subsample': 0.06708491796554766, 'colsample_bytree': 0.26020576924363015, 'reg_alpha': 4.789215696582721e-06, 'reg_lambda': 4.18721053926351e-06}. Best is trial 292 with value: 0.7737373737373737.\u001b[0m\n",
      "\u001b[32m[I 2023-06-22 21:35:26,905]\u001b[0m Trial 443 finished with value: 0.7050505050505051 and parameters: {'n_estimators': 172, 'max_depth': 5, 'learning_rate': 0.1986473128765927, 'min_child_weight': 3, 'gamma': 0.00043869810578806554, 'subsample': 0.059360431288043934, 'colsample_bytree': 0.7866191559232264, 'reg_alpha': 2.6786855088576202e-06, 'reg_lambda': 2.506688016920979e-08}. Best is trial 292 with value: 0.7737373737373737.\u001b[0m\n",
      "\u001b[32m[I 2023-06-22 21:35:27,172]\u001b[0m Trial 444 finished with value: 0.5 and parameters: {'n_estimators': 105, 'max_depth': 3, 'learning_rate': 0.14961730744873308, 'min_child_weight': 10, 'gamma': 0.00018430720206556904, 'subsample': 0.07641262136398397, 'colsample_bytree': 0.4620568737094794, 'reg_alpha': 1.0573510366201544e-08, 'reg_lambda': 1.4375431052876732e-07}. Best is trial 292 with value: 0.7737373737373737.\u001b[0m\n",
      "\u001b[32m[I 2023-06-22 21:35:27,705]\u001b[0m Trial 445 finished with value: 0.7161616161616162 and parameters: {'n_estimators': 356, 'max_depth': 4, 'learning_rate': 0.09087283263196086, 'min_child_weight': 1, 'gamma': 1.2046047278285754e-06, 'subsample': 0.07083205732719572, 'colsample_bytree': 0.06166977889637777, 'reg_alpha': 4.277683190035864e-06, 'reg_lambda': 1.0255001754704899e-08}. Best is trial 292 with value: 0.7737373737373737.\u001b[0m\n",
      "\u001b[32m[I 2023-06-22 21:35:28,257]\u001b[0m Trial 446 finished with value: 0.6696969696969699 and parameters: {'n_estimators': 454, 'max_depth': 6, 'learning_rate': 0.3586719674021762, 'min_child_weight': 3, 'gamma': 0.001757786921622125, 'subsample': 0.17701430877645466, 'colsample_bytree': 0.3651270049822311, 'reg_alpha': 1.383289372474729e-06, 'reg_lambda': 3.79845223143515e-08}. Best is trial 292 with value: 0.7737373737373737.\u001b[0m\n",
      "\u001b[32m[I 2023-06-22 21:35:28,575]\u001b[0m Trial 447 finished with value: 0.6303030303030304 and parameters: {'n_estimators': 141, 'max_depth': 5, 'learning_rate': 0.010090959319240533, 'min_child_weight': 3, 'gamma': 7.547386149608919e-06, 'subsample': 0.09687304163839225, 'colsample_bytree': 0.16552824511217024, 'reg_alpha': 0.0018261123536423708, 'reg_lambda': 9.04050569432041e-05}. Best is trial 292 with value: 0.7737373737373737.\u001b[0m\n",
      "\u001b[32m[I 2023-06-22 21:35:28,885]\u001b[0m Trial 448 finished with value: 0.705050505050505 and parameters: {'n_estimators': 160, 'max_depth': 3, 'learning_rate': 0.1962653477868475, 'min_child_weight': 3, 'gamma': 0.000256250867219806, 'subsample': 0.055907055472319445, 'colsample_bytree': 0.18357467440536823, 'reg_alpha': 8.39333442740491e-07, 'reg_lambda': 2.1013348660063343e-06}. Best is trial 292 with value: 0.7737373737373737.\u001b[0m\n",
      "\u001b[32m[I 2023-06-22 21:35:29,492]\u001b[0m Trial 449 finished with value: 0.6454545454545454 and parameters: {'n_estimators': 418, 'max_depth': 4, 'learning_rate': 0.2572304251414479, 'min_child_weight': 3, 'gamma': 0.00048623939274607586, 'subsample': 0.5848357911026069, 'colsample_bytree': 0.1077733144382516, 'reg_alpha': 1.758460295872467e-06, 'reg_lambda': 0.6269442343237543}. Best is trial 292 with value: 0.7737373737373737.\u001b[0m\n",
      "\u001b[32m[I 2023-06-22 21:35:30,015]\u001b[0m Trial 450 finished with value: 0.7484848484848485 and parameters: {'n_estimators': 443, 'max_depth': 5, 'learning_rate': 0.38495473557453225, 'min_child_weight': 3, 'gamma': 5.336891624661716e-06, 'subsample': 0.11208884864514489, 'colsample_bytree': 0.4298026671677613, 'reg_alpha': 1.9818774165825076e-05, 'reg_lambda': 3.50252850904816e-07}. Best is trial 292 with value: 0.7737373737373737.\u001b[0m\n",
      "\u001b[32m[I 2023-06-22 21:35:30,643]\u001b[0m Trial 451 finished with value: 0.7424242424242424 and parameters: {'n_estimators': 442, 'max_depth': 5, 'learning_rate': 0.4108585540433532, 'min_child_weight': 3, 'gamma': 6.509085664033829e-06, 'subsample': 0.13333107598664964, 'colsample_bytree': 0.44739768460827906, 'reg_alpha': 2.5750485890236858e-05, 'reg_lambda': 3.03092224526577e-07}. Best is trial 292 with value: 0.7737373737373737.\u001b[0m\n",
      "\u001b[32m[I 2023-06-22 21:35:31,220]\u001b[0m Trial 452 finished with value: 0.7333333333333333 and parameters: {'n_estimators': 434, 'max_depth': 3, 'learning_rate': 0.2944650154449162, 'min_child_weight': 3, 'gamma': 4.7040220727678e-06, 'subsample': 0.08885590492080189, 'colsample_bytree': 0.49795815051803793, 'reg_alpha': 1.0260041306527695e-05, 'reg_lambda': 5.130850200293908e-07}. Best is trial 292 with value: 0.7737373737373737.\u001b[0m\n",
      "\u001b[32m[I 2023-06-22 21:35:32,058]\u001b[0m Trial 453 finished with value: 0.6393939393939394 and parameters: {'n_estimators': 444, 'max_depth': 5, 'learning_rate': 0.29895847248590257, 'min_child_weight': 2, 'gamma': 2.1989474271131437e-06, 'subsample': 0.7868616536286527, 'colsample_bytree': 0.12213743305943232, 'reg_alpha': 4.226225186539838e-06, 'reg_lambda': 2.0595241502470124e-07}. Best is trial 292 with value: 0.7737373737373737.\u001b[0m\n",
      "\u001b[32m[I 2023-06-22 21:35:32,436]\u001b[0m Trial 454 finished with value: 0.7505050505050506 and parameters: {'n_estimators': 186, 'max_depth': 5, 'learning_rate': 0.21475510426268762, 'min_child_weight': 3, 'gamma': 1.0684968627419279e-05, 'subsample': 0.09141402520611176, 'colsample_bytree': 0.3731765049878664, 'reg_alpha': 8.29362868874154e-06, 'reg_lambda': 8.941812166246401e-07}. Best is trial 292 with value: 0.7737373737373737.\u001b[0m\n",
      "\u001b[32m[I 2023-06-22 21:35:32,824]\u001b[0m Trial 455 finished with value: 0.6686868686868688 and parameters: {'n_estimators': 211, 'max_depth': 5, 'learning_rate': 0.3892696670443417, 'min_child_weight': 3, 'gamma': 9.031502336814032e-06, 'subsample': 0.23134034592551908, 'colsample_bytree': 0.3191455798014588, 'reg_alpha': 7.5755550960751866e-06, 'reg_lambda': 3.8332719522669997e-07}. Best is trial 292 with value: 0.7737373737373737.\u001b[0m\n",
      "\u001b[32m[I 2023-06-22 21:35:33,165]\u001b[0m Trial 456 finished with value: 0.7242424242424242 and parameters: {'n_estimators': 192, 'max_depth': 5, 'learning_rate': 0.33735958093830665, 'min_child_weight': 3, 'gamma': 1.2412989735720615e-05, 'subsample': 0.10046557998240448, 'colsample_bytree': 0.40903620045864614, 'reg_alpha': 1.4062908318773981e-05, 'reg_lambda': 4.0142931201219585e-05}. Best is trial 292 with value: 0.7737373737373737.\u001b[0m\n",
      "\u001b[32m[I 2023-06-22 21:35:33,529]\u001b[0m Trial 457 finished with value: 0.7434343434343433 and parameters: {'n_estimators': 204, 'max_depth': 5, 'learning_rate': 0.37086703274223515, 'min_child_weight': 3, 'gamma': 5.275357419615259e-06, 'subsample': 0.11035687692248405, 'colsample_bytree': 0.44172815429776313, 'reg_alpha': 0.0010033163985919066, 'reg_lambda': 0.0004883961903536672}. Best is trial 292 with value: 0.7737373737373737.\u001b[0m\n",
      "\u001b[32m[I 2023-06-22 21:35:33,916]\u001b[0m Trial 458 finished with value: 0.6959595959595959 and parameters: {'n_estimators': 189, 'max_depth': 5, 'learning_rate': 0.17018136565648437, 'min_child_weight': 3, 'gamma': 0.0008518723384917707, 'subsample': 0.30054865479807324, 'colsample_bytree': 0.463104562372903, 'reg_alpha': 6.93656295143451e-06, 'reg_lambda': 2.084399016750936e-08}. Best is trial 292 with value: 0.7737373737373737.\u001b[0m\n",
      "\u001b[32m[I 2023-06-22 21:35:34,435]\u001b[0m Trial 459 finished with value: 0.7434343434343433 and parameters: {'n_estimators': 451, 'max_depth': 5, 'learning_rate': 0.24880033679693764, 'min_child_weight': 3, 'gamma': 0.00033787630233759287, 'subsample': 0.11636737735776093, 'colsample_bytree': 0.08320000896100979, 'reg_alpha': 2.2504770736178313e-05, 'reg_lambda': 0.19796622659428542}. Best is trial 292 with value: 0.7737373737373737.\u001b[0m\n",
      "\u001b[32m[I 2023-06-22 21:35:34,939]\u001b[0m Trial 460 finished with value: 0.6858585858585858 and parameters: {'n_estimators': 425, 'max_depth': 5, 'learning_rate': 0.30635221578104443, 'min_child_weight': 3, 'gamma': 1.0997130577962924e-05, 'subsample': 0.08445638973737729, 'colsample_bytree': 0.0876040774661938, 'reg_alpha': 1.8724698552117815e-05, 'reg_lambda': 8.736390312356926e-07}. Best is trial 292 with value: 0.7737373737373737.\u001b[0m\n",
      "\u001b[32m[I 2023-06-22 21:35:35,468]\u001b[0m Trial 461 finished with value: 0.7494949494949495 and parameters: {'n_estimators': 437, 'max_depth': 5, 'learning_rate': 0.24141674969394314, 'min_child_weight': 3, 'gamma': 3.6074948969286635e-06, 'subsample': 0.09366590839667185, 'colsample_bytree': 0.3776035496795176, 'reg_alpha': 1.194276926567514e-05, 'reg_lambda': 1.0976228991470264e-07}. Best is trial 292 with value: 0.7737373737373737.\u001b[0m\n",
      "\u001b[32m[I 2023-06-22 21:35:35,903]\u001b[0m Trial 462 finished with value: 0.7404040404040404 and parameters: {'n_estimators': 205, 'max_depth': 5, 'learning_rate': 0.1787626366376378, 'min_child_weight': 3, 'gamma': 3.357456173502318e-06, 'subsample': 0.08991711109762342, 'colsample_bytree': 0.34679462055439597, 'reg_alpha': 1.548994716314983e-05, 'reg_lambda': 2.0105414197618808e-07}. Best is trial 292 with value: 0.7737373737373737.\u001b[0m\n",
      "\u001b[32m[I 2023-06-22 21:35:36,292]\u001b[0m Trial 463 finished with value: 0.7040404040404041 and parameters: {'n_estimators': 181, 'max_depth': 5, 'learning_rate': 0.21965074872480636, 'min_child_weight': 2, 'gamma': 5.699102250869063e-06, 'subsample': 0.096656702631413, 'colsample_bytree': 0.42092997825785705, 'reg_alpha': 7.699915922838711e-06, 'reg_lambda': 3.0256070197953915e-05}. Best is trial 292 with value: 0.7737373737373737.\u001b[0m\n",
      "\u001b[32m[I 2023-06-22 21:35:36,697]\u001b[0m Trial 464 finished with value: 0.5 and parameters: {'n_estimators': 257, 'max_depth': 5, 'learning_rate': 0.2906730087755949, 'min_child_weight': 8, 'gamma': 4.7563834402764165e-06, 'subsample': 0.08120408519034239, 'colsample_bytree': 0.1548644113777088, 'reg_alpha': 6.139094487004563e-06, 'reg_lambda': 9.38276215518932e-08}. Best is trial 292 with value: 0.7737373737373737.\u001b[0m\n",
      "\u001b[32m[I 2023-06-22 21:35:37,204]\u001b[0m Trial 465 finished with value: 0.7343434343434343 and parameters: {'n_estimators': 336, 'max_depth': 5, 'learning_rate': 0.3798750034504086, 'min_child_weight': 3, 'gamma': 9.188430783303188e-06, 'subsample': 0.12906356710312347, 'colsample_bytree': 0.3396531822570417, 'reg_alpha': 1.06555299249646e-05, 'reg_lambda': 5.6710599826680584e-08}. Best is trial 292 with value: 0.7737373737373737.\u001b[0m\n",
      "\u001b[32m[I 2023-06-22 21:35:37,813]\u001b[0m Trial 466 finished with value: 0.6434343434343435 and parameters: {'n_estimators': 407, 'max_depth': 5, 'learning_rate': 0.2602360260425895, 'min_child_weight': 3, 'gamma': 2.0746919560738975e-06, 'subsample': 0.3441346695642297, 'colsample_bytree': 0.13565518456320902, 'reg_alpha': 6.331427782570161e-06, 'reg_lambda': 0.4780199435150952}. Best is trial 292 with value: 0.7737373737373737.\u001b[0m\n",
      "\u001b[32m[I 2023-06-22 21:35:38,477]\u001b[0m Trial 467 finished with value: 0.6646464646464646 and parameters: {'n_estimators': 431, 'max_depth': 5, 'learning_rate': 0.24470024586501057, 'min_child_weight': 3, 'gamma': 3.4361569922163886e-06, 'subsample': 0.5310256980971424, 'colsample_bytree': 0.37884039049122786, 'reg_alpha': 1.2467469195612394e-05, 'reg_lambda': 0.3337132923322323}. Best is trial 292 with value: 0.7737373737373737.\u001b[0m\n",
      "\u001b[32m[I 2023-06-22 21:35:38,935]\u001b[0m Trial 468 finished with value: 0.6595959595959595 and parameters: {'n_estimators': 216, 'max_depth': 5, 'learning_rate': 0.21421681704711035, 'min_child_weight': 3, 'gamma': 1.549171435387259e-05, 'subsample': 0.3717013737073333, 'colsample_bytree': 0.07524304067308848, 'reg_alpha': 9.144020420623887e-06, 'reg_lambda': 0.00029410649107493026}. Best is trial 292 with value: 0.7737373737373737.\u001b[0m\n",
      "\u001b[32m[I 2023-06-22 21:35:39,603]\u001b[0m Trial 469 finished with value: 0.5 and parameters: {'n_estimators': 439, 'max_depth': 5, 'learning_rate': 0.18399514790053004, 'min_child_weight': 3, 'gamma': 2.806656235328901e-06, 'subsample': 0.022033184873541313, 'colsample_bytree': 0.4014134772994327, 'reg_alpha': 4.277564829479228e-05, 'reg_lambda': 0.05470654388909927}. Best is trial 292 with value: 0.7737373737373737.\u001b[0m\n",
      "\u001b[32m[I 2023-06-22 21:35:40,069]\u001b[0m Trial 470 finished with value: 0.6242424242424243 and parameters: {'n_estimators': 241, 'max_depth': 5, 'learning_rate': 0.33450595794381266, 'min_child_weight': 2, 'gamma': 7.88114522993522e-08, 'subsample': 0.2040420529307198, 'colsample_bytree': 0.30890044786974813, 'reg_alpha': 3.243944758678633e-05, 'reg_lambda': 0.18329864861834347}. Best is trial 292 with value: 0.7737373737373737.\u001b[0m\n",
      "\u001b[32m[I 2023-06-22 21:35:40,622]\u001b[0m Trial 471 finished with value: 0.706060606060606 and parameters: {'n_estimators': 419, 'max_depth': 5, 'learning_rate': 0.24126576355348842, 'min_child_weight': 3, 'gamma': 8.929041413553095e-06, 'subsample': 0.09123517816877133, 'colsample_bytree': 0.3760594121585907, 'reg_alpha': 1.7879602590768004e-05, 'reg_lambda': 0.1334269557348765}. Best is trial 292 with value: 0.7737373737373737.\u001b[0m\n",
      "\u001b[32m[I 2023-06-22 21:35:41,000]\u001b[0m Trial 472 finished with value: 0.7272727272727273 and parameters: {'n_estimators': 197, 'max_depth': 5, 'learning_rate': 0.16786044138107356, 'min_child_weight': 3, 'gamma': 6.108903296798172e-06, 'subsample': 0.07350679298155055, 'colsample_bytree': 0.5296367754008809, 'reg_alpha': 3.7430780635126294e-06, 'reg_lambda': 0.00012750625990963843}. Best is trial 292 with value: 0.7737373737373737.\u001b[0m\n",
      "\u001b[32m[I 2023-06-22 21:35:41,650]\u001b[0m Trial 473 finished with value: 0.6717171717171717 and parameters: {'n_estimators': 437, 'max_depth': 5, 'learning_rate': 0.28402653379760606, 'min_child_weight': 7, 'gamma': 0.00046595801273957886, 'subsample': 0.40647942292975575, 'colsample_bytree': 0.0671902538678002, 'reg_alpha': 0.00028599670661876974, 'reg_lambda': 1.5507135128105782e-07}. Best is trial 292 with value: 0.7737373737373737.\u001b[0m\n",
      "\u001b[32m[I 2023-06-22 21:35:42,202]\u001b[0m Trial 474 finished with value: 0.7454545454545455 and parameters: {'n_estimators': 447, 'max_depth': 4, 'learning_rate': 0.2276536463834236, 'min_child_weight': 3, 'gamma': 0.5630421129795065, 'subsample': 0.1140302033637177, 'colsample_bytree': 0.04938294238619843, 'reg_alpha': 3.0034726441619616e-06, 'reg_lambda': 5.361339835853361e-05}. Best is trial 292 with value: 0.7737373737373737.\u001b[0m\n",
      "\u001b[32m[I 2023-06-22 21:35:42,786]\u001b[0m Trial 475 finished with value: 0.7080808080808081 and parameters: {'n_estimators': 428, 'max_depth': 6, 'learning_rate': 0.23386078714017328, 'min_child_weight': 3, 'gamma': 0.0006774871832232072, 'subsample': 0.18482192223041496, 'colsample_bytree': 0.18642397844560255, 'reg_alpha': 0.0029912695442022874, 'reg_lambda': 1.0453606115439736e-05}. Best is trial 292 with value: 0.7737373737373737.\u001b[0m\n",
      "\u001b[32m[I 2023-06-22 21:35:43,399]\u001b[0m Trial 476 finished with value: 0.6737373737373737 and parameters: {'n_estimators': 452, 'max_depth': 5, 'learning_rate': 0.271382251521601, 'min_child_weight': 3, 'gamma': 4.372145651274958e-06, 'subsample': 0.10341606670091152, 'colsample_bytree': 0.6458164436048718, 'reg_alpha': 9.084340089351484e-06, 'reg_lambda': 1.0367831273354954e-07}. Best is trial 292 with value: 0.7737373737373737.\u001b[0m\n",
      "\u001b[32m[I 2023-06-22 21:35:43,967]\u001b[0m Trial 477 finished with value: 0.7363636363636363 and parameters: {'n_estimators': 437, 'max_depth': 2, 'learning_rate': 0.25079795926807236, 'min_child_weight': 3, 'gamma': 0.0003567575539726022, 'subsample': 0.0654439998049511, 'colsample_bytree': 0.42348778282865657, 'reg_alpha': 5.593621049339774e-06, 'reg_lambda': 2.0956883370731114e-05}. Best is trial 292 with value: 0.7737373737373737.\u001b[0m\n",
      "\u001b[32m[I 2023-06-22 21:35:44,608]\u001b[0m Trial 478 finished with value: 0.6868686868686869 and parameters: {'n_estimators': 447, 'max_depth': 3, 'learning_rate': 0.1945242397872089, 'min_child_weight': 3, 'gamma': 0.0002396893206365219, 'subsample': 0.24654942603704988, 'colsample_bytree': 0.4949753087275721, 'reg_alpha': 1.7515669068475457e-08, 'reg_lambda': 0.1009824763211817}. Best is trial 292 with value: 0.7737373737373737.\u001b[0m\n",
      "\u001b[32m[I 2023-06-22 21:35:45,176]\u001b[0m Trial 479 finished with value: 0.7282828282828282 and parameters: {'n_estimators': 459, 'max_depth': 2, 'learning_rate': 0.13213472880649527, 'min_child_weight': 2, 'gamma': 1.7354979725293667e-05, 'subsample': 0.07912057980662043, 'colsample_bytree': 0.28616869119760596, 'reg_alpha': 1.776235766981531e-05, 'reg_lambda': 0.7532748465491507}. Best is trial 292 with value: 0.7737373737373737.\u001b[0m\n",
      "\u001b[32m[I 2023-06-22 21:35:45,564]\u001b[0m Trial 480 finished with value: 0.7272727272727272 and parameters: {'n_estimators': 200, 'max_depth': 5, 'learning_rate': 0.42863376907051925, 'min_child_weight': 3, 'gamma': 1.6288937684541355e-06, 'subsample': 0.09303242793699801, 'colsample_bytree': 0.3597498015865708, 'reg_alpha': 0.013845472906674625, 'reg_lambda': 0.3038242431135277}. Best is trial 292 with value: 0.7737373737373737.\u001b[0m\n",
      "\u001b[32m[I 2023-06-22 21:35:46,056]\u001b[0m Trial 481 finished with value: 0.6282828282828282 and parameters: {'n_estimators': 424, 'max_depth': 2, 'learning_rate': 0.31077901053124124, 'min_child_weight': 6, 'gamma': 2.218128570628234e-05, 'subsample': 0.06616519968041706, 'colsample_bytree': 0.05707135909291977, 'reg_alpha': 0.00013057193497994222, 'reg_lambda': 3.865554154748391e-07}. Best is trial 292 with value: 0.7737373737373737.\u001b[0m\n",
      "\u001b[32m[I 2023-06-22 21:35:46,352]\u001b[0m Trial 482 finished with value: 0.6828282828282828 and parameters: {'n_estimators': 58, 'max_depth': 6, 'learning_rate': 0.3285861757967916, 'min_child_weight': 1, 'gamma': 0.0010622921811880947, 'subsample': 0.9993579994954296, 'colsample_bytree': 0.016504423107077525, 'reg_alpha': 1.4378453831749448e-05, 'reg_lambda': 0.034563461861426434}. Best is trial 292 with value: 0.7737373737373737.\u001b[0m\n",
      "\u001b[32m[I 2023-06-22 21:35:46,971]\u001b[0m Trial 483 finished with value: 0.7262626262626263 and parameters: {'n_estimators': 440, 'max_depth': 7, 'learning_rate': 0.21291699133400543, 'min_child_weight': 3, 'gamma': 7.197603497217248e-06, 'subsample': 0.161813192366898, 'colsample_bytree': 0.22564283771649016, 'reg_alpha': 5.6323778252898414e-05, 'reg_lambda': 0.2563424152172034}. Best is trial 292 with value: 0.7737373737373737.\u001b[0m\n",
      "\u001b[32m[I 2023-06-22 21:35:47,618]\u001b[0m Trial 484 finished with value: 0.704040404040404 and parameters: {'n_estimators': 457, 'max_depth': 4, 'learning_rate': 0.3643160412569787, 'min_child_weight': 3, 'gamma': 0.0005908759212069962, 'subsample': 0.23014810316224396, 'colsample_bytree': 0.018910703201443023, 'reg_alpha': 3.5862409250749914e-06, 'reg_lambda': 0.0029549676676446862}. Best is trial 292 with value: 0.7737373737373737.\u001b[0m\n",
      "\u001b[32m[I 2023-06-22 21:35:47,945]\u001b[0m Trial 485 finished with value: 0.7424242424242424 and parameters: {'n_estimators': 147, 'max_depth': 3, 'learning_rate': 0.2011907537790274, 'min_child_weight': 3, 'gamma': 0.0002916287321776576, 'subsample': 0.07676427948471608, 'colsample_bytree': 0.09831859053579295, 'reg_alpha': 2.435126972636621e-06, 'reg_lambda': 0.07911696534980976}. Best is trial 292 with value: 0.7737373737373737.\u001b[0m\n",
      "\u001b[32m[I 2023-06-22 21:35:48,405]\u001b[0m Trial 486 finished with value: 0.7080808080808081 and parameters: {'n_estimators': 127, 'max_depth': 2, 'learning_rate': 0.15606681565827912, 'min_child_weight': 3, 'gamma': 2.738576591520317e-06, 'subsample': 0.8490313353950564, 'colsample_bytree': 0.1093508230209299, 'reg_alpha': 0.03258003427254052, 'reg_lambda': 0.4691319057341616}. Best is trial 292 with value: 0.7737373737373737.\u001b[0m\n",
      "\u001b[32m[I 2023-06-22 21:35:49,082]\u001b[0m Trial 487 finished with value: 0.7141414141414141 and parameters: {'n_estimators': 302, 'max_depth': 5, 'learning_rate': 0.3207986240764352, 'min_child_weight': 5, 'gamma': 0.00017753711877914317, 'subsample': 0.08418365615082252, 'colsample_bytree': 0.6061214112229448, 'reg_alpha': 0.0004340529473424981, 'reg_lambda': 5.741311484590428e-07}. Best is trial 292 with value: 0.7737373737373737.\u001b[0m\n",
      "\u001b[32m[I 2023-06-22 21:35:49,735]\u001b[0m Trial 488 finished with value: 0.6808080808080808 and parameters: {'n_estimators': 433, 'max_depth': 5, 'learning_rate': 0.27821312611876614, 'min_child_weight': 2, 'gamma': 0.00033402947812064514, 'subsample': 0.06171918596982687, 'colsample_bytree': 0.27400968544051163, 'reg_alpha': 0.005734796678524829, 'reg_lambda': 0.00019686753651769815}. Best is trial 292 with value: 0.7737373737373737.\u001b[0m\n",
      "\u001b[32m[I 2023-06-22 21:35:50,190]\u001b[0m Trial 489 finished with value: 0.7333333333333333 and parameters: {'n_estimators': 228, 'max_depth': 6, 'learning_rate': 0.2874877434636237, 'min_child_weight': 3, 'gamma': 1.1386883282314804e-05, 'subsample': 0.1428201745541654, 'colsample_bytree': 0.06413794563845318, 'reg_alpha': 4.869625107125834e-06, 'reg_lambda': 0.024578748875263987}. Best is trial 292 with value: 0.7737373737373737.\u001b[0m\n",
      "\u001b[32m[I 2023-06-22 21:35:50,752]\u001b[0m Trial 490 finished with value: 0.7393939393939394 and parameters: {'n_estimators': 450, 'max_depth': 2, 'learning_rate': 0.34748533285266475, 'min_child_weight': 3, 'gamma': 0.00018883715133279793, 'subsample': 0.1048370970682717, 'colsample_bytree': 0.09428148031354099, 'reg_alpha': 2.922845840678386e-08, 'reg_lambda': 0.1482543394930288}. Best is trial 292 with value: 0.7737373737373737.\u001b[0m\n",
      "\u001b[32m[I 2023-06-22 21:35:51,457]\u001b[0m Trial 491 finished with value: 0.6808080808080808 and parameters: {'n_estimators': 412, 'max_depth': 7, 'learning_rate': 0.4524153613503956, 'min_child_weight': 3, 'gamma': 0.0005581630252880338, 'subsample': 0.44500242384984895, 'colsample_bytree': 0.4736322940382482, 'reg_alpha': 7.17858491422565e-08, 'reg_lambda': 1.6552480329444723e-05}. Best is trial 292 with value: 0.7737373737373737.\u001b[0m\n",
      "\u001b[32m[I 2023-06-22 21:35:52,039]\u001b[0m Trial 492 finished with value: 0.7333333333333333 and parameters: {'n_estimators': 460, 'max_depth': 3, 'learning_rate': 0.39703197252650047, 'min_child_weight': 4, 'gamma': 0.0019243537757238393, 'subsample': 0.0704039800004422, 'colsample_bytree': 0.2516164205621689, 'reg_alpha': 0.00031710216827782195, 'reg_lambda': 2.8425527204183287e-07}. Best is trial 292 with value: 0.7737373737373737.\u001b[0m\n",
      "\u001b[32m[I 2023-06-22 21:35:52,480]\u001b[0m Trial 493 finished with value: 0.6545454545454545 and parameters: {'n_estimators': 216, 'max_depth': 2, 'learning_rate': 0.30870132418067964, 'min_child_weight': 3, 'gamma': 0.0010044508068183199, 'subsample': 0.5657077811156738, 'colsample_bytree': 0.5566932677156539, 'reg_alpha': 6.546089273902679e-05, 'reg_lambda': 0.00033804600234177033}. Best is trial 292 with value: 0.7737373737373737.\u001b[0m\n",
      "\u001b[32m[I 2023-06-22 21:35:53,157]\u001b[0m Trial 494 finished with value: 0.7171717171717171 and parameters: {'n_estimators': 447, 'max_depth': 2, 'learning_rate': 0.350808869250347, 'min_child_weight': 4, 'gamma': 0.00025429997908624967, 'subsample': 0.2588753490296404, 'colsample_bytree': 0.020523276654148884, 'reg_alpha': 0.002240920286672235, 'reg_lambda': 0.004508924254737578}. Best is trial 292 with value: 0.7737373737373737.\u001b[0m\n",
      "\u001b[32m[I 2023-06-22 21:35:53,549]\u001b[0m Trial 495 finished with value: 0.5 and parameters: {'n_estimators': 190, 'max_depth': 7, 'learning_rate': 0.26283036260882386, 'min_child_weight': 5, 'gamma': 4.169790568714716e-06, 'subsample': 0.05723382365224443, 'colsample_bytree': 0.139925224627669, 'reg_alpha': 2.4692700376487725e-05, 'reg_lambda': 4.504583430101797e-08}. Best is trial 292 with value: 0.7737373737373737.\u001b[0m\n",
      "\u001b[32m[I 2023-06-22 21:35:54,314]\u001b[0m Trial 496 finished with value: 0.6585858585858586 and parameters: {'n_estimators': 429, 'max_depth': 4, 'learning_rate': 0.18197295316940015, 'min_child_weight': 4, 'gamma': 0.00042344368272489665, 'subsample': 0.6934667587161106, 'colsample_bytree': 0.42760658121291156, 'reg_alpha': 1.419249517036974e-07, 'reg_lambda': 5.527700663029013e-06}. Best is trial 292 with value: 0.7737373737373737.\u001b[0m\n",
      "\u001b[32m[I 2023-06-22 21:35:54,941]\u001b[0m Trial 497 finished with value: 0.6636363636363637 and parameters: {'n_estimators': 277, 'max_depth': 5, 'learning_rate': 0.2328292185788243, 'min_child_weight': 2, 'gamma': 0.00016665464620230328, 'subsample': 0.1521597008378472, 'colsample_bytree': 0.015056780362668871, 'reg_alpha': 1.7721007240429029e-06, 'reg_lambda': 0.214284905504528}. Best is trial 292 with value: 0.7737373737373737.\u001b[0m\n",
      "\u001b[32m[I 2023-06-22 21:35:55,770]\u001b[0m Trial 498 finished with value: 0.6404040404040403 and parameters: {'n_estimators': 456, 'max_depth': 6, 'learning_rate': 0.37588811076764295, 'min_child_weight': 3, 'gamma': 2.1909727346220172e-05, 'subsample': 0.5141010645567129, 'colsample_bytree': 0.3271866356960933, 'reg_alpha': 1.115027823876679e-05, 'reg_lambda': 2.6571181172156433e-05}. Best is trial 292 with value: 0.7737373737373737.\u001b[0m\n",
      "\u001b[32m[I 2023-06-22 21:35:56,619]\u001b[0m Trial 499 finished with value: 0.6525252525252525 and parameters: {'n_estimators': 441, 'max_depth': 3, 'learning_rate': 0.32228850012883337, 'min_child_weight': 4, 'gamma': 0.0002632075097857152, 'subsample': 0.27949109830455343, 'colsample_bytree': 0.532723805157433, 'reg_alpha': 0.0014073044830067959, 'reg_lambda': 1.3469134288386177e-06}. Best is trial 292 with value: 0.7737373737373737.\u001b[0m\n"
     ]
    },
    {
     "name": "stdout",
     "output_type": "stream",
     "text": [
      "Number of finished trials: 500\n",
      "Best trial:\n",
      "  Value: 0.7737373737373737\n",
      "  Params: \n",
      "    n_estimators: 427\n",
      "    max_depth: 2\n",
      "    learning_rate: 0.6832540436860263\n",
      "    min_child_weight: 4\n",
      "    gamma: 0.000253512946225316\n",
      "    subsample: 0.059669344770691204\n",
      "    colsample_bytree: 0.022937759362079684\n",
      "    reg_alpha: 1.5675655042917814e-07\n",
      "    reg_lambda: 0.2629595577474852\n"
     ]
    }
   ],
   "source": [
    "study = optuna.create_study(direction='maximize')\n",
    "study.optimize(objective, n_trials=500)\n",
    "\n",
    "print('Number of finished trials: {}'.format(len(study.trials)))\n",
    "print('Best trial:')\n",
    "trial = study.best_trial\n",
    "\n",
    "print('  Value: {}'.format(trial.value))\n",
    "print('  Params: ')\n",
    "\n",
    "for key, value in trial.params.items():\n",
    "    print('    {}: {}'.format(key, value))"
   ]
  },
  {
   "cell_type": "code",
   "execution_count": 36,
   "metadata": {},
   "outputs": [
    {
     "name": "stdout",
     "output_type": "stream",
     "text": [
      "[21:39:33] WARNING: C:\\Users\\dev-admin\\croot\\xgboost-split_1675120659361\\work\\src\\learner.cc:1115: Starting in XGBoost 1.3.0, the default evaluation metric used with the objective 'binary:logistic' was changed from 'error' to 'logloss'. Explicitly set eval_metric if you'd like to restore the old behavior.\n"
     ]
    },
    {
     "data": {
      "text/plain": [
       "XGBClassifier(base_score=0.5, booster='gbtree', colsample_bylevel=1,\n",
       "              colsample_bynode=1, colsample_bytree=0.022937759362079684,\n",
       "              enable_categorical=False, gamma=0.000253512946225316, gpu_id=-1,\n",
       "              importance_type=None, interaction_constraints='',\n",
       "              learning_rate=0.6832540436860263, max_delta_step=0, max_depth=2,\n",
       "              min_child_weight=4, missing=nan, monotone_constraints='()',\n",
       "              n_estimators=427, n_jobs=12, num_parallel_tree=1,\n",
       "              predictor='auto', random_state=0,\n",
       "              reg_alpha=1.5675655042917814e-07, reg_lambda=0.2629595577474852,\n",
       "              scale_pos_weight=1, subsample=0.059669344770691204,\n",
       "              tree_method='exact', validate_parameters=1, verbosity=None)"
      ]
     },
     "execution_count": 36,
     "metadata": {},
     "output_type": "execute_result"
    }
   ],
   "source": [
    "params = trial.params\n",
    "\n",
    "optuna_xgb = XGBClassifier(**params)\n",
    "optuna_xgb.fit(x_train, y_train)"
   ]
  },
  {
   "cell_type": "code",
   "execution_count": 41,
   "metadata": {},
   "outputs": [],
   "source": [
    "optuna_xgb_pred = optuna_xgb.predict(x_test)"
   ]
  },
  {
   "cell_type": "code",
   "execution_count": 45,
   "metadata": {},
   "outputs": [
    {
     "name": "stdout",
     "output_type": "stream",
     "text": [
      "              precision    recall  f1-score   support\n",
      "\n",
      "           0       0.84      0.84      0.84        99\n",
      "           1       0.71      0.71      0.71        55\n",
      "\n",
      "    accuracy                           0.79       154\n",
      "   macro avg       0.77      0.77      0.77       154\n",
      "weighted avg       0.79      0.79      0.79       154\n",
      "\n"
     ]
    },
    {
     "data": {
      "image/png": "[encoded data removed]",
      "text/plain": [
       "<Figure size 432x288 with 2 Axes>"
      ]
     },
     "metadata": {
      "needs_background": "light"
     },
     "output_type": "display_data"
    }
   ],
   "source": [
    "model_evaluation(optuna_xgb, x_test, y_test)"
   ]
  },
  {
   "cell_type": "code",
   "execution_count": 46,
   "metadata": {},
   "outputs": [
    {
     "name": "stdout",
     "output_type": "stream",
     "text": [
      "[21:44:11] WARNING: C:\\Users\\dev-admin\\croot\\xgboost-split_1675120659361\\work\\src\\learner.cc:1115: Starting in XGBoost 1.3.0, the default evaluation metric used with the objective 'binary:logistic' was changed from 'error' to 'logloss'. Explicitly set eval_metric if you'd like to restore the old behavior.\n",
      "[21:44:11] WARNING: C:\\Users\\dev-admin\\croot\\xgboost-split_1675120659361\\work\\src\\learner.cc:1115: Starting in XGBoost 1.3.0, the default evaluation metric used with the objective 'binary:logistic' was changed from 'error' to 'logloss'. Explicitly set eval_metric if you'd like to restore the old behavior.\n",
      "[21:44:11] WARNING: C:\\Users\\dev-admin\\croot\\xgboost-split_1675120659361\\work\\src\\learner.cc:1115: Starting in XGBoost 1.3.0, the default evaluation metric used with the objective 'binary:logistic' was changed from 'error' to 'logloss'. Explicitly set eval_metric if you'd like to restore the old behavior.\n",
      "[21:44:12] WARNING: C:\\Users\\dev-admin\\croot\\xgboost-split_1675120659361\\work\\src\\learner.cc:1115: Starting in XGBoost 1.3.0, the default evaluation metric used with the objective 'binary:logistic' was changed from 'error' to 'logloss'. Explicitly set eval_metric if you'd like to restore the old behavior.\n",
      "[21:44:12] WARNING: C:\\Users\\dev-admin\\croot\\xgboost-split_1675120659361\\work\\src\\learner.cc:1115: Starting in XGBoost 1.3.0, the default evaluation metric used with the objective 'binary:logistic' was changed from 'error' to 'logloss'. Explicitly set eval_metric if you'd like to restore the old behavior.\n",
      "[21:44:12] WARNING: C:\\Users\\dev-admin\\croot\\xgboost-split_1675120659361\\work\\src\\learner.cc:1115: Starting in XGBoost 1.3.0, the default evaluation metric used with the objective 'binary:logistic' was changed from 'error' to 'logloss'. Explicitly set eval_metric if you'd like to restore the old behavior.\n",
      "[21:44:13] WARNING: C:\\Users\\dev-admin\\croot\\xgboost-split_1675120659361\\work\\src\\learner.cc:1115: Starting in XGBoost 1.3.0, the default evaluation metric used with the objective 'binary:logistic' was changed from 'error' to 'logloss'. Explicitly set eval_metric if you'd like to restore the old behavior.\n",
      "[21:44:13] WARNING: C:\\Users\\dev-admin\\croot\\xgboost-split_1675120659361\\work\\src\\learner.cc:1115: Starting in XGBoost 1.3.0, the default evaluation metric used with the objective 'binary:logistic' was changed from 'error' to 'logloss'. Explicitly set eval_metric if you'd like to restore the old behavior.\n",
      "[21:44:13] WARNING: C:\\Users\\dev-admin\\croot\\xgboost-split_1675120659361\\work\\src\\learner.cc:1115: Starting in XGBoost 1.3.0, the default evaluation metric used with the objective 'binary:logistic' was changed from 'error' to 'logloss'. Explicitly set eval_metric if you'd like to restore the old behavior.\n",
      "[21:44:14] WARNING: C:\\Users\\dev-admin\\croot\\xgboost-split_1675120659361\\work\\src\\learner.cc:1115: Starting in XGBoost 1.3.0, the default evaluation metric used with the objective 'binary:logistic' was changed from 'error' to 'logloss'. Explicitly set eval_metric if you'd like to restore the old behavior.\n",
      "[21:44:14] WARNING: C:\\Users\\dev-admin\\croot\\xgboost-split_1675120659361\\work\\src\\learner.cc:1115: Starting in XGBoost 1.3.0, the default evaluation metric used with the objective 'binary:logistic' was changed from 'error' to 'logloss'. Explicitly set eval_metric if you'd like to restore the old behavior.\n",
      "[21:44:14] WARNING: C:\\Users\\dev-admin\\croot\\xgboost-split_1675120659361\\work\\src\\learner.cc:1115: Starting in XGBoost 1.3.0, the default evaluation metric used with the objective 'binary:logistic' was changed from 'error' to 'logloss'. Explicitly set eval_metric if you'd like to restore the old behavior.\n",
      "[21:44:15] WARNING: C:\\Users\\dev-admin\\croot\\xgboost-split_1675120659361\\work\\src\\learner.cc:1115: Starting in XGBoost 1.3.0, the default evaluation metric used with the objective 'binary:logistic' was changed from 'error' to 'logloss'. Explicitly set eval_metric if you'd like to restore the old behavior.\n",
      "[21:44:15] WARNING: C:\\Users\\dev-admin\\croot\\xgboost-split_1675120659361\\work\\src\\learner.cc:1115: Starting in XGBoost 1.3.0, the default evaluation metric used with the objective 'binary:logistic' was changed from 'error' to 'logloss'. Explicitly set eval_metric if you'd like to restore the old behavior.\n",
      "[21:44:15] WARNING: C:\\Users\\dev-admin\\croot\\xgboost-split_1675120659361\\work\\src\\learner.cc:1115: Starting in XGBoost 1.3.0, the default evaluation metric used with the objective 'binary:logistic' was changed from 'error' to 'logloss'. Explicitly set eval_metric if you'd like to restore the old behavior.\n",
      "[21:44:15] WARNING: C:\\Users\\dev-admin\\croot\\xgboost-split_1675120659361\\work\\src\\learner.cc:1115: Starting in XGBoost 1.3.0, the default evaluation metric used with the objective 'binary:logistic' was changed from 'error' to 'logloss'. Explicitly set eval_metric if you'd like to restore the old behavior.\n",
      "[21:44:16] WARNING: C:\\Users\\dev-admin\\croot\\xgboost-split_1675120659361\\work\\src\\learner.cc:1115: Starting in XGBoost 1.3.0, the default evaluation metric used with the objective 'binary:logistic' was changed from 'error' to 'logloss'. Explicitly set eval_metric if you'd like to restore the old behavior.\n",
      "[21:44:16] WARNING: C:\\Users\\dev-admin\\croot\\xgboost-split_1675120659361\\work\\src\\learner.cc:1115: Starting in XGBoost 1.3.0, the default evaluation metric used with the objective 'binary:logistic' was changed from 'error' to 'logloss'. Explicitly set eval_metric if you'd like to restore the old behavior.\n",
      "[21:44:16] WARNING: C:\\Users\\dev-admin\\croot\\xgboost-split_1675120659361\\work\\src\\learner.cc:1115: Starting in XGBoost 1.3.0, the default evaluation metric used with the objective 'binary:logistic' was changed from 'error' to 'logloss'. Explicitly set eval_metric if you'd like to restore the old behavior.\n",
      "[21:44:17] WARNING: C:\\Users\\dev-admin\\croot\\xgboost-split_1675120659361\\work\\src\\learner.cc:1115: Starting in XGBoost 1.3.0, the default evaluation metric used with the objective 'binary:logistic' was changed from 'error' to 'logloss'. Explicitly set eval_metric if you'd like to restore the old behavior.\n",
      "[21:44:17] WARNING: C:\\Users\\dev-admin\\croot\\xgboost-split_1675120659361\\work\\src\\learner.cc:1115: Starting in XGBoost 1.3.0, the default evaluation metric used with the objective 'binary:logistic' was changed from 'error' to 'logloss'. Explicitly set eval_metric if you'd like to restore the old behavior.\n",
      "[21:44:17] WARNING: C:\\Users\\dev-admin\\croot\\xgboost-split_1675120659361\\work\\src\\learner.cc:1115: Starting in XGBoost 1.3.0, the default evaluation metric used with the objective 'binary:logistic' was changed from 'error' to 'logloss'. Explicitly set eval_metric if you'd like to restore the old behavior.\n",
      "[21:44:18] WARNING: C:\\Users\\dev-admin\\croot\\xgboost-split_1675120659361\\work\\src\\learner.cc:1115: Starting in XGBoost 1.3.0, the default evaluation metric used with the objective 'binary:logistic' was changed from 'error' to 'logloss'. Explicitly set eval_metric if you'd like to restore the old behavior.\n",
      "[21:44:18] WARNING: C:\\Users\\dev-admin\\croot\\xgboost-split_1675120659361\\work\\src\\learner.cc:1115: Starting in XGBoost 1.3.0, the default evaluation metric used with the objective 'binary:logistic' was changed from 'error' to 'logloss'. Explicitly set eval_metric if you'd like to restore the old behavior.\n",
      "[21:44:18] WARNING: C:\\Users\\dev-admin\\croot\\xgboost-split_1675120659361\\work\\src\\learner.cc:1115: Starting in XGBoost 1.3.0, the default evaluation metric used with the objective 'binary:logistic' was changed from 'error' to 'logloss'. Explicitly set eval_metric if you'd like to restore the old behavior.\n",
      "[21:44:19] WARNING: C:\\Users\\dev-admin\\croot\\xgboost-split_1675120659361\\work\\src\\learner.cc:1115: Starting in XGBoost 1.3.0, the default evaluation metric used with the objective 'binary:logistic' was changed from 'error' to 'logloss'. Explicitly set eval_metric if you'd like to restore the old behavior.\n",
      "[21:44:19] WARNING: C:\\Users\\dev-admin\\croot\\xgboost-split_1675120659361\\work\\src\\learner.cc:1115: Starting in XGBoost 1.3.0, the default evaluation metric used with the objective 'binary:logistic' was changed from 'error' to 'logloss'. Explicitly set eval_metric if you'd like to restore the old behavior.\n",
      "[21:44:19] WARNING: C:\\Users\\dev-admin\\croot\\xgboost-split_1675120659361\\work\\src\\learner.cc:1115: Starting in XGBoost 1.3.0, the default evaluation metric used with the objective 'binary:logistic' was changed from 'error' to 'logloss'. Explicitly set eval_metric if you'd like to restore the old behavior.\n",
      "[21:44:19] WARNING: C:\\Users\\dev-admin\\croot\\xgboost-split_1675120659361\\work\\src\\learner.cc:1115: Starting in XGBoost 1.3.0, the default evaluation metric used with the objective 'binary:logistic' was changed from 'error' to 'logloss'. Explicitly set eval_metric if you'd like to restore the old behavior.\n",
      "[21:44:20] WARNING: C:\\Users\\dev-admin\\croot\\xgboost-split_1675120659361\\work\\src\\learner.cc:1115: Starting in XGBoost 1.3.0, the default evaluation metric used with the objective 'binary:logistic' was changed from 'error' to 'logloss'. Explicitly set eval_metric if you'd like to restore the old behavior.\n",
      "[21:44:20] WARNING: C:\\Users\\dev-admin\\croot\\xgboost-split_1675120659361\\work\\src\\learner.cc:1115: Starting in XGBoost 1.3.0, the default evaluation metric used with the objective 'binary:logistic' was changed from 'error' to 'logloss'. Explicitly set eval_metric if you'd like to restore the old behavior.\n",
      "Cross Validation Score :  75.84%\n",
      "ROC_AUC Score :  77.37%\n"
     ]
    },
    {
     "data": {
      "image/png": "[encoded data removed]",
      "text/plain": [
       "<Figure size 432x288 with 1 Axes>"
      ]
     },
     "metadata": {
      "needs_background": "light"
     },
     "output_type": "display_data"
    }
   ],
   "source": [
    "model(optuna_xgb,x_train,y_train,x_test,y_test)"
   ]
  },
  {
   "cell_type": "code",
   "execution_count": 39,
   "metadata": {},
   "outputs": [
    {
     "data": {
      "text/plain": [
       "<AxesSubplot:title={'center':'Feature importance'}, xlabel='F score', ylabel='Features'>"
      ]
     },
     "execution_count": 39,
     "metadata": {},
     "output_type": "execute_result"
    },
    {
     "data": {
      "image/png": "[encoded data removed]",
      "text/plain": [
       "<Figure size 432x288 with 1 Axes>"
      ]
     },
     "metadata": {
      "needs_background": "light"
     },
     "output_type": "display_data"
    }
   ],
   "source": [
    "plot_importance(optuna_xgb)"
   ]
  },
  {
   "attachments": {},
   "cell_type": "markdown",
   "metadata": {},
   "source": [
    "### comparing gridsearchcv and optuna"
   ]
  },
  {
   "cell_type": "code",
   "execution_count": 55,
   "metadata": {},
   "outputs": [
    {
     "data": {
      "image/png": "[encoded data removed]",
      "text/plain": [
       "<Figure size 720x576 with 1 Axes>"
      ]
     },
     "metadata": {
      "needs_background": "light"
     },
     "output_type": "display_data"
    }
   ],
   "source": [
    "from sklearn.metrics import roc_curve\n",
    "from sklearn.metrics import auc\n",
    "\n",
    "# Compute ROC curve and AUC for XGB_best\n",
    "fpr_xgb_best, tpr_xgb_best, thresholds_xgb_best = roc_curve(y_test, xgb_best.predict_proba(x_test)[:, 1])\n",
    "auc_xgb_best = auc(fpr_xgb_best, tpr_xgb_best)\n",
    "\n",
    "# Compute ROC curve and AUC for Optuna_XGB\n",
    "fpr_optuna_xgb, tpr_optuna_xgb, thresholds_optuna_xgb = roc_curve(y_test, optuna_xgb.predict_proba(x_test)[:, 1])\n",
    "auc_optuna_xgb = auc(fpr_optuna_xgb, tpr_optuna_xgb)\n",
    "\n",
    "# Plot ROC curves\n",
    "plt.figure(figsize=(10, 8))\n",
    "plt.plot(fpr_xgb_best, tpr_xgb_best, label='XGB_best (area = %0.2f)' % auc_xgb_best)\n",
    "plt.plot(fpr_optuna_xgb, tpr_optuna_xgb, label='Optuna_XGB (area = %0.2f)' % auc_optuna_xgb)\n",
    "plt.plot([0, 1], [0, 1], 'k--')\n",
    "plt.xlim([-0.01, 1.0])\n",
    "plt.ylim([0.0, 1.01])\n",
    "plt.xlabel('False Positive Rate', fontsize=14)\n",
    "plt.ylabel('True Positive Rate', fontsize=14)\n",
    "plt.title('ROC curve', fontsize=14)\n",
    "plt.legend(loc=\"lower right\")\n",
    "plt.show()"
   ]
  },
  {
   "cell_type": "code",
   "execution_count": 57,
   "metadata": {},
   "outputs": [
    {
     "name": "stdout",
     "output_type": "stream",
     "text": [
      "              precision    recall  f1-score   support\n",
      "\n",
      "           0       0.80      0.83      0.82        99\n",
      "           1       0.67      0.64      0.65        55\n",
      "\n",
      "    accuracy                           0.76       154\n",
      "   macro avg       0.74      0.73      0.74       154\n",
      "weighted avg       0.76      0.76      0.76       154\n",
      "\n"
     ]
    },
    {
     "data": {
      "image/png": "[encoded data removed]",
      "text/plain": [
       "<Figure size 432x288 with 2 Axes>"
      ]
     },
     "metadata": {
      "needs_background": "light"
     },
     "output_type": "display_data"
    }
   ],
   "source": [
    "model_evaluation(xgb_best, x_test, y_test)"
   ]
  },
  {
   "cell_type": "code",
   "execution_count": 59,
   "metadata": {},
   "outputs": [
    {
     "name": "stdout",
     "output_type": "stream",
     "text": [
      "              precision    recall  f1-score   support\n",
      "\n",
      "           0       0.84      0.84      0.84        99\n",
      "           1       0.71      0.71      0.71        55\n",
      "\n",
      "    accuracy                           0.79       154\n",
      "   macro avg       0.77      0.77      0.77       154\n",
      "weighted avg       0.79      0.79      0.79       154\n",
      "\n"
     ]
    },
    {
     "data": {
      "image/png": "[encoded data removed]",
      "text/plain": [
       "<Figure size 432x288 with 2 Axes>"
      ]
     },
     "metadata": {
      "needs_background": "light"
     },
     "output_type": "display_data"
    }
   ],
   "source": [
    "model_evaluation(optuna_xgb, x_test, y_test)"
   ]
  },
  {
   "cell_type": "code",
   "execution_count": null,
   "metadata": {},
   "outputs": [],
   "source": []
  }
 ],
 "metadata": {
  "kernelspec": {
   "display_name": "base",
   "language": "python",
   "name": "python3"
  },
  "language_info": {
   "codemirror_mode": {
    "name": "ipython",
    "version": 3
   },
   "file_extension": ".py",
   "mimetype": "text/x-python",
   "name": "python",
   "nbconvert_exporter": "python",
   "pygments_lexer": "ipython3",
   "version": "3.9.12"
  },
  "orig_nbformat": 4
 },
 "nbformat": 4,
 "nbformat_minor": 2
}
